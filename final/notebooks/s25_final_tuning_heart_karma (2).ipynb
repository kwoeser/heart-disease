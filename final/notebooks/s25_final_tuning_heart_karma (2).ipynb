{
  "cells": [
    {
      "cell_type": "markdown",
      "metadata": {
        "id": "IkkU_68T1yAa"
      },
      "source": [
        "#Announcement\n",
        "\n",
        "As with wrangling, I switched this notebook over to use the Titanic dataset for consistency. The video uses the Pima dataset.\n",
        "\n",
        "The video ends rather abuptly. I hope the notebook is clear and what you need to do.\n",
        "\n",
        "One thing I introduce is Upsampling. I promised I would do this way back in Chapter 2. I do not expect you to use it but thought it was worth demonstrating.\n",
        "\n",
        "I also provide an optional make-up problem for you to get points back.\n",
        "\n",
        "At the end of the notebook, I explore several ways of combining the four models. The most sophisticated is something called stacking. In essence we build a meta-model that we train with the output of the existing models. So this meta-model attempts to learn how to interpret the existing models' output."
      ]
    },
    {
      "cell_type": "markdown",
      "metadata": {
        "id": "bzDiYMkiYgRS"
      },
      "source": [
        "<center>\n",
        "<h1>Training and Tuning</h1>\n",
        "</center>\n",
        "\n",
        "<hr>\n",
        "\n",
        "Once you are done here, you are ready to start playing with your server. Cool."
      ]
    },
    {
      "cell_type": "markdown",
      "metadata": {
        "id": "v_cK-F4Az4XG"
      },
      "source": [
        "#How long does it take?\n",
        "\n",
        "I think tuning time is the biggest issue for you now.\n",
        "Using Pima data (training set = 614 rows) and what I consider an ok set of parameters to tune, this notebook takes me roughly 3 hours.\n",
        "\n",
        "Take away is that as you tune each model, be aware that you might need to leave it running while you do something else.\n",
        "\n",
        "The good news is that each model-tuning step is independent. Once you tune model X and save to GitHub, you are done with model X and can move on to model Y. The bad news is that if your dataset is larger, e.g., 5K rows, you can expect an increase in my times.\n",
        "\n",
        "The further bad news is that there is not an easy way to get a progress bar with HalvingSearch. So if you wait 30 minutes, you don't know if you are almost done or will take another 4 hours.\n",
        "\n",
        "Here are some strategies to consider:\n",
        "\n",
        "1. Use incremental tuning. Tune some subset of params. Get best values and fix them. Then take on new subset using fixed values from past. You can use this strategy with both halving search and keras tuner.\n",
        "\n",
        "2. I have factor=3. You could increase it to reduce wait time. But my experimentation tells me you may not gain that much.\n",
        "\n",
        "3. For keras_tuner, it's easier. You can play around with `max_trials`. Set it small to start, e.g., 5. You can count on linearity here. If 5 trials takes 10 minutes, 50 likely to take 100 minutes."
      ]
    },
    {
      "cell_type": "markdown",
      "metadata": {
        "id": "bZiquu_S3vZG"
      },
      "source": [
        "##Set-up\n",
        "\n",
        "First bring in your library."
      ]
    },
    {
      "cell_type": "code",
      "execution_count": null,
      "metadata": {
        "colab": {
          "base_uri": "https://localhost:8080/"
        },
        "id": "AZ6MOQmuVewi",
        "outputId": "b9b8733d-227f-4757-fbb9-c03f69a5455f"
      },
      "outputs": [
        {
          "name": "stdout",
          "output_type": "stream",
          "text": [
            "rm: cannot remove 'library.py': No such file or directory\n",
            "--2025-06-13 23:35:05--  https://raw.githubusercontent.com/kwoeser/CS423/main/library.py\n",
            "Resolving raw.githubusercontent.com (raw.githubusercontent.com)... 185.199.108.133, 185.199.109.133, 185.199.110.133, ...\n",
            "Connecting to raw.githubusercontent.com (raw.githubusercontent.com)|185.199.108.133|:443... connected.\n",
            "HTTP request sent, awaiting response... 200 OK\n",
            "Length: 32297 (32K) [text/plain]\n",
            "Saving to: ‘library.py’\n",
            "\n",
            "library.py          100%[===================>]  31.54K  --.-KB/s    in 0.01s   \n",
            "\n",
            "2025-06-13 23:35:06 (3.05 MB/s) - ‘library.py’ saved [32297/32297]\n",
            "\n"
          ]
        }
      ],
      "source": [
        "github_name = 'kwoeser'\n",
        "repo_name = 'CS423'\n",
        "source_file = 'library.py'\n",
        "url = f'https://raw.githubusercontent.com/{github_name}/{repo_name}/main/{source_file}'\n",
        "!rm $source_file\n",
        "!wget $url\n",
        "%run -i $source_file"
      ]
    },
    {
      "cell_type": "markdown",
      "metadata": {
        "id": "wXWcOKJN4y82"
      },
      "source": [
        "##You need to change this url to point to your own dataset\n",
        "\n",
        "And good idea to rename variables using \"titanic\" to something closer to your dataset."
      ]
    },
    {
      "cell_type": "code",
      "execution_count": null,
      "metadata": {
        "colab": {
          "base_uri": "https://localhost:8080/",
          "height": 206
        },
        "id": "ZVTLBYampYbo",
        "outputId": "30f4535d-f3b5-4d58-f6f1-33b3b951e0c3"
      },
      "outputs": [
        {
          "data": {
            "application/vnd.google.colaboratory.intrinsic+json": {
              "summary": "{\n  \"name\": \"heart\",\n  \"rows\": 900,\n  \"fields\": [\n    {\n      \"column\": \"Cholesterol\",\n      \"properties\": {\n        \"dtype\": \"number\",\n        \"std\": 109,\n        \"min\": 0,\n        \"max\": 603,\n        \"num_unique_values\": 221,\n        \"samples\": [\n          203,\n          147,\n          306\n        ],\n        \"semantic_type\": \"\",\n        \"description\": \"\"\n      }\n    },\n    {\n      \"column\": \"MaxHR\",\n      \"properties\": {\n        \"dtype\": \"number\",\n        \"std\": 25,\n        \"min\": 60,\n        \"max\": 202,\n        \"num_unique_values\": 119,\n        \"samples\": [\n          82,\n          190,\n          113\n        ],\n        \"semantic_type\": \"\",\n        \"description\": \"\"\n      }\n    },\n    {\n      \"column\": \"Age\",\n      \"properties\": {\n        \"dtype\": \"number\",\n        \"std\": 9,\n        \"min\": 28,\n        \"max\": 77,\n        \"num_unique_values\": 50,\n        \"samples\": [\n          43,\n          77,\n          72\n        ],\n        \"semantic_type\": \"\",\n        \"description\": \"\"\n      }\n    },\n    {\n      \"column\": \"RestingBP\",\n      \"properties\": {\n        \"dtype\": \"number\",\n        \"std\": 18,\n        \"min\": 0,\n        \"max\": 200,\n        \"num_unique_values\": 67,\n        \"samples\": [\n          136,\n          132,\n          160\n        ],\n        \"semantic_type\": \"\",\n        \"description\": \"\"\n      }\n    },\n    {\n      \"column\": \"Sex\",\n      \"properties\": {\n        \"dtype\": \"category\",\n        \"num_unique_values\": 2,\n        \"samples\": [\n          \"F\",\n          \"M\"\n        ],\n        \"semantic_type\": \"\",\n        \"description\": \"\"\n      }\n    },\n    {\n      \"column\": \"ST_Slope\",\n      \"properties\": {\n        \"dtype\": \"category\",\n        \"num_unique_values\": 3,\n        \"samples\": [\n          \"Flat\",\n          \"Up\"\n        ],\n        \"semantic_type\": \"\",\n        \"description\": \"\"\n      }\n    },\n    {\n      \"column\": \"RestingECG\",\n      \"properties\": {\n        \"dtype\": \"category\",\n        \"num_unique_values\": 3,\n        \"samples\": [\n          \"LVH\",\n          \"Normal\"\n        ],\n        \"semantic_type\": \"\",\n        \"description\": \"\"\n      }\n    },\n    {\n      \"column\": \"HeartDisease\",\n      \"properties\": {\n        \"dtype\": \"number\",\n        \"std\": 0,\n        \"min\": 0,\n        \"max\": 1,\n        \"num_unique_values\": 2,\n        \"samples\": [\n          0,\n          1\n        ],\n        \"semantic_type\": \"\",\n        \"description\": \"\"\n      }\n    }\n  ]\n}",
              "type": "dataframe",
              "variable_name": "heart"
            },
            "text/html": [
              "\n",
              "  <div id=\"df-f23a2860-db69-4d32-9a50-ebb581ab8fbf\" class=\"colab-df-container\">\n",
              "    <div>\n",
              "<style scoped>\n",
              "    .dataframe tbody tr th:only-of-type {\n",
              "        vertical-align: middle;\n",
              "    }\n",
              "\n",
              "    .dataframe tbody tr th {\n",
              "        vertical-align: top;\n",
              "    }\n",
              "\n",
              "    .dataframe thead th {\n",
              "        text-align: right;\n",
              "    }\n",
              "</style>\n",
              "<table border=\"1\" class=\"dataframe\">\n",
              "  <thead>\n",
              "    <tr style=\"text-align: right;\">\n",
              "      <th></th>\n",
              "      <th>Cholesterol</th>\n",
              "      <th>MaxHR</th>\n",
              "      <th>Age</th>\n",
              "      <th>RestingBP</th>\n",
              "      <th>Sex</th>\n",
              "      <th>ST_Slope</th>\n",
              "      <th>RestingECG</th>\n",
              "      <th>HeartDisease</th>\n",
              "    </tr>\n",
              "  </thead>\n",
              "  <tbody>\n",
              "    <tr>\n",
              "      <th>0</th>\n",
              "      <td>0</td>\n",
              "      <td>134</td>\n",
              "      <td>62</td>\n",
              "      <td>120</td>\n",
              "      <td>M</td>\n",
              "      <td>Flat</td>\n",
              "      <td>LVH</td>\n",
              "      <td>1</td>\n",
              "    </tr>\n",
              "    <tr>\n",
              "      <th>1</th>\n",
              "      <td>318</td>\n",
              "      <td>160</td>\n",
              "      <td>60</td>\n",
              "      <td>102</td>\n",
              "      <td>F</td>\n",
              "      <td>Up</td>\n",
              "      <td>Normal</td>\n",
              "      <td>0</td>\n",
              "    </tr>\n",
              "    <tr>\n",
              "      <th>2</th>\n",
              "      <td>160</td>\n",
              "      <td>172</td>\n",
              "      <td>36</td>\n",
              "      <td>150</td>\n",
              "      <td>M</td>\n",
              "      <td>Up</td>\n",
              "      <td>Normal</td>\n",
              "      <td>0</td>\n",
              "    </tr>\n",
              "    <tr>\n",
              "      <th>3</th>\n",
              "      <td>248</td>\n",
              "      <td>170</td>\n",
              "      <td>47</td>\n",
              "      <td>135</td>\n",
              "      <td>F</td>\n",
              "      <td>Flat</td>\n",
              "      <td>Normal</td>\n",
              "      <td>1</td>\n",
              "    </tr>\n",
              "    <tr>\n",
              "      <th>4</th>\n",
              "      <td>256</td>\n",
              "      <td>113</td>\n",
              "      <td>58</td>\n",
              "      <td>160</td>\n",
              "      <td>M</td>\n",
              "      <td>Up</td>\n",
              "      <td>LVH</td>\n",
              "      <td>1</td>\n",
              "    </tr>\n",
              "  </tbody>\n",
              "</table>\n",
              "</div>\n",
              "    <div class=\"colab-df-buttons\">\n",
              "\n",
              "  <div class=\"colab-df-container\">\n",
              "    <button class=\"colab-df-convert\" onclick=\"convertToInteractive('df-f23a2860-db69-4d32-9a50-ebb581ab8fbf')\"\n",
              "            title=\"Convert this dataframe to an interactive table.\"\n",
              "            style=\"display:none;\">\n",
              "\n",
              "  <svg xmlns=\"http://www.w3.org/2000/svg\" height=\"24px\" viewBox=\"0 -960 960 960\">\n",
              "    <path d=\"M120-120v-720h720v720H120Zm60-500h600v-160H180v160Zm220 220h160v-160H400v160Zm0 220h160v-160H400v160ZM180-400h160v-160H180v160Zm440 0h160v-160H620v160ZM180-180h160v-160H180v160Zm440 0h160v-160H620v160Z\"/>\n",
              "  </svg>\n",
              "    </button>\n",
              "\n",
              "  <style>\n",
              "    .colab-df-container {\n",
              "      display:flex;\n",
              "      gap: 12px;\n",
              "    }\n",
              "\n",
              "    .colab-df-convert {\n",
              "      background-color: #E8F0FE;\n",
              "      border: none;\n",
              "      border-radius: 50%;\n",
              "      cursor: pointer;\n",
              "      display: none;\n",
              "      fill: #1967D2;\n",
              "      height: 32px;\n",
              "      padding: 0 0 0 0;\n",
              "      width: 32px;\n",
              "    }\n",
              "\n",
              "    .colab-df-convert:hover {\n",
              "      background-color: #E2EBFA;\n",
              "      box-shadow: 0px 1px 2px rgba(60, 64, 67, 0.3), 0px 1px 3px 1px rgba(60, 64, 67, 0.15);\n",
              "      fill: #174EA6;\n",
              "    }\n",
              "\n",
              "    .colab-df-buttons div {\n",
              "      margin-bottom: 4px;\n",
              "    }\n",
              "\n",
              "    [theme=dark] .colab-df-convert {\n",
              "      background-color: #3B4455;\n",
              "      fill: #D2E3FC;\n",
              "    }\n",
              "\n",
              "    [theme=dark] .colab-df-convert:hover {\n",
              "      background-color: #434B5C;\n",
              "      box-shadow: 0px 1px 3px 1px rgba(0, 0, 0, 0.15);\n",
              "      filter: drop-shadow(0px 1px 2px rgba(0, 0, 0, 0.3));\n",
              "      fill: #FFFFFF;\n",
              "    }\n",
              "  </style>\n",
              "\n",
              "    <script>\n",
              "      const buttonEl =\n",
              "        document.querySelector('#df-f23a2860-db69-4d32-9a50-ebb581ab8fbf button.colab-df-convert');\n",
              "      buttonEl.style.display =\n",
              "        google.colab.kernel.accessAllowed ? 'block' : 'none';\n",
              "\n",
              "      async function convertToInteractive(key) {\n",
              "        const element = document.querySelector('#df-f23a2860-db69-4d32-9a50-ebb581ab8fbf');\n",
              "        const dataTable =\n",
              "          await google.colab.kernel.invokeFunction('convertToInteractive',\n",
              "                                                    [key], {});\n",
              "        if (!dataTable) return;\n",
              "\n",
              "        const docLinkHtml = 'Like what you see? Visit the ' +\n",
              "          '<a target=\"_blank\" href=https://colab.research.google.com/notebooks/data_table.ipynb>data table notebook</a>'\n",
              "          + ' to learn more about interactive tables.';\n",
              "        element.innerHTML = '';\n",
              "        dataTable['output_type'] = 'display_data';\n",
              "        await google.colab.output.renderOutput(dataTable, element);\n",
              "        const docLink = document.createElement('div');\n",
              "        docLink.innerHTML = docLinkHtml;\n",
              "        element.appendChild(docLink);\n",
              "      }\n",
              "    </script>\n",
              "  </div>\n",
              "\n",
              "\n",
              "    <div id=\"df-57168857-b54c-4737-ad13-5992ab1cc732\">\n",
              "      <button class=\"colab-df-quickchart\" onclick=\"quickchart('df-57168857-b54c-4737-ad13-5992ab1cc732')\"\n",
              "                title=\"Suggest charts\"\n",
              "                style=\"display:none;\">\n",
              "\n",
              "<svg xmlns=\"http://www.w3.org/2000/svg\" height=\"24px\"viewBox=\"0 0 24 24\"\n",
              "     width=\"24px\">\n",
              "    <g>\n",
              "        <path d=\"M19 3H5c-1.1 0-2 .9-2 2v14c0 1.1.9 2 2 2h14c1.1 0 2-.9 2-2V5c0-1.1-.9-2-2-2zM9 17H7v-7h2v7zm4 0h-2V7h2v10zm4 0h-2v-4h2v4z\"/>\n",
              "    </g>\n",
              "</svg>\n",
              "      </button>\n",
              "\n",
              "<style>\n",
              "  .colab-df-quickchart {\n",
              "      --bg-color: #E8F0FE;\n",
              "      --fill-color: #1967D2;\n",
              "      --hover-bg-color: #E2EBFA;\n",
              "      --hover-fill-color: #174EA6;\n",
              "      --disabled-fill-color: #AAA;\n",
              "      --disabled-bg-color: #DDD;\n",
              "  }\n",
              "\n",
              "  [theme=dark] .colab-df-quickchart {\n",
              "      --bg-color: #3B4455;\n",
              "      --fill-color: #D2E3FC;\n",
              "      --hover-bg-color: #434B5C;\n",
              "      --hover-fill-color: #FFFFFF;\n",
              "      --disabled-bg-color: #3B4455;\n",
              "      --disabled-fill-color: #666;\n",
              "  }\n",
              "\n",
              "  .colab-df-quickchart {\n",
              "    background-color: var(--bg-color);\n",
              "    border: none;\n",
              "    border-radius: 50%;\n",
              "    cursor: pointer;\n",
              "    display: none;\n",
              "    fill: var(--fill-color);\n",
              "    height: 32px;\n",
              "    padding: 0;\n",
              "    width: 32px;\n",
              "  }\n",
              "\n",
              "  .colab-df-quickchart:hover {\n",
              "    background-color: var(--hover-bg-color);\n",
              "    box-shadow: 0 1px 2px rgba(60, 64, 67, 0.3), 0 1px 3px 1px rgba(60, 64, 67, 0.15);\n",
              "    fill: var(--button-hover-fill-color);\n",
              "  }\n",
              "\n",
              "  .colab-df-quickchart-complete:disabled,\n",
              "  .colab-df-quickchart-complete:disabled:hover {\n",
              "    background-color: var(--disabled-bg-color);\n",
              "    fill: var(--disabled-fill-color);\n",
              "    box-shadow: none;\n",
              "  }\n",
              "\n",
              "  .colab-df-spinner {\n",
              "    border: 2px solid var(--fill-color);\n",
              "    border-color: transparent;\n",
              "    border-bottom-color: var(--fill-color);\n",
              "    animation:\n",
              "      spin 1s steps(1) infinite;\n",
              "  }\n",
              "\n",
              "  @keyframes spin {\n",
              "    0% {\n",
              "      border-color: transparent;\n",
              "      border-bottom-color: var(--fill-color);\n",
              "      border-left-color: var(--fill-color);\n",
              "    }\n",
              "    20% {\n",
              "      border-color: transparent;\n",
              "      border-left-color: var(--fill-color);\n",
              "      border-top-color: var(--fill-color);\n",
              "    }\n",
              "    30% {\n",
              "      border-color: transparent;\n",
              "      border-left-color: var(--fill-color);\n",
              "      border-top-color: var(--fill-color);\n",
              "      border-right-color: var(--fill-color);\n",
              "    }\n",
              "    40% {\n",
              "      border-color: transparent;\n",
              "      border-right-color: var(--fill-color);\n",
              "      border-top-color: var(--fill-color);\n",
              "    }\n",
              "    60% {\n",
              "      border-color: transparent;\n",
              "      border-right-color: var(--fill-color);\n",
              "    }\n",
              "    80% {\n",
              "      border-color: transparent;\n",
              "      border-right-color: var(--fill-color);\n",
              "      border-bottom-color: var(--fill-color);\n",
              "    }\n",
              "    90% {\n",
              "      border-color: transparent;\n",
              "      border-bottom-color: var(--fill-color);\n",
              "    }\n",
              "  }\n",
              "</style>\n",
              "\n",
              "      <script>\n",
              "        async function quickchart(key) {\n",
              "          const quickchartButtonEl =\n",
              "            document.querySelector('#' + key + ' button');\n",
              "          quickchartButtonEl.disabled = true;  // To prevent multiple clicks.\n",
              "          quickchartButtonEl.classList.add('colab-df-spinner');\n",
              "          try {\n",
              "            const charts = await google.colab.kernel.invokeFunction(\n",
              "                'suggestCharts', [key], {});\n",
              "          } catch (error) {\n",
              "            console.error('Error during call to suggestCharts:', error);\n",
              "          }\n",
              "          quickchartButtonEl.classList.remove('colab-df-spinner');\n",
              "          quickchartButtonEl.classList.add('colab-df-quickchart-complete');\n",
              "        }\n",
              "        (() => {\n",
              "          let quickchartButtonEl =\n",
              "            document.querySelector('#df-57168857-b54c-4737-ad13-5992ab1cc732 button');\n",
              "          quickchartButtonEl.style.display =\n",
              "            google.colab.kernel.accessAllowed ? 'block' : 'none';\n",
              "        })();\n",
              "      </script>\n",
              "    </div>\n",
              "\n",
              "    </div>\n",
              "  </div>\n"
            ],
            "text/plain": [
              "   Cholesterol  MaxHR  Age  RestingBP Sex ST_Slope RestingECG  HeartDisease\n",
              "0            0    134   62        120   M     Flat        LVH             1\n",
              "1          318    160   60        102   F       Up     Normal             0\n",
              "2          160    172   36        150   M       Up     Normal             0\n",
              "3          248    170   47        135   F     Flat     Normal             1\n",
              "4          256    113   58        160   M       Up        LVH             1"
            ]
          },
          "execution_count": 2,
          "metadata": {},
          "output_type": "execute_result"
        }
      ],
      "source": [
        "url = 'https://raw.githubusercontent.com/kwoeser/CS423/main/final/data/heart_reduced.csv'\n",
        "\n",
        "\n",
        "heart = pd.read_csv(url)\n",
        "heart.head()\n"
      ]
    },
    {
      "cell_type": "code",
      "execution_count": null,
      "metadata": {
        "colab": {
          "base_uri": "https://localhost:8080/"
        },
        "id": "YvZy9mwFVrGf",
        "outputId": "0cea62b5-c4cb-4a55-ef45-d09f0018aa5d"
      },
      "outputs": [
        {
          "data": {
            "text/plain": [
              "900"
            ]
          },
          "execution_count": 3,
          "metadata": {},
          "output_type": "execute_result"
        }
      ],
      "source": [
        "len(heart)"
      ]
    },
    {
      "cell_type": "markdown",
      "metadata": {
        "id": "zIHq9aUHNcxo"
      },
      "source": [
        "#Break out into features and labels\n",
        "\n"
      ]
    },
    {
      "cell_type": "code",
      "execution_count": null,
      "metadata": {
        "id": "nH0g0IVGauIa"
      },
      "outputs": [],
      "source": [
        "# Split into features and labels\n",
        "\n",
        "features = heart.drop(columns='HeartDisease')\n",
        "labels = heart['HeartDisease'].tolist()"
      ]
    },
    {
      "cell_type": "code",
      "execution_count": null,
      "metadata": {
        "colab": {
          "base_uri": "https://localhost:8080/"
        },
        "id": "sdQPZk3nU9cY",
        "outputId": "852d22b1-36e9-4951-b961-fb674a9f41f2"
      },
      "outputs": [
        {
          "data": {
            "text/plain": [
              "0.5533333333333333"
            ]
          },
          "execution_count": 5,
          "metadata": {},
          "output_type": "execute_result"
        }
      ],
      "source": [
        "labels.count(1)/len(labels)"
      ]
    },
    {
      "cell_type": "markdown",
      "metadata": {
        "id": "2kXjRgNa2gnR"
      },
      "source": [
        "##Load pipeline from Wrangling notebook\n",
        "\n",
        "You will be doing this exact same thing in the server."
      ]
    },
    {
      "cell_type": "code",
      "execution_count": null,
      "metadata": {
        "colab": {
          "base_uri": "https://localhost:8080/"
        },
        "id": "kauuG1GQ7au-",
        "outputId": "24d4f73c-d0df-4162-dfec-a76c3247a8ae"
      },
      "outputs": [
        {
          "name": "stdout",
          "output_type": "stream",
          "text": [
            "rm: cannot remove 'final_fully_fitted_pipeline.pkl': No such file or directory\n",
            "--2025-06-13 23:35:15--  https://raw.githubusercontent.com/kwoeser/CS423/main/final/models/final_fully_fitted_pipeline.pkl\n",
            "Resolving raw.githubusercontent.com (raw.githubusercontent.com)... 185.199.108.133, 185.199.109.133, 185.199.110.133, ...\n",
            "Connecting to raw.githubusercontent.com (raw.githubusercontent.com)|185.199.108.133|:443... connected.\n",
            "HTTP request sent, awaiting response... 200 OK\n",
            "Length: 47954 (47K) [application/octet-stream]\n",
            "Saving to: ‘final_fully_fitted_pipeline.pkl’\n",
            "\n",
            "final_fully_fitted_ 100%[===================>]  46.83K  --.-KB/s    in 0.01s   \n",
            "\n",
            "2025-06-13 23:35:15 (3.65 MB/s) - ‘final_fully_fitted_pipeline.pkl’ saved [47954/47954]\n",
            "\n"
          ]
        }
      ],
      "source": [
        "import joblib\n",
        "\n",
        "model_path = 'kwoeser/CS423/main/final/models/'\n",
        "full_path = f'https://raw.githubusercontent.com/{model_path}final_fully_fitted_pipeline.pkl'\n",
        "!rm 'final_fully_fitted_pipeline.pkl'\n",
        "!wget $full_path\n",
        "heart_transformer = joblib.load(\"final_fully_fitted_pipeline.pkl\")\n"
      ]
    },
    {
      "cell_type": "markdown",
      "metadata": {
        "id": "MElaQCi6qhnZ"
      },
      "source": [
        "# Step I. Break into numpy datasets"
      ]
    },
    {
      "cell_type": "code",
      "execution_count": null,
      "metadata": {
        "id": "g5XN6ImKT1qn"
      },
      "outputs": [],
      "source": [
        "%%capture\n",
        "rs = 33 #what you computed in wrangling notebook\n",
        "label_column = 'HeartDisease'  #change to name of your label column\n",
        "\n",
        "x_train,  x_test, y_train,  y_test = dataset_setup(heart, label_column, heart_transformer, rs=rs)"
      ]
    },
    {
      "cell_type": "code",
      "execution_count": null,
      "metadata": {
        "colab": {
          "base_uri": "https://localhost:8080/"
        },
        "id": "ML3-iCwB0aHy",
        "outputId": "e1c8bfaf-1792-457d-c152-9dc19b86b90e"
      },
      "outputs": [
        {
          "data": {
            "text/plain": [
              "720"
            ]
          },
          "execution_count": 8,
          "metadata": {},
          "output_type": "execute_result"
        }
      ],
      "source": [
        "len(x_train)"
      ]
    },
    {
      "cell_type": "markdown",
      "metadata": {
        "id": "v7gaAYxB0ElV"
      },
      "source": [
        "#II. Upsampling\n",
        "\n",
        "In Chapter 2 I removed duplicates, giving us unique rows. However, it did shrink the table down to roughly 1000. I noted I would show you a way to build the table back up. I am going to use a popular method called SMOTE (Synthetic Minority Over-sampling Technique). I'll show you how to use it even though I do not expect you will need it here. But could come in handy later in your career.\n",
        "\n",
        "Note that I am only applying it to the training data. I'd like to keep the test data pure: augment training, let test data stand.\n",
        "\n",
        "You can find plenty of tutorials on SMOTE. Briefly, it generates new rows by\n",
        "using existing rows as starting places and then interpolating values. So it\n",
        "does not duplicate rows but tries to give you similar rows."
      ]
    },
    {
      "cell_type": "code",
      "execution_count": null,
      "metadata": {
        "colab": {
          "base_uri": "https://localhost:8080/"
        },
        "id": "jC-dGcVF0zz0",
        "outputId": "9425c1db-c42f-44a4-d299-c8ab90c7c776"
      },
      "outputs": [
        {
          "name": "stdout",
          "output_type": "stream",
          "text": [
            "New class distribution:\n",
            "Class 0: 1341 (44.71%)\n",
            "Class 1: 1658 (55.29%)\n",
            "Total samples: 2999\n"
          ]
        }
      ],
      "source": [
        "from imblearn.over_sampling import SMOTE\n",
        "\n",
        "# Calculate target numbers for 3000 total samples\n",
        "target_total = 3000\n",
        "pos_count = np.sum(y_train == 1)/len(y_train)\n",
        "neg_count = np.sum(y_train == 0)/len(y_train)\n",
        "target_0 = int(neg_count * target_total)  # 1950 samples\n",
        "target_1 = int(pos_count * target_total)  # 1050 samples\n",
        "\n",
        "# Create SMOTE instance with specified sampling strategy\n",
        "smote = SMOTE(sampling_strategy={0: target_0, 1: target_1}, random_state=42)\n",
        "x_resampled, y_resampled = smote.fit_resample(x_train, y_train)  #requires transformed data - cannot handle categorical columns\n",
        "\n",
        "# Verify the new distribution\n",
        "print(\"New class distribution:\")\n",
        "print(f\"Class 0: {sum(y_resampled == 0)} ({sum(y_resampled == 0)/len(y_resampled):.2%})\")\n",
        "print(f\"Class 1: {sum(y_resampled == 1)} ({sum(y_resampled == 1)/len(y_resampled):.2%})\")\n",
        "print(f\"Total samples: {len(y_resampled)}\")"
      ]
    },
    {
      "cell_type": "code",
      "execution_count": null,
      "metadata": {
        "id": "wZTVewpE4qBi"
      },
      "outputs": [],
      "source": [
        "#Uncomment if you want to use upsampled data\n",
        "\n",
        "x_train= x_resampled\n",
        "y_train = y_resampled"
      ]
    },
    {
      "cell_type": "markdown",
      "metadata": {
        "id": "9Afm0d0Cp4XN"
      },
      "source": [
        "# III. Setup Lime\n",
        "\n",
        "Reminder: Lime will help us explain to the user why we come up with the predictions we do."
      ]
    },
    {
      "cell_type": "code",
      "execution_count": null,
      "metadata": {
        "id": "3S-Te5VSvMgV"
      },
      "outputs": [],
      "source": [
        "%%capture\n",
        "!pip install lime"
      ]
    },
    {
      "cell_type": "code",
      "execution_count": null,
      "metadata": {
        "id": "6tcUkahpax_Y"
      },
      "outputs": [],
      "source": [
        "import lime\n",
        "from lime import lime_tabular"
      ]
    },
    {
      "cell_type": "code",
      "execution_count": null,
      "metadata": {
        "colab": {
          "base_uri": "https://localhost:8080/"
        },
        "id": "-zZk9bCU5OqU",
        "outputId": "f6b1212d-5932-4323-b478-ac9cfcdec1b5"
      },
      "outputs": [
        {
          "name": "stdout",
          "output_type": "stream",
          "text": [
            "['Cholesterol', 'MaxHR', 'Age', 'RestingBP', 'Sex', 'ST_Slope', 'RestingECG']\n"
          ]
        }
      ],
      "source": [
        "feature_names = features.columns.to_list()\n",
        "print(feature_names)"
      ]
    },
    {
      "cell_type": "markdown",
      "metadata": {
        "id": "Q68oGAkzHwFp"
      },
      "source": [
        "###Set up the explainer before using"
      ]
    },
    {
      "cell_type": "code",
      "execution_count": null,
      "metadata": {
        "id": "7W0wZRRJWP7t"
      },
      "outputs": [],
      "source": [
        "explainer = lime.lime_tabular.LimeTabularExplainer(x_train,\n",
        "                    feature_names=feature_names,\n",
        "                    training_labels=y_train,\n",
        "                    class_names=[0,1], #label values\n",
        "                    verbose=True,\n",
        "                    mode='classification')\n",
        "\n"
      ]
    },
    {
      "cell_type": "markdown",
      "metadata": {
        "id": "jGVwZoX6rBMr"
      },
      "source": [
        "# IV. Write out to file\n",
        "\n",
        "And move to GitHub."
      ]
    },
    {
      "cell_type": "code",
      "execution_count": null,
      "metadata": {
        "colab": {
          "base_uri": "https://localhost:8080/"
        },
        "id": "sVkCBYW69d0_",
        "outputId": "f54af10b-75e4-40e2-dc45-cacfa603f009"
      },
      "outputs": [
        {
          "name": "stdout",
          "output_type": "stream",
          "text": [
            "Requirement already satisfied: dill in /usr/local/lib/python3.11/dist-packages (0.3.7)\n"
          ]
        }
      ],
      "source": [
        "!pip install dill\n",
        "import dill as pickle\n",
        "with open('lime_explainer.pkl', 'wb') as file:\n",
        "    pickle.dump(explainer, file)\n",
        "\n",
        "#read it back in just as a test\n",
        "with open('lime_explainer.pkl', 'rb') as file:   #this will be in your webserver\n",
        "    explainer2 = pickle.load(file)"
      ]
    },
    {
      "cell_type": "markdown",
      "metadata": {
        "id": "mYoYsSCO9wso"
      },
      "source": [
        "#Minimal help from me with remainder of notebook\n",
        "\n",
        "I can remind you of the steps you need for each model's tuning:\n",
        "\n",
        "1. If using halving search, set up grid. If using Optuna, then set up model builder with hp code. With Optuna, will also need to define a validation set.\n",
        "\n",
        "2. Get the best model found by tuning.\n",
        "\n",
        "3. Run it on test set.\n",
        "\n",
        "4. Produce threshold table.\n",
        "\n",
        "5. Save both best model and threshold table out to GitHub so can load them back in with server.\n",
        "\n",
        "I would avoid Run All here. Each notebook can be tuned separately, really in any order. But once you finish steps above for one model, you don't want to waste time and repeat them."
      ]
    },
    {
      "cell_type": "markdown",
      "metadata": {
        "id": "GGD6ssbwd-DF"
      },
      "source": [
        "# V. KNN tuning\n",
        "\n"
      ]
    },
    {
      "cell_type": "code",
      "execution_count": null,
      "metadata": {
        "id": "VkYLeNXHz9Gx"
      },
      "outputs": [],
      "source": [
        "from sklearn.neighbors import KNeighborsClassifier\n",
        "from sklearn.metrics import roc_auc_score\n"
      ]
    },
    {
      "cell_type": "markdown",
      "metadata": {
        "id": "HxOsVk-yrslG"
      },
      "source": [
        "###Follow the steps"
      ]
    },
    {
      "cell_type": "code",
      "execution_count": null,
      "metadata": {
        "id": "R4qOZb8O_bfR"
      },
      "outputs": [],
      "source": [
        "param_grid = {\n",
        "    'n_neighbors': [3, 5, 7, 9, 11, 13, 15],\n",
        "    'weights': ['uniform', 'distance']\n",
        "}\n"
      ]
    },
    {
      "cell_type": "code",
      "execution_count": null,
      "metadata": {
        "colab": {
          "base_uri": "https://localhost:8080/"
        },
        "id": "CQQA0yLLk5qn",
        "outputId": "41e7b7f7-730c-4f2c-989e-2ac03ba00aee"
      },
      "outputs": [
        {
          "name": "stdout",
          "output_type": "stream",
          "text": [
            "n_iterations: 3\n",
            "n_required_iterations: 3\n",
            "n_possible_iterations: 3\n",
            "min_resources_: 333\n",
            "max_resources_: 2999\n",
            "aggressive_elimination: False\n",
            "factor: 3\n",
            "----------\n",
            "iter: 0\n",
            "n_candidates: 14\n",
            "n_resources: 333\n",
            "Fitting 5 folds for each of 14 candidates, totalling 70 fits\n",
            "----------\n",
            "iter: 1\n",
            "n_candidates: 5\n",
            "n_resources: 999\n",
            "Fitting 5 folds for each of 5 candidates, totalling 25 fits\n",
            "----------\n",
            "iter: 2\n",
            "n_candidates: 2\n",
            "n_resources: 2997\n",
            "Fitting 5 folds for each of 2 candidates, totalling 10 fits\n"
          ]
        }
      ],
      "source": [
        "knn_model = KNeighborsClassifier()\n",
        "grid_result = halving_search(knn_model, param_grid, x_train, y_train)"
      ]
    },
    {
      "cell_type": "code",
      "execution_count": null,
      "metadata": {
        "id": "JaKGKXdok5Vz"
      },
      "outputs": [],
      "source": [
        "best_knn_model = grid_result.best_estimator_\n",
        "grid_result.best_params_\n",
        "\n",
        "y_pred_probs = best_knn_model.predict_proba(x_test)[:, 1]\n",
        "thresholds = [i/100 for i in range(20, 81, 5)]\n",
        "results_df, fancy_df = threshold_results(thresholds, y_test, y_pred_probs)\n"
      ]
    },
    {
      "cell_type": "code",
      "execution_count": null,
      "metadata": {
        "colab": {
          "base_uri": "https://localhost:8080/"
        },
        "id": "K8oQS5ivlXqj",
        "outputId": "b7bbf65f-e320-481c-8999-ab30b2b0bb3b"
      },
      "outputs": [
        {
          "data": {
            "text/plain": [
              "0.7444444444444445"
            ]
          },
          "execution_count": 20,
          "metadata": {},
          "output_type": "execute_result"
        }
      ],
      "source": [
        "best_knn_model.score(x_test, y_test)"
      ]
    },
    {
      "cell_type": "code",
      "execution_count": null,
      "metadata": {
        "colab": {
          "base_uri": "https://localhost:8080/",
          "height": 470
        },
        "id": "dlA9ruPtlX37",
        "outputId": "da90ac1e-f318-4b4d-fa8e-ccd8da572076"
      },
      "outputs": [
        {
          "data": {
            "text/html": [
              "<style type=\"text/css\">\n",
              "#T_afa99 th:not(.index_name) {\n",
              "  background-color: #800000;\n",
              "  color: white;\n",
              "  text-align: center;\n",
              "}\n",
              "#T_afa99_row0_col0, #T_afa99_row0_col1, #T_afa99_row0_col3, #T_afa99_row0_col5, #T_afa99_row1_col0, #T_afa99_row1_col1, #T_afa99_row1_col2, #T_afa99_row1_col3, #T_afa99_row1_col5, #T_afa99_row2_col0, #T_afa99_row2_col1, #T_afa99_row2_col2, #T_afa99_row2_col3, #T_afa99_row2_col5, #T_afa99_row3_col0, #T_afa99_row3_col1, #T_afa99_row3_col2, #T_afa99_row4_col0, #T_afa99_row4_col1, #T_afa99_row4_col2, #T_afa99_row4_col3, #T_afa99_row4_col5, #T_afa99_row5_col0, #T_afa99_row5_col1, #T_afa99_row5_col2, #T_afa99_row5_col3, #T_afa99_row5_col5, #T_afa99_row6_col0, #T_afa99_row6_col1, #T_afa99_row6_col2, #T_afa99_row6_col3, #T_afa99_row6_col5, #T_afa99_row7_col0, #T_afa99_row7_col1, #T_afa99_row7_col2, #T_afa99_row7_col3, #T_afa99_row7_col5, #T_afa99_row8_col0, #T_afa99_row8_col1, #T_afa99_row8_col2, #T_afa99_row8_col3, #T_afa99_row8_col5, #T_afa99_row9_col0, #T_afa99_row9_col1, #T_afa99_row9_col2, #T_afa99_row9_col3, #T_afa99_row9_col5, #T_afa99_row10_col0, #T_afa99_row10_col1, #T_afa99_row10_col2, #T_afa99_row10_col3, #T_afa99_row10_col5, #T_afa99_row11_col0, #T_afa99_row11_col1, #T_afa99_row11_col2, #T_afa99_row11_col3, #T_afa99_row11_col5, #T_afa99_row12_col2, #T_afa99_row12_col3, #T_afa99_row12_col5 {\n",
              "  border: 1px solid black;\n",
              "  width: 65px;\n",
              "  text-align: center;\n",
              "}\n",
              "#T_afa99_row0_col2, #T_afa99_row0_col4, #T_afa99_row1_col4, #T_afa99_row2_col4, #T_afa99_row3_col3, #T_afa99_row3_col4, #T_afa99_row3_col5, #T_afa99_row4_col4, #T_afa99_row5_col4, #T_afa99_row6_col4, #T_afa99_row7_col4, #T_afa99_row8_col4, #T_afa99_row9_col4, #T_afa99_row10_col4, #T_afa99_row11_col4, #T_afa99_row12_col0, #T_afa99_row12_col1, #T_afa99_row12_col4 {\n",
              "  background-color: pink;\n",
              "  border: 1px solid black;\n",
              "  width: 65px;\n",
              "  text-align: center;\n",
              "}\n",
              "</style>\n",
              "<table id=\"T_afa99\" class=\"dataframe\">\n",
              "  <thead>\n",
              "    <tr>\n",
              "      <th class=\"blank level0\" >&nbsp;</th>\n",
              "      <th id=\"T_afa99_level0_col0\" class=\"col_heading level0 col0\" >threshold</th>\n",
              "      <th id=\"T_afa99_level0_col1\" class=\"col_heading level0 col1\" >precision</th>\n",
              "      <th id=\"T_afa99_level0_col2\" class=\"col_heading level0 col2\" >recall</th>\n",
              "      <th id=\"T_afa99_level0_col3\" class=\"col_heading level0 col3\" >f1</th>\n",
              "      <th id=\"T_afa99_level0_col4\" class=\"col_heading level0 col4\" >auc</th>\n",
              "      <th id=\"T_afa99_level0_col5\" class=\"col_heading level0 col5\" >accuracy</th>\n",
              "    </tr>\n",
              "  </thead>\n",
              "  <tbody>\n",
              "    <tr>\n",
              "      <th id=\"T_afa99_level0_row0\" class=\"row_heading level0 row0\" >0</th>\n",
              "      <td id=\"T_afa99_row0_col0\" class=\"data row0 col0\" >0.20</td>\n",
              "      <td id=\"T_afa99_row0_col1\" class=\"data row0 col1\" >0.72</td>\n",
              "      <td id=\"T_afa99_row0_col2\" class=\"data row0 col2\" >0.91</td>\n",
              "      <td id=\"T_afa99_row0_col3\" class=\"data row0 col3\" >0.80</td>\n",
              "      <td id=\"T_afa99_row0_col4\" class=\"data row0 col4\" >0.80</td>\n",
              "      <td id=\"T_afa99_row0_col5\" class=\"data row0 col5\" >0.75</td>\n",
              "    </tr>\n",
              "    <tr>\n",
              "      <th id=\"T_afa99_level0_row1\" class=\"row_heading level0 row1\" >1</th>\n",
              "      <td id=\"T_afa99_row1_col0\" class=\"data row1 col0\" >0.25</td>\n",
              "      <td id=\"T_afa99_row1_col1\" class=\"data row1 col1\" >0.72</td>\n",
              "      <td id=\"T_afa99_row1_col2\" class=\"data row1 col2\" >0.89</td>\n",
              "      <td id=\"T_afa99_row1_col3\" class=\"data row1 col3\" >0.79</td>\n",
              "      <td id=\"T_afa99_row1_col4\" class=\"data row1 col4\" >0.80</td>\n",
              "      <td id=\"T_afa99_row1_col5\" class=\"data row1 col5\" >0.74</td>\n",
              "    </tr>\n",
              "    <tr>\n",
              "      <th id=\"T_afa99_level0_row2\" class=\"row_heading level0 row2\" >2</th>\n",
              "      <td id=\"T_afa99_row2_col0\" class=\"data row2 col0\" >0.30</td>\n",
              "      <td id=\"T_afa99_row2_col1\" class=\"data row2 col1\" >0.75</td>\n",
              "      <td id=\"T_afa99_row2_col2\" class=\"data row2 col2\" >0.86</td>\n",
              "      <td id=\"T_afa99_row2_col3\" class=\"data row2 col3\" >0.80</td>\n",
              "      <td id=\"T_afa99_row2_col4\" class=\"data row2 col4\" >0.80</td>\n",
              "      <td id=\"T_afa99_row2_col5\" class=\"data row2 col5\" >0.76</td>\n",
              "    </tr>\n",
              "    <tr>\n",
              "      <th id=\"T_afa99_level0_row3\" class=\"row_heading level0 row3\" >3</th>\n",
              "      <td id=\"T_afa99_row3_col0\" class=\"data row3 col0\" >0.35</td>\n",
              "      <td id=\"T_afa99_row3_col1\" class=\"data row3 col1\" >0.76</td>\n",
              "      <td id=\"T_afa99_row3_col2\" class=\"data row3 col2\" >0.86</td>\n",
              "      <td id=\"T_afa99_row3_col3\" class=\"data row3 col3\" >0.81</td>\n",
              "      <td id=\"T_afa99_row3_col4\" class=\"data row3 col4\" >0.80</td>\n",
              "      <td id=\"T_afa99_row3_col5\" class=\"data row3 col5\" >0.77</td>\n",
              "    </tr>\n",
              "    <tr>\n",
              "      <th id=\"T_afa99_level0_row4\" class=\"row_heading level0 row4\" >4</th>\n",
              "      <td id=\"T_afa99_row4_col0\" class=\"data row4 col0\" >0.40</td>\n",
              "      <td id=\"T_afa99_row4_col1\" class=\"data row4 col1\" >0.76</td>\n",
              "      <td id=\"T_afa99_row4_col2\" class=\"data row4 col2\" >0.84</td>\n",
              "      <td id=\"T_afa99_row4_col3\" class=\"data row4 col3\" >0.80</td>\n",
              "      <td id=\"T_afa99_row4_col4\" class=\"data row4 col4\" >0.80</td>\n",
              "      <td id=\"T_afa99_row4_col5\" class=\"data row4 col5\" >0.76</td>\n",
              "    </tr>\n",
              "    <tr>\n",
              "      <th id=\"T_afa99_level0_row5\" class=\"row_heading level0 row5\" >5</th>\n",
              "      <td id=\"T_afa99_row5_col0\" class=\"data row5 col0\" >0.45</td>\n",
              "      <td id=\"T_afa99_row5_col1\" class=\"data row5 col1\" >0.75</td>\n",
              "      <td id=\"T_afa99_row5_col2\" class=\"data row5 col2\" >0.80</td>\n",
              "      <td id=\"T_afa99_row5_col3\" class=\"data row5 col3\" >0.78</td>\n",
              "      <td id=\"T_afa99_row5_col4\" class=\"data row5 col4\" >0.80</td>\n",
              "      <td id=\"T_afa99_row5_col5\" class=\"data row5 col5\" >0.74</td>\n",
              "    </tr>\n",
              "    <tr>\n",
              "      <th id=\"T_afa99_level0_row6\" class=\"row_heading level0 row6\" >6</th>\n",
              "      <td id=\"T_afa99_row6_col0\" class=\"data row6 col0\" >0.50</td>\n",
              "      <td id=\"T_afa99_row6_col1\" class=\"data row6 col1\" >0.75</td>\n",
              "      <td id=\"T_afa99_row6_col2\" class=\"data row6 col2\" >0.80</td>\n",
              "      <td id=\"T_afa99_row6_col3\" class=\"data row6 col3\" >0.78</td>\n",
              "      <td id=\"T_afa99_row6_col4\" class=\"data row6 col4\" >0.80</td>\n",
              "      <td id=\"T_afa99_row6_col5\" class=\"data row6 col5\" >0.74</td>\n",
              "    </tr>\n",
              "    <tr>\n",
              "      <th id=\"T_afa99_level0_row7\" class=\"row_heading level0 row7\" >7</th>\n",
              "      <td id=\"T_afa99_row7_col0\" class=\"data row7 col0\" >0.55</td>\n",
              "      <td id=\"T_afa99_row7_col1\" class=\"data row7 col1\" >0.75</td>\n",
              "      <td id=\"T_afa99_row7_col2\" class=\"data row7 col2\" >0.76</td>\n",
              "      <td id=\"T_afa99_row7_col3\" class=\"data row7 col3\" >0.76</td>\n",
              "      <td id=\"T_afa99_row7_col4\" class=\"data row7 col4\" >0.80</td>\n",
              "      <td id=\"T_afa99_row7_col5\" class=\"data row7 col5\" >0.73</td>\n",
              "    </tr>\n",
              "    <tr>\n",
              "      <th id=\"T_afa99_level0_row8\" class=\"row_heading level0 row8\" >8</th>\n",
              "      <td id=\"T_afa99_row8_col0\" class=\"data row8 col0\" >0.60</td>\n",
              "      <td id=\"T_afa99_row8_col1\" class=\"data row8 col1\" >0.77</td>\n",
              "      <td id=\"T_afa99_row8_col2\" class=\"data row8 col2\" >0.73</td>\n",
              "      <td id=\"T_afa99_row8_col3\" class=\"data row8 col3\" >0.75</td>\n",
              "      <td id=\"T_afa99_row8_col4\" class=\"data row8 col4\" >0.80</td>\n",
              "      <td id=\"T_afa99_row8_col5\" class=\"data row8 col5\" >0.73</td>\n",
              "    </tr>\n",
              "    <tr>\n",
              "      <th id=\"T_afa99_level0_row9\" class=\"row_heading level0 row9\" >9</th>\n",
              "      <td id=\"T_afa99_row9_col0\" class=\"data row9 col0\" >0.65</td>\n",
              "      <td id=\"T_afa99_row9_col1\" class=\"data row9 col1\" >0.76</td>\n",
              "      <td id=\"T_afa99_row9_col2\" class=\"data row9 col2\" >0.68</td>\n",
              "      <td id=\"T_afa99_row9_col3\" class=\"data row9 col3\" >0.72</td>\n",
              "      <td id=\"T_afa99_row9_col4\" class=\"data row9 col4\" >0.80</td>\n",
              "      <td id=\"T_afa99_row9_col5\" class=\"data row9 col5\" >0.71</td>\n",
              "    </tr>\n",
              "    <tr>\n",
              "      <th id=\"T_afa99_level0_row10\" class=\"row_heading level0 row10\" >10</th>\n",
              "      <td id=\"T_afa99_row10_col0\" class=\"data row10 col0\" >0.70</td>\n",
              "      <td id=\"T_afa99_row10_col1\" class=\"data row10 col1\" >0.76</td>\n",
              "      <td id=\"T_afa99_row10_col2\" class=\"data row10 col2\" >0.65</td>\n",
              "      <td id=\"T_afa99_row10_col3\" class=\"data row10 col3\" >0.70</td>\n",
              "      <td id=\"T_afa99_row10_col4\" class=\"data row10 col4\" >0.80</td>\n",
              "      <td id=\"T_afa99_row10_col5\" class=\"data row10 col5\" >0.69</td>\n",
              "    </tr>\n",
              "    <tr>\n",
              "      <th id=\"T_afa99_level0_row11\" class=\"row_heading level0 row11\" >11</th>\n",
              "      <td id=\"T_afa99_row11_col0\" class=\"data row11 col0\" >0.75</td>\n",
              "      <td id=\"T_afa99_row11_col1\" class=\"data row11 col1\" >0.78</td>\n",
              "      <td id=\"T_afa99_row11_col2\" class=\"data row11 col2\" >0.62</td>\n",
              "      <td id=\"T_afa99_row11_col3\" class=\"data row11 col3\" >0.69</td>\n",
              "      <td id=\"T_afa99_row11_col4\" class=\"data row11 col4\" >0.80</td>\n",
              "      <td id=\"T_afa99_row11_col5\" class=\"data row11 col5\" >0.69</td>\n",
              "    </tr>\n",
              "    <tr>\n",
              "      <th id=\"T_afa99_level0_row12\" class=\"row_heading level0 row12\" >12</th>\n",
              "      <td id=\"T_afa99_row12_col0\" class=\"data row12 col0\" >0.80</td>\n",
              "      <td id=\"T_afa99_row12_col1\" class=\"data row12 col1\" >0.79</td>\n",
              "      <td id=\"T_afa99_row12_col2\" class=\"data row12 col2\" >0.61</td>\n",
              "      <td id=\"T_afa99_row12_col3\" class=\"data row12 col3\" >0.69</td>\n",
              "      <td id=\"T_afa99_row12_col4\" class=\"data row12 col4\" >0.80</td>\n",
              "      <td id=\"T_afa99_row12_col5\" class=\"data row12 col5\" >0.69</td>\n",
              "    </tr>\n",
              "  </tbody>\n",
              "</table>\n"
            ],
            "text/plain": [
              "<pandas.io.formats.style.Styler at 0x797ad1c7e3d0>"
            ]
          },
          "execution_count": 21,
          "metadata": {},
          "output_type": "execute_result"
        }
      ],
      "source": [
        "fancy_df"
      ]
    },
    {
      "cell_type": "code",
      "execution_count": null,
      "metadata": {
        "id": "8BMdgenyk5K9"
      },
      "outputs": [],
      "source": [
        "# Save model and thresholds\n",
        "joblib.dump(best_knn_model, 'final_knn_model.joblib')\n",
        "results_df.to_csv('final_knn_thresholds.csv', index=False)"
      ]
    },
    {
      "cell_type": "markdown",
      "metadata": {
        "id": "rNjvW2ZVhN6A"
      },
      "source": [
        "# VI. Logistic Regression tuning\n",
        "\n"
      ]
    },
    {
      "cell_type": "code",
      "execution_count": null,
      "metadata": {
        "id": "MX3iQcLFhiHB"
      },
      "outputs": [],
      "source": [
        "from sklearn.linear_model import LogisticRegressionCV"
      ]
    },
    {
      "cell_type": "markdown",
      "metadata": {
        "id": "sUx64rqs_skH"
      },
      "source": [
        "###Follow the steps"
      ]
    },
    {
      "cell_type": "code",
      "execution_count": null,
      "metadata": {
        "id": "xhIvRXj5_skI"
      },
      "outputs": [],
      "source": [
        "logreg_model = LogisticRegressionCV(\n",
        "    Cs=10,\n",
        "    cv=5,\n",
        "    penalty='l1',\n",
        "    solver='saga',\n",
        "    random_state=rs,\n",
        "    max_iter=1000,\n",
        "    n_jobs=-1\n",
        ")\n"
      ]
    },
    {
      "cell_type": "code",
      "execution_count": null,
      "metadata": {
        "colab": {
          "base_uri": "https://localhost:8080/"
        },
        "id": "ipOo-1mMlpSm",
        "outputId": "84b17cc0-b087-4c9a-cd3c-26cad3d7bc02"
      },
      "outputs": [
        {
          "name": "stdout",
          "output_type": "stream",
          "text": [
            "Best parameter: 21.54434690031882\n"
          ]
        }
      ],
      "source": [
        "logreg_model.fit(x_train, y_train)\n",
        "print(f\"Best parameter: {logreg_model.C_[0]}\")"
      ]
    },
    {
      "cell_type": "code",
      "execution_count": null,
      "metadata": {
        "id": "CAeIeeyLlvtp"
      },
      "outputs": [],
      "source": [
        "y_pred_probs = logreg_model.predict_proba(x_test)[:, 1]\n",
        "results_df, fancy_df = threshold_results(thresholds, y_test, y_pred_probs)"
      ]
    },
    {
      "cell_type": "code",
      "execution_count": null,
      "metadata": {
        "colab": {
          "base_uri": "https://localhost:8080/"
        },
        "id": "hNBg6r5v9d15",
        "outputId": "8cbefec4-b3be-4795-bac1-00da8c227ffd"
      },
      "outputs": [
        {
          "data": {
            "text/plain": [
              "0.7777777777777778"
            ]
          },
          "execution_count": 27,
          "metadata": {},
          "output_type": "execute_result"
        }
      ],
      "source": [
        "logreg_model.score(x_test, y_test)"
      ]
    },
    {
      "cell_type": "code",
      "execution_count": null,
      "metadata": {
        "colab": {
          "base_uri": "https://localhost:8080/",
          "height": 470
        },
        "id": "ERSUbDQD9b28",
        "outputId": "5908c4f5-1665-4f4e-cdc3-06c9a337cc3f"
      },
      "outputs": [
        {
          "data": {
            "text/html": [
              "<style type=\"text/css\">\n",
              "#T_e5a9a th:not(.index_name) {\n",
              "  background-color: #800000;\n",
              "  color: white;\n",
              "  text-align: center;\n",
              "}\n",
              "#T_e5a9a_row0_col0, #T_e5a9a_row0_col1, #T_e5a9a_row0_col5, #T_e5a9a_row1_col0, #T_e5a9a_row1_col1, #T_e5a9a_row1_col2, #T_e5a9a_row2_col0, #T_e5a9a_row2_col1, #T_e5a9a_row2_col2, #T_e5a9a_row3_col0, #T_e5a9a_row3_col1, #T_e5a9a_row3_col2, #T_e5a9a_row4_col0, #T_e5a9a_row4_col1, #T_e5a9a_row4_col2, #T_e5a9a_row4_col3, #T_e5a9a_row4_col5, #T_e5a9a_row5_col0, #T_e5a9a_row5_col1, #T_e5a9a_row5_col2, #T_e5a9a_row5_col3, #T_e5a9a_row5_col5, #T_e5a9a_row6_col0, #T_e5a9a_row6_col1, #T_e5a9a_row6_col2, #T_e5a9a_row6_col3, #T_e5a9a_row6_col5, #T_e5a9a_row7_col0, #T_e5a9a_row7_col1, #T_e5a9a_row7_col2, #T_e5a9a_row7_col3, #T_e5a9a_row7_col5, #T_e5a9a_row8_col0, #T_e5a9a_row8_col2, #T_e5a9a_row8_col3, #T_e5a9a_row8_col5, #T_e5a9a_row9_col0, #T_e5a9a_row9_col2, #T_e5a9a_row9_col3, #T_e5a9a_row9_col5, #T_e5a9a_row10_col0, #T_e5a9a_row10_col2, #T_e5a9a_row10_col3, #T_e5a9a_row10_col5, #T_e5a9a_row11_col0, #T_e5a9a_row11_col2, #T_e5a9a_row11_col3, #T_e5a9a_row11_col5, #T_e5a9a_row12_col2, #T_e5a9a_row12_col3, #T_e5a9a_row12_col5 {\n",
              "  border: 1px solid black;\n",
              "  width: 65px;\n",
              "  text-align: center;\n",
              "}\n",
              "#T_e5a9a_row0_col2, #T_e5a9a_row0_col3, #T_e5a9a_row0_col4, #T_e5a9a_row1_col3, #T_e5a9a_row1_col4, #T_e5a9a_row1_col5, #T_e5a9a_row2_col3, #T_e5a9a_row2_col4, #T_e5a9a_row2_col5, #T_e5a9a_row3_col3, #T_e5a9a_row3_col4, #T_e5a9a_row3_col5, #T_e5a9a_row4_col4, #T_e5a9a_row5_col4, #T_e5a9a_row6_col4, #T_e5a9a_row7_col4, #T_e5a9a_row8_col1, #T_e5a9a_row8_col4, #T_e5a9a_row9_col1, #T_e5a9a_row9_col4, #T_e5a9a_row10_col1, #T_e5a9a_row10_col4, #T_e5a9a_row11_col1, #T_e5a9a_row11_col4, #T_e5a9a_row12_col0, #T_e5a9a_row12_col1, #T_e5a9a_row12_col4 {\n",
              "  background-color: pink;\n",
              "  border: 1px solid black;\n",
              "  width: 65px;\n",
              "  text-align: center;\n",
              "}\n",
              "</style>\n",
              "<table id=\"T_e5a9a\" class=\"dataframe\">\n",
              "  <thead>\n",
              "    <tr>\n",
              "      <th class=\"blank level0\" >&nbsp;</th>\n",
              "      <th id=\"T_e5a9a_level0_col0\" class=\"col_heading level0 col0\" >threshold</th>\n",
              "      <th id=\"T_e5a9a_level0_col1\" class=\"col_heading level0 col1\" >precision</th>\n",
              "      <th id=\"T_e5a9a_level0_col2\" class=\"col_heading level0 col2\" >recall</th>\n",
              "      <th id=\"T_e5a9a_level0_col3\" class=\"col_heading level0 col3\" >f1</th>\n",
              "      <th id=\"T_e5a9a_level0_col4\" class=\"col_heading level0 col4\" >auc</th>\n",
              "      <th id=\"T_e5a9a_level0_col5\" class=\"col_heading level0 col5\" >accuracy</th>\n",
              "    </tr>\n",
              "  </thead>\n",
              "  <tbody>\n",
              "    <tr>\n",
              "      <th id=\"T_e5a9a_level0_row0\" class=\"row_heading level0 row0\" >0</th>\n",
              "      <td id=\"T_e5a9a_row0_col0\" class=\"data row0 col0\" >0.20</td>\n",
              "      <td id=\"T_e5a9a_row0_col1\" class=\"data row0 col1\" >0.75</td>\n",
              "      <td id=\"T_e5a9a_row0_col2\" class=\"data row0 col2\" >0.95</td>\n",
              "      <td id=\"T_e5a9a_row0_col3\" class=\"data row0 col3\" >0.84</td>\n",
              "      <td id=\"T_e5a9a_row0_col4\" class=\"data row0 col4\" >0.89</td>\n",
              "      <td id=\"T_e5a9a_row0_col5\" class=\"data row0 col5\" >0.79</td>\n",
              "    </tr>\n",
              "    <tr>\n",
              "      <th id=\"T_e5a9a_level0_row1\" class=\"row_heading level0 row1\" >1</th>\n",
              "      <td id=\"T_e5a9a_row1_col0\" class=\"data row1 col0\" >0.25</td>\n",
              "      <td id=\"T_e5a9a_row1_col1\" class=\"data row1 col1\" >0.78</td>\n",
              "      <td id=\"T_e5a9a_row1_col2\" class=\"data row1 col2\" >0.91</td>\n",
              "      <td id=\"T_e5a9a_row1_col3\" class=\"data row1 col3\" >0.84</td>\n",
              "      <td id=\"T_e5a9a_row1_col4\" class=\"data row1 col4\" >0.89</td>\n",
              "      <td id=\"T_e5a9a_row1_col5\" class=\"data row1 col5\" >0.81</td>\n",
              "    </tr>\n",
              "    <tr>\n",
              "      <th id=\"T_e5a9a_level0_row2\" class=\"row_heading level0 row2\" >2</th>\n",
              "      <td id=\"T_e5a9a_row2_col0\" class=\"data row2 col0\" >0.30</td>\n",
              "      <td id=\"T_e5a9a_row2_col1\" class=\"data row2 col1\" >0.79</td>\n",
              "      <td id=\"T_e5a9a_row2_col2\" class=\"data row2 col2\" >0.89</td>\n",
              "      <td id=\"T_e5a9a_row2_col3\" class=\"data row2 col3\" >0.84</td>\n",
              "      <td id=\"T_e5a9a_row2_col4\" class=\"data row2 col4\" >0.89</td>\n",
              "      <td id=\"T_e5a9a_row2_col5\" class=\"data row2 col5\" >0.81</td>\n",
              "    </tr>\n",
              "    <tr>\n",
              "      <th id=\"T_e5a9a_level0_row3\" class=\"row_heading level0 row3\" >3</th>\n",
              "      <td id=\"T_e5a9a_row3_col0\" class=\"data row3 col0\" >0.35</td>\n",
              "      <td id=\"T_e5a9a_row3_col1\" class=\"data row3 col1\" >0.81</td>\n",
              "      <td id=\"T_e5a9a_row3_col2\" class=\"data row3 col2\" >0.87</td>\n",
              "      <td id=\"T_e5a9a_row3_col3\" class=\"data row3 col3\" >0.84</td>\n",
              "      <td id=\"T_e5a9a_row3_col4\" class=\"data row3 col4\" >0.89</td>\n",
              "      <td id=\"T_e5a9a_row3_col5\" class=\"data row3 col5\" >0.81</td>\n",
              "    </tr>\n",
              "    <tr>\n",
              "      <th id=\"T_e5a9a_level0_row4\" class=\"row_heading level0 row4\" >4</th>\n",
              "      <td id=\"T_e5a9a_row4_col0\" class=\"data row4 col0\" >0.40</td>\n",
              "      <td id=\"T_e5a9a_row4_col1\" class=\"data row4 col1\" >0.81</td>\n",
              "      <td id=\"T_e5a9a_row4_col2\" class=\"data row4 col2\" >0.83</td>\n",
              "      <td id=\"T_e5a9a_row4_col3\" class=\"data row4 col3\" >0.82</td>\n",
              "      <td id=\"T_e5a9a_row4_col4\" class=\"data row4 col4\" >0.89</td>\n",
              "      <td id=\"T_e5a9a_row4_col5\" class=\"data row4 col5\" >0.80</td>\n",
              "    </tr>\n",
              "    <tr>\n",
              "      <th id=\"T_e5a9a_level0_row5\" class=\"row_heading level0 row5\" >5</th>\n",
              "      <td id=\"T_e5a9a_row5_col0\" class=\"data row5 col0\" >0.45</td>\n",
              "      <td id=\"T_e5a9a_row5_col1\" class=\"data row5 col1\" >0.82</td>\n",
              "      <td id=\"T_e5a9a_row5_col2\" class=\"data row5 col2\" >0.81</td>\n",
              "      <td id=\"T_e5a9a_row5_col3\" class=\"data row5 col3\" >0.81</td>\n",
              "      <td id=\"T_e5a9a_row5_col4\" class=\"data row5 col4\" >0.89</td>\n",
              "      <td id=\"T_e5a9a_row5_col5\" class=\"data row5 col5\" >0.79</td>\n",
              "    </tr>\n",
              "    <tr>\n",
              "      <th id=\"T_e5a9a_level0_row6\" class=\"row_heading level0 row6\" >6</th>\n",
              "      <td id=\"T_e5a9a_row6_col0\" class=\"data row6 col0\" >0.50</td>\n",
              "      <td id=\"T_e5a9a_row6_col1\" class=\"data row6 col1\" >0.82</td>\n",
              "      <td id=\"T_e5a9a_row6_col2\" class=\"data row6 col2\" >0.77</td>\n",
              "      <td id=\"T_e5a9a_row6_col3\" class=\"data row6 col3\" >0.79</td>\n",
              "      <td id=\"T_e5a9a_row6_col4\" class=\"data row6 col4\" >0.89</td>\n",
              "      <td id=\"T_e5a9a_row6_col5\" class=\"data row6 col5\" >0.78</td>\n",
              "    </tr>\n",
              "    <tr>\n",
              "      <th id=\"T_e5a9a_level0_row7\" class=\"row_heading level0 row7\" >7</th>\n",
              "      <td id=\"T_e5a9a_row7_col0\" class=\"data row7 col0\" >0.55</td>\n",
              "      <td id=\"T_e5a9a_row7_col1\" class=\"data row7 col1\" >0.83</td>\n",
              "      <td id=\"T_e5a9a_row7_col2\" class=\"data row7 col2\" >0.77</td>\n",
              "      <td id=\"T_e5a9a_row7_col3\" class=\"data row7 col3\" >0.80</td>\n",
              "      <td id=\"T_e5a9a_row7_col4\" class=\"data row7 col4\" >0.89</td>\n",
              "      <td id=\"T_e5a9a_row7_col5\" class=\"data row7 col5\" >0.78</td>\n",
              "    </tr>\n",
              "    <tr>\n",
              "      <th id=\"T_e5a9a_level0_row8\" class=\"row_heading level0 row8\" >8</th>\n",
              "      <td id=\"T_e5a9a_row8_col0\" class=\"data row8 col0\" >0.60</td>\n",
              "      <td id=\"T_e5a9a_row8_col1\" class=\"data row8 col1\" >0.84</td>\n",
              "      <td id=\"T_e5a9a_row8_col2\" class=\"data row8 col2\" >0.77</td>\n",
              "      <td id=\"T_e5a9a_row8_col3\" class=\"data row8 col3\" >0.80</td>\n",
              "      <td id=\"T_e5a9a_row8_col4\" class=\"data row8 col4\" >0.89</td>\n",
              "      <td id=\"T_e5a9a_row8_col5\" class=\"data row8 col5\" >0.79</td>\n",
              "    </tr>\n",
              "    <tr>\n",
              "      <th id=\"T_e5a9a_level0_row9\" class=\"row_heading level0 row9\" >9</th>\n",
              "      <td id=\"T_e5a9a_row9_col0\" class=\"data row9 col0\" >0.65</td>\n",
              "      <td id=\"T_e5a9a_row9_col1\" class=\"data row9 col1\" >0.84</td>\n",
              "      <td id=\"T_e5a9a_row9_col2\" class=\"data row9 col2\" >0.75</td>\n",
              "      <td id=\"T_e5a9a_row9_col3\" class=\"data row9 col3\" >0.79</td>\n",
              "      <td id=\"T_e5a9a_row9_col4\" class=\"data row9 col4\" >0.89</td>\n",
              "      <td id=\"T_e5a9a_row9_col5\" class=\"data row9 col5\" >0.78</td>\n",
              "    </tr>\n",
              "    <tr>\n",
              "      <th id=\"T_e5a9a_level0_row10\" class=\"row_heading level0 row10\" >10</th>\n",
              "      <td id=\"T_e5a9a_row10_col0\" class=\"data row10 col0\" >0.70</td>\n",
              "      <td id=\"T_e5a9a_row10_col1\" class=\"data row10 col1\" >0.84</td>\n",
              "      <td id=\"T_e5a9a_row10_col2\" class=\"data row10 col2\" >0.73</td>\n",
              "      <td id=\"T_e5a9a_row10_col3\" class=\"data row10 col3\" >0.78</td>\n",
              "      <td id=\"T_e5a9a_row10_col4\" class=\"data row10 col4\" >0.89</td>\n",
              "      <td id=\"T_e5a9a_row10_col5\" class=\"data row10 col5\" >0.77</td>\n",
              "    </tr>\n",
              "    <tr>\n",
              "      <th id=\"T_e5a9a_level0_row11\" class=\"row_heading level0 row11\" >11</th>\n",
              "      <td id=\"T_e5a9a_row11_col0\" class=\"data row11 col0\" >0.75</td>\n",
              "      <td id=\"T_e5a9a_row11_col1\" class=\"data row11 col1\" >0.84</td>\n",
              "      <td id=\"T_e5a9a_row11_col2\" class=\"data row11 col2\" >0.72</td>\n",
              "      <td id=\"T_e5a9a_row11_col3\" class=\"data row11 col3\" >0.77</td>\n",
              "      <td id=\"T_e5a9a_row11_col4\" class=\"data row11 col4\" >0.89</td>\n",
              "      <td id=\"T_e5a9a_row11_col5\" class=\"data row11 col5\" >0.77</td>\n",
              "    </tr>\n",
              "    <tr>\n",
              "      <th id=\"T_e5a9a_level0_row12\" class=\"row_heading level0 row12\" >12</th>\n",
              "      <td id=\"T_e5a9a_row12_col0\" class=\"data row12 col0\" >0.80</td>\n",
              "      <td id=\"T_e5a9a_row12_col1\" class=\"data row12 col1\" >0.84</td>\n",
              "      <td id=\"T_e5a9a_row12_col2\" class=\"data row12 col2\" >0.72</td>\n",
              "      <td id=\"T_e5a9a_row12_col3\" class=\"data row12 col3\" >0.77</td>\n",
              "      <td id=\"T_e5a9a_row12_col4\" class=\"data row12 col4\" >0.89</td>\n",
              "      <td id=\"T_e5a9a_row12_col5\" class=\"data row12 col5\" >0.77</td>\n",
              "    </tr>\n",
              "  </tbody>\n",
              "</table>\n"
            ],
            "text/plain": [
              "<pandas.io.formats.style.Styler at 0x797acf1feb50>"
            ]
          },
          "execution_count": 28,
          "metadata": {},
          "output_type": "execute_result"
        }
      ],
      "source": [
        "fancy_df"
      ]
    },
    {
      "cell_type": "code",
      "execution_count": null,
      "metadata": {
        "id": "ozB-XWa1l1SW"
      },
      "outputs": [],
      "source": [
        "joblib.dump(logreg_model, 'final_logreg_model.pkl')\n",
        "results_df.to_csv('final_logreg_thresholds.csv', index=False)"
      ]
    },
    {
      "cell_type": "markdown",
      "metadata": {
        "id": "dxe6XuYciUY-"
      },
      "source": [
        "# VII. LGB tuning\n",
        "\n"
      ]
    },
    {
      "cell_type": "code",
      "execution_count": null,
      "metadata": {
        "id": "-wwjo5E4_436"
      },
      "outputs": [],
      "source": [
        "from lightgbm import LGBMClassifier"
      ]
    },
    {
      "cell_type": "markdown",
      "metadata": {
        "id": "BeqVdrL4_5hW"
      },
      "source": [
        "###Follow the steps"
      ]
    },
    {
      "cell_type": "code",
      "execution_count": null,
      "metadata": {
        "id": "-cjrLNnB_5hW"
      },
      "outputs": [],
      "source": [
        "param_grid = {\n",
        "    'n_estimators': [50, 100, 200],\n",
        "    'learning_rate': [0.01, 0.1, 0.2],\n",
        "    'num_leaves': [20, 31, 40],\n",
        "    'max_depth': [-1, 5, 10]\n",
        "}\n"
      ]
    },
    {
      "cell_type": "code",
      "execution_count": null,
      "metadata": {
        "colab": {
          "base_uri": "https://localhost:8080/"
        },
        "id": "aiBNQB0Xkici",
        "outputId": "aa6850ce-9936-41ef-c0e1-7959dd1ef488"
      },
      "outputs": [
        {
          "name": "stdout",
          "output_type": "stream",
          "text": [
            "n_iterations: 5\n",
            "n_required_iterations: 5\n",
            "n_possible_iterations: 5\n",
            "min_resources_: 37\n",
            "max_resources_: 2999\n",
            "aggressive_elimination: False\n",
            "factor: 3\n",
            "----------\n",
            "iter: 0\n",
            "n_candidates: 81\n",
            "n_resources: 37\n",
            "Fitting 5 folds for each of 81 candidates, totalling 405 fits\n",
            "----------\n",
            "iter: 1\n",
            "n_candidates: 27\n",
            "n_resources: 111\n",
            "Fitting 5 folds for each of 27 candidates, totalling 135 fits\n",
            "----------\n",
            "iter: 2\n",
            "n_candidates: 9\n",
            "n_resources: 333\n",
            "Fitting 5 folds for each of 9 candidates, totalling 45 fits\n",
            "----------\n",
            "iter: 3\n",
            "n_candidates: 3\n",
            "n_resources: 999\n",
            "Fitting 5 folds for each of 3 candidates, totalling 15 fits\n",
            "----------\n",
            "iter: 4\n",
            "n_candidates: 1\n",
            "n_resources: 2997\n",
            "Fitting 5 folds for each of 1 candidates, totalling 5 fits\n"
          ]
        },
        {
          "name": "stderr",
          "output_type": "stream",
          "text": [
            "/usr/local/lib/python3.11/dist-packages/sklearn/utils/deprecation.py:151: FutureWarning: 'force_all_finite' was renamed to 'ensure_all_finite' in 1.6 and will be removed in 1.8.\n",
            "  warnings.warn(\n"
          ]
        }
      ],
      "source": [
        "lgb = LGBMClassifier(random_state=rs, verbose=-1)\n",
        "grid_result = halving_search(lgb, param_grid, x_train, y_train)"
      ]
    },
    {
      "cell_type": "code",
      "execution_count": null,
      "metadata": {
        "colab": {
          "base_uri": "https://localhost:8080/"
        },
        "id": "1Q5gK84hkiyv",
        "outputId": "2c253f9b-2e9d-4143-cedd-4aa2bd50b290"
      },
      "outputs": [
        {
          "name": "stderr",
          "output_type": "stream",
          "text": [
            "/usr/local/lib/python3.11/dist-packages/sklearn/utils/deprecation.py:151: FutureWarning: 'force_all_finite' was renamed to 'ensure_all_finite' in 1.6 and will be removed in 1.8.\n",
            "  warnings.warn(\n"
          ]
        }
      ],
      "source": [
        "best_lgb = grid_result.best_estimator_\n",
        "grid_result.best_params_\n",
        "\n",
        "y_pred_probs = best_lgb.predict_proba(x_test)[:, 1]\n",
        "results_df, fancy_df = threshold_results(thresholds, y_test, y_pred_probs)\n"
      ]
    },
    {
      "cell_type": "code",
      "execution_count": null,
      "metadata": {
        "colab": {
          "base_uri": "https://localhost:8080/"
        },
        "id": "2i7btU5e-haX",
        "outputId": "f1320bc5-0908-45b0-ddeb-c4aeb2d006f0"
      },
      "outputs": [
        {
          "name": "stderr",
          "output_type": "stream",
          "text": [
            "/usr/local/lib/python3.11/dist-packages/sklearn/utils/deprecation.py:151: FutureWarning: 'force_all_finite' was renamed to 'ensure_all_finite' in 1.6 and will be removed in 1.8.\n",
            "  warnings.warn(\n"
          ]
        },
        {
          "data": {
            "text/plain": [
              "0.7833333333333333"
            ]
          },
          "execution_count": 34,
          "metadata": {},
          "output_type": "execute_result"
        }
      ],
      "source": [
        "best_lgb.score(x_test, y_test)"
      ]
    },
    {
      "cell_type": "code",
      "execution_count": null,
      "metadata": {
        "colab": {
          "base_uri": "https://localhost:8080/",
          "height": 470
        },
        "id": "uPrOQPc3-hx7",
        "outputId": "79f18e2e-e40e-4b3d-a953-e06a2dc34c59"
      },
      "outputs": [
        {
          "data": {
            "text/html": [
              "<style type=\"text/css\">\n",
              "#T_96eaa th:not(.index_name) {\n",
              "  background-color: #800000;\n",
              "  color: white;\n",
              "  text-align: center;\n",
              "}\n",
              "#T_96eaa_row0_col0, #T_96eaa_row0_col1, #T_96eaa_row0_col3, #T_96eaa_row1_col0, #T_96eaa_row1_col1, #T_96eaa_row1_col2, #T_96eaa_row2_col0, #T_96eaa_row2_col1, #T_96eaa_row2_col2, #T_96eaa_row3_col0, #T_96eaa_row3_col1, #T_96eaa_row3_col2, #T_96eaa_row3_col3, #T_96eaa_row4_col0, #T_96eaa_row4_col1, #T_96eaa_row4_col2, #T_96eaa_row4_col3, #T_96eaa_row5_col0, #T_96eaa_row5_col1, #T_96eaa_row5_col2, #T_96eaa_row5_col3, #T_96eaa_row6_col0, #T_96eaa_row6_col1, #T_96eaa_row6_col2, #T_96eaa_row6_col3, #T_96eaa_row7_col0, #T_96eaa_row7_col1, #T_96eaa_row7_col2, #T_96eaa_row7_col3, #T_96eaa_row8_col0, #T_96eaa_row8_col1, #T_96eaa_row8_col2, #T_96eaa_row8_col3, #T_96eaa_row9_col0, #T_96eaa_row9_col1, #T_96eaa_row9_col2, #T_96eaa_row9_col3, #T_96eaa_row10_col0, #T_96eaa_row10_col1, #T_96eaa_row10_col2, #T_96eaa_row10_col3, #T_96eaa_row11_col0, #T_96eaa_row11_col1, #T_96eaa_row11_col2, #T_96eaa_row11_col3, #T_96eaa_row12_col2, #T_96eaa_row12_col3, #T_96eaa_row12_col5 {\n",
              "  border: 1px solid black;\n",
              "  width: 65px;\n",
              "  text-align: center;\n",
              "}\n",
              "#T_96eaa_row0_col2, #T_96eaa_row0_col4, #T_96eaa_row0_col5, #T_96eaa_row1_col3, #T_96eaa_row1_col4, #T_96eaa_row1_col5, #T_96eaa_row2_col3, #T_96eaa_row2_col4, #T_96eaa_row2_col5, #T_96eaa_row3_col4, #T_96eaa_row3_col5, #T_96eaa_row4_col4, #T_96eaa_row4_col5, #T_96eaa_row5_col4, #T_96eaa_row5_col5, #T_96eaa_row6_col4, #T_96eaa_row6_col5, #T_96eaa_row7_col4, #T_96eaa_row7_col5, #T_96eaa_row8_col4, #T_96eaa_row8_col5, #T_96eaa_row9_col4, #T_96eaa_row9_col5, #T_96eaa_row10_col4, #T_96eaa_row10_col5, #T_96eaa_row11_col4, #T_96eaa_row11_col5, #T_96eaa_row12_col0, #T_96eaa_row12_col1, #T_96eaa_row12_col4 {\n",
              "  background-color: pink;\n",
              "  border: 1px solid black;\n",
              "  width: 65px;\n",
              "  text-align: center;\n",
              "}\n",
              "</style>\n",
              "<table id=\"T_96eaa\" class=\"dataframe\">\n",
              "  <thead>\n",
              "    <tr>\n",
              "      <th class=\"blank level0\" >&nbsp;</th>\n",
              "      <th id=\"T_96eaa_level0_col0\" class=\"col_heading level0 col0\" >threshold</th>\n",
              "      <th id=\"T_96eaa_level0_col1\" class=\"col_heading level0 col1\" >precision</th>\n",
              "      <th id=\"T_96eaa_level0_col2\" class=\"col_heading level0 col2\" >recall</th>\n",
              "      <th id=\"T_96eaa_level0_col3\" class=\"col_heading level0 col3\" >f1</th>\n",
              "      <th id=\"T_96eaa_level0_col4\" class=\"col_heading level0 col4\" >auc</th>\n",
              "      <th id=\"T_96eaa_level0_col5\" class=\"col_heading level0 col5\" >accuracy</th>\n",
              "    </tr>\n",
              "  </thead>\n",
              "  <tbody>\n",
              "    <tr>\n",
              "      <th id=\"T_96eaa_level0_row0\" class=\"row_heading level0 row0\" >0</th>\n",
              "      <td id=\"T_96eaa_row0_col0\" class=\"data row0 col0\" >0.20</td>\n",
              "      <td id=\"T_96eaa_row0_col1\" class=\"data row0 col1\" >0.76</td>\n",
              "      <td id=\"T_96eaa_row0_col2\" class=\"data row0 col2\" >0.88</td>\n",
              "      <td id=\"T_96eaa_row0_col3\" class=\"data row0 col3\" >0.81</td>\n",
              "      <td id=\"T_96eaa_row0_col4\" class=\"data row0 col4\" >0.85</td>\n",
              "      <td id=\"T_96eaa_row0_col5\" class=\"data row0 col5\" >0.78</td>\n",
              "    </tr>\n",
              "    <tr>\n",
              "      <th id=\"T_96eaa_level0_row1\" class=\"row_heading level0 row1\" >1</th>\n",
              "      <td id=\"T_96eaa_row1_col0\" class=\"data row1 col0\" >0.25</td>\n",
              "      <td id=\"T_96eaa_row1_col1\" class=\"data row1 col1\" >0.77</td>\n",
              "      <td id=\"T_96eaa_row1_col2\" class=\"data row1 col2\" >0.87</td>\n",
              "      <td id=\"T_96eaa_row1_col3\" class=\"data row1 col3\" >0.82</td>\n",
              "      <td id=\"T_96eaa_row1_col4\" class=\"data row1 col4\" >0.85</td>\n",
              "      <td id=\"T_96eaa_row1_col5\" class=\"data row1 col5\" >0.78</td>\n",
              "    </tr>\n",
              "    <tr>\n",
              "      <th id=\"T_96eaa_level0_row2\" class=\"row_heading level0 row2\" >2</th>\n",
              "      <td id=\"T_96eaa_row2_col0\" class=\"data row2 col0\" >0.30</td>\n",
              "      <td id=\"T_96eaa_row2_col1\" class=\"data row2 col1\" >0.77</td>\n",
              "      <td id=\"T_96eaa_row2_col2\" class=\"data row2 col2\" >0.86</td>\n",
              "      <td id=\"T_96eaa_row2_col3\" class=\"data row2 col3\" >0.82</td>\n",
              "      <td id=\"T_96eaa_row2_col4\" class=\"data row2 col4\" >0.85</td>\n",
              "      <td id=\"T_96eaa_row2_col5\" class=\"data row2 col5\" >0.78</td>\n",
              "    </tr>\n",
              "    <tr>\n",
              "      <th id=\"T_96eaa_level0_row3\" class=\"row_heading level0 row3\" >3</th>\n",
              "      <td id=\"T_96eaa_row3_col0\" class=\"data row3 col0\" >0.35</td>\n",
              "      <td id=\"T_96eaa_row3_col1\" class=\"data row3 col1\" >0.77</td>\n",
              "      <td id=\"T_96eaa_row3_col2\" class=\"data row3 col2\" >0.85</td>\n",
              "      <td id=\"T_96eaa_row3_col3\" class=\"data row3 col3\" >0.81</td>\n",
              "      <td id=\"T_96eaa_row3_col4\" class=\"data row3 col4\" >0.85</td>\n",
              "      <td id=\"T_96eaa_row3_col5\" class=\"data row3 col5\" >0.78</td>\n",
              "    </tr>\n",
              "    <tr>\n",
              "      <th id=\"T_96eaa_level0_row4\" class=\"row_heading level0 row4\" >4</th>\n",
              "      <td id=\"T_96eaa_row4_col0\" class=\"data row4 col0\" >0.40</td>\n",
              "      <td id=\"T_96eaa_row4_col1\" class=\"data row4 col1\" >0.78</td>\n",
              "      <td id=\"T_96eaa_row4_col2\" class=\"data row4 col2\" >0.84</td>\n",
              "      <td id=\"T_96eaa_row4_col3\" class=\"data row4 col3\" >0.81</td>\n",
              "      <td id=\"T_96eaa_row4_col4\" class=\"data row4 col4\" >0.85</td>\n",
              "      <td id=\"T_96eaa_row4_col5\" class=\"data row4 col5\" >0.78</td>\n",
              "    </tr>\n",
              "    <tr>\n",
              "      <th id=\"T_96eaa_level0_row5\" class=\"row_heading level0 row5\" >5</th>\n",
              "      <td id=\"T_96eaa_row5_col0\" class=\"data row5 col0\" >0.45</td>\n",
              "      <td id=\"T_96eaa_row5_col1\" class=\"data row5 col1\" >0.78</td>\n",
              "      <td id=\"T_96eaa_row5_col2\" class=\"data row5 col2\" >0.84</td>\n",
              "      <td id=\"T_96eaa_row5_col3\" class=\"data row5 col3\" >0.81</td>\n",
              "      <td id=\"T_96eaa_row5_col4\" class=\"data row5 col4\" >0.85</td>\n",
              "      <td id=\"T_96eaa_row5_col5\" class=\"data row5 col5\" >0.78</td>\n",
              "    </tr>\n",
              "    <tr>\n",
              "      <th id=\"T_96eaa_level0_row6\" class=\"row_heading level0 row6\" >6</th>\n",
              "      <td id=\"T_96eaa_row6_col0\" class=\"data row6 col0\" >0.50</td>\n",
              "      <td id=\"T_96eaa_row6_col1\" class=\"data row6 col1\" >0.79</td>\n",
              "      <td id=\"T_96eaa_row6_col2\" class=\"data row6 col2\" >0.84</td>\n",
              "      <td id=\"T_96eaa_row6_col3\" class=\"data row6 col3\" >0.81</td>\n",
              "      <td id=\"T_96eaa_row6_col4\" class=\"data row6 col4\" >0.85</td>\n",
              "      <td id=\"T_96eaa_row6_col5\" class=\"data row6 col5\" >0.78</td>\n",
              "    </tr>\n",
              "    <tr>\n",
              "      <th id=\"T_96eaa_level0_row7\" class=\"row_heading level0 row7\" >7</th>\n",
              "      <td id=\"T_96eaa_row7_col0\" class=\"data row7 col0\" >0.55</td>\n",
              "      <td id=\"T_96eaa_row7_col1\" class=\"data row7 col1\" >0.79</td>\n",
              "      <td id=\"T_96eaa_row7_col2\" class=\"data row7 col2\" >0.84</td>\n",
              "      <td id=\"T_96eaa_row7_col3\" class=\"data row7 col3\" >0.81</td>\n",
              "      <td id=\"T_96eaa_row7_col4\" class=\"data row7 col4\" >0.85</td>\n",
              "      <td id=\"T_96eaa_row7_col5\" class=\"data row7 col5\" >0.78</td>\n",
              "    </tr>\n",
              "    <tr>\n",
              "      <th id=\"T_96eaa_level0_row8\" class=\"row_heading level0 row8\" >8</th>\n",
              "      <td id=\"T_96eaa_row8_col0\" class=\"data row8 col0\" >0.60</td>\n",
              "      <td id=\"T_96eaa_row8_col1\" class=\"data row8 col1\" >0.79</td>\n",
              "      <td id=\"T_96eaa_row8_col2\" class=\"data row8 col2\" >0.84</td>\n",
              "      <td id=\"T_96eaa_row8_col3\" class=\"data row8 col3\" >0.81</td>\n",
              "      <td id=\"T_96eaa_row8_col4\" class=\"data row8 col4\" >0.85</td>\n",
              "      <td id=\"T_96eaa_row8_col5\" class=\"data row8 col5\" >0.78</td>\n",
              "    </tr>\n",
              "    <tr>\n",
              "      <th id=\"T_96eaa_level0_row9\" class=\"row_heading level0 row9\" >9</th>\n",
              "      <td id=\"T_96eaa_row9_col0\" class=\"data row9 col0\" >0.65</td>\n",
              "      <td id=\"T_96eaa_row9_col1\" class=\"data row9 col1\" >0.79</td>\n",
              "      <td id=\"T_96eaa_row9_col2\" class=\"data row9 col2\" >0.84</td>\n",
              "      <td id=\"T_96eaa_row9_col3\" class=\"data row9 col3\" >0.81</td>\n",
              "      <td id=\"T_96eaa_row9_col4\" class=\"data row9 col4\" >0.85</td>\n",
              "      <td id=\"T_96eaa_row9_col5\" class=\"data row9 col5\" >0.78</td>\n",
              "    </tr>\n",
              "    <tr>\n",
              "      <th id=\"T_96eaa_level0_row10\" class=\"row_heading level0 row10\" >10</th>\n",
              "      <td id=\"T_96eaa_row10_col0\" class=\"data row10 col0\" >0.70</td>\n",
              "      <td id=\"T_96eaa_row10_col1\" class=\"data row10 col1\" >0.78</td>\n",
              "      <td id=\"T_96eaa_row10_col2\" class=\"data row10 col2\" >0.83</td>\n",
              "      <td id=\"T_96eaa_row10_col3\" class=\"data row10 col3\" >0.81</td>\n",
              "      <td id=\"T_96eaa_row10_col4\" class=\"data row10 col4\" >0.85</td>\n",
              "      <td id=\"T_96eaa_row10_col5\" class=\"data row10 col5\" >0.78</td>\n",
              "    </tr>\n",
              "    <tr>\n",
              "      <th id=\"T_96eaa_level0_row11\" class=\"row_heading level0 row11\" >11</th>\n",
              "      <td id=\"T_96eaa_row11_col0\" class=\"data row11 col0\" >0.75</td>\n",
              "      <td id=\"T_96eaa_row11_col1\" class=\"data row11 col1\" >0.79</td>\n",
              "      <td id=\"T_96eaa_row11_col2\" class=\"data row11 col2\" >0.83</td>\n",
              "      <td id=\"T_96eaa_row11_col3\" class=\"data row11 col3\" >0.81</td>\n",
              "      <td id=\"T_96eaa_row11_col4\" class=\"data row11 col4\" >0.85</td>\n",
              "      <td id=\"T_96eaa_row11_col5\" class=\"data row11 col5\" >0.78</td>\n",
              "    </tr>\n",
              "    <tr>\n",
              "      <th id=\"T_96eaa_level0_row12\" class=\"row_heading level0 row12\" >12</th>\n",
              "      <td id=\"T_96eaa_row12_col0\" class=\"data row12 col0\" >0.80</td>\n",
              "      <td id=\"T_96eaa_row12_col1\" class=\"data row12 col1\" >0.80</td>\n",
              "      <td id=\"T_96eaa_row12_col2\" class=\"data row12 col2\" >0.78</td>\n",
              "      <td id=\"T_96eaa_row12_col3\" class=\"data row12 col3\" >0.79</td>\n",
              "      <td id=\"T_96eaa_row12_col4\" class=\"data row12 col4\" >0.85</td>\n",
              "      <td id=\"T_96eaa_row12_col5\" class=\"data row12 col5\" >0.77</td>\n",
              "    </tr>\n",
              "  </tbody>\n",
              "</table>\n"
            ],
            "text/plain": [
              "<pandas.io.formats.style.Styler at 0x797ac2b8f850>"
            ]
          },
          "execution_count": 35,
          "metadata": {},
          "output_type": "execute_result"
        }
      ],
      "source": [
        "fancy_df"
      ]
    },
    {
      "cell_type": "code",
      "execution_count": null,
      "metadata": {
        "id": "EQkMs6-rmnkY"
      },
      "outputs": [],
      "source": [
        "joblib.dump(best_lgb, 'final_lgb_model.joblib')\n",
        "results_df.to_csv('final_lgb_thresholds.csv', index=False)"
      ]
    },
    {
      "cell_type": "markdown",
      "metadata": {
        "id": "eZFyuP1TjHih"
      },
      "source": [
        "# VIII. ANN tuning\n",
        "\n"
      ]
    },
    {
      "cell_type": "code",
      "execution_count": null,
      "metadata": {
        "colab": {
          "base_uri": "https://localhost:8080/"
        },
        "id": "qo-LXsWhV-YN",
        "outputId": "90170fa8-62c8-4c73-e599-2fc4ab252ecc"
      },
      "outputs": [
        {
          "name": "stdout",
          "output_type": "stream",
          "text": [
            "\u001b[?25l   \u001b[90m━━━━━━━━━━━━━━━━━━━━━━━━━━━━━━━━━━━━━━━━\u001b[0m \u001b[32m0.0/129.1 kB\u001b[0m \u001b[31m?\u001b[0m eta \u001b[36m-:--:--\u001b[0m\r\u001b[2K   \u001b[91m━━━━━━━━━━━━━━━━━━━━━━━━━━━━━━━━━━━━━━\u001b[0m\u001b[90m╺\u001b[0m\u001b[90m━\u001b[0m \u001b[32m122.9/129.1 kB\u001b[0m \u001b[31m4.2 MB/s\u001b[0m eta \u001b[36m0:00:01\u001b[0m\r\u001b[2K   \u001b[90m━━━━━━━━━━━━━━━━━━━━━━━━━━━━━━━━━━━━━━━━\u001b[0m \u001b[32m129.1/129.1 kB\u001b[0m \u001b[31m3.1 MB/s\u001b[0m eta \u001b[36m0:00:00\u001b[0m\n",
            "\u001b[?25h"
          ]
        }
      ],
      "source": [
        "!pip install keras-tuner -q\n",
        "import keras_tuner"
      ]
    },
    {
      "cell_type": "code",
      "execution_count": null,
      "metadata": {
        "id": "FpnZFnTOv2Mx"
      },
      "outputs": [],
      "source": [
        "from tensorflow.keras import Sequential\n",
        "from tensorflow.keras.layers import Dense, Activation, Dropout, Input\n",
        "import tensorflow as tf\n",
        "from tensorflow import keras"
      ]
    },
    {
      "cell_type": "code",
      "execution_count": null,
      "metadata": {
        "id": "9UH8coL34r2q"
      },
      "outputs": [],
      "source": [
        "tf.keras.utils.set_random_seed(1234)  #need this for replication\n",
        "tf.config.experimental.enable_op_determinism()  #ditto - https://www.tensorflow.org/api_docs/python/tf/config/experimental/enable_op_determinism\n",
        "tf.config.threading.set_inter_op_parallelism_threads(1)\n",
        "tf.config.threading.set_intra_op_parallelism_threads(1)"
      ]
    },
    {
      "cell_type": "code",
      "execution_count": null,
      "metadata": {
        "id": "_7GwTsJOTrQq"
      },
      "outputs": [],
      "source": [
        "import hashlib\n",
        "\n",
        "def string_to_seed(string):\n",
        "    # Create a hash of the string using SHA-256\n",
        "    hash_object = hashlib.sha256(string.encode())\n",
        "    # Convert first 8 bytes of hash to integer\n",
        "    hash_int = int.from_bytes(hash_object.digest()[:8], 'big')\n",
        "    return hash_int % (2**32 - 1)"
      ]
    },
    {
      "cell_type": "code",
      "execution_count": null,
      "metadata": {
        "id": "Rw8Xrev5vehN"
      },
      "outputs": [],
      "source": [
        "early_stop_cb = tf.keras.callbacks.EarlyStopping(\n",
        "    monitor='loss',\n",
        "    min_delta=0,\n",
        "    patience=10,\n",
        "    verbose=0\n",
        ")"
      ]
    },
    {
      "cell_type": "markdown",
      "metadata": {
        "id": "wE4_DJ-4Ab71"
      },
      "source": [
        "###Follow the steps"
      ]
    },
    {
      "cell_type": "code",
      "execution_count": 72,
      "metadata": {
        "id": "IhoTFZ8f_a_L"
      },
      "outputs": [],
      "source": [
        "def build_model(hp):\n",
        "    model = Sequential()\n",
        "\n",
        "    # Input layer\n",
        "    model.add(Input(shape=(x_train.shape[1],), name=\"input_layer\"))\n",
        "\n",
        "    l2_reg = hp.Float('l2_regularization', min_value=0.001, max_value=0.05, step=0.01)\n",
        "\n",
        "    num_layers = hp.Int(\"layers\", min_value=1, max_value=4, step=1)\n",
        "    for i in range(num_layers):\n",
        "        layer_name = f\"hidden_layer_{i+1}\"  # Start at 1, not 0\n",
        "\n",
        "        units = hp.Int(f\"hidden_units{i}\", min_value=8, max_value=64, step=8)\n",
        "\n",
        "        model.add(Dense(\n",
        "            name=layer_name + '_dense',\n",
        "            kernel_regularizer=tf.keras.regularizers.l2(l2_reg),\n",
        "            kernel_initializer=tf.keras.initializers.HeNormal(seed=string_to_seed(layer_name + '_dense')),\n",
        "            units=units,\n",
        "            activation='relu'\n",
        "        ))\n",
        "\n",
        "    # Output layer\n",
        "    model.add(Dense(units=1, activation='sigmoid'))\n",
        "\n",
        "    hp_learning_rate = hp.Choice('learning_rate', values=[1e-2, 1e-3, 1e-4])\n",
        "    optimizer_choice = hp.Choice('optimizer', values=['adam', 'rmsprop'])\n",
        "\n",
        "    smoothing_index = hp.Int(\"smoothing\", min_value=0, max_value=2)\n",
        "    smoothing_value = [0.0, 0.1, 0.2][smoothing_index]  # 0.0 = no smoothing, 0.1, 0.2 = smoothing\n",
        "\n",
        "    if optimizer_choice == 'adam':\n",
        "        optimizer = keras.optimizers.Adam(learning_rate=hp_learning_rate)\n",
        "    else:\n",
        "        optimizer = keras.optimizers.RMSprop(learning_rate=hp_learning_rate)\n",
        "\n",
        "    model.compile(\n",
        "        optimizer=optimizer,\n",
        "        loss=tf.keras.losses.BinaryCrossentropy(label_smoothing=smoothing_value),\n",
        "        metrics=['auc', 'accuracy']\n",
        "    )\n",
        "    return model"
      ]
    },
    {
      "cell_type": "code",
      "execution_count": 73,
      "metadata": {
        "id": "SB1rVJQKKYD5"
      },
      "outputs": [],
      "source": [
        "x_train_ann, x_val_ann, y_train_ann, y_val_ann = train_test_split(\n",
        "    x_train, y_train, test_size=0.2, random_state=rs\n",
        ")"
      ]
    },
    {
      "cell_type": "code",
      "execution_count": null,
      "metadata": {
        "colab": {
          "base_uri": "https://localhost:8080/"
        },
        "id": "hYhDxPIOKaZT",
        "outputId": "c6be504c-14a7-4cba-ce7b-156e2653da90"
      },
      "outputs": [
        {
          "name": "stdout",
          "output_type": "stream",
          "text": [
            "Trial 8 Complete [00h 00m 42s]\n",
            "val_accuracy: 0.8766666650772095\n",
            "\n",
            "Best val_accuracy So Far: 0.8966666460037231\n",
            "Total elapsed time: 00h 06m 36s\n",
            "\n",
            "Search: Running Trial #9\n",
            "\n",
            "Value             |Best Value So Far |Hyperparameter\n",
            "0.011             |0.001             |l2_regularization\n",
            "2                 |1                 |layers\n",
            "16                |48                |hidden_units0\n",
            "0.0001            |0.001             |learning_rate\n",
            "rmsprop           |adam              |optimizer\n",
            "1                 |0                 |smoothing\n",
            "32                |56                |hidden_units1\n",
            "64                |8                 |hidden_units2\n",
            "16                |48                |hidden_units3\n",
            "\n",
            "Epoch 1/100\n",
            "\u001b[1m75/75\u001b[0m \u001b[32m━━━━━━━━━━━━━━━━━━━━\u001b[0m\u001b[37m\u001b[0m \u001b[1m3s\u001b[0m 11ms/step - accuracy: 0.4671 - auc: 0.4492 - loss: 2.1329 - val_accuracy: 0.4167 - val_auc: 0.4879 - val_loss: 2.0767\n",
            "Epoch 2/100\n",
            "\u001b[1m75/75\u001b[0m \u001b[32m━━━━━━━━━━━━━━━━━━━━\u001b[0m\u001b[37m\u001b[0m \u001b[1m0s\u001b[0m 4ms/step - accuracy: 0.4671 - auc: 0.4596 - loss: 2.0107 - val_accuracy: 0.4167 - val_auc: 0.4988 - val_loss: 1.9647\n",
            "Epoch 3/100\n",
            "\u001b[1m75/75\u001b[0m \u001b[32m━━━━━━━━━━━━━━━━━━━━\u001b[0m\u001b[37m\u001b[0m \u001b[1m0s\u001b[0m 4ms/step - accuracy: 0.4671 - auc: 0.4723 - loss: 1.9087 - val_accuracy: 0.4167 - val_auc: 0.5109 - val_loss: 1.8679\n",
            "Epoch 4/100\n",
            "\u001b[1m75/75\u001b[0m \u001b[32m━━━━━━━━━━━━━━━━━━━━\u001b[0m\u001b[37m\u001b[0m \u001b[1m0s\u001b[0m 5ms/step - accuracy: 0.4671 - auc: 0.4870 - loss: 1.8206 - val_accuracy: 0.4167 - val_auc: 0.5247 - val_loss: 1.7843\n",
            "Epoch 5/100\n",
            "\u001b[1m75/75\u001b[0m \u001b[32m━━━━━━━━━━━━━━━━━━━━\u001b[0m\u001b[37m\u001b[0m \u001b[1m1s\u001b[0m 4ms/step - accuracy: 0.4683 - auc: 0.5059 - loss: 1.7444 - val_accuracy: 0.4233 - val_auc: 0.5449 - val_loss: 1.7116\n",
            "Epoch 6/100\n",
            "\u001b[1m75/75\u001b[0m \u001b[32m━━━━━━━━━━━━━━━━━━━━\u001b[0m\u001b[37m\u001b[0m \u001b[1m1s\u001b[0m 4ms/step - accuracy: 0.4773 - auc: 0.5284 - loss: 1.6784 - val_accuracy: 0.4467 - val_auc: 0.5714 - val_loss: 1.6482\n",
            "Epoch 7/100\n",
            "\u001b[1m75/75\u001b[0m \u001b[32m━━━━━━━━━━━━━━━━━━━━\u001b[0m\u001b[37m\u001b[0m \u001b[1m0s\u001b[0m 4ms/step - accuracy: 0.4965 - auc: 0.5591 - loss: 1.6208 - val_accuracy: 0.4983 - val_auc: 0.6043 - val_loss: 1.5929\n",
            "Epoch 8/100\n",
            "\u001b[1m75/75\u001b[0m \u001b[32m━━━━━━━━━━━━━━━━━━━━\u001b[0m\u001b[37m\u001b[0m \u001b[1m0s\u001b[0m 4ms/step - accuracy: 0.5207 - auc: 0.5961 - loss: 1.5699 - val_accuracy: 0.5250 - val_auc: 0.6429 - val_loss: 1.5441\n",
            "Epoch 9/100\n",
            "\u001b[1m75/75\u001b[0m \u001b[32m━━━━━━━━━━━━━━━━━━━━\u001b[0m\u001b[37m\u001b[0m \u001b[1m0s\u001b[0m 4ms/step - accuracy: 0.5482 - auc: 0.6417 - loss: 1.5248 - val_accuracy: 0.5850 - val_auc: 0.6846 - val_loss: 1.5005\n",
            "Epoch 10/100\n",
            "\u001b[1m75/75\u001b[0m \u001b[32m━━━━━━━━━━━━━━━━━━━━\u001b[0m\u001b[37m\u001b[0m \u001b[1m1s\u001b[0m 4ms/step - accuracy: 0.6089 - auc: 0.6868 - loss: 1.4844 - val_accuracy: 0.6667 - val_auc: 0.7240 - val_loss: 1.4614\n",
            "Epoch 11/100\n",
            "\u001b[1m75/75\u001b[0m \u001b[32m━━━━━━━━━━━━━━━━━━━━\u001b[0m\u001b[37m\u001b[0m \u001b[1m0s\u001b[0m 4ms/step - accuracy: 0.6749 - auc: 0.7283 - loss: 1.4478 - val_accuracy: 0.6917 - val_auc: 0.7615 - val_loss: 1.4258\n",
            "Epoch 12/100\n",
            "\u001b[1m75/75\u001b[0m \u001b[32m━━━━━━━━━━━━━━━━━━━━\u001b[0m\u001b[37m\u001b[0m \u001b[1m0s\u001b[0m 4ms/step - accuracy: 0.6999 - auc: 0.7655 - loss: 1.4143 - val_accuracy: 0.7267 - val_auc: 0.7929 - val_loss: 1.3930\n",
            "Epoch 13/100\n",
            "\u001b[1m75/75\u001b[0m \u001b[32m━━━━━━━━━━━━━━━━━━━━\u001b[0m\u001b[37m\u001b[0m \u001b[1m0s\u001b[0m 4ms/step - accuracy: 0.7226 - auc: 0.7957 - loss: 1.3829 - val_accuracy: 0.7467 - val_auc: 0.8175 - val_loss: 1.3623\n",
            "Epoch 14/100\n",
            "\u001b[1m75/75\u001b[0m \u001b[32m━━━━━━━━━━━━━━━━━━━━\u001b[0m\u001b[37m\u001b[0m \u001b[1m1s\u001b[0m 4ms/step - accuracy: 0.7356 - auc: 0.8178 - loss: 1.3531 - val_accuracy: 0.7600 - val_auc: 0.8376 - val_loss: 1.3332\n",
            "Epoch 15/100\n",
            "\u001b[1m75/75\u001b[0m \u001b[32m━━━━━━━━━━━━━━━━━━━━\u001b[0m\u001b[37m\u001b[0m \u001b[1m0s\u001b[0m 4ms/step - accuracy: 0.7496 - auc: 0.8339 - loss: 1.3246 - val_accuracy: 0.7600 - val_auc: 0.8500 - val_loss: 1.3054\n",
            "Epoch 16/100\n",
            "\u001b[1m75/75\u001b[0m \u001b[32m━━━━━━━━━━━━━━━━━━━━\u001b[0m\u001b[37m\u001b[0m \u001b[1m1s\u001b[0m 4ms/step - accuracy: 0.7525 - auc: 0.8454 - loss: 1.2972 - val_accuracy: 0.7633 - val_auc: 0.8584 - val_loss: 1.2789\n",
            "Epoch 17/100\n",
            "\u001b[1m75/75\u001b[0m \u001b[32m━━━━━━━━━━━━━━━━━━━━\u001b[0m\u001b[37m\u001b[0m \u001b[1m0s\u001b[0m 4ms/step - accuracy: 0.7565 - auc: 0.8538 - loss: 1.2709 - val_accuracy: 0.7617 - val_auc: 0.8653 - val_loss: 1.2535\n",
            "Epoch 18/100\n",
            "\u001b[1m75/75\u001b[0m \u001b[32m━━━━━━━━━━━━━━━━━━━━\u001b[0m\u001b[37m\u001b[0m \u001b[1m0s\u001b[0m 4ms/step - accuracy: 0.7573 - auc: 0.8608 - loss: 1.2455 - val_accuracy: 0.7650 - val_auc: 0.8695 - val_loss: 1.2291\n",
            "Epoch 19/100\n",
            "\u001b[1m75/75\u001b[0m \u001b[32m━━━━━━━━━━━━━━━━━━━━\u001b[0m\u001b[37m\u001b[0m \u001b[1m1s\u001b[0m 4ms/step - accuracy: 0.7613 - auc: 0.8659 - loss: 1.2211 - val_accuracy: 0.7767 - val_auc: 0.8724 - val_loss: 1.2056\n",
            "Epoch 20/100\n",
            "\u001b[1m75/75\u001b[0m \u001b[32m━━━━━━━━━━━━━━━━━━━━\u001b[0m\u001b[37m\u001b[0m \u001b[1m1s\u001b[0m 4ms/step - accuracy: 0.7704 - auc: 0.8697 - loss: 1.1975 - val_accuracy: 0.7767 - val_auc: 0.8752 - val_loss: 1.1829\n",
            "Epoch 21/100\n",
            "\u001b[1m75/75\u001b[0m \u001b[32m━━━━━━━━━━━━━━━━━━━━\u001b[0m\u001b[37m\u001b[0m \u001b[1m0s\u001b[0m 4ms/step - accuracy: 0.7737 - auc: 0.8727 - loss: 1.1748 - val_accuracy: 0.7750 - val_auc: 0.8765 - val_loss: 1.1609\n",
            "Epoch 22/100\n",
            "\u001b[1m75/75\u001b[0m \u001b[32m━━━━━━━━━━━━━━━━━━━━\u001b[0m\u001b[37m\u001b[0m \u001b[1m0s\u001b[0m 4ms/step - accuracy: 0.7742 - auc: 0.8751 - loss: 1.1529 - val_accuracy: 0.7750 - val_auc: 0.8787 - val_loss: 1.1396\n",
            "Epoch 23/100\n",
            "\u001b[1m75/75\u001b[0m \u001b[32m━━━━━━━━━━━━━━━━━━━━\u001b[0m\u001b[37m\u001b[0m \u001b[1m0s\u001b[0m 4ms/step - accuracy: 0.7738 - auc: 0.8764 - loss: 1.1318 - val_accuracy: 0.7767 - val_auc: 0.8806 - val_loss: 1.1192\n",
            "Epoch 24/100\n",
            "\u001b[1m75/75\u001b[0m \u001b[32m━━━━━━━━━━━━━━━━━━━━\u001b[0m\u001b[37m\u001b[0m \u001b[1m1s\u001b[0m 6ms/step - accuracy: 0.7744 - auc: 0.8785 - loss: 1.1114 - val_accuracy: 0.7783 - val_auc: 0.8815 - val_loss: 1.0995\n",
            "Epoch 25/100\n",
            "\u001b[1m75/75\u001b[0m \u001b[32m━━━━━━━━━━━━━━━━━━━━\u001b[0m\u001b[37m\u001b[0m \u001b[1m1s\u001b[0m 6ms/step - accuracy: 0.7785 - auc: 0.8794 - loss: 1.0918 - val_accuracy: 0.7783 - val_auc: 0.8825 - val_loss: 1.0804\n",
            "Epoch 26/100\n",
            "\u001b[1m75/75\u001b[0m \u001b[32m━━━━━━━━━━━━━━━━━━━━\u001b[0m\u001b[37m\u001b[0m \u001b[1m1s\u001b[0m 6ms/step - accuracy: 0.7781 - auc: 0.8808 - loss: 1.0729 - val_accuracy: 0.7817 - val_auc: 0.8835 - val_loss: 1.0621\n",
            "Epoch 27/100\n",
            "\u001b[1m75/75\u001b[0m \u001b[32m━━━━━━━━━━━━━━━━━━━━\u001b[0m\u001b[37m\u001b[0m \u001b[1m1s\u001b[0m 6ms/step - accuracy: 0.7796 - auc: 0.8816 - loss: 1.0547 - val_accuracy: 0.7850 - val_auc: 0.8842 - val_loss: 1.0445\n",
            "Epoch 28/100\n",
            "\u001b[1m75/75\u001b[0m \u001b[32m━━━━━━━━━━━━━━━━━━━━\u001b[0m\u001b[37m\u001b[0m \u001b[1m0s\u001b[0m 4ms/step - accuracy: 0.7805 - auc: 0.8824 - loss: 1.0372 - val_accuracy: 0.7900 - val_auc: 0.8845 - val_loss: 1.0275\n",
            "Epoch 29/100\n",
            "\u001b[1m75/75\u001b[0m \u001b[32m━━━━━━━━━━━━━━━━━━━━\u001b[0m\u001b[37m\u001b[0m \u001b[1m1s\u001b[0m 4ms/step - accuracy: 0.7821 - auc: 0.8831 - loss: 1.0204 - val_accuracy: 0.7933 - val_auc: 0.8849 - val_loss: 1.0111\n",
            "Epoch 30/100\n",
            "\u001b[1m75/75\u001b[0m \u001b[32m━━━━━━━━━━━━━━━━━━━━\u001b[0m\u001b[37m\u001b[0m \u001b[1m1s\u001b[0m 4ms/step - accuracy: 0.7847 - auc: 0.8840 - loss: 1.0041 - val_accuracy: 0.7967 - val_auc: 0.8857 - val_loss: 0.9953\n",
            "Epoch 31/100\n",
            "\u001b[1m75/75\u001b[0m \u001b[32m━━━━━━━━━━━━━━━━━━━━\u001b[0m\u001b[37m\u001b[0m \u001b[1m1s\u001b[0m 4ms/step - accuracy: 0.7865 - auc: 0.8846 - loss: 0.9883 - val_accuracy: 0.7967 - val_auc: 0.8864 - val_loss: 0.9801\n",
            "Epoch 32/100\n",
            "\u001b[1m75/75\u001b[0m \u001b[32m━━━━━━━━━━━━━━━━━━━━\u001b[0m\u001b[37m\u001b[0m \u001b[1m0s\u001b[0m 4ms/step - accuracy: 0.7897 - auc: 0.8853 - loss: 0.9731 - val_accuracy: 0.7983 - val_auc: 0.8867 - val_loss: 0.9653\n",
            "Epoch 33/100\n",
            "\u001b[1m75/75\u001b[0m \u001b[32m━━━━━━━━━━━━━━━━━━━━\u001b[0m\u001b[37m\u001b[0m \u001b[1m0s\u001b[0m 4ms/step - accuracy: 0.7934 - auc: 0.8861 - loss: 0.9584 - val_accuracy: 0.7967 - val_auc: 0.8874 - val_loss: 0.9510\n",
            "Epoch 34/100\n",
            "\u001b[1m75/75\u001b[0m \u001b[32m━━━━━━━━━━━━━━━━━━━━\u001b[0m\u001b[37m\u001b[0m \u001b[1m0s\u001b[0m 4ms/step - accuracy: 0.7971 - auc: 0.8869 - loss: 0.9442 - val_accuracy: 0.7983 - val_auc: 0.8883 - val_loss: 0.9372\n",
            "Epoch 35/100\n",
            "\u001b[1m75/75\u001b[0m \u001b[32m━━━━━━━━━━━━━━━━━━━━\u001b[0m\u001b[37m\u001b[0m \u001b[1m0s\u001b[0m 4ms/step - accuracy: 0.7988 - auc: 0.8876 - loss: 0.9304 - val_accuracy: 0.8000 - val_auc: 0.8887 - val_loss: 0.9238\n",
            "Epoch 36/100\n",
            "\u001b[1m75/75\u001b[0m \u001b[32m━━━━━━━━━━━━━━━━━━━━\u001b[0m\u001b[37m\u001b[0m \u001b[1m0s\u001b[0m 4ms/step - accuracy: 0.8007 - auc: 0.8882 - loss: 0.9171 - val_accuracy: 0.8000 - val_auc: 0.8892 - val_loss: 0.9109\n",
            "Epoch 37/100\n",
            "\u001b[1m75/75\u001b[0m \u001b[32m━━━━━━━━━━━━━━━━━━━━\u001b[0m\u001b[37m\u001b[0m \u001b[1m1s\u001b[0m 4ms/step - accuracy: 0.8020 - auc: 0.8889 - loss: 0.9042 - val_accuracy: 0.8017 - val_auc: 0.8900 - val_loss: 0.8983\n",
            "Epoch 38/100\n",
            "\u001b[1m75/75\u001b[0m \u001b[32m━━━━━━━━━━━━━━━━━━━━\u001b[0m\u001b[37m\u001b[0m \u001b[1m0s\u001b[0m 4ms/step - accuracy: 0.8056 - auc: 0.8897 - loss: 0.8917 - val_accuracy: 0.8033 - val_auc: 0.8905 - val_loss: 0.8861\n",
            "Epoch 39/100\n",
            "\u001b[1m75/75\u001b[0m \u001b[32m━━━━━━━━━━━━━━━━━━━━\u001b[0m\u001b[37m\u001b[0m \u001b[1m0s\u001b[0m 4ms/step - accuracy: 0.8097 - auc: 0.8904 - loss: 0.8796 - val_accuracy: 0.8083 - val_auc: 0.8911 - val_loss: 0.8742\n",
            "Epoch 40/100\n",
            "\u001b[1m75/75\u001b[0m \u001b[32m━━━━━━━━━━━━━━━━━━━━\u001b[0m\u001b[37m\u001b[0m \u001b[1m1s\u001b[0m 4ms/step - accuracy: 0.8117 - auc: 0.8908 - loss: 0.8679 - val_accuracy: 0.8083 - val_auc: 0.8919 - val_loss: 0.8628\n",
            "Epoch 41/100\n",
            "\u001b[1m75/75\u001b[0m \u001b[32m━━━━━━━━━━━━━━━━━━━━\u001b[0m\u001b[37m\u001b[0m \u001b[1m0s\u001b[0m 4ms/step - accuracy: 0.8167 - auc: 0.8916 - loss: 0.8565 - val_accuracy: 0.8067 - val_auc: 0.8922 - val_loss: 0.8516\n",
            "Epoch 42/100\n",
            "\u001b[1m75/75\u001b[0m \u001b[32m━━━━━━━━━━━━━━━━━━━━\u001b[0m\u001b[37m\u001b[0m \u001b[1m0s\u001b[0m 4ms/step - accuracy: 0.8196 - auc: 0.8920 - loss: 0.8454 - val_accuracy: 0.8067 - val_auc: 0.8927 - val_loss: 0.8408\n",
            "Epoch 43/100\n",
            "\u001b[1m75/75\u001b[0m \u001b[32m━━━━━━━━━━━━━━━━━━━━\u001b[0m\u001b[37m\u001b[0m \u001b[1m0s\u001b[0m 4ms/step - accuracy: 0.8209 - auc: 0.8926 - loss: 0.8347 - val_accuracy: 0.8117 - val_auc: 0.8932 - val_loss: 0.8304\n",
            "Epoch 44/100\n",
            "\u001b[1m75/75\u001b[0m \u001b[32m━━━━━━━━━━━━━━━━━━━━\u001b[0m\u001b[37m\u001b[0m \u001b[1m0s\u001b[0m 4ms/step - accuracy: 0.8230 - auc: 0.8935 - loss: 0.8243 - val_accuracy: 0.8133 - val_auc: 0.8936 - val_loss: 0.8203\n",
            "Epoch 45/100\n",
            "\u001b[1m75/75\u001b[0m \u001b[32m━━━━━━━━━━━━━━━━━━━━\u001b[0m\u001b[37m\u001b[0m \u001b[1m0s\u001b[0m 4ms/step - accuracy: 0.8249 - auc: 0.8939 - loss: 0.8142 - val_accuracy: 0.8167 - val_auc: 0.8943 - val_loss: 0.8105\n",
            "Epoch 46/100\n",
            "\u001b[1m75/75\u001b[0m \u001b[32m━━━━━━━━━━━━━━━━━━━━\u001b[0m\u001b[37m\u001b[0m \u001b[1m0s\u001b[0m 4ms/step - accuracy: 0.8277 - auc: 0.8946 - loss: 0.8045 - val_accuracy: 0.8217 - val_auc: 0.8943 - val_loss: 0.8010\n",
            "Epoch 47/100\n",
            "\u001b[1m75/75\u001b[0m \u001b[32m━━━━━━━━━━━━━━━━━━━━\u001b[0m\u001b[37m\u001b[0m \u001b[1m1s\u001b[0m 4ms/step - accuracy: 0.8290 - auc: 0.8952 - loss: 0.7951 - val_accuracy: 0.8250 - val_auc: 0.8949 - val_loss: 0.7918\n",
            "Epoch 48/100\n",
            "\u001b[1m75/75\u001b[0m \u001b[32m━━━━━━━━━━━━━━━━━━━━\u001b[0m\u001b[37m\u001b[0m \u001b[1m0s\u001b[0m 4ms/step - accuracy: 0.8311 - auc: 0.8958 - loss: 0.7859 - val_accuracy: 0.8283 - val_auc: 0.8952 - val_loss: 0.7830\n",
            "Epoch 49/100\n",
            "\u001b[1m75/75\u001b[0m \u001b[32m━━━━━━━━━━━━━━━━━━━━\u001b[0m\u001b[37m\u001b[0m \u001b[1m0s\u001b[0m 4ms/step - accuracy: 0.8321 - auc: 0.8964 - loss: 0.7771 - val_accuracy: 0.8283 - val_auc: 0.8957 - val_loss: 0.7744\n",
            "Epoch 50/100\n",
            "\u001b[1m75/75\u001b[0m \u001b[32m━━━━━━━━━━━━━━━━━━━━\u001b[0m\u001b[37m\u001b[0m \u001b[1m1s\u001b[0m 4ms/step - accuracy: 0.8332 - auc: 0.8971 - loss: 0.7685 - val_accuracy: 0.8250 - val_auc: 0.8959 - val_loss: 0.7661\n",
            "Epoch 51/100\n",
            "\u001b[1m75/75\u001b[0m \u001b[32m━━━━━━━━━━━━━━━━━━━━\u001b[0m\u001b[37m\u001b[0m \u001b[1m1s\u001b[0m 5ms/step - accuracy: 0.8357 - auc: 0.8973 - loss: 0.7602 - val_accuracy: 0.8283 - val_auc: 0.8961 - val_loss: 0.7580\n",
            "Epoch 52/100\n",
            "\u001b[1m75/75\u001b[0m \u001b[32m━━━━━━━━━━━━━━━━━━━━\u001b[0m\u001b[37m\u001b[0m \u001b[1m1s\u001b[0m 6ms/step - accuracy: 0.8368 - auc: 0.8977 - loss: 0.7521 - val_accuracy: 0.8317 - val_auc: 0.8966 - val_loss: 0.7502\n",
            "Epoch 53/100\n",
            "\u001b[1m75/75\u001b[0m \u001b[32m━━━━━━━━━━━━━━━━━━━━\u001b[0m\u001b[37m\u001b[0m \u001b[1m1s\u001b[0m 6ms/step - accuracy: 0.8367 - auc: 0.8985 - loss: 0.7443 - val_accuracy: 0.8333 - val_auc: 0.8966 - val_loss: 0.7426\n",
            "Epoch 54/100\n",
            "\u001b[1m75/75\u001b[0m \u001b[32m━━━━━━━━━━━━━━━━━━━━\u001b[0m\u001b[37m\u001b[0m \u001b[1m1s\u001b[0m 5ms/step - accuracy: 0.8374 - auc: 0.8987 - loss: 0.7368 - val_accuracy: 0.8333 - val_auc: 0.8974 - val_loss: 0.7353\n",
            "Epoch 55/100\n",
            "\u001b[1m75/75\u001b[0m \u001b[32m━━━━━━━━━━━━━━━━━━━━\u001b[0m\u001b[37m\u001b[0m \u001b[1m1s\u001b[0m 4ms/step - accuracy: 0.8379 - auc: 0.8991 - loss: 0.7295 - val_accuracy: 0.8350 - val_auc: 0.8974 - val_loss: 0.7282\n",
            "Epoch 56/100\n",
            "\u001b[1m75/75\u001b[0m \u001b[32m━━━━━━━━━━━━━━━━━━━━\u001b[0m\u001b[37m\u001b[0m \u001b[1m0s\u001b[0m 4ms/step - accuracy: 0.8385 - auc: 0.8996 - loss: 0.7224 - val_accuracy: 0.8383 - val_auc: 0.8975 - val_loss: 0.7213\n",
            "Epoch 57/100\n",
            "\u001b[1m75/75\u001b[0m \u001b[32m━━━━━━━━━━━━━━━━━━━━\u001b[0m\u001b[37m\u001b[0m \u001b[1m0s\u001b[0m 4ms/step - accuracy: 0.8406 - auc: 0.9000 - loss: 0.7156 - val_accuracy: 0.8383 - val_auc: 0.8980 - val_loss: 0.7147\n",
            "Epoch 58/100\n",
            "\u001b[1m75/75\u001b[0m \u001b[32m━━━━━━━━━━━━━━━━━━━━\u001b[0m\u001b[37m\u001b[0m \u001b[1m0s\u001b[0m 4ms/step - accuracy: 0.8413 - auc: 0.9005 - loss: 0.7090 - val_accuracy: 0.8400 - val_auc: 0.8983 - val_loss: 0.7083\n",
            "Epoch 59/100\n",
            "\u001b[1m75/75\u001b[0m \u001b[32m━━━━━━━━━━━━━━━━━━━━\u001b[0m\u001b[37m\u001b[0m \u001b[1m0s\u001b[0m 4ms/step - accuracy: 0.8443 - auc: 0.9011 - loss: 0.7026 - val_accuracy: 0.8417 - val_auc: 0.8987 - val_loss: 0.7021\n",
            "Epoch 60/100\n",
            "\u001b[1m75/75\u001b[0m \u001b[32m━━━━━━━━━━━━━━━━━━━━\u001b[0m\u001b[37m\u001b[0m \u001b[1m1s\u001b[0m 3ms/step - accuracy: 0.8460 - auc: 0.9012 - loss: 0.6964 - val_accuracy: 0.8417 - val_auc: 0.8989 - val_loss: 0.6962\n",
            "Epoch 61/100\n",
            "\u001b[1m75/75\u001b[0m \u001b[32m━━━━━━━━━━━━━━━━━━━━\u001b[0m\u001b[37m\u001b[0m \u001b[1m0s\u001b[0m 4ms/step - accuracy: 0.8471 - auc: 0.9014 - loss: 0.6904 - val_accuracy: 0.8400 - val_auc: 0.8994 - val_loss: 0.6904\n",
            "Epoch 62/100\n",
            "\u001b[1m75/75\u001b[0m \u001b[32m━━━━━━━━━━━━━━━━━━━━\u001b[0m\u001b[37m\u001b[0m \u001b[1m0s\u001b[0m 4ms/step - accuracy: 0.8471 - auc: 0.9019 - loss: 0.6846 - val_accuracy: 0.8433 - val_auc: 0.8991 - val_loss: 0.6848\n",
            "Epoch 63/100\n",
            "\u001b[1m75/75\u001b[0m \u001b[32m━━━━━━━━━━━━━━━━━━━━\u001b[0m\u001b[37m\u001b[0m \u001b[1m1s\u001b[0m 4ms/step - accuracy: 0.8491 - auc: 0.9022 - loss: 0.6790 - val_accuracy: 0.8450 - val_auc: 0.8994 - val_loss: 0.6794\n",
            "Epoch 64/100\n"
          ]
        }
      ],
      "source": [
        "# Set up tuner\n",
        "tuner = keras_tuner.RandomSearch(\n",
        "    build_model,\n",
        "    objective='val_accuracy',\n",
        "    max_trials=20,\n",
        "    executions_per_trial=1,\n",
        "    directory='ann_tuning',\n",
        "    overwrite=True,\n",
        "    seed=1234\n",
        ")\n",
        "\n",
        "print(\"Starting hyperparameter search...\")\n",
        "tuner.search(\n",
        "    x_train_ann, y_train_ann,\n",
        "    epochs=100,\n",
        "    validation_data=(x_val_ann, y_val_ann),\n",
        "    callbacks=[early_stop_cb],\n",
        "    verbose=1\n",
        ")\n"
      ]
    },
    {
      "cell_type": "code",
      "execution_count": null,
      "metadata": {
        "colab": {
          "base_uri": "https://localhost:8080/"
        },
        "id": "oim942uQtni9",
        "outputId": "b284a0e6-2e55-45ab-ef05-f07d2264a776"
      },
      "outputs": [
        {
          "data": {
            "text/plain": [
              "{'l2_regularization': 0.001,\n",
              " 'layer1_units': 40,\n",
              " 'layer2_units': 32,\n",
              " 'layer3_units': 8,\n",
              " 'learning_rate': 0.001,\n",
              " 'optimizer': 'adam',\n",
              " 'smoothing': 1}"
            ]
          },
          "execution_count": 45,
          "metadata": {},
          "output_type": "execute_result"
        }
      ],
      "source": [
        "# Get Best Hyperparameters\n",
        "best_hp = tuner.get_best_hyperparameters()[0]\n",
        "best_hp.values"
      ]
    },
    {
      "cell_type": "code",
      "execution_count": null,
      "metadata": {
        "colab": {
          "base_uri": "https://localhost:8080/",
          "height": 272
        },
        "id": "LfGr2NXUKd3p",
        "outputId": "bc80edcc-98b3-45a5-bb5b-1d14b96e294a"
      },
      "outputs": [
        {
          "data": {
            "text/html": [
              "<pre style=\"white-space:pre;overflow-x:auto;line-height:normal;font-family:Menlo,'DejaVu Sans Mono',consolas,'Courier New',monospace\"><span style=\"font-weight: bold\">Model: \"sequential_2\"</span>\n",
              "</pre>\n"
            ],
            "text/plain": [
              "\u001b[1mModel: \"sequential_2\"\u001b[0m\n"
            ]
          },
          "metadata": {},
          "output_type": "display_data"
        },
        {
          "data": {
            "text/html": [
              "<pre style=\"white-space:pre;overflow-x:auto;line-height:normal;font-family:Menlo,'DejaVu Sans Mono',consolas,'Courier New',monospace\">┏━━━━━━━━━━━━━━━━━━━━━━━━━━━━━━━━━┳━━━━━━━━━━━━━━━━━━━━━━━━┳━━━━━━━━━━━━━━━┓\n",
              "┃<span style=\"font-weight: bold\"> Layer (type)                    </span>┃<span style=\"font-weight: bold\"> Output Shape           </span>┃<span style=\"font-weight: bold\">       Param # </span>┃\n",
              "┡━━━━━━━━━━━━━━━━━━━━━━━━━━━━━━━━━╇━━━━━━━━━━━━━━━━━━━━━━━━╇━━━━━━━━━━━━━━━┩\n",
              "│ hidden_layer_1_dense (<span style=\"color: #0087ff; text-decoration-color: #0087ff\">Dense</span>)    │ (<span style=\"color: #00d7ff; text-decoration-color: #00d7ff\">None</span>, <span style=\"color: #00af00; text-decoration-color: #00af00\">40</span>)             │           <span style=\"color: #00af00; text-decoration-color: #00af00\">320</span> │\n",
              "├─────────────────────────────────┼────────────────────────┼───────────────┤\n",
              "│ hidden_layer_2_dense (<span style=\"color: #0087ff; text-decoration-color: #0087ff\">Dense</span>)    │ (<span style=\"color: #00d7ff; text-decoration-color: #00d7ff\">None</span>, <span style=\"color: #00af00; text-decoration-color: #00af00\">32</span>)             │         <span style=\"color: #00af00; text-decoration-color: #00af00\">1,312</span> │\n",
              "├─────────────────────────────────┼────────────────────────┼───────────────┤\n",
              "│ hidden_layer_3_dense (<span style=\"color: #0087ff; text-decoration-color: #0087ff\">Dense</span>)    │ (<span style=\"color: #00d7ff; text-decoration-color: #00d7ff\">None</span>, <span style=\"color: #00af00; text-decoration-color: #00af00\">8</span>)              │           <span style=\"color: #00af00; text-decoration-color: #00af00\">264</span> │\n",
              "├─────────────────────────────────┼────────────────────────┼───────────────┤\n",
              "│ dense_2 (<span style=\"color: #0087ff; text-decoration-color: #0087ff\">Dense</span>)                 │ (<span style=\"color: #00d7ff; text-decoration-color: #00d7ff\">None</span>, <span style=\"color: #00af00; text-decoration-color: #00af00\">1</span>)              │             <span style=\"color: #00af00; text-decoration-color: #00af00\">9</span> │\n",
              "└─────────────────────────────────┴────────────────────────┴───────────────┘\n",
              "</pre>\n"
            ],
            "text/plain": [
              "┏━━━━━━━━━━━━━━━━━━━━━━━━━━━━━━━━━┳━━━━━━━━━━━━━━━━━━━━━━━━┳━━━━━━━━━━━━━━━┓\n",
              "┃\u001b[1m \u001b[0m\u001b[1mLayer (type)                   \u001b[0m\u001b[1m \u001b[0m┃\u001b[1m \u001b[0m\u001b[1mOutput Shape          \u001b[0m\u001b[1m \u001b[0m┃\u001b[1m \u001b[0m\u001b[1m      Param #\u001b[0m\u001b[1m \u001b[0m┃\n",
              "┡━━━━━━━━━━━━━━━━━━━━━━━━━━━━━━━━━╇━━━━━━━━━━━━━━━━━━━━━━━━╇━━━━━━━━━━━━━━━┩\n",
              "│ hidden_layer_1_dense (\u001b[38;5;33mDense\u001b[0m)    │ (\u001b[38;5;45mNone\u001b[0m, \u001b[38;5;34m40\u001b[0m)             │           \u001b[38;5;34m320\u001b[0m │\n",
              "├─────────────────────────────────┼────────────────────────┼───────────────┤\n",
              "│ hidden_layer_2_dense (\u001b[38;5;33mDense\u001b[0m)    │ (\u001b[38;5;45mNone\u001b[0m, \u001b[38;5;34m32\u001b[0m)             │         \u001b[38;5;34m1,312\u001b[0m │\n",
              "├─────────────────────────────────┼────────────────────────┼───────────────┤\n",
              "│ hidden_layer_3_dense (\u001b[38;5;33mDense\u001b[0m)    │ (\u001b[38;5;45mNone\u001b[0m, \u001b[38;5;34m8\u001b[0m)              │           \u001b[38;5;34m264\u001b[0m │\n",
              "├─────────────────────────────────┼────────────────────────┼───────────────┤\n",
              "│ dense_2 (\u001b[38;5;33mDense\u001b[0m)                 │ (\u001b[38;5;45mNone\u001b[0m, \u001b[38;5;34m1\u001b[0m)              │             \u001b[38;5;34m9\u001b[0m │\n",
              "└─────────────────────────────────┴────────────────────────┴───────────────┘\n"
            ]
          },
          "metadata": {},
          "output_type": "display_data"
        },
        {
          "data": {
            "text/html": [
              "<pre style=\"white-space:pre;overflow-x:auto;line-height:normal;font-family:Menlo,'DejaVu Sans Mono',consolas,'Courier New',monospace\"><span style=\"font-weight: bold\"> Total params: </span><span style=\"color: #00af00; text-decoration-color: #00af00\">1,905</span> (7.44 KB)\n",
              "</pre>\n"
            ],
            "text/plain": [
              "\u001b[1m Total params: \u001b[0m\u001b[38;5;34m1,905\u001b[0m (7.44 KB)\n"
            ]
          },
          "metadata": {},
          "output_type": "display_data"
        },
        {
          "data": {
            "text/html": [
              "<pre style=\"white-space:pre;overflow-x:auto;line-height:normal;font-family:Menlo,'DejaVu Sans Mono',consolas,'Courier New',monospace\"><span style=\"font-weight: bold\"> Trainable params: </span><span style=\"color: #00af00; text-decoration-color: #00af00\">1,905</span> (7.44 KB)\n",
              "</pre>\n"
            ],
            "text/plain": [
              "\u001b[1m Trainable params: \u001b[0m\u001b[38;5;34m1,905\u001b[0m (7.44 KB)\n"
            ]
          },
          "metadata": {},
          "output_type": "display_data"
        },
        {
          "data": {
            "text/html": [
              "<pre style=\"white-space:pre;overflow-x:auto;line-height:normal;font-family:Menlo,'DejaVu Sans Mono',consolas,'Courier New',monospace\"><span style=\"font-weight: bold\"> Non-trainable params: </span><span style=\"color: #00af00; text-decoration-color: #00af00\">0</span> (0.00 B)\n",
              "</pre>\n"
            ],
            "text/plain": [
              "\u001b[1m Non-trainable params: \u001b[0m\u001b[38;5;34m0\u001b[0m (0.00 B)\n"
            ]
          },
          "metadata": {},
          "output_type": "display_data"
        }
      ],
      "source": [
        "# Build model with best hyperparameters\n",
        "ann_model = build_model(best_hp)\n",
        "ann_model.summary()"
      ]
    },
    {
      "cell_type": "code",
      "execution_count": null,
      "metadata": {
        "colab": {
          "base_uri": "https://localhost:8080/"
        },
        "id": "LKhHt1mxKa_Z",
        "outputId": "cee727fe-6c5a-4c33-d111-af6ecb1f5c98"
      },
      "outputs": [
        {
          "name": "stdout",
          "output_type": "stream",
          "text": [
            "Epoch 1/100\n",
            "\u001b[1m75/75\u001b[0m \u001b[32m━━━━━━━━━━━━━━━━━━━━\u001b[0m\u001b[37m\u001b[0m \u001b[1m6s\u001b[0m 17ms/step - accuracy: 0.6514 - auc: 0.6685 - loss: 0.8075 - val_accuracy: 0.7867 - val_auc: 0.0000e+00 - val_loss: 0.6713\n",
            "Epoch 2/100\n",
            "\u001b[1m75/75\u001b[0m \u001b[32m━━━━━━━━━━━━━━━━━━━━\u001b[0m\u001b[37m\u001b[0m \u001b[1m0s\u001b[0m 4ms/step - accuracy: 0.7823 - auc: 0.8416 - loss: 0.6964 - val_accuracy: 0.8867 - val_auc: 0.0000e+00 - val_loss: 0.5679\n",
            "Epoch 3/100\n",
            "\u001b[1m75/75\u001b[0m \u001b[32m━━━━━━━━━━━━━━━━━━━━\u001b[0m\u001b[37m\u001b[0m \u001b[1m1s\u001b[0m 4ms/step - accuracy: 0.8296 - auc: 0.8899 - loss: 0.6188 - val_accuracy: 0.9233 - val_auc: 0.0000e+00 - val_loss: 0.5070\n",
            "Epoch 4/100\n",
            "\u001b[1m75/75\u001b[0m \u001b[32m━━━━━━━━━━━━━━━━━━━━\u001b[0m\u001b[37m\u001b[0m \u001b[1m1s\u001b[0m 4ms/step - accuracy: 0.8418 - auc: 0.9067 - loss: 0.5781 - val_accuracy: 0.9300 - val_auc: 0.0000e+00 - val_loss: 0.4827\n",
            "Epoch 5/100\n",
            "\u001b[1m75/75\u001b[0m \u001b[32m━━━━━━━━━━━━━━━━━━━━\u001b[0m\u001b[37m\u001b[0m \u001b[1m1s\u001b[0m 4ms/step - accuracy: 0.8502 - auc: 0.9195 - loss: 0.5553 - val_accuracy: 0.9300 - val_auc: 0.0000e+00 - val_loss: 0.4674\n",
            "Epoch 6/100\n",
            "\u001b[1m75/75\u001b[0m \u001b[32m━━━━━━━━━━━━━━━━━━━━\u001b[0m\u001b[37m\u001b[0m \u001b[1m1s\u001b[0m 4ms/step - accuracy: 0.8522 - auc: 0.9285 - loss: 0.5395 - val_accuracy: 0.9283 - val_auc: 0.0000e+00 - val_loss: 0.4561\n",
            "Epoch 7/100\n",
            "\u001b[1m75/75\u001b[0m \u001b[32m━━━━━━━━━━━━━━━━━━━━\u001b[0m\u001b[37m\u001b[0m \u001b[1m1s\u001b[0m 5ms/step - accuracy: 0.8600 - auc: 0.9345 - loss: 0.5270 - val_accuracy: 0.9300 - val_auc: 0.0000e+00 - val_loss: 0.4479\n",
            "Epoch 8/100\n",
            "\u001b[1m75/75\u001b[0m \u001b[32m━━━━━━━━━━━━━━━━━━━━\u001b[0m\u001b[37m\u001b[0m \u001b[1m1s\u001b[0m 4ms/step - accuracy: 0.8650 - auc: 0.9387 - loss: 0.5163 - val_accuracy: 0.9317 - val_auc: 0.0000e+00 - val_loss: 0.4390\n",
            "Epoch 9/100\n",
            "\u001b[1m75/75\u001b[0m \u001b[32m━━━━━━━━━━━━━━━━━━━━\u001b[0m\u001b[37m\u001b[0m \u001b[1m1s\u001b[0m 4ms/step - accuracy: 0.8722 - auc: 0.9417 - loss: 0.5071 - val_accuracy: 0.9300 - val_auc: 0.0000e+00 - val_loss: 0.4322\n",
            "Epoch 10/100\n",
            "\u001b[1m75/75\u001b[0m \u001b[32m━━━━━━━━━━━━━━━━━━━━\u001b[0m\u001b[37m\u001b[0m \u001b[1m1s\u001b[0m 4ms/step - accuracy: 0.8762 - auc: 0.9440 - loss: 0.4990 - val_accuracy: 0.9283 - val_auc: 0.0000e+00 - val_loss: 0.4251\n",
            "Epoch 11/100\n",
            "\u001b[1m75/75\u001b[0m \u001b[32m━━━━━━━━━━━━━━━━━━━━\u001b[0m\u001b[37m\u001b[0m \u001b[1m1s\u001b[0m 4ms/step - accuracy: 0.8787 - auc: 0.9463 - loss: 0.4916 - val_accuracy: 0.9283 - val_auc: 0.0000e+00 - val_loss: 0.4187\n",
            "Epoch 12/100\n",
            "\u001b[1m75/75\u001b[0m \u001b[32m━━━━━━━━━━━━━━━━━━━━\u001b[0m\u001b[37m\u001b[0m \u001b[1m1s\u001b[0m 7ms/step - accuracy: 0.8811 - auc: 0.9480 - loss: 0.4857 - val_accuracy: 0.9283 - val_auc: 0.0000e+00 - val_loss: 0.4135\n",
            "Epoch 13/100\n",
            "\u001b[1m75/75\u001b[0m \u001b[32m━━━━━━━━━━━━━━━━━━━━\u001b[0m\u001b[37m\u001b[0m \u001b[1m1s\u001b[0m 6ms/step - accuracy: 0.8816 - auc: 0.9500 - loss: 0.4803 - val_accuracy: 0.9300 - val_auc: 0.0000e+00 - val_loss: 0.4094\n",
            "Epoch 14/100\n",
            "\u001b[1m75/75\u001b[0m \u001b[32m━━━━━━━━━━━━━━━━━━━━\u001b[0m\u001b[37m\u001b[0m \u001b[1m1s\u001b[0m 6ms/step - accuracy: 0.8828 - auc: 0.9516 - loss: 0.4753 - val_accuracy: 0.9317 - val_auc: 0.0000e+00 - val_loss: 0.4050\n",
            "Epoch 15/100\n",
            "\u001b[1m75/75\u001b[0m \u001b[32m━━━━━━━━━━━━━━━━━━━━\u001b[0m\u001b[37m\u001b[0m \u001b[1m0s\u001b[0m 6ms/step - accuracy: 0.8845 - auc: 0.9527 - loss: 0.4711 - val_accuracy: 0.9333 - val_auc: 0.0000e+00 - val_loss: 0.4010\n",
            "Epoch 16/100\n",
            "\u001b[1m75/75\u001b[0m \u001b[32m━━━━━━━━━━━━━━━━━━━━\u001b[0m\u001b[37m\u001b[0m \u001b[1m1s\u001b[0m 5ms/step - accuracy: 0.8864 - auc: 0.9539 - loss: 0.4672 - val_accuracy: 0.9317 - val_auc: 0.0000e+00 - val_loss: 0.3979\n",
            "Epoch 17/100\n",
            "\u001b[1m75/75\u001b[0m \u001b[32m━━━━━━━━━━━━━━━━━━━━\u001b[0m\u001b[37m\u001b[0m \u001b[1m0s\u001b[0m 4ms/step - accuracy: 0.8899 - auc: 0.9549 - loss: 0.4637 - val_accuracy: 0.9333 - val_auc: 0.0000e+00 - val_loss: 0.3957\n",
            "Epoch 18/100\n",
            "\u001b[1m75/75\u001b[0m \u001b[32m━━━━━━━━━━━━━━━━━━━━\u001b[0m\u001b[37m\u001b[0m \u001b[1m0s\u001b[0m 4ms/step - accuracy: 0.8911 - auc: 0.9561 - loss: 0.4600 - val_accuracy: 0.9333 - val_auc: 0.0000e+00 - val_loss: 0.3931\n",
            "Epoch 19/100\n",
            "\u001b[1m75/75\u001b[0m \u001b[32m━━━━━━━━━━━━━━━━━━━━\u001b[0m\u001b[37m\u001b[0m \u001b[1m1s\u001b[0m 4ms/step - accuracy: 0.8921 - auc: 0.9569 - loss: 0.4569 - val_accuracy: 0.9333 - val_auc: 0.0000e+00 - val_loss: 0.3910\n",
            "Epoch 20/100\n",
            "\u001b[1m75/75\u001b[0m \u001b[32m━━━━━━━━━━━━━━━━━━━━\u001b[0m\u001b[37m\u001b[0m \u001b[1m1s\u001b[0m 4ms/step - accuracy: 0.8938 - auc: 0.9575 - loss: 0.4542 - val_accuracy: 0.9333 - val_auc: 0.0000e+00 - val_loss: 0.3893\n",
            "Epoch 21/100\n",
            "\u001b[1m75/75\u001b[0m \u001b[32m━━━━━━━━━━━━━━━━━━━━\u001b[0m\u001b[37m\u001b[0m \u001b[1m1s\u001b[0m 4ms/step - accuracy: 0.8955 - auc: 0.9583 - loss: 0.4514 - val_accuracy: 0.9317 - val_auc: 0.0000e+00 - val_loss: 0.3874\n",
            "Epoch 22/100\n",
            "\u001b[1m75/75\u001b[0m \u001b[32m━━━━━━━━━━━━━━━━━━━━\u001b[0m\u001b[37m\u001b[0m \u001b[1m1s\u001b[0m 4ms/step - accuracy: 0.8949 - auc: 0.9589 - loss: 0.4489 - val_accuracy: 0.9333 - val_auc: 0.0000e+00 - val_loss: 0.3847\n",
            "Epoch 23/100\n",
            "\u001b[1m75/75\u001b[0m \u001b[32m━━━━━━━━━━━━━━━━━━━━\u001b[0m\u001b[37m\u001b[0m \u001b[1m0s\u001b[0m 4ms/step - accuracy: 0.8955 - auc: 0.9596 - loss: 0.4467 - val_accuracy: 0.9350 - val_auc: 0.0000e+00 - val_loss: 0.3826\n",
            "Epoch 24/100\n",
            "\u001b[1m75/75\u001b[0m \u001b[32m━━━━━━━━━━━━━━━━━━━━\u001b[0m\u001b[37m\u001b[0m \u001b[1m0s\u001b[0m 4ms/step - accuracy: 0.8970 - auc: 0.9600 - loss: 0.4446 - val_accuracy: 0.9350 - val_auc: 0.0000e+00 - val_loss: 0.3813\n",
            "Epoch 25/100\n",
            "\u001b[1m75/75\u001b[0m \u001b[32m━━━━━━━━━━━━━━━━━━━━\u001b[0m\u001b[37m\u001b[0m \u001b[1m1s\u001b[0m 4ms/step - accuracy: 0.8998 - auc: 0.9607 - loss: 0.4424 - val_accuracy: 0.9350 - val_auc: 0.0000e+00 - val_loss: 0.3793\n",
            "Epoch 26/100\n",
            "\u001b[1m75/75\u001b[0m \u001b[32m━━━━━━━━━━━━━━━━━━━━\u001b[0m\u001b[37m\u001b[0m \u001b[1m0s\u001b[0m 4ms/step - accuracy: 0.8999 - auc: 0.9611 - loss: 0.4406 - val_accuracy: 0.9350 - val_auc: 0.0000e+00 - val_loss: 0.3770\n",
            "Epoch 27/100\n",
            "\u001b[1m75/75\u001b[0m \u001b[32m━━━━━━━━━━━━━━━━━━━━\u001b[0m\u001b[37m\u001b[0m \u001b[1m1s\u001b[0m 4ms/step - accuracy: 0.9004 - auc: 0.9615 - loss: 0.4388 - val_accuracy: 0.9367 - val_auc: 0.0000e+00 - val_loss: 0.3755\n",
            "Epoch 28/100\n",
            "\u001b[1m75/75\u001b[0m \u001b[32m━━━━━━━━━━━━━━━━━━━━\u001b[0m\u001b[37m\u001b[0m \u001b[1m0s\u001b[0m 4ms/step - accuracy: 0.9004 - auc: 0.9619 - loss: 0.4370 - val_accuracy: 0.9350 - val_auc: 0.0000e+00 - val_loss: 0.3752\n",
            "Epoch 29/100\n",
            "\u001b[1m75/75\u001b[0m \u001b[32m━━━━━━━━━━━━━━━━━━━━\u001b[0m\u001b[37m\u001b[0m \u001b[1m1s\u001b[0m 4ms/step - accuracy: 0.9006 - auc: 0.9623 - loss: 0.4351 - val_accuracy: 0.9417 - val_auc: 0.0000e+00 - val_loss: 0.3735\n",
            "Epoch 30/100\n",
            "\u001b[1m75/75\u001b[0m \u001b[32m━━━━━━━━━━━━━━━━━━━━\u001b[0m\u001b[37m\u001b[0m \u001b[1m0s\u001b[0m 4ms/step - accuracy: 0.9006 - auc: 0.9628 - loss: 0.4335 - val_accuracy: 0.9433 - val_auc: 0.0000e+00 - val_loss: 0.3712\n",
            "Epoch 31/100\n",
            "\u001b[1m75/75\u001b[0m \u001b[32m━━━━━━━━━━━━━━━━━━━━\u001b[0m\u001b[37m\u001b[0m \u001b[1m0s\u001b[0m 4ms/step - accuracy: 0.9020 - auc: 0.9634 - loss: 0.4319 - val_accuracy: 0.9467 - val_auc: 0.0000e+00 - val_loss: 0.3696\n",
            "Epoch 32/100\n",
            "\u001b[1m75/75\u001b[0m \u001b[32m━━━━━━━━━━━━━━━━━━━━\u001b[0m\u001b[37m\u001b[0m \u001b[1m0s\u001b[0m 4ms/step - accuracy: 0.9020 - auc: 0.9636 - loss: 0.4305 - val_accuracy: 0.9467 - val_auc: 0.0000e+00 - val_loss: 0.3703\n",
            "Epoch 33/100\n",
            "\u001b[1m75/75\u001b[0m \u001b[32m━━━━━━━━━━━━━━━━━━━━\u001b[0m\u001b[37m\u001b[0m \u001b[1m1s\u001b[0m 4ms/step - accuracy: 0.9026 - auc: 0.9642 - loss: 0.4285 - val_accuracy: 0.9450 - val_auc: 0.0000e+00 - val_loss: 0.3690\n",
            "Epoch 34/100\n",
            "\u001b[1m75/75\u001b[0m \u001b[32m━━━━━━━━━━━━━━━━━━━━\u001b[0m\u001b[37m\u001b[0m \u001b[1m0s\u001b[0m 4ms/step - accuracy: 0.9026 - auc: 0.9646 - loss: 0.4269 - val_accuracy: 0.9450 - val_auc: 0.0000e+00 - val_loss: 0.3680\n",
            "Epoch 35/100\n",
            "\u001b[1m75/75\u001b[0m \u001b[32m━━━━━━━━━━━━━━━━━━━━\u001b[0m\u001b[37m\u001b[0m \u001b[1m1s\u001b[0m 4ms/step - accuracy: 0.9022 - auc: 0.9649 - loss: 0.4255 - val_accuracy: 0.9450 - val_auc: 0.0000e+00 - val_loss: 0.3671\n",
            "Epoch 36/100\n",
            "\u001b[1m75/75\u001b[0m \u001b[32m━━━━━━━━━━━━━━━━━━━━\u001b[0m\u001b[37m\u001b[0m \u001b[1m0s\u001b[0m 4ms/step - accuracy: 0.9029 - auc: 0.9655 - loss: 0.4238 - val_accuracy: 0.9450 - val_auc: 0.0000e+00 - val_loss: 0.3670\n",
            "Epoch 37/100\n",
            "\u001b[1m75/75\u001b[0m \u001b[32m━━━━━━━━━━━━━━━━━━━━\u001b[0m\u001b[37m\u001b[0m \u001b[1m1s\u001b[0m 4ms/step - accuracy: 0.9038 - auc: 0.9658 - loss: 0.4224 - val_accuracy: 0.9450 - val_auc: 0.0000e+00 - val_loss: 0.3662\n",
            "Epoch 38/100\n",
            "\u001b[1m75/75\u001b[0m \u001b[32m━━━━━━━━━━━━━━━━━━━━\u001b[0m\u001b[37m\u001b[0m \u001b[1m1s\u001b[0m 6ms/step - accuracy: 0.9040 - auc: 0.9662 - loss: 0.4209 - val_accuracy: 0.9450 - val_auc: 0.0000e+00 - val_loss: 0.3650\n",
            "Epoch 39/100\n",
            "\u001b[1m75/75\u001b[0m \u001b[32m━━━━━━━━━━━━━━━━━━━━\u001b[0m\u001b[37m\u001b[0m \u001b[1m1s\u001b[0m 6ms/step - accuracy: 0.9055 - auc: 0.9665 - loss: 0.4196 - val_accuracy: 0.9450 - val_auc: 0.0000e+00 - val_loss: 0.3639\n",
            "Epoch 40/100\n",
            "\u001b[1m75/75\u001b[0m \u001b[32m━━━━━━━━━━━━━━━━━━━━\u001b[0m\u001b[37m\u001b[0m \u001b[1m0s\u001b[0m 6ms/step - accuracy: 0.9056 - auc: 0.9669 - loss: 0.4184 - val_accuracy: 0.9450 - val_auc: 0.0000e+00 - val_loss: 0.3629\n",
            "Epoch 41/100\n",
            "\u001b[1m75/75\u001b[0m \u001b[32m━━━━━━━━━━━━━━━━━━━━\u001b[0m\u001b[37m\u001b[0m \u001b[1m1s\u001b[0m 5ms/step - accuracy: 0.9056 - auc: 0.9673 - loss: 0.4170 - val_accuracy: 0.9450 - val_auc: 0.0000e+00 - val_loss: 0.3619\n",
            "Epoch 42/100\n",
            "\u001b[1m75/75\u001b[0m \u001b[32m━━━━━━━━━━━━━━━━━━━━\u001b[0m\u001b[37m\u001b[0m \u001b[1m0s\u001b[0m 4ms/step - accuracy: 0.9060 - auc: 0.9676 - loss: 0.4158 - val_accuracy: 0.9450 - val_auc: 0.0000e+00 - val_loss: 0.3621\n",
            "Epoch 43/100\n",
            "\u001b[1m75/75\u001b[0m \u001b[32m━━━━━━━━━━━━━━━━━━━━\u001b[0m\u001b[37m\u001b[0m \u001b[1m1s\u001b[0m 4ms/step - accuracy: 0.9057 - auc: 0.9680 - loss: 0.4145 - val_accuracy: 0.9450 - val_auc: 0.0000e+00 - val_loss: 0.3603\n",
            "Epoch 44/100\n",
            "\u001b[1m75/75\u001b[0m \u001b[32m━━━━━━━━━━━━━━━━━━━━\u001b[0m\u001b[37m\u001b[0m \u001b[1m0s\u001b[0m 4ms/step - accuracy: 0.9064 - auc: 0.9683 - loss: 0.4134 - val_accuracy: 0.9450 - val_auc: 0.0000e+00 - val_loss: 0.3599\n",
            "Epoch 45/100\n",
            "\u001b[1m75/75\u001b[0m \u001b[32m━━━━━━━━━━━━━━━━━━━━\u001b[0m\u001b[37m\u001b[0m \u001b[1m0s\u001b[0m 4ms/step - accuracy: 0.9097 - auc: 0.9687 - loss: 0.4121 - val_accuracy: 0.9450 - val_auc: 0.0000e+00 - val_loss: 0.3577\n",
            "Epoch 46/100\n",
            "\u001b[1m75/75\u001b[0m \u001b[32m━━━━━━━━━━━━━━━━━━━━\u001b[0m\u001b[37m\u001b[0m \u001b[1m0s\u001b[0m 4ms/step - accuracy: 0.9098 - auc: 0.9690 - loss: 0.4112 - val_accuracy: 0.9450 - val_auc: 0.0000e+00 - val_loss: 0.3569\n",
            "Epoch 47/100\n",
            "\u001b[1m75/75\u001b[0m \u001b[32m━━━━━━━━━━━━━━━━━━━━\u001b[0m\u001b[37m\u001b[0m \u001b[1m1s\u001b[0m 4ms/step - accuracy: 0.9100 - auc: 0.9693 - loss: 0.4099 - val_accuracy: 0.9450 - val_auc: 0.0000e+00 - val_loss: 0.3566\n",
            "Epoch 48/100\n",
            "\u001b[1m75/75\u001b[0m \u001b[32m━━━━━━━━━━━━━━━━━━━━\u001b[0m\u001b[37m\u001b[0m \u001b[1m1s\u001b[0m 4ms/step - accuracy: 0.9116 - auc: 0.9696 - loss: 0.4089 - val_accuracy: 0.9433 - val_auc: 0.0000e+00 - val_loss: 0.3564\n",
            "Epoch 49/100\n",
            "\u001b[1m75/75\u001b[0m \u001b[32m━━━━━━━━━━━━━━━━━━━━\u001b[0m\u001b[37m\u001b[0m \u001b[1m0s\u001b[0m 4ms/step - accuracy: 0.9107 - auc: 0.9699 - loss: 0.4076 - val_accuracy: 0.9433 - val_auc: 0.0000e+00 - val_loss: 0.3555\n",
            "Epoch 50/100\n",
            "\u001b[1m75/75\u001b[0m \u001b[32m━━━━━━━━━━━━━━━━━━━━\u001b[0m\u001b[37m\u001b[0m \u001b[1m1s\u001b[0m 4ms/step - accuracy: 0.9121 - auc: 0.9701 - loss: 0.4066 - val_accuracy: 0.9433 - val_auc: 0.0000e+00 - val_loss: 0.3547\n",
            "Epoch 51/100\n",
            "\u001b[1m75/75\u001b[0m \u001b[32m━━━━━━━━━━━━━━━━━━━━\u001b[0m\u001b[37m\u001b[0m \u001b[1m0s\u001b[0m 4ms/step - accuracy: 0.9123 - auc: 0.9705 - loss: 0.4054 - val_accuracy: 0.9433 - val_auc: 0.0000e+00 - val_loss: 0.3537\n",
            "Epoch 52/100\n",
            "\u001b[1m75/75\u001b[0m \u001b[32m━━━━━━━━━━━━━━━━━━━━\u001b[0m\u001b[37m\u001b[0m \u001b[1m1s\u001b[0m 5ms/step - accuracy: 0.9123 - auc: 0.9708 - loss: 0.4045 - val_accuracy: 0.9433 - val_auc: 0.0000e+00 - val_loss: 0.3524\n",
            "Epoch 53/100\n",
            "\u001b[1m75/75\u001b[0m \u001b[32m━━━━━━━━━━━━━━━━━━━━\u001b[0m\u001b[37m\u001b[0m \u001b[1m0s\u001b[0m 4ms/step - accuracy: 0.9130 - auc: 0.9711 - loss: 0.4034 - val_accuracy: 0.9433 - val_auc: 0.0000e+00 - val_loss: 0.3529\n",
            "Epoch 54/100\n",
            "\u001b[1m75/75\u001b[0m \u001b[32m━━━━━━━━━━━━━━━━━━━━\u001b[0m\u001b[37m\u001b[0m \u001b[1m1s\u001b[0m 5ms/step - accuracy: 0.9124 - auc: 0.9716 - loss: 0.4022 - val_accuracy: 0.9433 - val_auc: 0.0000e+00 - val_loss: 0.3522\n",
            "Epoch 55/100\n",
            "\u001b[1m75/75\u001b[0m \u001b[32m━━━━━━━━━━━━━━━━━━━━\u001b[0m\u001b[37m\u001b[0m \u001b[1m0s\u001b[0m 4ms/step - accuracy: 0.9131 - auc: 0.9716 - loss: 0.4012 - val_accuracy: 0.9433 - val_auc: 0.0000e+00 - val_loss: 0.3510\n",
            "Epoch 56/100\n",
            "\u001b[1m75/75\u001b[0m \u001b[32m━━━━━━━━━━━━━━━━━━━━\u001b[0m\u001b[37m\u001b[0m \u001b[1m0s\u001b[0m 4ms/step - accuracy: 0.9131 - auc: 0.9719 - loss: 0.4002 - val_accuracy: 0.9450 - val_auc: 0.0000e+00 - val_loss: 0.3512\n",
            "Epoch 57/100\n",
            "\u001b[1m75/75\u001b[0m \u001b[32m━━━━━━━━━━━━━━━━━━━━\u001b[0m\u001b[37m\u001b[0m \u001b[1m0s\u001b[0m 5ms/step - accuracy: 0.9124 - auc: 0.9723 - loss: 0.3991 - val_accuracy: 0.9450 - val_auc: 0.0000e+00 - val_loss: 0.3486\n",
            "Epoch 58/100\n",
            "\u001b[1m75/75\u001b[0m \u001b[32m━━━━━━━━━━━━━━━━━━━━\u001b[0m\u001b[37m\u001b[0m \u001b[1m1s\u001b[0m 4ms/step - accuracy: 0.9132 - auc: 0.9724 - loss: 0.3985 - val_accuracy: 0.9450 - val_auc: 0.0000e+00 - val_loss: 0.3482\n",
            "Epoch 59/100\n",
            "\u001b[1m75/75\u001b[0m \u001b[32m━━━━━━━━━━━━━━━━━━━━\u001b[0m\u001b[37m\u001b[0m \u001b[1m0s\u001b[0m 4ms/step - accuracy: 0.9132 - auc: 0.9728 - loss: 0.3973 - val_accuracy: 0.9467 - val_auc: 0.0000e+00 - val_loss: 0.3475\n",
            "Epoch 60/100\n",
            "\u001b[1m75/75\u001b[0m \u001b[32m━━━━━━━━━━━━━━━━━━━━\u001b[0m\u001b[37m\u001b[0m \u001b[1m0s\u001b[0m 4ms/step - accuracy: 0.9128 - auc: 0.9730 - loss: 0.3966 - val_accuracy: 0.9467 - val_auc: 0.0000e+00 - val_loss: 0.3477\n",
            "Epoch 61/100\n",
            "\u001b[1m75/75\u001b[0m \u001b[32m━━━━━━━━━━━━━━━━━━━━\u001b[0m\u001b[37m\u001b[0m \u001b[1m1s\u001b[0m 4ms/step - accuracy: 0.9123 - auc: 0.9733 - loss: 0.3956 - val_accuracy: 0.9467 - val_auc: 0.0000e+00 - val_loss: 0.3475\n",
            "Epoch 62/100\n",
            "\u001b[1m75/75\u001b[0m \u001b[32m━━━━━━━━━━━━━━━━━━━━\u001b[0m\u001b[37m\u001b[0m \u001b[1m0s\u001b[0m 4ms/step - accuracy: 0.9145 - auc: 0.9736 - loss: 0.3946 - val_accuracy: 0.9483 - val_auc: 0.0000e+00 - val_loss: 0.3467\n",
            "Epoch 63/100\n",
            "\u001b[1m75/75\u001b[0m \u001b[32m━━━━━━━━━━━━━━━━━━━━\u001b[0m\u001b[37m\u001b[0m \u001b[1m1s\u001b[0m 5ms/step - accuracy: 0.9150 - auc: 0.9738 - loss: 0.3937 - val_accuracy: 0.9483 - val_auc: 0.0000e+00 - val_loss: 0.3457\n",
            "Epoch 64/100\n",
            "\u001b[1m75/75\u001b[0m \u001b[32m━━━━━━━━━━━━━━━━━━━━\u001b[0m\u001b[37m\u001b[0m \u001b[1m0s\u001b[0m 6ms/step - accuracy: 0.9162 - auc: 0.9739 - loss: 0.3928 - val_accuracy: 0.9500 - val_auc: 0.0000e+00 - val_loss: 0.3443\n",
            "Epoch 65/100\n",
            "\u001b[1m75/75\u001b[0m \u001b[32m━━━━━━━━━━━━━━━━━━━━\u001b[0m\u001b[37m\u001b[0m \u001b[1m1s\u001b[0m 5ms/step - accuracy: 0.9169 - auc: 0.9743 - loss: 0.3919 - val_accuracy: 0.9483 - val_auc: 0.0000e+00 - val_loss: 0.3454\n",
            "Epoch 66/100\n",
            "\u001b[1m75/75\u001b[0m \u001b[32m━━━━━━━━━━━━━━━━━━━━\u001b[0m\u001b[37m\u001b[0m \u001b[1m1s\u001b[0m 6ms/step - accuracy: 0.9177 - auc: 0.9746 - loss: 0.3908 - val_accuracy: 0.9517 - val_auc: 0.0000e+00 - val_loss: 0.3439\n",
            "Epoch 67/100\n",
            "\u001b[1m75/75\u001b[0m \u001b[32m━━━━━━━━━━━━━━━━━━━━\u001b[0m\u001b[37m\u001b[0m \u001b[1m1s\u001b[0m 6ms/step - accuracy: 0.9190 - auc: 0.9748 - loss: 0.3899 - val_accuracy: 0.9500 - val_auc: 0.0000e+00 - val_loss: 0.3443\n",
            "Epoch 68/100\n",
            "\u001b[1m75/75\u001b[0m \u001b[32m━━━━━━━━━━━━━━━━━━━━\u001b[0m\u001b[37m\u001b[0m \u001b[1m0s\u001b[0m 4ms/step - accuracy: 0.9180 - auc: 0.9751 - loss: 0.3890 - val_accuracy: 0.9517 - val_auc: 0.0000e+00 - val_loss: 0.3439\n",
            "Epoch 69/100\n",
            "\u001b[1m75/75\u001b[0m \u001b[32m━━━━━━━━━━━━━━━━━━━━\u001b[0m\u001b[37m\u001b[0m \u001b[1m0s\u001b[0m 4ms/step - accuracy: 0.9190 - auc: 0.9754 - loss: 0.3882 - val_accuracy: 0.9500 - val_auc: 0.0000e+00 - val_loss: 0.3434\n",
            "Epoch 70/100\n",
            "\u001b[1m75/75\u001b[0m \u001b[32m━━━━━━━━━━━━━━━━━━━━\u001b[0m\u001b[37m\u001b[0m \u001b[1m1s\u001b[0m 4ms/step - accuracy: 0.9181 - auc: 0.9755 - loss: 0.3873 - val_accuracy: 0.9533 - val_auc: 0.0000e+00 - val_loss: 0.3430\n",
            "Epoch 71/100\n",
            "\u001b[1m75/75\u001b[0m \u001b[32m━━━━━━━━━━━━━━━━━━━━\u001b[0m\u001b[37m\u001b[0m \u001b[1m0s\u001b[0m 4ms/step - accuracy: 0.9185 - auc: 0.9760 - loss: 0.3862 - val_accuracy: 0.9533 - val_auc: 0.0000e+00 - val_loss: 0.3425\n",
            "Epoch 72/100\n",
            "\u001b[1m75/75\u001b[0m \u001b[32m━━━━━━━━━━━━━━━━━━━━\u001b[0m\u001b[37m\u001b[0m \u001b[1m1s\u001b[0m 4ms/step - accuracy: 0.9187 - auc: 0.9762 - loss: 0.3855 - val_accuracy: 0.9533 - val_auc: 0.0000e+00 - val_loss: 0.3420\n",
            "Epoch 73/100\n",
            "\u001b[1m75/75\u001b[0m \u001b[32m━━━━━━━━━━━━━━━━━━━━\u001b[0m\u001b[37m\u001b[0m \u001b[1m0s\u001b[0m 4ms/step - accuracy: 0.9201 - auc: 0.9764 - loss: 0.3846 - val_accuracy: 0.9567 - val_auc: 0.0000e+00 - val_loss: 0.3401\n",
            "Epoch 74/100\n",
            "\u001b[1m75/75\u001b[0m \u001b[32m━━━━━━━━━━━━━━━━━━━━\u001b[0m\u001b[37m\u001b[0m \u001b[1m0s\u001b[0m 4ms/step - accuracy: 0.9197 - auc: 0.9766 - loss: 0.3840 - val_accuracy: 0.9550 - val_auc: 0.0000e+00 - val_loss: 0.3411\n",
            "Epoch 75/100\n",
            "\u001b[1m75/75\u001b[0m \u001b[32m━━━━━━━━━━━━━━━━━━━━\u001b[0m\u001b[37m\u001b[0m \u001b[1m1s\u001b[0m 4ms/step - accuracy: 0.9204 - auc: 0.9770 - loss: 0.3829 - val_accuracy: 0.9583 - val_auc: 0.0000e+00 - val_loss: 0.3394\n",
            "Epoch 76/100\n",
            "\u001b[1m75/75\u001b[0m \u001b[32m━━━━━━━━━━━━━━━━━━━━\u001b[0m\u001b[37m\u001b[0m \u001b[1m0s\u001b[0m 4ms/step - accuracy: 0.9197 - auc: 0.9770 - loss: 0.3824 - val_accuracy: 0.9600 - val_auc: 0.0000e+00 - val_loss: 0.3406\n",
            "Epoch 77/100\n",
            "\u001b[1m75/75\u001b[0m \u001b[32m━━━━━━━━━━━━━━━━━━━━\u001b[0m\u001b[37m\u001b[0m \u001b[1m0s\u001b[0m 4ms/step - accuracy: 0.9204 - auc: 0.9773 - loss: 0.3817 - val_accuracy: 0.9633 - val_auc: 0.0000e+00 - val_loss: 0.3391\n",
            "Epoch 78/100\n",
            "\u001b[1m75/75\u001b[0m \u001b[32m━━━━━━━━━━━━━━━━━━━━\u001b[0m\u001b[37m\u001b[0m \u001b[1m1s\u001b[0m 8ms/step - accuracy: 0.9196 - auc: 0.9776 - loss: 0.3807 - val_accuracy: 0.9633 - val_auc: 0.0000e+00 - val_loss: 0.3395\n",
            "Epoch 79/100\n",
            "\u001b[1m75/75\u001b[0m \u001b[32m━━━━━━━━━━━━━━━━━━━━\u001b[0m\u001b[37m\u001b[0m \u001b[1m1s\u001b[0m 7ms/step - accuracy: 0.9185 - auc: 0.9778 - loss: 0.3800 - val_accuracy: 0.9633 - val_auc: 0.0000e+00 - val_loss: 0.3395\n",
            "Epoch 80/100\n",
            "\u001b[1m75/75\u001b[0m \u001b[32m━━━━━━━━━━━━━━━━━━━━\u001b[0m\u001b[37m\u001b[0m \u001b[1m1s\u001b[0m 7ms/step - accuracy: 0.9216 - auc: 0.9779 - loss: 0.3795 - val_accuracy: 0.9633 - val_auc: 0.0000e+00 - val_loss: 0.3372\n",
            "Epoch 81/100\n",
            "\u001b[1m75/75\u001b[0m \u001b[32m━━━━━━━━━━━━━━━━━━━━\u001b[0m\u001b[37m\u001b[0m \u001b[1m1s\u001b[0m 7ms/step - accuracy: 0.9198 - auc: 0.9782 - loss: 0.3787 - val_accuracy: 0.9633 - val_auc: 0.0000e+00 - val_loss: 0.3387\n",
            "Epoch 82/100\n",
            "\u001b[1m75/75\u001b[0m \u001b[32m━━━━━━━━━━━━━━━━━━━━\u001b[0m\u001b[37m\u001b[0m \u001b[1m1s\u001b[0m 7ms/step - accuracy: 0.9222 - auc: 0.9785 - loss: 0.3778 - val_accuracy: 0.9617 - val_auc: 0.0000e+00 - val_loss: 0.3369\n",
            "Epoch 83/100\n",
            "\u001b[1m75/75\u001b[0m \u001b[32m━━━━━━━━━━━━━━━━━━━━\u001b[0m\u001b[37m\u001b[0m \u001b[1m1s\u001b[0m 8ms/step - accuracy: 0.9210 - auc: 0.9787 - loss: 0.3770 - val_accuracy: 0.9633 - val_auc: 0.0000e+00 - val_loss: 0.3354\n",
            "Epoch 84/100\n",
            "\u001b[1m75/75\u001b[0m \u001b[32m━━━━━━━━━━━━━━━━━━━━\u001b[0m\u001b[37m\u001b[0m \u001b[1m1s\u001b[0m 8ms/step - accuracy: 0.9210 - auc: 0.9788 - loss: 0.3764 - val_accuracy: 0.9617 - val_auc: 0.0000e+00 - val_loss: 0.3360\n",
            "Epoch 85/100\n",
            "\u001b[1m75/75\u001b[0m \u001b[32m━━━━━━━━━━━━━━━━━━━━\u001b[0m\u001b[37m\u001b[0m \u001b[1m1s\u001b[0m 6ms/step - accuracy: 0.9231 - auc: 0.9790 - loss: 0.3758 - val_accuracy: 0.9633 - val_auc: 0.0000e+00 - val_loss: 0.3354\n",
            "Epoch 86/100\n",
            "\u001b[1m75/75\u001b[0m \u001b[32m━━━━━━━━━━━━━━━━━━━━\u001b[0m\u001b[37m\u001b[0m \u001b[1m1s\u001b[0m 5ms/step - accuracy: 0.9233 - auc: 0.9792 - loss: 0.3751 - val_accuracy: 0.9617 - val_auc: 0.0000e+00 - val_loss: 0.3353\n",
            "Epoch 87/100\n",
            "\u001b[1m75/75\u001b[0m \u001b[32m━━━━━━━━━━━━━━━━━━━━\u001b[0m\u001b[37m\u001b[0m \u001b[1m1s\u001b[0m 6ms/step - accuracy: 0.9231 - auc: 0.9794 - loss: 0.3744 - val_accuracy: 0.9617 - val_auc: 0.0000e+00 - val_loss: 0.3348\n",
            "Epoch 88/100\n",
            "\u001b[1m75/75\u001b[0m \u001b[32m━━━━━━━━━━━━━━━━━━━━\u001b[0m\u001b[37m\u001b[0m \u001b[1m0s\u001b[0m 6ms/step - accuracy: 0.9258 - auc: 0.9795 - loss: 0.3738 - val_accuracy: 0.9617 - val_auc: 0.0000e+00 - val_loss: 0.3347\n",
            "Epoch 89/100\n",
            "\u001b[1m75/75\u001b[0m \u001b[32m━━━━━━━━━━━━━━━━━━━━\u001b[0m\u001b[37m\u001b[0m \u001b[1m0s\u001b[0m 4ms/step - accuracy: 0.9264 - auc: 0.9799 - loss: 0.3728 - val_accuracy: 0.9617 - val_auc: 0.0000e+00 - val_loss: 0.3349\n",
            "Epoch 90/100\n",
            "\u001b[1m75/75\u001b[0m \u001b[32m━━━━━━━━━━━━━━━━━━━━\u001b[0m\u001b[37m\u001b[0m \u001b[1m0s\u001b[0m 4ms/step - accuracy: 0.9285 - auc: 0.9801 - loss: 0.3719 - val_accuracy: 0.9617 - val_auc: 0.0000e+00 - val_loss: 0.3332\n",
            "Epoch 91/100\n",
            "\u001b[1m75/75\u001b[0m \u001b[32m━━━━━━━━━━━━━━━━━━━━\u001b[0m\u001b[37m\u001b[0m \u001b[1m1s\u001b[0m 4ms/step - accuracy: 0.9282 - auc: 0.9802 - loss: 0.3714 - val_accuracy: 0.9617 - val_auc: 0.0000e+00 - val_loss: 0.3328\n",
            "Epoch 92/100\n",
            "\u001b[1m75/75\u001b[0m \u001b[32m━━━━━━━━━━━━━━━━━━━━\u001b[0m\u001b[37m\u001b[0m \u001b[1m1s\u001b[0m 7ms/step - accuracy: 0.9301 - auc: 0.9805 - loss: 0.3707 - val_accuracy: 0.9617 - val_auc: 0.0000e+00 - val_loss: 0.3301\n",
            "Epoch 93/100\n",
            "\u001b[1m75/75\u001b[0m \u001b[32m━━━━━━━━━━━━━━━━━━━━\u001b[0m\u001b[37m\u001b[0m \u001b[1m1s\u001b[0m 6ms/step - accuracy: 0.9328 - auc: 0.9808 - loss: 0.3700 - val_accuracy: 0.9617 - val_auc: 0.0000e+00 - val_loss: 0.3299\n",
            "Epoch 94/100\n",
            "\u001b[1m75/75\u001b[0m \u001b[32m━━━━━━━━━━━━━━━━━━━━\u001b[0m\u001b[37m\u001b[0m \u001b[1m1s\u001b[0m 7ms/step - accuracy: 0.9320 - auc: 0.9807 - loss: 0.3696 - val_accuracy: 0.9617 - val_auc: 0.0000e+00 - val_loss: 0.3301\n",
            "Epoch 95/100\n",
            "\u001b[1m75/75\u001b[0m \u001b[32m━━━━━━━━━━━━━━━━━━━━\u001b[0m\u001b[37m\u001b[0m \u001b[1m1s\u001b[0m 6ms/step - accuracy: 0.9335 - auc: 0.9811 - loss: 0.3687 - val_accuracy: 0.9617 - val_auc: 0.0000e+00 - val_loss: 0.3301\n",
            "Epoch 96/100\n",
            "\u001b[1m75/75\u001b[0m \u001b[32m━━━━━━━━━━━━━━━━━━━━\u001b[0m\u001b[37m\u001b[0m \u001b[1m1s\u001b[0m 7ms/step - accuracy: 0.9324 - auc: 0.9814 - loss: 0.3680 - val_accuracy: 0.9617 - val_auc: 0.0000e+00 - val_loss: 0.3291\n",
            "Epoch 97/100\n",
            "\u001b[1m75/75\u001b[0m \u001b[32m━━━━━━━━━━━━━━━━━━━━\u001b[0m\u001b[37m\u001b[0m \u001b[1m1s\u001b[0m 9ms/step - accuracy: 0.9333 - auc: 0.9816 - loss: 0.3673 - val_accuracy: 0.9633 - val_auc: 0.0000e+00 - val_loss: 0.3285\n",
            "Epoch 98/100\n",
            "\u001b[1m75/75\u001b[0m \u001b[32m━━━━━━━━━━━━━━━━━━━━\u001b[0m\u001b[37m\u001b[0m \u001b[1m1s\u001b[0m 8ms/step - accuracy: 0.9340 - auc: 0.9818 - loss: 0.3668 - val_accuracy: 0.9650 - val_auc: 0.0000e+00 - val_loss: 0.3300\n",
            "Epoch 99/100\n",
            "\u001b[1m75/75\u001b[0m \u001b[32m━━━━━━━━━━━━━━━━━━━━\u001b[0m\u001b[37m\u001b[0m \u001b[1m1s\u001b[0m 8ms/step - accuracy: 0.9343 - auc: 0.9821 - loss: 0.3657 - val_accuracy: 0.9650 - val_auc: 0.0000e+00 - val_loss: 0.3282\n",
            "Epoch 100/100\n",
            "\u001b[1m75/75\u001b[0m \u001b[32m━━━━━━━━━━━━━━━━━━━━\u001b[0m\u001b[37m\u001b[0m \u001b[1m1s\u001b[0m 6ms/step - accuracy: 0.9342 - auc: 0.9824 - loss: 0.3650 - val_accuracy: 0.9650 - val_auc: 0.0000e+00 - val_loss: 0.3288\n",
            "Total epochs trained: 100\n",
            "Final training accuracy: 0.9366\n",
            "Final validation accuracy: 0.9650\n"
          ]
        }
      ],
      "source": [
        "# Train model\n",
        "history = ann_model.fit(\n",
        "    x_train, y_train,\n",
        "    epochs=100,\n",
        "    validation_split=0.2,\n",
        "    callbacks=[early_stop_cb],\n",
        "    verbose=1,\n",
        "    batch_size=32\n",
        ")\n",
        "\n",
        "print(f\"Total epochs trained: {len(history.history['loss'])}\")\n",
        "print(f\"Final training accuracy: {history.history['accuracy'][-1]:.4f}\")\n",
        "print(f\"Final validation accuracy: {history.history['val_accuracy'][-1]:.4f}\")"
      ]
    },
    {
      "cell_type": "code",
      "execution_count": null,
      "metadata": {
        "colab": {
          "base_uri": "https://localhost:8080/"
        },
        "id": "lVtmUTxuKma_",
        "outputId": "f427c34f-e3db-42bb-f98a-fc55a7ecc716"
      },
      "outputs": [
        {
          "name": "stdout",
          "output_type": "stream",
          "text": [
            "Model Accuracy: 0.7944\n",
            "Model AUC: 0.8583\n",
            "Model Loss: 0.6235\n"
          ]
        }
      ],
      "source": [
        "y_pred_probs = ann_model.predict(x_test, verbose=0).ravel()\n",
        "\n",
        "results_df, fancy_df = threshold_results(thresholds, y_test, y_pred_probs)\n",
        "\n",
        "test_loss, test_auc, test_accuracy = ann_model.evaluate(x_test, y_test, verbose=0)\n",
        "print(f\"Model Accuracy: {test_accuracy:.4f}\")\n",
        "print(f\"Model AUC: {test_auc:.4f}\")\n",
        "print(f\"Model Loss: {test_loss:.4f}\")"
      ]
    },
    {
      "cell_type": "code",
      "execution_count": null,
      "metadata": {
        "colab": {
          "base_uri": "https://localhost:8080/",
          "height": 470
        },
        "id": "-hpD5SSGKqiI",
        "outputId": "a24b5113-95c9-4f4e-c3cf-98cedc5bf3fc"
      },
      "outputs": [
        {
          "data": {
            "text/html": [
              "<style type=\"text/css\">\n",
              "#T_2b3e3 th:not(.index_name) {\n",
              "  background-color: #800000;\n",
              "  color: white;\n",
              "  text-align: center;\n",
              "}\n",
              "#T_2b3e3_row0_col0, #T_2b3e3_row0_col1, #T_2b3e3_row0_col3, #T_2b3e3_row0_col5, #T_2b3e3_row1_col0, #T_2b3e3_row1_col1, #T_2b3e3_row1_col5, #T_2b3e3_row2_col0, #T_2b3e3_row2_col1, #T_2b3e3_row2_col2, #T_2b3e3_row2_col3, #T_2b3e3_row2_col5, #T_2b3e3_row3_col0, #T_2b3e3_row3_col1, #T_2b3e3_row3_col2, #T_2b3e3_row3_col5, #T_2b3e3_row4_col0, #T_2b3e3_row4_col1, #T_2b3e3_row4_col2, #T_2b3e3_row4_col5, #T_2b3e3_row5_col0, #T_2b3e3_row5_col1, #T_2b3e3_row5_col2, #T_2b3e3_row6_col0, #T_2b3e3_row6_col1, #T_2b3e3_row6_col2, #T_2b3e3_row6_col3, #T_2b3e3_row6_col5, #T_2b3e3_row7_col0, #T_2b3e3_row7_col1, #T_2b3e3_row7_col2, #T_2b3e3_row7_col3, #T_2b3e3_row7_col5, #T_2b3e3_row8_col0, #T_2b3e3_row8_col1, #T_2b3e3_row8_col2, #T_2b3e3_row8_col3, #T_2b3e3_row8_col5, #T_2b3e3_row9_col0, #T_2b3e3_row9_col1, #T_2b3e3_row9_col2, #T_2b3e3_row9_col3, #T_2b3e3_row9_col5, #T_2b3e3_row10_col0, #T_2b3e3_row10_col2, #T_2b3e3_row10_col3, #T_2b3e3_row10_col5, #T_2b3e3_row11_col0, #T_2b3e3_row11_col2, #T_2b3e3_row11_col3, #T_2b3e3_row11_col5, #T_2b3e3_row12_col2, #T_2b3e3_row12_col3, #T_2b3e3_row12_col5 {\n",
              "  border: 1px solid black;\n",
              "  width: 65px;\n",
              "  text-align: center;\n",
              "}\n",
              "#T_2b3e3_row0_col2, #T_2b3e3_row0_col4, #T_2b3e3_row1_col2, #T_2b3e3_row1_col3, #T_2b3e3_row1_col4, #T_2b3e3_row2_col4, #T_2b3e3_row3_col3, #T_2b3e3_row3_col4, #T_2b3e3_row4_col3, #T_2b3e3_row4_col4, #T_2b3e3_row5_col3, #T_2b3e3_row5_col4, #T_2b3e3_row5_col5, #T_2b3e3_row6_col4, #T_2b3e3_row7_col4, #T_2b3e3_row8_col4, #T_2b3e3_row9_col4, #T_2b3e3_row10_col1, #T_2b3e3_row10_col4, #T_2b3e3_row11_col1, #T_2b3e3_row11_col4, #T_2b3e3_row12_col0, #T_2b3e3_row12_col1, #T_2b3e3_row12_col4 {\n",
              "  background-color: pink;\n",
              "  border: 1px solid black;\n",
              "  width: 65px;\n",
              "  text-align: center;\n",
              "}\n",
              "</style>\n",
              "<table id=\"T_2b3e3\" class=\"dataframe\">\n",
              "  <thead>\n",
              "    <tr>\n",
              "      <th class=\"blank level0\" >&nbsp;</th>\n",
              "      <th id=\"T_2b3e3_level0_col0\" class=\"col_heading level0 col0\" >threshold</th>\n",
              "      <th id=\"T_2b3e3_level0_col1\" class=\"col_heading level0 col1\" >precision</th>\n",
              "      <th id=\"T_2b3e3_level0_col2\" class=\"col_heading level0 col2\" >recall</th>\n",
              "      <th id=\"T_2b3e3_level0_col3\" class=\"col_heading level0 col3\" >f1</th>\n",
              "      <th id=\"T_2b3e3_level0_col4\" class=\"col_heading level0 col4\" >auc</th>\n",
              "      <th id=\"T_2b3e3_level0_col5\" class=\"col_heading level0 col5\" >accuracy</th>\n",
              "    </tr>\n",
              "  </thead>\n",
              "  <tbody>\n",
              "    <tr>\n",
              "      <th id=\"T_2b3e3_level0_row0\" class=\"row_heading level0 row0\" >0</th>\n",
              "      <td id=\"T_2b3e3_row0_col0\" class=\"data row0 col0\" >0.20</td>\n",
              "      <td id=\"T_2b3e3_row0_col1\" class=\"data row0 col1\" >0.73</td>\n",
              "      <td id=\"T_2b3e3_row0_col2\" class=\"data row0 col2\" >0.93</td>\n",
              "      <td id=\"T_2b3e3_row0_col3\" class=\"data row0 col3\" >0.82</td>\n",
              "      <td id=\"T_2b3e3_row0_col4\" class=\"data row0 col4\" >0.86</td>\n",
              "      <td id=\"T_2b3e3_row0_col5\" class=\"data row0 col5\" >0.77</td>\n",
              "    </tr>\n",
              "    <tr>\n",
              "      <th id=\"T_2b3e3_level0_row1\" class=\"row_heading level0 row1\" >1</th>\n",
              "      <td id=\"T_2b3e3_row1_col0\" class=\"data row1 col0\" >0.25</td>\n",
              "      <td id=\"T_2b3e3_row1_col1\" class=\"data row1 col1\" >0.75</td>\n",
              "      <td id=\"T_2b3e3_row1_col2\" class=\"data row1 col2\" >0.93</td>\n",
              "      <td id=\"T_2b3e3_row1_col3\" class=\"data row1 col3\" >0.83</td>\n",
              "      <td id=\"T_2b3e3_row1_col4\" class=\"data row1 col4\" >0.86</td>\n",
              "      <td id=\"T_2b3e3_row1_col5\" class=\"data row1 col5\" >0.79</td>\n",
              "    </tr>\n",
              "    <tr>\n",
              "      <th id=\"T_2b3e3_level0_row2\" class=\"row_heading level0 row2\" >2</th>\n",
              "      <td id=\"T_2b3e3_row2_col0\" class=\"data row2 col0\" >0.30</td>\n",
              "      <td id=\"T_2b3e3_row2_col1\" class=\"data row2 col1\" >0.75</td>\n",
              "      <td id=\"T_2b3e3_row2_col2\" class=\"data row2 col2\" >0.91</td>\n",
              "      <td id=\"T_2b3e3_row2_col3\" class=\"data row2 col3\" >0.82</td>\n",
              "      <td id=\"T_2b3e3_row2_col4\" class=\"data row2 col4\" >0.86</td>\n",
              "      <td id=\"T_2b3e3_row2_col5\" class=\"data row2 col5\" >0.78</td>\n",
              "    </tr>\n",
              "    <tr>\n",
              "      <th id=\"T_2b3e3_level0_row3\" class=\"row_heading level0 row3\" >3</th>\n",
              "      <td id=\"T_2b3e3_row3_col0\" class=\"data row3 col0\" >0.35</td>\n",
              "      <td id=\"T_2b3e3_row3_col1\" class=\"data row3 col1\" >0.76</td>\n",
              "      <td id=\"T_2b3e3_row3_col2\" class=\"data row3 col2\" >0.90</td>\n",
              "      <td id=\"T_2b3e3_row3_col3\" class=\"data row3 col3\" >0.83</td>\n",
              "      <td id=\"T_2b3e3_row3_col4\" class=\"data row3 col4\" >0.86</td>\n",
              "      <td id=\"T_2b3e3_row3_col5\" class=\"data row3 col5\" >0.79</td>\n",
              "    </tr>\n",
              "    <tr>\n",
              "      <th id=\"T_2b3e3_level0_row4\" class=\"row_heading level0 row4\" >4</th>\n",
              "      <td id=\"T_2b3e3_row4_col0\" class=\"data row4 col0\" >0.40</td>\n",
              "      <td id=\"T_2b3e3_row4_col1\" class=\"data row4 col1\" >0.77</td>\n",
              "      <td id=\"T_2b3e3_row4_col2\" class=\"data row4 col2\" >0.89</td>\n",
              "      <td id=\"T_2b3e3_row4_col3\" class=\"data row4 col3\" >0.83</td>\n",
              "      <td id=\"T_2b3e3_row4_col4\" class=\"data row4 col4\" >0.86</td>\n",
              "      <td id=\"T_2b3e3_row4_col5\" class=\"data row4 col5\" >0.79</td>\n",
              "    </tr>\n",
              "    <tr>\n",
              "      <th id=\"T_2b3e3_level0_row5\" class=\"row_heading level0 row5\" >5</th>\n",
              "      <td id=\"T_2b3e3_row5_col0\" class=\"data row5 col0\" >0.45</td>\n",
              "      <td id=\"T_2b3e3_row5_col1\" class=\"data row5 col1\" >0.79</td>\n",
              "      <td id=\"T_2b3e3_row5_col2\" class=\"data row5 col2\" >0.88</td>\n",
              "      <td id=\"T_2b3e3_row5_col3\" class=\"data row5 col3\" >0.83</td>\n",
              "      <td id=\"T_2b3e3_row5_col4\" class=\"data row5 col4\" >0.86</td>\n",
              "      <td id=\"T_2b3e3_row5_col5\" class=\"data row5 col5\" >0.80</td>\n",
              "    </tr>\n",
              "    <tr>\n",
              "      <th id=\"T_2b3e3_level0_row6\" class=\"row_heading level0 row6\" >6</th>\n",
              "      <td id=\"T_2b3e3_row6_col0\" class=\"data row6 col0\" >0.50</td>\n",
              "      <td id=\"T_2b3e3_row6_col1\" class=\"data row6 col1\" >0.79</td>\n",
              "      <td id=\"T_2b3e3_row6_col2\" class=\"data row6 col2\" >0.85</td>\n",
              "      <td id=\"T_2b3e3_row6_col3\" class=\"data row6 col3\" >0.82</td>\n",
              "      <td id=\"T_2b3e3_row6_col4\" class=\"data row6 col4\" >0.86</td>\n",
              "      <td id=\"T_2b3e3_row6_col5\" class=\"data row6 col5\" >0.79</td>\n",
              "    </tr>\n",
              "    <tr>\n",
              "      <th id=\"T_2b3e3_level0_row7\" class=\"row_heading level0 row7\" >7</th>\n",
              "      <td id=\"T_2b3e3_row7_col0\" class=\"data row7 col0\" >0.55</td>\n",
              "      <td id=\"T_2b3e3_row7_col1\" class=\"data row7 col1\" >0.80</td>\n",
              "      <td id=\"T_2b3e3_row7_col2\" class=\"data row7 col2\" >0.84</td>\n",
              "      <td id=\"T_2b3e3_row7_col3\" class=\"data row7 col3\" >0.82</td>\n",
              "      <td id=\"T_2b3e3_row7_col4\" class=\"data row7 col4\" >0.86</td>\n",
              "      <td id=\"T_2b3e3_row7_col5\" class=\"data row7 col5\" >0.79</td>\n",
              "    </tr>\n",
              "    <tr>\n",
              "      <th id=\"T_2b3e3_level0_row8\" class=\"row_heading level0 row8\" >8</th>\n",
              "      <td id=\"T_2b3e3_row8_col0\" class=\"data row8 col0\" >0.60</td>\n",
              "      <td id=\"T_2b3e3_row8_col1\" class=\"data row8 col1\" >0.81</td>\n",
              "      <td id=\"T_2b3e3_row8_col2\" class=\"data row8 col2\" >0.81</td>\n",
              "      <td id=\"T_2b3e3_row8_col3\" class=\"data row8 col3\" >0.81</td>\n",
              "      <td id=\"T_2b3e3_row8_col4\" class=\"data row8 col4\" >0.86</td>\n",
              "      <td id=\"T_2b3e3_row8_col5\" class=\"data row8 col5\" >0.79</td>\n",
              "    </tr>\n",
              "    <tr>\n",
              "      <th id=\"T_2b3e3_level0_row9\" class=\"row_heading level0 row9\" >9</th>\n",
              "      <td id=\"T_2b3e3_row9_col0\" class=\"data row9 col0\" >0.65</td>\n",
              "      <td id=\"T_2b3e3_row9_col1\" class=\"data row9 col1\" >0.82</td>\n",
              "      <td id=\"T_2b3e3_row9_col2\" class=\"data row9 col2\" >0.80</td>\n",
              "      <td id=\"T_2b3e3_row9_col3\" class=\"data row9 col3\" >0.81</td>\n",
              "      <td id=\"T_2b3e3_row9_col4\" class=\"data row9 col4\" >0.86</td>\n",
              "      <td id=\"T_2b3e3_row9_col5\" class=\"data row9 col5\" >0.79</td>\n",
              "    </tr>\n",
              "    <tr>\n",
              "      <th id=\"T_2b3e3_level0_row10\" class=\"row_heading level0 row10\" >10</th>\n",
              "      <td id=\"T_2b3e3_row10_col0\" class=\"data row10 col0\" >0.70</td>\n",
              "      <td id=\"T_2b3e3_row10_col1\" class=\"data row10 col1\" >0.83</td>\n",
              "      <td id=\"T_2b3e3_row10_col2\" class=\"data row10 col2\" >0.76</td>\n",
              "      <td id=\"T_2b3e3_row10_col3\" class=\"data row10 col3\" >0.79</td>\n",
              "      <td id=\"T_2b3e3_row10_col4\" class=\"data row10 col4\" >0.86</td>\n",
              "      <td id=\"T_2b3e3_row10_col5\" class=\"data row10 col5\" >0.78</td>\n",
              "    </tr>\n",
              "    <tr>\n",
              "      <th id=\"T_2b3e3_level0_row11\" class=\"row_heading level0 row11\" >11</th>\n",
              "      <td id=\"T_2b3e3_row11_col0\" class=\"data row11 col0\" >0.75</td>\n",
              "      <td id=\"T_2b3e3_row11_col1\" class=\"data row11 col1\" >0.83</td>\n",
              "      <td id=\"T_2b3e3_row11_col2\" class=\"data row11 col2\" >0.71</td>\n",
              "      <td id=\"T_2b3e3_row11_col3\" class=\"data row11 col3\" >0.76</td>\n",
              "      <td id=\"T_2b3e3_row11_col4\" class=\"data row11 col4\" >0.86</td>\n",
              "      <td id=\"T_2b3e3_row11_col5\" class=\"data row11 col5\" >0.76</td>\n",
              "    </tr>\n",
              "    <tr>\n",
              "      <th id=\"T_2b3e3_level0_row12\" class=\"row_heading level0 row12\" >12</th>\n",
              "      <td id=\"T_2b3e3_row12_col0\" class=\"data row12 col0\" >0.80</td>\n",
              "      <td id=\"T_2b3e3_row12_col1\" class=\"data row12 col1\" >0.83</td>\n",
              "      <td id=\"T_2b3e3_row12_col2\" class=\"data row12 col2\" >0.67</td>\n",
              "      <td id=\"T_2b3e3_row12_col3\" class=\"data row12 col3\" >0.74</td>\n",
              "      <td id=\"T_2b3e3_row12_col4\" class=\"data row12 col4\" >0.86</td>\n",
              "      <td id=\"T_2b3e3_row12_col5\" class=\"data row12 col5\" >0.74</td>\n",
              "    </tr>\n",
              "  </tbody>\n",
              "</table>\n"
            ],
            "text/plain": [
              "<pandas.io.formats.style.Styler at 0x797a4d97ac10>"
            ]
          },
          "execution_count": 51,
          "metadata": {},
          "output_type": "execute_result"
        }
      ],
      "source": [
        "fancy_df"
      ]
    },
    {
      "cell_type": "code",
      "execution_count": null,
      "metadata": {
        "id": "jP4YfVywKs_I"
      },
      "outputs": [],
      "source": [
        "ann_model.save('final_ann_model.keras')\n",
        "results_df.to_csv('final_ann_thresholds.csv', index=False)"
      ]
    },
    {
      "cell_type": "markdown",
      "metadata": {
        "id": "SXGHYrCpjLXl"
      },
      "source": [
        "#You should eventually have these files on GitHub\n",
        "\n",
        "* LIME explainer\n",
        "* tuned KNN model and associated threshold table\n",
        "* tuned logistic regression model and associated threshold table\n",
        "* tuned light boosting model and associated threshold table\n",
        "* tuned ANN model and associated threshold table"
      ]
    },
    {
      "cell_type": "markdown",
      "metadata": {
        "id": "88r30GauhPsI"
      },
      "source": [
        "#Optional make-up: Random Forest model\n",
        "\n",
        "I will give you credit for one homework assignment in terms of points if you elect to take on this problem.\n",
        "\n",
        "You will need to do two things: (1) tune and save your threshold table and model below, and (2) add the model to your production notebook (your last notebook that is part of final.) The latter is the most tricky given you will actually have to change several places in the code I handed you for server. But it is doable if you get an early jump on it."
      ]
    },
    {
      "cell_type": "code",
      "execution_count": null,
      "metadata": {
        "id": "Py2eUMQKT3ga"
      },
      "outputs": [],
      "source": [
        "#From chapter 12\n",
        "from sklearn.ensemble import RandomForestClassifier"
      ]
    },
    {
      "cell_type": "markdown",
      "metadata": {
        "id": "7s_e216IBMoE"
      },
      "source": [
        "###Follow the steps"
      ]
    },
    {
      "cell_type": "code",
      "execution_count": null,
      "metadata": {
        "id": "1fy5NQYMBMoE"
      },
      "outputs": [],
      "source": []
    },
    {
      "cell_type": "markdown",
      "metadata": {
        "id": "PM7WXZLzOgKr"
      },
      "source": [
        "##You still need to change the production notebook\n",
        "\n",
        "Find the places where you are loading models and thresholds and add the RF results. Find places where you are doing predictions and add RF prediction. Find place where you are showing prediction results in html and add RF prediction. Also add threshold table.\n",
        "\n",
        "This should not take long but will require you to pay attention to what you are doing to avoid screwing up what is already there."
      ]
    },
    {
      "cell_type": "markdown",
      "metadata": {
        "id": "G4bM31Y3BdM4"
      },
      "source": [
        "#Just for your interest\n",
        "\n",
        "There are several ways to combine the results of multiple models, four models in our case. We are using one of the ways in the server, but wanted to show you other options."
      ]
    },
    {
      "cell_type": "markdown",
      "metadata": {
        "id": "H5CR8tBBRJ9h"
      },
      "source": [
        "# IX. Voting - averaging binary\n",
        "\n",
        "There are two ways I can see of voting when have 4 models producing results. The first is to convert their output to binary. Then simply look for majority of either 0s or 1s. I added a twist that I fall back on probabilities for ties."
      ]
    },
    {
      "cell_type": "code",
      "execution_count": null,
      "metadata": {
        "colab": {
          "base_uri": "https://localhost:8080/"
        },
        "id": "jb9Q5LN635__",
        "outputId": "93bc5d4c-ca66-4a40-f7e1-0300913613c7"
      },
      "outputs": [
        {
          "name": "stdout",
          "output_type": "stream",
          "text": [
            "\u001b[1m6/6\u001b[0m \u001b[32m━━━━━━━━━━━━━━━━━━━━\u001b[0m\u001b[37m\u001b[0m \u001b[1m0s\u001b[0m 5ms/step \n"
          ]
        },
        {
          "name": "stderr",
          "output_type": "stream",
          "text": [
            "/usr/local/lib/python3.11/dist-packages/sklearn/utils/deprecation.py:151: FutureWarning: 'force_all_finite' was renamed to 'ensure_all_finite' in 1.6 and will be removed in 1.8.\n",
            "  warnings.warn(\n"
          ]
        }
      ],
      "source": [
        "lgb_raw = best_lgb.predict_proba(x_test)[:,1]\n",
        "knn_raw = best_knn_model.predict_proba(x_test)[:,1]\n",
        "logreg_raw = logreg_model.predict_proba(x_test)[:,1]\n",
        "ann_raw = ann_model.predict(x_test)[:,0]"
      ]
    },
    {
      "cell_type": "code",
      "execution_count": null,
      "metadata": {
        "id": "rbMmM9nWRW6z"
      },
      "outputs": [],
      "source": [
        "yvotes = []\n",
        "for i in range(len(y_test)):\n",
        "  the_vote = (lgb_raw[i]>=.5+logreg_raw[i]>=.5+knn_raw[i]>=.5+ann_raw[i]>=.5)\n",
        "  if the_vote==2:\n",
        "    #tie breaker - go to probabilities\n",
        "    prob = (knn_yraw[i]+logreg_yraw[i]+xgb_yraw[i]+ann_yraw[i])/4\n",
        "    the_winner = 1 if prob>=.5 else 0\n",
        "  else:\n",
        "    the_winner = 1 if the_vote>2 else 0\n",
        "  yvotes.append(the_winner)"
      ]
    },
    {
      "cell_type": "code",
      "execution_count": null,
      "metadata": {
        "colab": {
          "base_uri": "https://localhost:8080/"
        },
        "id": "pZLERg9TVnMx",
        "outputId": "5b46790b-3864-4d54-fcf7-af163befdbe4"
      },
      "outputs": [
        {
          "data": {
            "text/plain": [
              "0.5944444444444444"
            ]
          },
          "execution_count": 57,
          "metadata": {},
          "output_type": "execute_result"
        }
      ],
      "source": [
        "sum([1 if p>=.5 else 0 for p in ann_raw])/len(x_test)"
      ]
    },
    {
      "cell_type": "code",
      "execution_count": null,
      "metadata": {
        "colab": {
          "base_uri": "https://localhost:8080/"
        },
        "id": "bA7UhZX_-tan",
        "outputId": "e4c867c1-e2f3-47ce-e3af-d2c38ca39516"
      },
      "outputs": [
        {
          "name": "stdout",
          "output_type": "stream",
          "text": [
            "[[ 80   0]\n",
            " [100   0]]\n"
          ]
        }
      ],
      "source": [
        "from sklearn.metrics import confusion_matrix\n",
        "cm = confusion_matrix(y_test, yvotes)\n",
        "print(cm)\n"
      ]
    },
    {
      "cell_type": "code",
      "execution_count": null,
      "metadata": {
        "colab": {
          "base_uri": "https://localhost:8080/"
        },
        "id": "Sl0yYW2Z-tao",
        "outputId": "94c1de12-cc24-404d-e217-4ca3522cf33f"
      },
      "outputs": [
        {
          "data": {
            "text/plain": [
              "np.float64(0.4444444444444444)"
            ]
          },
          "execution_count": 59,
          "metadata": {},
          "output_type": "execute_result"
        }
      ],
      "source": [
        "(cm[0,0]+cm[1,1])/len(y_test)  #accuracy 0.5665399239543726"
      ]
    },
    {
      "cell_type": "markdown",
      "metadata": {
        "id": "A4uJuY39c0WY"
      },
      "source": [
        "Can now use it to compute precision and recall."
      ]
    },
    {
      "cell_type": "code",
      "execution_count": null,
      "metadata": {
        "colab": {
          "base_uri": "https://localhost:8080/"
        },
        "id": "WnM0Ht9k-tao",
        "outputId": "59b89022-b5e6-412c-88ac-2e4aad42c287"
      },
      "outputs": [
        {
          "name": "stdout",
          "output_type": "stream",
          "text": [
            "Precision: 1.0 Recall 0.4444444444444444\n"
          ]
        }
      ],
      "source": [
        "def precision_recall(y_test, y_pred):\n",
        "    cm = confusion_matrix(y_test, y_pred)\n",
        "    tp = cm[0,0]\n",
        "    fp = cm[0,1]\n",
        "    fn = cm[1,0]\n",
        "    prec = tp / (tp+fp)\n",
        "    rec = tp / (tp+fn)\n",
        "    return prec, rec\n",
        "\n",
        "precision, recall = precision_recall(y_test, yvotes)\n",
        "print(f'Precision: {precision} Recall {recall}')"
      ]
    },
    {
      "cell_type": "code",
      "execution_count": null,
      "metadata": {
        "colab": {
          "base_uri": "https://localhost:8080/"
        },
        "id": "cuFw_hPFZ-Jf",
        "outputId": "e37f30da-a0d4-48aa-bcab-5071e16d58fb"
      },
      "outputs": [
        {
          "data": {
            "text/plain": [
              "np.float64(0.6153846153846153)"
            ]
          },
          "execution_count": 61,
          "metadata": {},
          "output_type": "execute_result"
        }
      ],
      "source": [
        "f1 = 2*(precision*recall)/(precision+recall)\n",
        "f1"
      ]
    },
    {
      "cell_type": "markdown",
      "metadata": {
        "id": "feVTGvRT18qn"
      },
      "source": [
        "# X. Prob averaging\n",
        "\n",
        "The second voting approach is not actually voting. Instead, take average of 4 raw probabilities and use result as final probability. Can then run that through threshold table.\n",
        "\n",
        "This is what the server is doing to get the \"Ensemble\" value."
      ]
    },
    {
      "cell_type": "code",
      "execution_count": null,
      "metadata": {
        "id": "GfJSw7AS1A4Q"
      },
      "outputs": [],
      "source": [
        "avg_yraw = []\n",
        "for i in range(len(y_test)):\n",
        "  prob = (knn_raw[i]+logreg_raw[i]+lgb_raw[i]+ann_raw[i])/4\n",
        "  avg_yraw.append(prob)"
      ]
    },
    {
      "cell_type": "code",
      "execution_count": null,
      "metadata": {
        "id": "Iw_BS19r1dFC"
      },
      "outputs": [],
      "source": [
        "result_df, fancy_df = threshold_results(np.linspace(0,1,19,endpoint=True), y_test, avg_yraw)"
      ]
    },
    {
      "cell_type": "markdown",
      "metadata": {
        "id": "oUh2Bh6T0acf"
      },
      "source": [
        "# XI. Stacking\n",
        "\n",
        "This is interesting in that it builds a whole separate model (a meta model) that takes the output of other base models, three in example below, and uses that as a row. So a row of 3 feature values, one from each of the base models.\n",
        "\n",
        "I kind of like it. The meta model learns how to combine the outputs of base models, e.g., when to weight KNN higher than LGB, etc.\n"
      ]
    },
    {
      "cell_type": "code",
      "execution_count": null,
      "metadata": {
        "id": "dMtgikB00cdL"
      },
      "outputs": [],
      "source": [
        "from sklearn.ensemble import StackingClassifier\n",
        "\n",
        "estimators = [\n",
        "     ('knn', KNeighborsClassifier(15, algorithm='ball_tree', p=1, weights='distance')),\n",
        "    ('logreg', LogisticRegressionCV(Cs= 5, class_weight= None, cv= 5, max_iter= 500, solver= 'saga', penalty='l1', random_state=1234)),\n",
        "    ('lgb', LGBMClassifier(boosting_type= 'gbdt',\n",
        "                          class_weight= 'balanced',\n",
        "                          learning_rate= 0.3,\n",
        "                          max_depth= 5,\n",
        "                          min_child_samples= 10,\n",
        "                          n_estimators= 10,\n",
        "                          num_leaves= 7,\n",
        "                          random_state=1234),\n",
        "    )\n",
        "]\n",
        "final_estimator = LogisticRegressionCV(random_state=1234)   #this is choice for meta model\n",
        "clf = StackingClassifier(estimators=estimators, final_estimator=final_estimator)"
      ]
    },
    {
      "cell_type": "code",
      "execution_count": null,
      "metadata": {
        "id": "WeVYuX2K3vaZ"
      },
      "outputs": [],
      "source": [
        "%%capture\n",
        "clf.fit(x_train, y_train)"
      ]
    },
    {
      "cell_type": "code",
      "execution_count": null,
      "metadata": {
        "colab": {
          "base_uri": "https://localhost:8080/",
          "height": 734
        },
        "id": "ctgU56kc39bh",
        "outputId": "2378334d-36c7-49c4-e9eb-714803807ad0"
      },
      "outputs": [
        {
          "name": "stderr",
          "output_type": "stream",
          "text": [
            "/usr/local/lib/python3.11/dist-packages/sklearn/utils/deprecation.py:151: FutureWarning: 'force_all_finite' was renamed to 'ensure_all_finite' in 1.6 and will be removed in 1.8.\n",
            "  warnings.warn(\n",
            "/usr/local/lib/python3.11/dist-packages/sklearn/utils/validation.py:2732: UserWarning: X has feature names, but LogisticRegressionCV was fitted without feature names\n",
            "  warnings.warn(\n"
          ]
        },
        {
          "data": {
            "text/html": [
              "<style type=\"text/css\">\n",
              "#T_8876b th:not(.index_name) {\n",
              "  background-color: #800000;\n",
              "  color: white;\n",
              "  text-align: center;\n",
              "}\n",
              "#T_8876b_row0_col0, #T_8876b_row0_col1, #T_8876b_row0_col3, #T_8876b_row0_col5, #T_8876b_row1_col0, #T_8876b_row1_col1, #T_8876b_row1_col2, #T_8876b_row1_col3, #T_8876b_row1_col5, #T_8876b_row2_col0, #T_8876b_row2_col1, #T_8876b_row2_col2, #T_8876b_row3_col0, #T_8876b_row3_col1, #T_8876b_row3_col2, #T_8876b_row4_col0, #T_8876b_row4_col1, #T_8876b_row4_col2, #T_8876b_row4_col5, #T_8876b_row5_col0, #T_8876b_row5_col1, #T_8876b_row5_col2, #T_8876b_row5_col3, #T_8876b_row5_col5, #T_8876b_row6_col0, #T_8876b_row6_col1, #T_8876b_row6_col2, #T_8876b_row6_col3, #T_8876b_row6_col5, #T_8876b_row7_col0, #T_8876b_row7_col1, #T_8876b_row7_col2, #T_8876b_row7_col3, #T_8876b_row7_col5, #T_8876b_row8_col0, #T_8876b_row8_col1, #T_8876b_row8_col2, #T_8876b_row8_col3, #T_8876b_row8_col5, #T_8876b_row9_col0, #T_8876b_row9_col1, #T_8876b_row9_col2, #T_8876b_row9_col3, #T_8876b_row9_col5, #T_8876b_row10_col0, #T_8876b_row10_col1, #T_8876b_row10_col2, #T_8876b_row10_col3, #T_8876b_row10_col5, #T_8876b_row11_col0, #T_8876b_row11_col1, #T_8876b_row11_col2, #T_8876b_row11_col3, #T_8876b_row11_col5, #T_8876b_row12_col0, #T_8876b_row12_col1, #T_8876b_row12_col2, #T_8876b_row12_col3, #T_8876b_row12_col5, #T_8876b_row13_col0, #T_8876b_row13_col1, #T_8876b_row13_col2, #T_8876b_row13_col3, #T_8876b_row13_col5, #T_8876b_row14_col0, #T_8876b_row14_col1, #T_8876b_row14_col2, #T_8876b_row14_col3, #T_8876b_row14_col5, #T_8876b_row15_col0, #T_8876b_row15_col1, #T_8876b_row15_col2, #T_8876b_row15_col3, #T_8876b_row15_col5, #T_8876b_row16_col0, #T_8876b_row16_col1, #T_8876b_row16_col2, #T_8876b_row16_col3, #T_8876b_row16_col5, #T_8876b_row17_col0, #T_8876b_row17_col2, #T_8876b_row17_col3, #T_8876b_row17_col5, #T_8876b_row18_col1, #T_8876b_row18_col2, #T_8876b_row18_col3, #T_8876b_row18_col5 {\n",
              "  border: 1px solid black;\n",
              "  width: 65px;\n",
              "  text-align: center;\n",
              "}\n",
              "#T_8876b_row0_col2, #T_8876b_row0_col4, #T_8876b_row1_col4, #T_8876b_row2_col3, #T_8876b_row2_col4, #T_8876b_row2_col5, #T_8876b_row3_col3, #T_8876b_row3_col4, #T_8876b_row3_col5, #T_8876b_row4_col3, #T_8876b_row4_col4, #T_8876b_row5_col4, #T_8876b_row6_col4, #T_8876b_row7_col4, #T_8876b_row8_col4, #T_8876b_row9_col4, #T_8876b_row10_col4, #T_8876b_row11_col4, #T_8876b_row12_col4, #T_8876b_row13_col4, #T_8876b_row14_col4, #T_8876b_row15_col4, #T_8876b_row16_col4, #T_8876b_row17_col1, #T_8876b_row17_col4, #T_8876b_row18_col0, #T_8876b_row18_col4 {\n",
              "  background-color: pink;\n",
              "  border: 1px solid black;\n",
              "  width: 65px;\n",
              "  text-align: center;\n",
              "}\n",
              "</style>\n",
              "<table id=\"T_8876b\" class=\"dataframe\">\n",
              "  <thead>\n",
              "    <tr>\n",
              "      <th class=\"blank level0\" >&nbsp;</th>\n",
              "      <th id=\"T_8876b_level0_col0\" class=\"col_heading level0 col0\" >threshold</th>\n",
              "      <th id=\"T_8876b_level0_col1\" class=\"col_heading level0 col1\" >precision</th>\n",
              "      <th id=\"T_8876b_level0_col2\" class=\"col_heading level0 col2\" >recall</th>\n",
              "      <th id=\"T_8876b_level0_col3\" class=\"col_heading level0 col3\" >f1</th>\n",
              "      <th id=\"T_8876b_level0_col4\" class=\"col_heading level0 col4\" >auc</th>\n",
              "      <th id=\"T_8876b_level0_col5\" class=\"col_heading level0 col5\" >accuracy</th>\n",
              "    </tr>\n",
              "  </thead>\n",
              "  <tbody>\n",
              "    <tr>\n",
              "      <th id=\"T_8876b_level0_row0\" class=\"row_heading level0 row0\" >0</th>\n",
              "      <td id=\"T_8876b_row0_col0\" class=\"data row0 col0\" >0.00</td>\n",
              "      <td id=\"T_8876b_row0_col1\" class=\"data row0 col1\" >0.56</td>\n",
              "      <td id=\"T_8876b_row0_col2\" class=\"data row0 col2\" >1.00</td>\n",
              "      <td id=\"T_8876b_row0_col3\" class=\"data row0 col3\" >0.71</td>\n",
              "      <td id=\"T_8876b_row0_col4\" class=\"data row0 col4\" >0.82</td>\n",
              "      <td id=\"T_8876b_row0_col5\" class=\"data row0 col5\" >0.56</td>\n",
              "    </tr>\n",
              "    <tr>\n",
              "      <th id=\"T_8876b_level0_row1\" class=\"row_heading level0 row1\" >1</th>\n",
              "      <td id=\"T_8876b_row1_col0\" class=\"data row1 col0\" >0.06</td>\n",
              "      <td id=\"T_8876b_row1_col1\" class=\"data row1 col1\" >0.71</td>\n",
              "      <td id=\"T_8876b_row1_col2\" class=\"data row1 col2\" >0.93</td>\n",
              "      <td id=\"T_8876b_row1_col3\" class=\"data row1 col3\" >0.81</td>\n",
              "      <td id=\"T_8876b_row1_col4\" class=\"data row1 col4\" >0.82</td>\n",
              "      <td id=\"T_8876b_row1_col5\" class=\"data row1 col5\" >0.75</td>\n",
              "    </tr>\n",
              "    <tr>\n",
              "      <th id=\"T_8876b_level0_row2\" class=\"row_heading level0 row2\" >2</th>\n",
              "      <td id=\"T_8876b_row2_col0\" class=\"data row2 col0\" >0.11</td>\n",
              "      <td id=\"T_8876b_row2_col1\" class=\"data row2 col1\" >0.74</td>\n",
              "      <td id=\"T_8876b_row2_col2\" class=\"data row2 col2\" >0.93</td>\n",
              "      <td id=\"T_8876b_row2_col3\" class=\"data row2 col3\" >0.82</td>\n",
              "      <td id=\"T_8876b_row2_col4\" class=\"data row2 col4\" >0.82</td>\n",
              "      <td id=\"T_8876b_row2_col5\" class=\"data row2 col5\" >0.78</td>\n",
              "    </tr>\n",
              "    <tr>\n",
              "      <th id=\"T_8876b_level0_row3\" class=\"row_heading level0 row3\" >3</th>\n",
              "      <td id=\"T_8876b_row3_col0\" class=\"data row3 col0\" >0.17</td>\n",
              "      <td id=\"T_8876b_row3_col1\" class=\"data row3 col1\" >0.74</td>\n",
              "      <td id=\"T_8876b_row3_col2\" class=\"data row3 col2\" >0.92</td>\n",
              "      <td id=\"T_8876b_row3_col3\" class=\"data row3 col3\" >0.82</td>\n",
              "      <td id=\"T_8876b_row3_col4\" class=\"data row3 col4\" >0.82</td>\n",
              "      <td id=\"T_8876b_row3_col5\" class=\"data row3 col5\" >0.78</td>\n",
              "    </tr>\n",
              "    <tr>\n",
              "      <th id=\"T_8876b_level0_row4\" class=\"row_heading level0 row4\" >4</th>\n",
              "      <td id=\"T_8876b_row4_col0\" class=\"data row4 col0\" >0.22</td>\n",
              "      <td id=\"T_8876b_row4_col1\" class=\"data row4 col1\" >0.74</td>\n",
              "      <td id=\"T_8876b_row4_col2\" class=\"data row4 col2\" >0.91</td>\n",
              "      <td id=\"T_8876b_row4_col3\" class=\"data row4 col3\" >0.82</td>\n",
              "      <td id=\"T_8876b_row4_col4\" class=\"data row4 col4\" >0.82</td>\n",
              "      <td id=\"T_8876b_row4_col5\" class=\"data row4 col5\" >0.77</td>\n",
              "    </tr>\n",
              "    <tr>\n",
              "      <th id=\"T_8876b_level0_row5\" class=\"row_heading level0 row5\" >5</th>\n",
              "      <td id=\"T_8876b_row5_col0\" class=\"data row5 col0\" >0.28</td>\n",
              "      <td id=\"T_8876b_row5_col1\" class=\"data row5 col1\" >0.75</td>\n",
              "      <td id=\"T_8876b_row5_col2\" class=\"data row5 col2\" >0.88</td>\n",
              "      <td id=\"T_8876b_row5_col3\" class=\"data row5 col3\" >0.81</td>\n",
              "      <td id=\"T_8876b_row5_col4\" class=\"data row5 col4\" >0.82</td>\n",
              "      <td id=\"T_8876b_row5_col5\" class=\"data row5 col5\" >0.77</td>\n",
              "    </tr>\n",
              "    <tr>\n",
              "      <th id=\"T_8876b_level0_row6\" class=\"row_heading level0 row6\" >6</th>\n",
              "      <td id=\"T_8876b_row6_col0\" class=\"data row6 col0\" >0.33</td>\n",
              "      <td id=\"T_8876b_row6_col1\" class=\"data row6 col1\" >0.76</td>\n",
              "      <td id=\"T_8876b_row6_col2\" class=\"data row6 col2\" >0.87</td>\n",
              "      <td id=\"T_8876b_row6_col3\" class=\"data row6 col3\" >0.81</td>\n",
              "      <td id=\"T_8876b_row6_col4\" class=\"data row6 col4\" >0.82</td>\n",
              "      <td id=\"T_8876b_row6_col5\" class=\"data row6 col5\" >0.77</td>\n",
              "    </tr>\n",
              "    <tr>\n",
              "      <th id=\"T_8876b_level0_row7\" class=\"row_heading level0 row7\" >7</th>\n",
              "      <td id=\"T_8876b_row7_col0\" class=\"data row7 col0\" >0.39</td>\n",
              "      <td id=\"T_8876b_row7_col1\" class=\"data row7 col1\" >0.76</td>\n",
              "      <td id=\"T_8876b_row7_col2\" class=\"data row7 col2\" >0.86</td>\n",
              "      <td id=\"T_8876b_row7_col3\" class=\"data row7 col3\" >0.81</td>\n",
              "      <td id=\"T_8876b_row7_col4\" class=\"data row7 col4\" >0.82</td>\n",
              "      <td id=\"T_8876b_row7_col5\" class=\"data row7 col5\" >0.77</td>\n",
              "    </tr>\n",
              "    <tr>\n",
              "      <th id=\"T_8876b_level0_row8\" class=\"row_heading level0 row8\" >8</th>\n",
              "      <td id=\"T_8876b_row8_col0\" class=\"data row8 col0\" >0.44</td>\n",
              "      <td id=\"T_8876b_row8_col1\" class=\"data row8 col1\" >0.76</td>\n",
              "      <td id=\"T_8876b_row8_col2\" class=\"data row8 col2\" >0.86</td>\n",
              "      <td id=\"T_8876b_row8_col3\" class=\"data row8 col3\" >0.81</td>\n",
              "      <td id=\"T_8876b_row8_col4\" class=\"data row8 col4\" >0.82</td>\n",
              "      <td id=\"T_8876b_row8_col5\" class=\"data row8 col5\" >0.77</td>\n",
              "    </tr>\n",
              "    <tr>\n",
              "      <th id=\"T_8876b_level0_row9\" class=\"row_heading level0 row9\" >9</th>\n",
              "      <td id=\"T_8876b_row9_col0\" class=\"data row9 col0\" >0.50</td>\n",
              "      <td id=\"T_8876b_row9_col1\" class=\"data row9 col1\" >0.77</td>\n",
              "      <td id=\"T_8876b_row9_col2\" class=\"data row9 col2\" >0.85</td>\n",
              "      <td id=\"T_8876b_row9_col3\" class=\"data row9 col3\" >0.81</td>\n",
              "      <td id=\"T_8876b_row9_col4\" class=\"data row9 col4\" >0.82</td>\n",
              "      <td id=\"T_8876b_row9_col5\" class=\"data row9 col5\" >0.77</td>\n",
              "    </tr>\n",
              "    <tr>\n",
              "      <th id=\"T_8876b_level0_row10\" class=\"row_heading level0 row10\" >10</th>\n",
              "      <td id=\"T_8876b_row10_col0\" class=\"data row10 col0\" >0.56</td>\n",
              "      <td id=\"T_8876b_row10_col1\" class=\"data row10 col1\" >0.77</td>\n",
              "      <td id=\"T_8876b_row10_col2\" class=\"data row10 col2\" >0.85</td>\n",
              "      <td id=\"T_8876b_row10_col3\" class=\"data row10 col3\" >0.81</td>\n",
              "      <td id=\"T_8876b_row10_col4\" class=\"data row10 col4\" >0.82</td>\n",
              "      <td id=\"T_8876b_row10_col5\" class=\"data row10 col5\" >0.77</td>\n",
              "    </tr>\n",
              "    <tr>\n",
              "      <th id=\"T_8876b_level0_row11\" class=\"row_heading level0 row11\" >11</th>\n",
              "      <td id=\"T_8876b_row11_col0\" class=\"data row11 col0\" >0.61</td>\n",
              "      <td id=\"T_8876b_row11_col1\" class=\"data row11 col1\" >0.77</td>\n",
              "      <td id=\"T_8876b_row11_col2\" class=\"data row11 col2\" >0.81</td>\n",
              "      <td id=\"T_8876b_row11_col3\" class=\"data row11 col3\" >0.79</td>\n",
              "      <td id=\"T_8876b_row11_col4\" class=\"data row11 col4\" >0.82</td>\n",
              "      <td id=\"T_8876b_row11_col5\" class=\"data row11 col5\" >0.76</td>\n",
              "    </tr>\n",
              "    <tr>\n",
              "      <th id=\"T_8876b_level0_row12\" class=\"row_heading level0 row12\" >12</th>\n",
              "      <td id=\"T_8876b_row12_col0\" class=\"data row12 col0\" >0.67</td>\n",
              "      <td id=\"T_8876b_row12_col1\" class=\"data row12 col1\" >0.80</td>\n",
              "      <td id=\"T_8876b_row12_col2\" class=\"data row12 col2\" >0.78</td>\n",
              "      <td id=\"T_8876b_row12_col3\" class=\"data row12 col3\" >0.79</td>\n",
              "      <td id=\"T_8876b_row12_col4\" class=\"data row12 col4\" >0.82</td>\n",
              "      <td id=\"T_8876b_row12_col5\" class=\"data row12 col5\" >0.77</td>\n",
              "    </tr>\n",
              "    <tr>\n",
              "      <th id=\"T_8876b_level0_row13\" class=\"row_heading level0 row13\" >13</th>\n",
              "      <td id=\"T_8876b_row13_col0\" class=\"data row13 col0\" >0.72</td>\n",
              "      <td id=\"T_8876b_row13_col1\" class=\"data row13 col1\" >0.79</td>\n",
              "      <td id=\"T_8876b_row13_col2\" class=\"data row13 col2\" >0.77</td>\n",
              "      <td id=\"T_8876b_row13_col3\" class=\"data row13 col3\" >0.78</td>\n",
              "      <td id=\"T_8876b_row13_col4\" class=\"data row13 col4\" >0.82</td>\n",
              "      <td id=\"T_8876b_row13_col5\" class=\"data row13 col5\" >0.76</td>\n",
              "    </tr>\n",
              "    <tr>\n",
              "      <th id=\"T_8876b_level0_row14\" class=\"row_heading level0 row14\" >14</th>\n",
              "      <td id=\"T_8876b_row14_col0\" class=\"data row14 col0\" >0.78</td>\n",
              "      <td id=\"T_8876b_row14_col1\" class=\"data row14 col1\" >0.79</td>\n",
              "      <td id=\"T_8876b_row14_col2\" class=\"data row14 col2\" >0.74</td>\n",
              "      <td id=\"T_8876b_row14_col3\" class=\"data row14 col3\" >0.76</td>\n",
              "      <td id=\"T_8876b_row14_col4\" class=\"data row14 col4\" >0.82</td>\n",
              "      <td id=\"T_8876b_row14_col5\" class=\"data row14 col5\" >0.74</td>\n",
              "    </tr>\n",
              "    <tr>\n",
              "      <th id=\"T_8876b_level0_row15\" class=\"row_heading level0 row15\" >15</th>\n",
              "      <td id=\"T_8876b_row15_col0\" class=\"data row15 col0\" >0.83</td>\n",
              "      <td id=\"T_8876b_row15_col1\" class=\"data row15 col1\" >0.81</td>\n",
              "      <td id=\"T_8876b_row15_col2\" class=\"data row15 col2\" >0.72</td>\n",
              "      <td id=\"T_8876b_row15_col3\" class=\"data row15 col3\" >0.76</td>\n",
              "      <td id=\"T_8876b_row15_col4\" class=\"data row15 col4\" >0.82</td>\n",
              "      <td id=\"T_8876b_row15_col5\" class=\"data row15 col5\" >0.75</td>\n",
              "    </tr>\n",
              "    <tr>\n",
              "      <th id=\"T_8876b_level0_row16\" class=\"row_heading level0 row16\" >16</th>\n",
              "      <td id=\"T_8876b_row16_col0\" class=\"data row16 col0\" >0.89</td>\n",
              "      <td id=\"T_8876b_row16_col1\" class=\"data row16 col1\" >0.80</td>\n",
              "      <td id=\"T_8876b_row16_col2\" class=\"data row16 col2\" >0.68</td>\n",
              "      <td id=\"T_8876b_row16_col3\" class=\"data row16 col3\" >0.74</td>\n",
              "      <td id=\"T_8876b_row16_col4\" class=\"data row16 col4\" >0.82</td>\n",
              "      <td id=\"T_8876b_row16_col5\" class=\"data row16 col5\" >0.73</td>\n",
              "    </tr>\n",
              "    <tr>\n",
              "      <th id=\"T_8876b_level0_row17\" class=\"row_heading level0 row17\" >17</th>\n",
              "      <td id=\"T_8876b_row17_col0\" class=\"data row17 col0\" >0.94</td>\n",
              "      <td id=\"T_8876b_row17_col1\" class=\"data row17 col1\" >0.83</td>\n",
              "      <td id=\"T_8876b_row17_col2\" class=\"data row17 col2\" >0.59</td>\n",
              "      <td id=\"T_8876b_row17_col3\" class=\"data row17 col3\" >0.69</td>\n",
              "      <td id=\"T_8876b_row17_col4\" class=\"data row17 col4\" >0.82</td>\n",
              "      <td id=\"T_8876b_row17_col5\" class=\"data row17 col5\" >0.71</td>\n",
              "    </tr>\n",
              "    <tr>\n",
              "      <th id=\"T_8876b_level0_row18\" class=\"row_heading level0 row18\" >18</th>\n",
              "      <td id=\"T_8876b_row18_col0\" class=\"data row18 col0\" >1.00</td>\n",
              "      <td id=\"T_8876b_row18_col1\" class=\"data row18 col1\" >0.00</td>\n",
              "      <td id=\"T_8876b_row18_col2\" class=\"data row18 col2\" >0.00</td>\n",
              "      <td id=\"T_8876b_row18_col3\" class=\"data row18 col3\" >0.00</td>\n",
              "      <td id=\"T_8876b_row18_col4\" class=\"data row18 col4\" >0.82</td>\n",
              "      <td id=\"T_8876b_row18_col5\" class=\"data row18 col5\" >0.44</td>\n",
              "    </tr>\n",
              "  </tbody>\n",
              "</table>\n"
            ],
            "text/plain": [
              "<pandas.io.formats.style.Styler at 0x797a4d86e010>"
            ]
          },
          "execution_count": 66,
          "metadata": {},
          "output_type": "execute_result"
        }
      ],
      "source": [
        "yraw = clf.predict_proba(x_test)[:,1]\n",
        "result_df, fancy_df = threshold_results(np.linspace(0,1,19,endpoint=True), y_test, yraw)\n",
        "fancy_df"
      ]
    },
    {
      "cell_type": "markdown",
      "metadata": {
        "id": "1dPcoUS7R1nV"
      },
      "source": [
        "<img src='https://www.dropbox.com/scl/fi/zilmy2diy1lg1tva9vurx/Screenshot-2025-02-07-at-8.38.53-AM.png?rlkey=006szbv5t0daha005eotxt9k2&raw=1' height=400>"
      ]
    }
  ],
  "metadata": {
    "colab": {
      "collapsed_sections": [
        "SXGHYrCpjLXl"
      ],
      "provenance": []
    },
    "kernelspec": {
      "display_name": "Python 3",
      "name": "python3"
    },
    "language_info": {
      "name": "python"
    }
  },
  "nbformat": 4,
  "nbformat_minor": 0
}
