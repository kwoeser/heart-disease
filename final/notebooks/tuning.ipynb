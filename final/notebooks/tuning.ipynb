{
  "cells": [
    {
      "cell_type": "markdown",
      "metadata": {
        "id": "bzDiYMkiYgRS"
      },
      "source": [
        "<center>\n",
        "<h1>Training and Tuning</h1>\n",
        "</center>\n",
        "\n",
        "<hr>\n"
      ]
    },
    {
      "cell_type": "markdown",
      "metadata": {
        "id": "bZiquu_S3vZG"
      },
      "source": [
        "Basic setup"
      ]
    },
    {
      "cell_type": "code",
      "execution_count": null,
      "metadata": {
        "colab": {
          "base_uri": "https://localhost:8080/"
        },
        "id": "AZ6MOQmuVewi",
        "outputId": "b9b8733d-227f-4757-fbb9-c03f69a5455f"
      },
      "outputs": [
        {
          "name": "stdout",
          "output_type": "stream",
          "text": [
            "rm: cannot remove 'library.py': No such file or directory\n",
            "--2025-06-13 23:35:05--  https://raw.githubusercontent.com/kwoeser/CS423/main/library.py\n",
            "Resolving raw.githubusercontent.com (raw.githubusercontent.com)... 185.199.108.133, 185.199.109.133, 185.199.110.133, ...\n",
            "Connecting to raw.githubusercontent.com (raw.githubusercontent.com)|185.199.108.133|:443... connected.\n",
            "HTTP request sent, awaiting response... 200 OK\n",
            "Length: 32297 (32K) [text/plain]\n",
            "Saving to: ‘library.py’\n",
            "\n",
            "library.py          100%[===================>]  31.54K  --.-KB/s    in 0.01s   \n",
            "\n",
            "2025-06-13 23:35:06 (3.05 MB/s) - ‘library.py’ saved [32297/32297]\n",
            "\n"
          ]
        }
      ],
      "source": [
        "github_name = 'kwoeser'\n",
        "repo_name = 'CS423'\n",
        "source_file = 'library.py'\n",
        "url = f'https://raw.githubusercontent.com/{github_name}/{repo_name}/main/{source_file}'\n",
        "!rm $source_file\n",
        "!wget $url\n",
        "%run -i $source_file"
      ]
    },
    {
      "cell_type": "code",
      "execution_count": null,
      "metadata": {
        "colab": {
          "base_uri": "https://localhost:8080/",
          "height": 206
        },
        "id": "ZVTLBYampYbo",
        "outputId": "30f4535d-f3b5-4d58-f6f1-33b3b951e0c3"
      },
      "outputs": [
        {
          "data": {
            "application/vnd.google.colaboratory.intrinsic+json": {
              "summary": "{\n  \"name\": \"heart\",\n  \"rows\": 900,\n  \"fields\": [\n    {\n      \"column\": \"Cholesterol\",\n      \"properties\": {\n        \"dtype\": \"number\",\n        \"std\": 109,\n        \"min\": 0,\n        \"max\": 603,\n        \"num_unique_values\": 221,\n        \"samples\": [\n          203,\n          147,\n          306\n        ],\n        \"semantic_type\": \"\",\n        \"description\": \"\"\n      }\n    },\n    {\n      \"column\": \"MaxHR\",\n      \"properties\": {\n        \"dtype\": \"number\",\n        \"std\": 25,\n        \"min\": 60,\n        \"max\": 202,\n        \"num_unique_values\": 119,\n        \"samples\": [\n          82,\n          190,\n          113\n        ],\n        \"semantic_type\": \"\",\n        \"description\": \"\"\n      }\n    },\n    {\n      \"column\": \"Age\",\n      \"properties\": {\n        \"dtype\": \"number\",\n        \"std\": 9,\n        \"min\": 28,\n        \"max\": 77,\n        \"num_unique_values\": 50,\n        \"samples\": [\n          43,\n          77,\n          72\n        ],\n        \"semantic_type\": \"\",\n        \"description\": \"\"\n      }\n    },\n    {\n      \"column\": \"RestingBP\",\n      \"properties\": {\n        \"dtype\": \"number\",\n        \"std\": 18,\n        \"min\": 0,\n        \"max\": 200,\n        \"num_unique_values\": 67,\n        \"samples\": [\n          136,\n          132,\n          160\n        ],\n        \"semantic_type\": \"\",\n        \"description\": \"\"\n      }\n    },\n    {\n      \"column\": \"Sex\",\n      \"properties\": {\n        \"dtype\": \"category\",\n        \"num_unique_values\": 2,\n        \"samples\": [\n          \"F\",\n          \"M\"\n        ],\n        \"semantic_type\": \"\",\n        \"description\": \"\"\n      }\n    },\n    {\n      \"column\": \"ST_Slope\",\n      \"properties\": {\n        \"dtype\": \"category\",\n        \"num_unique_values\": 3,\n        \"samples\": [\n          \"Flat\",\n          \"Up\"\n        ],\n        \"semantic_type\": \"\",\n        \"description\": \"\"\n      }\n    },\n    {\n      \"column\": \"RestingECG\",\n      \"properties\": {\n        \"dtype\": \"category\",\n        \"num_unique_values\": 3,\n        \"samples\": [\n          \"LVH\",\n          \"Normal\"\n        ],\n        \"semantic_type\": \"\",\n        \"description\": \"\"\n      }\n    },\n    {\n      \"column\": \"HeartDisease\",\n      \"properties\": {\n        \"dtype\": \"number\",\n        \"std\": 0,\n        \"min\": 0,\n        \"max\": 1,\n        \"num_unique_values\": 2,\n        \"samples\": [\n          0,\n          1\n        ],\n        \"semantic_type\": \"\",\n        \"description\": \"\"\n      }\n    }\n  ]\n}",
              "type": "dataframe",
              "variable_name": "heart"
            },
            "text/html": [
              "\n",
              "  <div id=\"df-f23a2860-db69-4d32-9a50-ebb581ab8fbf\" class=\"colab-df-container\">\n",
              "    <div>\n",
              "<style scoped>\n",
              "    .dataframe tbody tr th:only-of-type {\n",
              "        vertical-align: middle;\n",
              "    }\n",
              "\n",
              "    .dataframe tbody tr th {\n",
              "        vertical-align: top;\n",
              "    }\n",
              "\n",
              "    .dataframe thead th {\n",
              "        text-align: right;\n",
              "    }\n",
              "</style>\n",
              "<table border=\"1\" class=\"dataframe\">\n",
              "  <thead>\n",
              "    <tr style=\"text-align: right;\">\n",
              "      <th></th>\n",
              "      <th>Cholesterol</th>\n",
              "      <th>MaxHR</th>\n",
              "      <th>Age</th>\n",
              "      <th>RestingBP</th>\n",
              "      <th>Sex</th>\n",
              "      <th>ST_Slope</th>\n",
              "      <th>RestingECG</th>\n",
              "      <th>HeartDisease</th>\n",
              "    </tr>\n",
              "  </thead>\n",
              "  <tbody>\n",
              "    <tr>\n",
              "      <th>0</th>\n",
              "      <td>0</td>\n",
              "      <td>134</td>\n",
              "      <td>62</td>\n",
              "      <td>120</td>\n",
              "      <td>M</td>\n",
              "      <td>Flat</td>\n",
              "      <td>LVH</td>\n",
              "      <td>1</td>\n",
              "    </tr>\n",
              "    <tr>\n",
              "      <th>1</th>\n",
              "      <td>318</td>\n",
              "      <td>160</td>\n",
              "      <td>60</td>\n",
              "      <td>102</td>\n",
              "      <td>F</td>\n",
              "      <td>Up</td>\n",
              "      <td>Normal</td>\n",
              "      <td>0</td>\n",
              "    </tr>\n",
              "    <tr>\n",
              "      <th>2</th>\n",
              "      <td>160</td>\n",
              "      <td>172</td>\n",
              "      <td>36</td>\n",
              "      <td>150</td>\n",
              "      <td>M</td>\n",
              "      <td>Up</td>\n",
              "      <td>Normal</td>\n",
              "      <td>0</td>\n",
              "    </tr>\n",
              "    <tr>\n",
              "      <th>3</th>\n",
              "      <td>248</td>\n",
              "      <td>170</td>\n",
              "      <td>47</td>\n",
              "      <td>135</td>\n",
              "      <td>F</td>\n",
              "      <td>Flat</td>\n",
              "      <td>Normal</td>\n",
              "      <td>1</td>\n",
              "    </tr>\n",
              "    <tr>\n",
              "      <th>4</th>\n",
              "      <td>256</td>\n",
              "      <td>113</td>\n",
              "      <td>58</td>\n",
              "      <td>160</td>\n",
              "      <td>M</td>\n",
              "      <td>Up</td>\n",
              "      <td>LVH</td>\n",
              "      <td>1</td>\n",
              "    </tr>\n",
              "  </tbody>\n",
              "</table>\n",
              "</div>\n",
              "    <div class=\"colab-df-buttons\">\n",
              "\n",
              "  <div class=\"colab-df-container\">\n",
              "    <button class=\"colab-df-convert\" onclick=\"convertToInteractive('df-f23a2860-db69-4d32-9a50-ebb581ab8fbf')\"\n",
              "            title=\"Convert this dataframe to an interactive table.\"\n",
              "            style=\"display:none;\">\n",
              "\n",
              "  <svg xmlns=\"http://www.w3.org/2000/svg\" height=\"24px\" viewBox=\"0 -960 960 960\">\n",
              "    <path d=\"M120-120v-720h720v720H120Zm60-500h600v-160H180v160Zm220 220h160v-160H400v160Zm0 220h160v-160H400v160ZM180-400h160v-160H180v160Zm440 0h160v-160H620v160ZM180-180h160v-160H180v160Zm440 0h160v-160H620v160Z\"/>\n",
              "  </svg>\n",
              "    </button>\n",
              "\n",
              "  <style>\n",
              "    .colab-df-container {\n",
              "      display:flex;\n",
              "      gap: 12px;\n",
              "    }\n",
              "\n",
              "    .colab-df-convert {\n",
              "      background-color: #E8F0FE;\n",
              "      border: none;\n",
              "      border-radius: 50%;\n",
              "      cursor: pointer;\n",
              "      display: none;\n",
              "      fill: #1967D2;\n",
              "      height: 32px;\n",
              "      padding: 0 0 0 0;\n",
              "      width: 32px;\n",
              "    }\n",
              "\n",
              "    .colab-df-convert:hover {\n",
              "      background-color: #E2EBFA;\n",
              "      box-shadow: 0px 1px 2px rgba(60, 64, 67, 0.3), 0px 1px 3px 1px rgba(60, 64, 67, 0.15);\n",
              "      fill: #174EA6;\n",
              "    }\n",
              "\n",
              "    .colab-df-buttons div {\n",
              "      margin-bottom: 4px;\n",
              "    }\n",
              "\n",
              "    [theme=dark] .colab-df-convert {\n",
              "      background-color: #3B4455;\n",
              "      fill: #D2E3FC;\n",
              "    }\n",
              "\n",
              "    [theme=dark] .colab-df-convert:hover {\n",
              "      background-color: #434B5C;\n",
              "      box-shadow: 0px 1px 3px 1px rgba(0, 0, 0, 0.15);\n",
              "      filter: drop-shadow(0px 1px 2px rgba(0, 0, 0, 0.3));\n",
              "      fill: #FFFFFF;\n",
              "    }\n",
              "  </style>\n",
              "\n",
              "    <script>\n",
              "      const buttonEl =\n",
              "        document.querySelector('#df-f23a2860-db69-4d32-9a50-ebb581ab8fbf button.colab-df-convert');\n",
              "      buttonEl.style.display =\n",
              "        google.colab.kernel.accessAllowed ? 'block' : 'none';\n",
              "\n",
              "      async function convertToInteractive(key) {\n",
              "        const element = document.querySelector('#df-f23a2860-db69-4d32-9a50-ebb581ab8fbf');\n",
              "        const dataTable =\n",
              "          await google.colab.kernel.invokeFunction('convertToInteractive',\n",
              "                                                    [key], {});\n",
              "        if (!dataTable) return;\n",
              "\n",
              "        const docLinkHtml = 'Like what you see? Visit the ' +\n",
              "          '<a target=\"_blank\" href=https://colab.research.google.com/notebooks/data_table.ipynb>data table notebook</a>'\n",
              "          + ' to learn more about interactive tables.';\n",
              "        element.innerHTML = '';\n",
              "        dataTable['output_type'] = 'display_data';\n",
              "        await google.colab.output.renderOutput(dataTable, element);\n",
              "        const docLink = document.createElement('div');\n",
              "        docLink.innerHTML = docLinkHtml;\n",
              "        element.appendChild(docLink);\n",
              "      }\n",
              "    </script>\n",
              "  </div>\n",
              "\n",
              "\n",
              "    <div id=\"df-57168857-b54c-4737-ad13-5992ab1cc732\">\n",
              "      <button class=\"colab-df-quickchart\" onclick=\"quickchart('df-57168857-b54c-4737-ad13-5992ab1cc732')\"\n",
              "                title=\"Suggest charts\"\n",
              "                style=\"display:none;\">\n",
              "\n",
              "<svg xmlns=\"http://www.w3.org/2000/svg\" height=\"24px\"viewBox=\"0 0 24 24\"\n",
              "     width=\"24px\">\n",
              "    <g>\n",
              "        <path d=\"M19 3H5c-1.1 0-2 .9-2 2v14c0 1.1.9 2 2 2h14c1.1 0 2-.9 2-2V5c0-1.1-.9-2-2-2zM9 17H7v-7h2v7zm4 0h-2V7h2v10zm4 0h-2v-4h2v4z\"/>\n",
              "    </g>\n",
              "</svg>\n",
              "      </button>\n",
              "\n",
              "<style>\n",
              "  .colab-df-quickchart {\n",
              "      --bg-color: #E8F0FE;\n",
              "      --fill-color: #1967D2;\n",
              "      --hover-bg-color: #E2EBFA;\n",
              "      --hover-fill-color: #174EA6;\n",
              "      --disabled-fill-color: #AAA;\n",
              "      --disabled-bg-color: #DDD;\n",
              "  }\n",
              "\n",
              "  [theme=dark] .colab-df-quickchart {\n",
              "      --bg-color: #3B4455;\n",
              "      --fill-color: #D2E3FC;\n",
              "      --hover-bg-color: #434B5C;\n",
              "      --hover-fill-color: #FFFFFF;\n",
              "      --disabled-bg-color: #3B4455;\n",
              "      --disabled-fill-color: #666;\n",
              "  }\n",
              "\n",
              "  .colab-df-quickchart {\n",
              "    background-color: var(--bg-color);\n",
              "    border: none;\n",
              "    border-radius: 50%;\n",
              "    cursor: pointer;\n",
              "    display: none;\n",
              "    fill: var(--fill-color);\n",
              "    height: 32px;\n",
              "    padding: 0;\n",
              "    width: 32px;\n",
              "  }\n",
              "\n",
              "  .colab-df-quickchart:hover {\n",
              "    background-color: var(--hover-bg-color);\n",
              "    box-shadow: 0 1px 2px rgba(60, 64, 67, 0.3), 0 1px 3px 1px rgba(60, 64, 67, 0.15);\n",
              "    fill: var(--button-hover-fill-color);\n",
              "  }\n",
              "\n",
              "  .colab-df-quickchart-complete:disabled,\n",
              "  .colab-df-quickchart-complete:disabled:hover {\n",
              "    background-color: var(--disabled-bg-color);\n",
              "    fill: var(--disabled-fill-color);\n",
              "    box-shadow: none;\n",
              "  }\n",
              "\n",
              "  .colab-df-spinner {\n",
              "    border: 2px solid var(--fill-color);\n",
              "    border-color: transparent;\n",
              "    border-bottom-color: var(--fill-color);\n",
              "    animation:\n",
              "      spin 1s steps(1) infinite;\n",
              "  }\n",
              "\n",
              "  @keyframes spin {\n",
              "    0% {\n",
              "      border-color: transparent;\n",
              "      border-bottom-color: var(--fill-color);\n",
              "      border-left-color: var(--fill-color);\n",
              "    }\n",
              "    20% {\n",
              "      border-color: transparent;\n",
              "      border-left-color: var(--fill-color);\n",
              "      border-top-color: var(--fill-color);\n",
              "    }\n",
              "    30% {\n",
              "      border-color: transparent;\n",
              "      border-left-color: var(--fill-color);\n",
              "      border-top-color: var(--fill-color);\n",
              "      border-right-color: var(--fill-color);\n",
              "    }\n",
              "    40% {\n",
              "      border-color: transparent;\n",
              "      border-right-color: var(--fill-color);\n",
              "      border-top-color: var(--fill-color);\n",
              "    }\n",
              "    60% {\n",
              "      border-color: transparent;\n",
              "      border-right-color: var(--fill-color);\n",
              "    }\n",
              "    80% {\n",
              "      border-color: transparent;\n",
              "      border-right-color: var(--fill-color);\n",
              "      border-bottom-color: var(--fill-color);\n",
              "    }\n",
              "    90% {\n",
              "      border-color: transparent;\n",
              "      border-bottom-color: var(--fill-color);\n",
              "    }\n",
              "  }\n",
              "</style>\n",
              "\n",
              "      <script>\n",
              "        async function quickchart(key) {\n",
              "          const quickchartButtonEl =\n",
              "            document.querySelector('#' + key + ' button');\n",
              "          quickchartButtonEl.disabled = true;  // To prevent multiple clicks.\n",
              "          quickchartButtonEl.classList.add('colab-df-spinner');\n",
              "          try {\n",
              "            const charts = await google.colab.kernel.invokeFunction(\n",
              "                'suggestCharts', [key], {});\n",
              "          } catch (error) {\n",
              "            console.error('Error during call to suggestCharts:', error);\n",
              "          }\n",
              "          quickchartButtonEl.classList.remove('colab-df-spinner');\n",
              "          quickchartButtonEl.classList.add('colab-df-quickchart-complete');\n",
              "        }\n",
              "        (() => {\n",
              "          let quickchartButtonEl =\n",
              "            document.querySelector('#df-57168857-b54c-4737-ad13-5992ab1cc732 button');\n",
              "          quickchartButtonEl.style.display =\n",
              "            google.colab.kernel.accessAllowed ? 'block' : 'none';\n",
              "        })();\n",
              "      </script>\n",
              "    </div>\n",
              "\n",
              "    </div>\n",
              "  </div>\n"
            ],
            "text/plain": [
              "   Cholesterol  MaxHR  Age  RestingBP Sex ST_Slope RestingECG  HeartDisease\n",
              "0            0    134   62        120   M     Flat        LVH             1\n",
              "1          318    160   60        102   F       Up     Normal             0\n",
              "2          160    172   36        150   M       Up     Normal             0\n",
              "3          248    170   47        135   F     Flat     Normal             1\n",
              "4          256    113   58        160   M       Up        LVH             1"
            ]
          },
          "execution_count": 2,
          "metadata": {},
          "output_type": "execute_result"
        }
      ],
      "source": [
        "url = 'https://raw.githubusercontent.com/kwoeser/CS423/main/final/data/heart_reduced.csv'\n",
        "\n",
        "heart = pd.read_csv(url)\n",
        "heart.head()\n"
      ]
    },
    {
      "cell_type": "code",
      "execution_count": null,
      "metadata": {
        "colab": {
          "base_uri": "https://localhost:8080/"
        },
        "id": "YvZy9mwFVrGf",
        "outputId": "0cea62b5-c4cb-4a55-ef45-d09f0018aa5d"
      },
      "outputs": [
        {
          "data": {
            "text/plain": [
              "900"
            ]
          },
          "execution_count": 3,
          "metadata": {},
          "output_type": "execute_result"
        }
      ],
      "source": [
        "len(heart)"
      ]
    },
    {
      "cell_type": "code",
      "execution_count": null,
      "metadata": {
        "id": "nH0g0IVGauIa"
      },
      "outputs": [],
      "source": [
        "# Split into features and labels\n",
        "\n",
        "features = heart.drop(columns='HeartDisease')\n",
        "labels = heart['HeartDisease'].tolist()"
      ]
    },
    {
      "cell_type": "code",
      "execution_count": null,
      "metadata": {
        "colab": {
          "base_uri": "https://localhost:8080/"
        },
        "id": "sdQPZk3nU9cY",
        "outputId": "852d22b1-36e9-4951-b961-fb674a9f41f2"
      },
      "outputs": [
        {
          "data": {
            "text/plain": [
              "0.5533333333333333"
            ]
          },
          "execution_count": 5,
          "metadata": {},
          "output_type": "execute_result"
        }
      ],
      "source": [
        "labels.count(1)/len(labels)"
      ]
    },
    {
      "cell_type": "markdown",
      "metadata": {
        "id": "2kXjRgNa2gnR"
      },
      "source": [
        "Load pipeline from Wrangling notebook\n"
      ]
    },
    {
      "cell_type": "code",
      "execution_count": null,
      "metadata": {
        "colab": {
          "base_uri": "https://localhost:8080/"
        },
        "id": "kauuG1GQ7au-",
        "outputId": "24d4f73c-d0df-4162-dfec-a76c3247a8ae"
      },
      "outputs": [
        {
          "name": "stdout",
          "output_type": "stream",
          "text": [
            "rm: cannot remove 'final_fully_fitted_pipeline.pkl': No such file or directory\n",
            "--2025-06-13 23:35:15--  https://raw.githubusercontent.com/kwoeser/CS423/main/final/models/final_fully_fitted_pipeline.pkl\n",
            "Resolving raw.githubusercontent.com (raw.githubusercontent.com)... 185.199.108.133, 185.199.109.133, 185.199.110.133, ...\n",
            "Connecting to raw.githubusercontent.com (raw.githubusercontent.com)|185.199.108.133|:443... connected.\n",
            "HTTP request sent, awaiting response... 200 OK\n",
            "Length: 47954 (47K) [application/octet-stream]\n",
            "Saving to: ‘final_fully_fitted_pipeline.pkl’\n",
            "\n",
            "final_fully_fitted_ 100%[===================>]  46.83K  --.-KB/s    in 0.01s   \n",
            "\n",
            "2025-06-13 23:35:15 (3.65 MB/s) - ‘final_fully_fitted_pipeline.pkl’ saved [47954/47954]\n",
            "\n"
          ]
        }
      ],
      "source": [
        "import joblib\n",
        "\n",
        "model_path = 'kwoeser/CS423/main/final/models/'\n",
        "full_path = f'https://raw.githubusercontent.com/{model_path}final_fully_fitted_pipeline.pkl'\n",
        "!rm 'final_fully_fitted_pipeline.pkl'\n",
        "!wget $full_path\n",
        "heart_transformer = joblib.load(\"final_fully_fitted_pipeline.pkl\")\n"
      ]
    },
    {
      "cell_type": "markdown",
      "metadata": {
        "id": "MElaQCi6qhnZ"
      },
      "source": [
        "# Step I. Break into numpy datasets"
      ]
    },
    {
      "cell_type": "code",
      "execution_count": null,
      "metadata": {
        "id": "g5XN6ImKT1qn"
      },
      "outputs": [],
      "source": [
        "%%capture\n",
        "rs = 33 #what you computed in wrangling notebook\n",
        "label_column = 'HeartDisease'  #change to name of your label column\n",
        "\n",
        "x_train,  x_test, y_train,  y_test = dataset_setup(heart, label_column, heart_transformer, rs=rs)"
      ]
    },
    {
      "cell_type": "code",
      "execution_count": null,
      "metadata": {
        "colab": {
          "base_uri": "https://localhost:8080/"
        },
        "id": "ML3-iCwB0aHy",
        "outputId": "e1c8bfaf-1792-457d-c152-9dc19b86b90e"
      },
      "outputs": [
        {
          "data": {
            "text/plain": [
              "720"
            ]
          },
          "execution_count": 8,
          "metadata": {},
          "output_type": "execute_result"
        }
      ],
      "source": [
        "len(x_train)"
      ]
    },
    {
      "cell_type": "markdown",
      "metadata": {
        "id": "v7gaAYxB0ElV"
      },
      "source": [
        "# II. Upsampling\n"
      ]
    },
    {
      "cell_type": "code",
      "execution_count": null,
      "metadata": {
        "colab": {
          "base_uri": "https://localhost:8080/"
        },
        "id": "jC-dGcVF0zz0",
        "outputId": "9425c1db-c42f-44a4-d299-c8ab90c7c776"
      },
      "outputs": [
        {
          "name": "stdout",
          "output_type": "stream",
          "text": [
            "New class distribution:\n",
            "Class 0: 1341 (44.71%)\n",
            "Class 1: 1658 (55.29%)\n",
            "Total samples: 2999\n"
          ]
        }
      ],
      "source": [
        "from imblearn.over_sampling import SMOTE\n",
        "\n",
        "# Calculate target numbers for 3000 total samples\n",
        "target_total = 3000\n",
        "pos_count = np.sum(y_train == 1)/len(y_train)\n",
        "neg_count = np.sum(y_train == 0)/len(y_train)\n",
        "target_0 = int(neg_count * target_total)  # 1950 samples\n",
        "target_1 = int(pos_count * target_total)  # 1050 samples\n",
        "\n",
        "# Create SMOTE instance with specified sampling strategy\n",
        "smote = SMOTE(sampling_strategy={0: target_0, 1: target_1}, random_state=42)\n",
        "x_resampled, y_resampled = smote.fit_resample(x_train, y_train)  # requires transformed data - cannot handle categorical columns\n",
        "\n",
        "# Verify the new distribution\n",
        "print(\"New class distribution:\")\n",
        "print(f\"Class 0: {sum(y_resampled == 0)} ({sum(y_resampled == 0)/len(y_resampled):.2%})\")\n",
        "print(f\"Class 1: {sum(y_resampled == 1)} ({sum(y_resampled == 1)/len(y_resampled):.2%})\")\n",
        "print(f\"Total samples: {len(y_resampled)}\")"
      ]
    },
    {
      "cell_type": "code",
      "execution_count": null,
      "metadata": {
        "id": "wZTVewpE4qBi"
      },
      "outputs": [],
      "source": [
        "#Uncomment if you want to use upsampled data\n",
        "\n",
        "x_train= x_resampled\n",
        "y_train = y_resampled"
      ]
    },
    {
      "cell_type": "markdown",
      "metadata": {
        "id": "9Afm0d0Cp4XN"
      },
      "source": [
        "# III. Setup Lime\n",
        "\n",
        "Reminder: Lime will help us explain to the user why we come up with the predictions we do."
      ]
    },
    {
      "cell_type": "code",
      "execution_count": null,
      "metadata": {
        "id": "3S-Te5VSvMgV"
      },
      "outputs": [],
      "source": [
        "%%capture\n",
        "!pip install lime"
      ]
    },
    {
      "cell_type": "code",
      "execution_count": null,
      "metadata": {
        "id": "6tcUkahpax_Y"
      },
      "outputs": [],
      "source": [
        "import lime\n",
        "from lime import lime_tabular"
      ]
    },
    {
      "cell_type": "code",
      "execution_count": null,
      "metadata": {
        "colab": {
          "base_uri": "https://localhost:8080/"
        },
        "id": "-zZk9bCU5OqU",
        "outputId": "f6b1212d-5932-4323-b478-ac9cfcdec1b5"
      },
      "outputs": [
        {
          "name": "stdout",
          "output_type": "stream",
          "text": [
            "['Cholesterol', 'MaxHR', 'Age', 'RestingBP', 'Sex', 'ST_Slope', 'RestingECG']\n"
          ]
        }
      ],
      "source": [
        "feature_names = features.columns.to_list()\n",
        "print(feature_names)"
      ]
    },
    {
      "cell_type": "code",
      "execution_count": null,
      "metadata": {
        "id": "7W0wZRRJWP7t"
      },
      "outputs": [],
      "source": [
        "explainer = lime.lime_tabular.LimeTabularExplainer(x_train,\n",
        "                    feature_names=feature_names,\n",
        "                    training_labels=y_train,\n",
        "                    class_names=[0,1], #label values\n",
        "                    verbose=True,\n",
        "                    mode='classification')\n",
        "\n"
      ]
    },
    {
      "cell_type": "markdown",
      "metadata": {
        "id": "jGVwZoX6rBMr"
      },
      "source": [
        "# IV. Write out to file\n"
      ]
    },
    {
      "cell_type": "code",
      "execution_count": null,
      "metadata": {
        "colab": {
          "base_uri": "https://localhost:8080/"
        },
        "id": "sVkCBYW69d0_",
        "outputId": "f54af10b-75e4-40e2-dc45-cacfa603f009"
      },
      "outputs": [
        {
          "name": "stdout",
          "output_type": "stream",
          "text": [
            "Requirement already satisfied: dill in /usr/local/lib/python3.11/dist-packages (0.3.7)\n"
          ]
        }
      ],
      "source": [
        "!pip install dill\n",
        "import dill as pickle\n",
        "with open('lime_explainer.pkl', 'wb') as file:\n",
        "    pickle.dump(explainer, file)\n",
        "\n",
        "#read it back in just as a test\n",
        "with open('lime_explainer.pkl', 'rb') as file:   #this will be in your webserver\n",
        "    explainer2 = pickle.load(file)"
      ]
    },
    {
      "cell_type": "markdown",
      "metadata": {
        "id": "GGD6ssbwd-DF"
      },
      "source": [
        "# V. KNN tuning\n",
        "\n"
      ]
    },
    {
      "cell_type": "code",
      "execution_count": null,
      "metadata": {
        "id": "VkYLeNXHz9Gx"
      },
      "outputs": [],
      "source": [
        "from sklearn.neighbors import KNeighborsClassifier\n",
        "from sklearn.metrics import roc_auc_score\n"
      ]
    },
    {
      "cell_type": "markdown",
      "metadata": {
        "id": "HxOsVk-yrslG"
      },
      "source": [
        "###Follow the steps"
      ]
    },
    {
      "cell_type": "code",
      "execution_count": null,
      "metadata": {
        "id": "R4qOZb8O_bfR"
      },
      "outputs": [],
      "source": [
        "param_grid = {\n",
        "    'n_neighbors': [3, 5, 7, 9, 11, 13, 15],\n",
        "    'weights': ['uniform', 'distance']\n",
        "}\n"
      ]
    },
    {
      "cell_type": "code",
      "execution_count": null,
      "metadata": {
        "colab": {
          "base_uri": "https://localhost:8080/"
        },
        "id": "CQQA0yLLk5qn",
        "outputId": "41e7b7f7-730c-4f2c-989e-2ac03ba00aee"
      },
      "outputs": [
        {
          "name": "stdout",
          "output_type": "stream",
          "text": [
            "n_iterations: 3\n",
            "n_required_iterations: 3\n",
            "n_possible_iterations: 3\n",
            "min_resources_: 333\n",
            "max_resources_: 2999\n",
            "aggressive_elimination: False\n",
            "factor: 3\n",
            "----------\n",
            "iter: 0\n",
            "n_candidates: 14\n",
            "n_resources: 333\n",
            "Fitting 5 folds for each of 14 candidates, totalling 70 fits\n",
            "----------\n",
            "iter: 1\n",
            "n_candidates: 5\n",
            "n_resources: 999\n",
            "Fitting 5 folds for each of 5 candidates, totalling 25 fits\n",
            "----------\n",
            "iter: 2\n",
            "n_candidates: 2\n",
            "n_resources: 2997\n",
            "Fitting 5 folds for each of 2 candidates, totalling 10 fits\n"
          ]
        }
      ],
      "source": [
        "knn_model = KNeighborsClassifier()\n",
        "grid_result = halving_search(knn_model, param_grid, x_train, y_train)"
      ]
    },
    {
      "cell_type": "code",
      "execution_count": null,
      "metadata": {
        "id": "JaKGKXdok5Vz"
      },
      "outputs": [],
      "source": [
        "best_knn_model = grid_result.best_estimator_\n",
        "grid_result.best_params_\n",
        "\n",
        "y_pred_probs = best_knn_model.predict_proba(x_test)[:, 1]\n",
        "thresholds = [i/100 for i in range(20, 81, 5)]\n",
        "results_df, fancy_df = threshold_results(thresholds, y_test, y_pred_probs)\n"
      ]
    },
    {
      "cell_type": "code",
      "execution_count": null,
      "metadata": {
        "colab": {
          "base_uri": "https://localhost:8080/"
        },
        "id": "K8oQS5ivlXqj",
        "outputId": "b7bbf65f-e320-481c-8999-ab30b2b0bb3b"
      },
      "outputs": [
        {
          "data": {
            "text/plain": [
              "0.7444444444444445"
            ]
          },
          "execution_count": 20,
          "metadata": {},
          "output_type": "execute_result"
        }
      ],
      "source": [
        "best_knn_model.score(x_test, y_test)"
      ]
    },
    {
      "cell_type": "code",
      "execution_count": null,
      "metadata": {
        "colab": {
          "base_uri": "https://localhost:8080/",
          "height": 470
        },
        "id": "dlA9ruPtlX37",
        "outputId": "da90ac1e-f318-4b4d-fa8e-ccd8da572076"
      },
      "outputs": [
        {
          "data": {
            "text/html": [
              "<style type=\"text/css\">\n",
              "#T_afa99 th:not(.index_name) {\n",
              "  background-color: #800000;\n",
              "  color: white;\n",
              "  text-align: center;\n",
              "}\n",
              "#T_afa99_row0_col0, #T_afa99_row0_col1, #T_afa99_row0_col3, #T_afa99_row0_col5, #T_afa99_row1_col0, #T_afa99_row1_col1, #T_afa99_row1_col2, #T_afa99_row1_col3, #T_afa99_row1_col5, #T_afa99_row2_col0, #T_afa99_row2_col1, #T_afa99_row2_col2, #T_afa99_row2_col3, #T_afa99_row2_col5, #T_afa99_row3_col0, #T_afa99_row3_col1, #T_afa99_row3_col2, #T_afa99_row4_col0, #T_afa99_row4_col1, #T_afa99_row4_col2, #T_afa99_row4_col3, #T_afa99_row4_col5, #T_afa99_row5_col0, #T_afa99_row5_col1, #T_afa99_row5_col2, #T_afa99_row5_col3, #T_afa99_row5_col5, #T_afa99_row6_col0, #T_afa99_row6_col1, #T_afa99_row6_col2, #T_afa99_row6_col3, #T_afa99_row6_col5, #T_afa99_row7_col0, #T_afa99_row7_col1, #T_afa99_row7_col2, #T_afa99_row7_col3, #T_afa99_row7_col5, #T_afa99_row8_col0, #T_afa99_row8_col1, #T_afa99_row8_col2, #T_afa99_row8_col3, #T_afa99_row8_col5, #T_afa99_row9_col0, #T_afa99_row9_col1, #T_afa99_row9_col2, #T_afa99_row9_col3, #T_afa99_row9_col5, #T_afa99_row10_col0, #T_afa99_row10_col1, #T_afa99_row10_col2, #T_afa99_row10_col3, #T_afa99_row10_col5, #T_afa99_row11_col0, #T_afa99_row11_col1, #T_afa99_row11_col2, #T_afa99_row11_col3, #T_afa99_row11_col5, #T_afa99_row12_col2, #T_afa99_row12_col3, #T_afa99_row12_col5 {\n",
              "  border: 1px solid black;\n",
              "  width: 65px;\n",
              "  text-align: center;\n",
              "}\n",
              "#T_afa99_row0_col2, #T_afa99_row0_col4, #T_afa99_row1_col4, #T_afa99_row2_col4, #T_afa99_row3_col3, #T_afa99_row3_col4, #T_afa99_row3_col5, #T_afa99_row4_col4, #T_afa99_row5_col4, #T_afa99_row6_col4, #T_afa99_row7_col4, #T_afa99_row8_col4, #T_afa99_row9_col4, #T_afa99_row10_col4, #T_afa99_row11_col4, #T_afa99_row12_col0, #T_afa99_row12_col1, #T_afa99_row12_col4 {\n",
              "  background-color: pink;\n",
              "  border: 1px solid black;\n",
              "  width: 65px;\n",
              "  text-align: center;\n",
              "}\n",
              "</style>\n",
              "<table id=\"T_afa99\" class=\"dataframe\">\n",
              "  <thead>\n",
              "    <tr>\n",
              "      <th class=\"blank level0\" >&nbsp;</th>\n",
              "      <th id=\"T_afa99_level0_col0\" class=\"col_heading level0 col0\" >threshold</th>\n",
              "      <th id=\"T_afa99_level0_col1\" class=\"col_heading level0 col1\" >precision</th>\n",
              "      <th id=\"T_afa99_level0_col2\" class=\"col_heading level0 col2\" >recall</th>\n",
              "      <th id=\"T_afa99_level0_col3\" class=\"col_heading level0 col3\" >f1</th>\n",
              "      <th id=\"T_afa99_level0_col4\" class=\"col_heading level0 col4\" >auc</th>\n",
              "      <th id=\"T_afa99_level0_col5\" class=\"col_heading level0 col5\" >accuracy</th>\n",
              "    </tr>\n",
              "  </thead>\n",
              "  <tbody>\n",
              "    <tr>\n",
              "      <th id=\"T_afa99_level0_row0\" class=\"row_heading level0 row0\" >0</th>\n",
              "      <td id=\"T_afa99_row0_col0\" class=\"data row0 col0\" >0.20</td>\n",
              "      <td id=\"T_afa99_row0_col1\" class=\"data row0 col1\" >0.72</td>\n",
              "      <td id=\"T_afa99_row0_col2\" class=\"data row0 col2\" >0.91</td>\n",
              "      <td id=\"T_afa99_row0_col3\" class=\"data row0 col3\" >0.80</td>\n",
              "      <td id=\"T_afa99_row0_col4\" class=\"data row0 col4\" >0.80</td>\n",
              "      <td id=\"T_afa99_row0_col5\" class=\"data row0 col5\" >0.75</td>\n",
              "    </tr>\n",
              "    <tr>\n",
              "      <th id=\"T_afa99_level0_row1\" class=\"row_heading level0 row1\" >1</th>\n",
              "      <td id=\"T_afa99_row1_col0\" class=\"data row1 col0\" >0.25</td>\n",
              "      <td id=\"T_afa99_row1_col1\" class=\"data row1 col1\" >0.72</td>\n",
              "      <td id=\"T_afa99_row1_col2\" class=\"data row1 col2\" >0.89</td>\n",
              "      <td id=\"T_afa99_row1_col3\" class=\"data row1 col3\" >0.79</td>\n",
              "      <td id=\"T_afa99_row1_col4\" class=\"data row1 col4\" >0.80</td>\n",
              "      <td id=\"T_afa99_row1_col5\" class=\"data row1 col5\" >0.74</td>\n",
              "    </tr>\n",
              "    <tr>\n",
              "      <th id=\"T_afa99_level0_row2\" class=\"row_heading level0 row2\" >2</th>\n",
              "      <td id=\"T_afa99_row2_col0\" class=\"data row2 col0\" >0.30</td>\n",
              "      <td id=\"T_afa99_row2_col1\" class=\"data row2 col1\" >0.75</td>\n",
              "      <td id=\"T_afa99_row2_col2\" class=\"data row2 col2\" >0.86</td>\n",
              "      <td id=\"T_afa99_row2_col3\" class=\"data row2 col3\" >0.80</td>\n",
              "      <td id=\"T_afa99_row2_col4\" class=\"data row2 col4\" >0.80</td>\n",
              "      <td id=\"T_afa99_row2_col5\" class=\"data row2 col5\" >0.76</td>\n",
              "    </tr>\n",
              "    <tr>\n",
              "      <th id=\"T_afa99_level0_row3\" class=\"row_heading level0 row3\" >3</th>\n",
              "      <td id=\"T_afa99_row3_col0\" class=\"data row3 col0\" >0.35</td>\n",
              "      <td id=\"T_afa99_row3_col1\" class=\"data row3 col1\" >0.76</td>\n",
              "      <td id=\"T_afa99_row3_col2\" class=\"data row3 col2\" >0.86</td>\n",
              "      <td id=\"T_afa99_row3_col3\" class=\"data row3 col3\" >0.81</td>\n",
              "      <td id=\"T_afa99_row3_col4\" class=\"data row3 col4\" >0.80</td>\n",
              "      <td id=\"T_afa99_row3_col5\" class=\"data row3 col5\" >0.77</td>\n",
              "    </tr>\n",
              "    <tr>\n",
              "      <th id=\"T_afa99_level0_row4\" class=\"row_heading level0 row4\" >4</th>\n",
              "      <td id=\"T_afa99_row4_col0\" class=\"data row4 col0\" >0.40</td>\n",
              "      <td id=\"T_afa99_row4_col1\" class=\"data row4 col1\" >0.76</td>\n",
              "      <td id=\"T_afa99_row4_col2\" class=\"data row4 col2\" >0.84</td>\n",
              "      <td id=\"T_afa99_row4_col3\" class=\"data row4 col3\" >0.80</td>\n",
              "      <td id=\"T_afa99_row4_col4\" class=\"data row4 col4\" >0.80</td>\n",
              "      <td id=\"T_afa99_row4_col5\" class=\"data row4 col5\" >0.76</td>\n",
              "    </tr>\n",
              "    <tr>\n",
              "      <th id=\"T_afa99_level0_row5\" class=\"row_heading level0 row5\" >5</th>\n",
              "      <td id=\"T_afa99_row5_col0\" class=\"data row5 col0\" >0.45</td>\n",
              "      <td id=\"T_afa99_row5_col1\" class=\"data row5 col1\" >0.75</td>\n",
              "      <td id=\"T_afa99_row5_col2\" class=\"data row5 col2\" >0.80</td>\n",
              "      <td id=\"T_afa99_row5_col3\" class=\"data row5 col3\" >0.78</td>\n",
              "      <td id=\"T_afa99_row5_col4\" class=\"data row5 col4\" >0.80</td>\n",
              "      <td id=\"T_afa99_row5_col5\" class=\"data row5 col5\" >0.74</td>\n",
              "    </tr>\n",
              "    <tr>\n",
              "      <th id=\"T_afa99_level0_row6\" class=\"row_heading level0 row6\" >6</th>\n",
              "      <td id=\"T_afa99_row6_col0\" class=\"data row6 col0\" >0.50</td>\n",
              "      <td id=\"T_afa99_row6_col1\" class=\"data row6 col1\" >0.75</td>\n",
              "      <td id=\"T_afa99_row6_col2\" class=\"data row6 col2\" >0.80</td>\n",
              "      <td id=\"T_afa99_row6_col3\" class=\"data row6 col3\" >0.78</td>\n",
              "      <td id=\"T_afa99_row6_col4\" class=\"data row6 col4\" >0.80</td>\n",
              "      <td id=\"T_afa99_row6_col5\" class=\"data row6 col5\" >0.74</td>\n",
              "    </tr>\n",
              "    <tr>\n",
              "      <th id=\"T_afa99_level0_row7\" class=\"row_heading level0 row7\" >7</th>\n",
              "      <td id=\"T_afa99_row7_col0\" class=\"data row7 col0\" >0.55</td>\n",
              "      <td id=\"T_afa99_row7_col1\" class=\"data row7 col1\" >0.75</td>\n",
              "      <td id=\"T_afa99_row7_col2\" class=\"data row7 col2\" >0.76</td>\n",
              "      <td id=\"T_afa99_row7_col3\" class=\"data row7 col3\" >0.76</td>\n",
              "      <td id=\"T_afa99_row7_col4\" class=\"data row7 col4\" >0.80</td>\n",
              "      <td id=\"T_afa99_row7_col5\" class=\"data row7 col5\" >0.73</td>\n",
              "    </tr>\n",
              "    <tr>\n",
              "      <th id=\"T_afa99_level0_row8\" class=\"row_heading level0 row8\" >8</th>\n",
              "      <td id=\"T_afa99_row8_col0\" class=\"data row8 col0\" >0.60</td>\n",
              "      <td id=\"T_afa99_row8_col1\" class=\"data row8 col1\" >0.77</td>\n",
              "      <td id=\"T_afa99_row8_col2\" class=\"data row8 col2\" >0.73</td>\n",
              "      <td id=\"T_afa99_row8_col3\" class=\"data row8 col3\" >0.75</td>\n",
              "      <td id=\"T_afa99_row8_col4\" class=\"data row8 col4\" >0.80</td>\n",
              "      <td id=\"T_afa99_row8_col5\" class=\"data row8 col5\" >0.73</td>\n",
              "    </tr>\n",
              "    <tr>\n",
              "      <th id=\"T_afa99_level0_row9\" class=\"row_heading level0 row9\" >9</th>\n",
              "      <td id=\"T_afa99_row9_col0\" class=\"data row9 col0\" >0.65</td>\n",
              "      <td id=\"T_afa99_row9_col1\" class=\"data row9 col1\" >0.76</td>\n",
              "      <td id=\"T_afa99_row9_col2\" class=\"data row9 col2\" >0.68</td>\n",
              "      <td id=\"T_afa99_row9_col3\" class=\"data row9 col3\" >0.72</td>\n",
              "      <td id=\"T_afa99_row9_col4\" class=\"data row9 col4\" >0.80</td>\n",
              "      <td id=\"T_afa99_row9_col5\" class=\"data row9 col5\" >0.71</td>\n",
              "    </tr>\n",
              "    <tr>\n",
              "      <th id=\"T_afa99_level0_row10\" class=\"row_heading level0 row10\" >10</th>\n",
              "      <td id=\"T_afa99_row10_col0\" class=\"data row10 col0\" >0.70</td>\n",
              "      <td id=\"T_afa99_row10_col1\" class=\"data row10 col1\" >0.76</td>\n",
              "      <td id=\"T_afa99_row10_col2\" class=\"data row10 col2\" >0.65</td>\n",
              "      <td id=\"T_afa99_row10_col3\" class=\"data row10 col3\" >0.70</td>\n",
              "      <td id=\"T_afa99_row10_col4\" class=\"data row10 col4\" >0.80</td>\n",
              "      <td id=\"T_afa99_row10_col5\" class=\"data row10 col5\" >0.69</td>\n",
              "    </tr>\n",
              "    <tr>\n",
              "      <th id=\"T_afa99_level0_row11\" class=\"row_heading level0 row11\" >11</th>\n",
              "      <td id=\"T_afa99_row11_col0\" class=\"data row11 col0\" >0.75</td>\n",
              "      <td id=\"T_afa99_row11_col1\" class=\"data row11 col1\" >0.78</td>\n",
              "      <td id=\"T_afa99_row11_col2\" class=\"data row11 col2\" >0.62</td>\n",
              "      <td id=\"T_afa99_row11_col3\" class=\"data row11 col3\" >0.69</td>\n",
              "      <td id=\"T_afa99_row11_col4\" class=\"data row11 col4\" >0.80</td>\n",
              "      <td id=\"T_afa99_row11_col5\" class=\"data row11 col5\" >0.69</td>\n",
              "    </tr>\n",
              "    <tr>\n",
              "      <th id=\"T_afa99_level0_row12\" class=\"row_heading level0 row12\" >12</th>\n",
              "      <td id=\"T_afa99_row12_col0\" class=\"data row12 col0\" >0.80</td>\n",
              "      <td id=\"T_afa99_row12_col1\" class=\"data row12 col1\" >0.79</td>\n",
              "      <td id=\"T_afa99_row12_col2\" class=\"data row12 col2\" >0.61</td>\n",
              "      <td id=\"T_afa99_row12_col3\" class=\"data row12 col3\" >0.69</td>\n",
              "      <td id=\"T_afa99_row12_col4\" class=\"data row12 col4\" >0.80</td>\n",
              "      <td id=\"T_afa99_row12_col5\" class=\"data row12 col5\" >0.69</td>\n",
              "    </tr>\n",
              "  </tbody>\n",
              "</table>\n"
            ],
            "text/plain": [
              "<pandas.io.formats.style.Styler at 0x797ad1c7e3d0>"
            ]
          },
          "execution_count": 21,
          "metadata": {},
          "output_type": "execute_result"
        }
      ],
      "source": [
        "fancy_df"
      ]
    },
    {
      "cell_type": "code",
      "execution_count": null,
      "metadata": {
        "id": "8BMdgenyk5K9"
      },
      "outputs": [],
      "source": [
        "# Save model and thresholds\n",
        "joblib.dump(best_knn_model, 'final_knn_model.joblib')\n",
        "results_df.to_csv('final_knn_thresholds.csv', index=False)"
      ]
    },
    {
      "cell_type": "markdown",
      "metadata": {
        "id": "rNjvW2ZVhN6A"
      },
      "source": [
        "# VI. Logistic Regression tuning\n",
        "\n"
      ]
    },
    {
      "cell_type": "code",
      "execution_count": null,
      "metadata": {
        "id": "MX3iQcLFhiHB"
      },
      "outputs": [],
      "source": [
        "from sklearn.linear_model import LogisticRegressionCV"
      ]
    },
    {
      "cell_type": "code",
      "execution_count": null,
      "metadata": {
        "id": "xhIvRXj5_skI"
      },
      "outputs": [],
      "source": [
        "logreg_model = LogisticRegressionCV(\n",
        "    Cs=10,\n",
        "    cv=5,\n",
        "    penalty='l1',\n",
        "    solver='saga',\n",
        "    random_state=rs,\n",
        "    max_iter=1000,\n",
        "    n_jobs=-1\n",
        ")\n"
      ]
    },
    {
      "cell_type": "code",
      "execution_count": null,
      "metadata": {
        "colab": {
          "base_uri": "https://localhost:8080/"
        },
        "id": "ipOo-1mMlpSm",
        "outputId": "84b17cc0-b087-4c9a-cd3c-26cad3d7bc02"
      },
      "outputs": [
        {
          "name": "stdout",
          "output_type": "stream",
          "text": [
            "Best parameter: 21.54434690031882\n"
          ]
        }
      ],
      "source": [
        "logreg_model.fit(x_train, y_train)\n",
        "print(f\"Best parameter: {logreg_model.C_[0]}\")"
      ]
    },
    {
      "cell_type": "code",
      "execution_count": null,
      "metadata": {
        "id": "CAeIeeyLlvtp"
      },
      "outputs": [],
      "source": [
        "y_pred_probs = logreg_model.predict_proba(x_test)[:, 1]\n",
        "results_df, fancy_df = threshold_results(thresholds, y_test, y_pred_probs)"
      ]
    },
    {
      "cell_type": "code",
      "execution_count": null,
      "metadata": {
        "colab": {
          "base_uri": "https://localhost:8080/"
        },
        "id": "hNBg6r5v9d15",
        "outputId": "8cbefec4-b3be-4795-bac1-00da8c227ffd"
      },
      "outputs": [
        {
          "data": {
            "text/plain": [
              "0.7777777777777778"
            ]
          },
          "execution_count": 27,
          "metadata": {},
          "output_type": "execute_result"
        }
      ],
      "source": [
        "logreg_model.score(x_test, y_test)"
      ]
    },
    {
      "cell_type": "code",
      "execution_count": null,
      "metadata": {
        "colab": {
          "base_uri": "https://localhost:8080/",
          "height": 470
        },
        "id": "ERSUbDQD9b28",
        "outputId": "5908c4f5-1665-4f4e-cdc3-06c9a337cc3f"
      },
      "outputs": [
        {
          "data": {
            "text/html": [
              "<style type=\"text/css\">\n",
              "#T_e5a9a th:not(.index_name) {\n",
              "  background-color: #800000;\n",
              "  color: white;\n",
              "  text-align: center;\n",
              "}\n",
              "#T_e5a9a_row0_col0, #T_e5a9a_row0_col1, #T_e5a9a_row0_col5, #T_e5a9a_row1_col0, #T_e5a9a_row1_col1, #T_e5a9a_row1_col2, #T_e5a9a_row2_col0, #T_e5a9a_row2_col1, #T_e5a9a_row2_col2, #T_e5a9a_row3_col0, #T_e5a9a_row3_col1, #T_e5a9a_row3_col2, #T_e5a9a_row4_col0, #T_e5a9a_row4_col1, #T_e5a9a_row4_col2, #T_e5a9a_row4_col3, #T_e5a9a_row4_col5, #T_e5a9a_row5_col0, #T_e5a9a_row5_col1, #T_e5a9a_row5_col2, #T_e5a9a_row5_col3, #T_e5a9a_row5_col5, #T_e5a9a_row6_col0, #T_e5a9a_row6_col1, #T_e5a9a_row6_col2, #T_e5a9a_row6_col3, #T_e5a9a_row6_col5, #T_e5a9a_row7_col0, #T_e5a9a_row7_col1, #T_e5a9a_row7_col2, #T_e5a9a_row7_col3, #T_e5a9a_row7_col5, #T_e5a9a_row8_col0, #T_e5a9a_row8_col2, #T_e5a9a_row8_col3, #T_e5a9a_row8_col5, #T_e5a9a_row9_col0, #T_e5a9a_row9_col2, #T_e5a9a_row9_col3, #T_e5a9a_row9_col5, #T_e5a9a_row10_col0, #T_e5a9a_row10_col2, #T_e5a9a_row10_col3, #T_e5a9a_row10_col5, #T_e5a9a_row11_col0, #T_e5a9a_row11_col2, #T_e5a9a_row11_col3, #T_e5a9a_row11_col5, #T_e5a9a_row12_col2, #T_e5a9a_row12_col3, #T_e5a9a_row12_col5 {\n",
              "  border: 1px solid black;\n",
              "  width: 65px;\n",
              "  text-align: center;\n",
              "}\n",
              "#T_e5a9a_row0_col2, #T_e5a9a_row0_col3, #T_e5a9a_row0_col4, #T_e5a9a_row1_col3, #T_e5a9a_row1_col4, #T_e5a9a_row1_col5, #T_e5a9a_row2_col3, #T_e5a9a_row2_col4, #T_e5a9a_row2_col5, #T_e5a9a_row3_col3, #T_e5a9a_row3_col4, #T_e5a9a_row3_col5, #T_e5a9a_row4_col4, #T_e5a9a_row5_col4, #T_e5a9a_row6_col4, #T_e5a9a_row7_col4, #T_e5a9a_row8_col1, #T_e5a9a_row8_col4, #T_e5a9a_row9_col1, #T_e5a9a_row9_col4, #T_e5a9a_row10_col1, #T_e5a9a_row10_col4, #T_e5a9a_row11_col1, #T_e5a9a_row11_col4, #T_e5a9a_row12_col0, #T_e5a9a_row12_col1, #T_e5a9a_row12_col4 {\n",
              "  background-color: pink;\n",
              "  border: 1px solid black;\n",
              "  width: 65px;\n",
              "  text-align: center;\n",
              "}\n",
              "</style>\n",
              "<table id=\"T_e5a9a\" class=\"dataframe\">\n",
              "  <thead>\n",
              "    <tr>\n",
              "      <th class=\"blank level0\" >&nbsp;</th>\n",
              "      <th id=\"T_e5a9a_level0_col0\" class=\"col_heading level0 col0\" >threshold</th>\n",
              "      <th id=\"T_e5a9a_level0_col1\" class=\"col_heading level0 col1\" >precision</th>\n",
              "      <th id=\"T_e5a9a_level0_col2\" class=\"col_heading level0 col2\" >recall</th>\n",
              "      <th id=\"T_e5a9a_level0_col3\" class=\"col_heading level0 col3\" >f1</th>\n",
              "      <th id=\"T_e5a9a_level0_col4\" class=\"col_heading level0 col4\" >auc</th>\n",
              "      <th id=\"T_e5a9a_level0_col5\" class=\"col_heading level0 col5\" >accuracy</th>\n",
              "    </tr>\n",
              "  </thead>\n",
              "  <tbody>\n",
              "    <tr>\n",
              "      <th id=\"T_e5a9a_level0_row0\" class=\"row_heading level0 row0\" >0</th>\n",
              "      <td id=\"T_e5a9a_row0_col0\" class=\"data row0 col0\" >0.20</td>\n",
              "      <td id=\"T_e5a9a_row0_col1\" class=\"data row0 col1\" >0.75</td>\n",
              "      <td id=\"T_e5a9a_row0_col2\" class=\"data row0 col2\" >0.95</td>\n",
              "      <td id=\"T_e5a9a_row0_col3\" class=\"data row0 col3\" >0.84</td>\n",
              "      <td id=\"T_e5a9a_row0_col4\" class=\"data row0 col4\" >0.89</td>\n",
              "      <td id=\"T_e5a9a_row0_col5\" class=\"data row0 col5\" >0.79</td>\n",
              "    </tr>\n",
              "    <tr>\n",
              "      <th id=\"T_e5a9a_level0_row1\" class=\"row_heading level0 row1\" >1</th>\n",
              "      <td id=\"T_e5a9a_row1_col0\" class=\"data row1 col0\" >0.25</td>\n",
              "      <td id=\"T_e5a9a_row1_col1\" class=\"data row1 col1\" >0.78</td>\n",
              "      <td id=\"T_e5a9a_row1_col2\" class=\"data row1 col2\" >0.91</td>\n",
              "      <td id=\"T_e5a9a_row1_col3\" class=\"data row1 col3\" >0.84</td>\n",
              "      <td id=\"T_e5a9a_row1_col4\" class=\"data row1 col4\" >0.89</td>\n",
              "      <td id=\"T_e5a9a_row1_col5\" class=\"data row1 col5\" >0.81</td>\n",
              "    </tr>\n",
              "    <tr>\n",
              "      <th id=\"T_e5a9a_level0_row2\" class=\"row_heading level0 row2\" >2</th>\n",
              "      <td id=\"T_e5a9a_row2_col0\" class=\"data row2 col0\" >0.30</td>\n",
              "      <td id=\"T_e5a9a_row2_col1\" class=\"data row2 col1\" >0.79</td>\n",
              "      <td id=\"T_e5a9a_row2_col2\" class=\"data row2 col2\" >0.89</td>\n",
              "      <td id=\"T_e5a9a_row2_col3\" class=\"data row2 col3\" >0.84</td>\n",
              "      <td id=\"T_e5a9a_row2_col4\" class=\"data row2 col4\" >0.89</td>\n",
              "      <td id=\"T_e5a9a_row2_col5\" class=\"data row2 col5\" >0.81</td>\n",
              "    </tr>\n",
              "    <tr>\n",
              "      <th id=\"T_e5a9a_level0_row3\" class=\"row_heading level0 row3\" >3</th>\n",
              "      <td id=\"T_e5a9a_row3_col0\" class=\"data row3 col0\" >0.35</td>\n",
              "      <td id=\"T_e5a9a_row3_col1\" class=\"data row3 col1\" >0.81</td>\n",
              "      <td id=\"T_e5a9a_row3_col2\" class=\"data row3 col2\" >0.87</td>\n",
              "      <td id=\"T_e5a9a_row3_col3\" class=\"data row3 col3\" >0.84</td>\n",
              "      <td id=\"T_e5a9a_row3_col4\" class=\"data row3 col4\" >0.89</td>\n",
              "      <td id=\"T_e5a9a_row3_col5\" class=\"data row3 col5\" >0.81</td>\n",
              "    </tr>\n",
              "    <tr>\n",
              "      <th id=\"T_e5a9a_level0_row4\" class=\"row_heading level0 row4\" >4</th>\n",
              "      <td id=\"T_e5a9a_row4_col0\" class=\"data row4 col0\" >0.40</td>\n",
              "      <td id=\"T_e5a9a_row4_col1\" class=\"data row4 col1\" >0.81</td>\n",
              "      <td id=\"T_e5a9a_row4_col2\" class=\"data row4 col2\" >0.83</td>\n",
              "      <td id=\"T_e5a9a_row4_col3\" class=\"data row4 col3\" >0.82</td>\n",
              "      <td id=\"T_e5a9a_row4_col4\" class=\"data row4 col4\" >0.89</td>\n",
              "      <td id=\"T_e5a9a_row4_col5\" class=\"data row4 col5\" >0.80</td>\n",
              "    </tr>\n",
              "    <tr>\n",
              "      <th id=\"T_e5a9a_level0_row5\" class=\"row_heading level0 row5\" >5</th>\n",
              "      <td id=\"T_e5a9a_row5_col0\" class=\"data row5 col0\" >0.45</td>\n",
              "      <td id=\"T_e5a9a_row5_col1\" class=\"data row5 col1\" >0.82</td>\n",
              "      <td id=\"T_e5a9a_row5_col2\" class=\"data row5 col2\" >0.81</td>\n",
              "      <td id=\"T_e5a9a_row5_col3\" class=\"data row5 col3\" >0.81</td>\n",
              "      <td id=\"T_e5a9a_row5_col4\" class=\"data row5 col4\" >0.89</td>\n",
              "      <td id=\"T_e5a9a_row5_col5\" class=\"data row5 col5\" >0.79</td>\n",
              "    </tr>\n",
              "    <tr>\n",
              "      <th id=\"T_e5a9a_level0_row6\" class=\"row_heading level0 row6\" >6</th>\n",
              "      <td id=\"T_e5a9a_row6_col0\" class=\"data row6 col0\" >0.50</td>\n",
              "      <td id=\"T_e5a9a_row6_col1\" class=\"data row6 col1\" >0.82</td>\n",
              "      <td id=\"T_e5a9a_row6_col2\" class=\"data row6 col2\" >0.77</td>\n",
              "      <td id=\"T_e5a9a_row6_col3\" class=\"data row6 col3\" >0.79</td>\n",
              "      <td id=\"T_e5a9a_row6_col4\" class=\"data row6 col4\" >0.89</td>\n",
              "      <td id=\"T_e5a9a_row6_col5\" class=\"data row6 col5\" >0.78</td>\n",
              "    </tr>\n",
              "    <tr>\n",
              "      <th id=\"T_e5a9a_level0_row7\" class=\"row_heading level0 row7\" >7</th>\n",
              "      <td id=\"T_e5a9a_row7_col0\" class=\"data row7 col0\" >0.55</td>\n",
              "      <td id=\"T_e5a9a_row7_col1\" class=\"data row7 col1\" >0.83</td>\n",
              "      <td id=\"T_e5a9a_row7_col2\" class=\"data row7 col2\" >0.77</td>\n",
              "      <td id=\"T_e5a9a_row7_col3\" class=\"data row7 col3\" >0.80</td>\n",
              "      <td id=\"T_e5a9a_row7_col4\" class=\"data row7 col4\" >0.89</td>\n",
              "      <td id=\"T_e5a9a_row7_col5\" class=\"data row7 col5\" >0.78</td>\n",
              "    </tr>\n",
              "    <tr>\n",
              "      <th id=\"T_e5a9a_level0_row8\" class=\"row_heading level0 row8\" >8</th>\n",
              "      <td id=\"T_e5a9a_row8_col0\" class=\"data row8 col0\" >0.60</td>\n",
              "      <td id=\"T_e5a9a_row8_col1\" class=\"data row8 col1\" >0.84</td>\n",
              "      <td id=\"T_e5a9a_row8_col2\" class=\"data row8 col2\" >0.77</td>\n",
              "      <td id=\"T_e5a9a_row8_col3\" class=\"data row8 col3\" >0.80</td>\n",
              "      <td id=\"T_e5a9a_row8_col4\" class=\"data row8 col4\" >0.89</td>\n",
              "      <td id=\"T_e5a9a_row8_col5\" class=\"data row8 col5\" >0.79</td>\n",
              "    </tr>\n",
              "    <tr>\n",
              "      <th id=\"T_e5a9a_level0_row9\" class=\"row_heading level0 row9\" >9</th>\n",
              "      <td id=\"T_e5a9a_row9_col0\" class=\"data row9 col0\" >0.65</td>\n",
              "      <td id=\"T_e5a9a_row9_col1\" class=\"data row9 col1\" >0.84</td>\n",
              "      <td id=\"T_e5a9a_row9_col2\" class=\"data row9 col2\" >0.75</td>\n",
              "      <td id=\"T_e5a9a_row9_col3\" class=\"data row9 col3\" >0.79</td>\n",
              "      <td id=\"T_e5a9a_row9_col4\" class=\"data row9 col4\" >0.89</td>\n",
              "      <td id=\"T_e5a9a_row9_col5\" class=\"data row9 col5\" >0.78</td>\n",
              "    </tr>\n",
              "    <tr>\n",
              "      <th id=\"T_e5a9a_level0_row10\" class=\"row_heading level0 row10\" >10</th>\n",
              "      <td id=\"T_e5a9a_row10_col0\" class=\"data row10 col0\" >0.70</td>\n",
              "      <td id=\"T_e5a9a_row10_col1\" class=\"data row10 col1\" >0.84</td>\n",
              "      <td id=\"T_e5a9a_row10_col2\" class=\"data row10 col2\" >0.73</td>\n",
              "      <td id=\"T_e5a9a_row10_col3\" class=\"data row10 col3\" >0.78</td>\n",
              "      <td id=\"T_e5a9a_row10_col4\" class=\"data row10 col4\" >0.89</td>\n",
              "      <td id=\"T_e5a9a_row10_col5\" class=\"data row10 col5\" >0.77</td>\n",
              "    </tr>\n",
              "    <tr>\n",
              "      <th id=\"T_e5a9a_level0_row11\" class=\"row_heading level0 row11\" >11</th>\n",
              "      <td id=\"T_e5a9a_row11_col0\" class=\"data row11 col0\" >0.75</td>\n",
              "      <td id=\"T_e5a9a_row11_col1\" class=\"data row11 col1\" >0.84</td>\n",
              "      <td id=\"T_e5a9a_row11_col2\" class=\"data row11 col2\" >0.72</td>\n",
              "      <td id=\"T_e5a9a_row11_col3\" class=\"data row11 col3\" >0.77</td>\n",
              "      <td id=\"T_e5a9a_row11_col4\" class=\"data row11 col4\" >0.89</td>\n",
              "      <td id=\"T_e5a9a_row11_col5\" class=\"data row11 col5\" >0.77</td>\n",
              "    </tr>\n",
              "    <tr>\n",
              "      <th id=\"T_e5a9a_level0_row12\" class=\"row_heading level0 row12\" >12</th>\n",
              "      <td id=\"T_e5a9a_row12_col0\" class=\"data row12 col0\" >0.80</td>\n",
              "      <td id=\"T_e5a9a_row12_col1\" class=\"data row12 col1\" >0.84</td>\n",
              "      <td id=\"T_e5a9a_row12_col2\" class=\"data row12 col2\" >0.72</td>\n",
              "      <td id=\"T_e5a9a_row12_col3\" class=\"data row12 col3\" >0.77</td>\n",
              "      <td id=\"T_e5a9a_row12_col4\" class=\"data row12 col4\" >0.89</td>\n",
              "      <td id=\"T_e5a9a_row12_col5\" class=\"data row12 col5\" >0.77</td>\n",
              "    </tr>\n",
              "  </tbody>\n",
              "</table>\n"
            ],
            "text/plain": [
              "<pandas.io.formats.style.Styler at 0x797acf1feb50>"
            ]
          },
          "execution_count": 28,
          "metadata": {},
          "output_type": "execute_result"
        }
      ],
      "source": [
        "fancy_df"
      ]
    },
    {
      "cell_type": "code",
      "execution_count": null,
      "metadata": {
        "id": "ozB-XWa1l1SW"
      },
      "outputs": [],
      "source": [
        "joblib.dump(logreg_model, 'final_logreg_model.pkl')\n",
        "results_df.to_csv('final_logreg_thresholds.csv', index=False)"
      ]
    },
    {
      "cell_type": "markdown",
      "metadata": {
        "id": "dxe6XuYciUY-"
      },
      "source": [
        "# VII. LGB tuning\n",
        "\n"
      ]
    },
    {
      "cell_type": "code",
      "execution_count": null,
      "metadata": {
        "id": "-wwjo5E4_436"
      },
      "outputs": [],
      "source": [
        "from lightgbm import LGBMClassifier"
      ]
    },
    {
      "cell_type": "code",
      "execution_count": null,
      "metadata": {
        "id": "-cjrLNnB_5hW"
      },
      "outputs": [],
      "source": [
        "param_grid = {\n",
        "    'n_estimators': [50, 100, 200],\n",
        "    'learning_rate': [0.01, 0.1, 0.2],\n",
        "    'num_leaves': [20, 31, 40],\n",
        "    'max_depth': [-1, 5, 10]\n",
        "}\n"
      ]
    },
    {
      "cell_type": "code",
      "execution_count": null,
      "metadata": {
        "colab": {
          "base_uri": "https://localhost:8080/"
        },
        "id": "aiBNQB0Xkici",
        "outputId": "aa6850ce-9936-41ef-c0e1-7959dd1ef488"
      },
      "outputs": [
        {
          "name": "stdout",
          "output_type": "stream",
          "text": [
            "n_iterations: 5\n",
            "n_required_iterations: 5\n",
            "n_possible_iterations: 5\n",
            "min_resources_: 37\n",
            "max_resources_: 2999\n",
            "aggressive_elimination: False\n",
            "factor: 3\n",
            "----------\n",
            "iter: 0\n",
            "n_candidates: 81\n",
            "n_resources: 37\n",
            "Fitting 5 folds for each of 81 candidates, totalling 405 fits\n",
            "----------\n",
            "iter: 1\n",
            "n_candidates: 27\n",
            "n_resources: 111\n",
            "Fitting 5 folds for each of 27 candidates, totalling 135 fits\n",
            "----------\n",
            "iter: 2\n",
            "n_candidates: 9\n",
            "n_resources: 333\n",
            "Fitting 5 folds for each of 9 candidates, totalling 45 fits\n",
            "----------\n",
            "iter: 3\n",
            "n_candidates: 3\n",
            "n_resources: 999\n",
            "Fitting 5 folds for each of 3 candidates, totalling 15 fits\n",
            "----------\n",
            "iter: 4\n",
            "n_candidates: 1\n",
            "n_resources: 2997\n",
            "Fitting 5 folds for each of 1 candidates, totalling 5 fits\n"
          ]
        },
        {
          "name": "stderr",
          "output_type": "stream",
          "text": [
            "/usr/local/lib/python3.11/dist-packages/sklearn/utils/deprecation.py:151: FutureWarning: 'force_all_finite' was renamed to 'ensure_all_finite' in 1.6 and will be removed in 1.8.\n",
            "  warnings.warn(\n"
          ]
        }
      ],
      "source": [
        "lgb = LGBMClassifier(random_state=rs, verbose=-1)\n",
        "grid_result = halving_search(lgb, param_grid, x_train, y_train)"
      ]
    },
    {
      "cell_type": "code",
      "execution_count": null,
      "metadata": {
        "colab": {
          "base_uri": "https://localhost:8080/"
        },
        "id": "1Q5gK84hkiyv",
        "outputId": "2c253f9b-2e9d-4143-cedd-4aa2bd50b290"
      },
      "outputs": [
        {
          "name": "stderr",
          "output_type": "stream",
          "text": [
            "/usr/local/lib/python3.11/dist-packages/sklearn/utils/deprecation.py:151: FutureWarning: 'force_all_finite' was renamed to 'ensure_all_finite' in 1.6 and will be removed in 1.8.\n",
            "  warnings.warn(\n"
          ]
        }
      ],
      "source": [
        "best_lgb = grid_result.best_estimator_\n",
        "grid_result.best_params_\n",
        "\n",
        "y_pred_probs = best_lgb.predict_proba(x_test)[:, 1]\n",
        "results_df, fancy_df = threshold_results(thresholds, y_test, y_pred_probs)\n"
      ]
    },
    {
      "cell_type": "code",
      "execution_count": null,
      "metadata": {
        "colab": {
          "base_uri": "https://localhost:8080/"
        },
        "id": "2i7btU5e-haX",
        "outputId": "f1320bc5-0908-45b0-ddeb-c4aeb2d006f0"
      },
      "outputs": [
        {
          "name": "stderr",
          "output_type": "stream",
          "text": [
            "/usr/local/lib/python3.11/dist-packages/sklearn/utils/deprecation.py:151: FutureWarning: 'force_all_finite' was renamed to 'ensure_all_finite' in 1.6 and will be removed in 1.8.\n",
            "  warnings.warn(\n"
          ]
        },
        {
          "data": {
            "text/plain": [
              "0.7833333333333333"
            ]
          },
          "execution_count": 34,
          "metadata": {},
          "output_type": "execute_result"
        }
      ],
      "source": [
        "best_lgb.score(x_test, y_test)"
      ]
    },
    {
      "cell_type": "code",
      "execution_count": null,
      "metadata": {
        "colab": {
          "base_uri": "https://localhost:8080/",
          "height": 470
        },
        "id": "uPrOQPc3-hx7",
        "outputId": "79f18e2e-e40e-4b3d-a953-e06a2dc34c59"
      },
      "outputs": [
        {
          "data": {
            "text/html": [
              "<style type=\"text/css\">\n",
              "#T_96eaa th:not(.index_name) {\n",
              "  background-color: #800000;\n",
              "  color: white;\n",
              "  text-align: center;\n",
              "}\n",
              "#T_96eaa_row0_col0, #T_96eaa_row0_col1, #T_96eaa_row0_col3, #T_96eaa_row1_col0, #T_96eaa_row1_col1, #T_96eaa_row1_col2, #T_96eaa_row2_col0, #T_96eaa_row2_col1, #T_96eaa_row2_col2, #T_96eaa_row3_col0, #T_96eaa_row3_col1, #T_96eaa_row3_col2, #T_96eaa_row3_col3, #T_96eaa_row4_col0, #T_96eaa_row4_col1, #T_96eaa_row4_col2, #T_96eaa_row4_col3, #T_96eaa_row5_col0, #T_96eaa_row5_col1, #T_96eaa_row5_col2, #T_96eaa_row5_col3, #T_96eaa_row6_col0, #T_96eaa_row6_col1, #T_96eaa_row6_col2, #T_96eaa_row6_col3, #T_96eaa_row7_col0, #T_96eaa_row7_col1, #T_96eaa_row7_col2, #T_96eaa_row7_col3, #T_96eaa_row8_col0, #T_96eaa_row8_col1, #T_96eaa_row8_col2, #T_96eaa_row8_col3, #T_96eaa_row9_col0, #T_96eaa_row9_col1, #T_96eaa_row9_col2, #T_96eaa_row9_col3, #T_96eaa_row10_col0, #T_96eaa_row10_col1, #T_96eaa_row10_col2, #T_96eaa_row10_col3, #T_96eaa_row11_col0, #T_96eaa_row11_col1, #T_96eaa_row11_col2, #T_96eaa_row11_col3, #T_96eaa_row12_col2, #T_96eaa_row12_col3, #T_96eaa_row12_col5 {\n",
              "  border: 1px solid black;\n",
              "  width: 65px;\n",
              "  text-align: center;\n",
              "}\n",
              "#T_96eaa_row0_col2, #T_96eaa_row0_col4, #T_96eaa_row0_col5, #T_96eaa_row1_col3, #T_96eaa_row1_col4, #T_96eaa_row1_col5, #T_96eaa_row2_col3, #T_96eaa_row2_col4, #T_96eaa_row2_col5, #T_96eaa_row3_col4, #T_96eaa_row3_col5, #T_96eaa_row4_col4, #T_96eaa_row4_col5, #T_96eaa_row5_col4, #T_96eaa_row5_col5, #T_96eaa_row6_col4, #T_96eaa_row6_col5, #T_96eaa_row7_col4, #T_96eaa_row7_col5, #T_96eaa_row8_col4, #T_96eaa_row8_col5, #T_96eaa_row9_col4, #T_96eaa_row9_col5, #T_96eaa_row10_col4, #T_96eaa_row10_col5, #T_96eaa_row11_col4, #T_96eaa_row11_col5, #T_96eaa_row12_col0, #T_96eaa_row12_col1, #T_96eaa_row12_col4 {\n",
              "  background-color: pink;\n",
              "  border: 1px solid black;\n",
              "  width: 65px;\n",
              "  text-align: center;\n",
              "}\n",
              "</style>\n",
              "<table id=\"T_96eaa\" class=\"dataframe\">\n",
              "  <thead>\n",
              "    <tr>\n",
              "      <th class=\"blank level0\" >&nbsp;</th>\n",
              "      <th id=\"T_96eaa_level0_col0\" class=\"col_heading level0 col0\" >threshold</th>\n",
              "      <th id=\"T_96eaa_level0_col1\" class=\"col_heading level0 col1\" >precision</th>\n",
              "      <th id=\"T_96eaa_level0_col2\" class=\"col_heading level0 col2\" >recall</th>\n",
              "      <th id=\"T_96eaa_level0_col3\" class=\"col_heading level0 col3\" >f1</th>\n",
              "      <th id=\"T_96eaa_level0_col4\" class=\"col_heading level0 col4\" >auc</th>\n",
              "      <th id=\"T_96eaa_level0_col5\" class=\"col_heading level0 col5\" >accuracy</th>\n",
              "    </tr>\n",
              "  </thead>\n",
              "  <tbody>\n",
              "    <tr>\n",
              "      <th id=\"T_96eaa_level0_row0\" class=\"row_heading level0 row0\" >0</th>\n",
              "      <td id=\"T_96eaa_row0_col0\" class=\"data row0 col0\" >0.20</td>\n",
              "      <td id=\"T_96eaa_row0_col1\" class=\"data row0 col1\" >0.76</td>\n",
              "      <td id=\"T_96eaa_row0_col2\" class=\"data row0 col2\" >0.88</td>\n",
              "      <td id=\"T_96eaa_row0_col3\" class=\"data row0 col3\" >0.81</td>\n",
              "      <td id=\"T_96eaa_row0_col4\" class=\"data row0 col4\" >0.85</td>\n",
              "      <td id=\"T_96eaa_row0_col5\" class=\"data row0 col5\" >0.78</td>\n",
              "    </tr>\n",
              "    <tr>\n",
              "      <th id=\"T_96eaa_level0_row1\" class=\"row_heading level0 row1\" >1</th>\n",
              "      <td id=\"T_96eaa_row1_col0\" class=\"data row1 col0\" >0.25</td>\n",
              "      <td id=\"T_96eaa_row1_col1\" class=\"data row1 col1\" >0.77</td>\n",
              "      <td id=\"T_96eaa_row1_col2\" class=\"data row1 col2\" >0.87</td>\n",
              "      <td id=\"T_96eaa_row1_col3\" class=\"data row1 col3\" >0.82</td>\n",
              "      <td id=\"T_96eaa_row1_col4\" class=\"data row1 col4\" >0.85</td>\n",
              "      <td id=\"T_96eaa_row1_col5\" class=\"data row1 col5\" >0.78</td>\n",
              "    </tr>\n",
              "    <tr>\n",
              "      <th id=\"T_96eaa_level0_row2\" class=\"row_heading level0 row2\" >2</th>\n",
              "      <td id=\"T_96eaa_row2_col0\" class=\"data row2 col0\" >0.30</td>\n",
              "      <td id=\"T_96eaa_row2_col1\" class=\"data row2 col1\" >0.77</td>\n",
              "      <td id=\"T_96eaa_row2_col2\" class=\"data row2 col2\" >0.86</td>\n",
              "      <td id=\"T_96eaa_row2_col3\" class=\"data row2 col3\" >0.82</td>\n",
              "      <td id=\"T_96eaa_row2_col4\" class=\"data row2 col4\" >0.85</td>\n",
              "      <td id=\"T_96eaa_row2_col5\" class=\"data row2 col5\" >0.78</td>\n",
              "    </tr>\n",
              "    <tr>\n",
              "      <th id=\"T_96eaa_level0_row3\" class=\"row_heading level0 row3\" >3</th>\n",
              "      <td id=\"T_96eaa_row3_col0\" class=\"data row3 col0\" >0.35</td>\n",
              "      <td id=\"T_96eaa_row3_col1\" class=\"data row3 col1\" >0.77</td>\n",
              "      <td id=\"T_96eaa_row3_col2\" class=\"data row3 col2\" >0.85</td>\n",
              "      <td id=\"T_96eaa_row3_col3\" class=\"data row3 col3\" >0.81</td>\n",
              "      <td id=\"T_96eaa_row3_col4\" class=\"data row3 col4\" >0.85</td>\n",
              "      <td id=\"T_96eaa_row3_col5\" class=\"data row3 col5\" >0.78</td>\n",
              "    </tr>\n",
              "    <tr>\n",
              "      <th id=\"T_96eaa_level0_row4\" class=\"row_heading level0 row4\" >4</th>\n",
              "      <td id=\"T_96eaa_row4_col0\" class=\"data row4 col0\" >0.40</td>\n",
              "      <td id=\"T_96eaa_row4_col1\" class=\"data row4 col1\" >0.78</td>\n",
              "      <td id=\"T_96eaa_row4_col2\" class=\"data row4 col2\" >0.84</td>\n",
              "      <td id=\"T_96eaa_row4_col3\" class=\"data row4 col3\" >0.81</td>\n",
              "      <td id=\"T_96eaa_row4_col4\" class=\"data row4 col4\" >0.85</td>\n",
              "      <td id=\"T_96eaa_row4_col5\" class=\"data row4 col5\" >0.78</td>\n",
              "    </tr>\n",
              "    <tr>\n",
              "      <th id=\"T_96eaa_level0_row5\" class=\"row_heading level0 row5\" >5</th>\n",
              "      <td id=\"T_96eaa_row5_col0\" class=\"data row5 col0\" >0.45</td>\n",
              "      <td id=\"T_96eaa_row5_col1\" class=\"data row5 col1\" >0.78</td>\n",
              "      <td id=\"T_96eaa_row5_col2\" class=\"data row5 col2\" >0.84</td>\n",
              "      <td id=\"T_96eaa_row5_col3\" class=\"data row5 col3\" >0.81</td>\n",
              "      <td id=\"T_96eaa_row5_col4\" class=\"data row5 col4\" >0.85</td>\n",
              "      <td id=\"T_96eaa_row5_col5\" class=\"data row5 col5\" >0.78</td>\n",
              "    </tr>\n",
              "    <tr>\n",
              "      <th id=\"T_96eaa_level0_row6\" class=\"row_heading level0 row6\" >6</th>\n",
              "      <td id=\"T_96eaa_row6_col0\" class=\"data row6 col0\" >0.50</td>\n",
              "      <td id=\"T_96eaa_row6_col1\" class=\"data row6 col1\" >0.79</td>\n",
              "      <td id=\"T_96eaa_row6_col2\" class=\"data row6 col2\" >0.84</td>\n",
              "      <td id=\"T_96eaa_row6_col3\" class=\"data row6 col3\" >0.81</td>\n",
              "      <td id=\"T_96eaa_row6_col4\" class=\"data row6 col4\" >0.85</td>\n",
              "      <td id=\"T_96eaa_row6_col5\" class=\"data row6 col5\" >0.78</td>\n",
              "    </tr>\n",
              "    <tr>\n",
              "      <th id=\"T_96eaa_level0_row7\" class=\"row_heading level0 row7\" >7</th>\n",
              "      <td id=\"T_96eaa_row7_col0\" class=\"data row7 col0\" >0.55</td>\n",
              "      <td id=\"T_96eaa_row7_col1\" class=\"data row7 col1\" >0.79</td>\n",
              "      <td id=\"T_96eaa_row7_col2\" class=\"data row7 col2\" >0.84</td>\n",
              "      <td id=\"T_96eaa_row7_col3\" class=\"data row7 col3\" >0.81</td>\n",
              "      <td id=\"T_96eaa_row7_col4\" class=\"data row7 col4\" >0.85</td>\n",
              "      <td id=\"T_96eaa_row7_col5\" class=\"data row7 col5\" >0.78</td>\n",
              "    </tr>\n",
              "    <tr>\n",
              "      <th id=\"T_96eaa_level0_row8\" class=\"row_heading level0 row8\" >8</th>\n",
              "      <td id=\"T_96eaa_row8_col0\" class=\"data row8 col0\" >0.60</td>\n",
              "      <td id=\"T_96eaa_row8_col1\" class=\"data row8 col1\" >0.79</td>\n",
              "      <td id=\"T_96eaa_row8_col2\" class=\"data row8 col2\" >0.84</td>\n",
              "      <td id=\"T_96eaa_row8_col3\" class=\"data row8 col3\" >0.81</td>\n",
              "      <td id=\"T_96eaa_row8_col4\" class=\"data row8 col4\" >0.85</td>\n",
              "      <td id=\"T_96eaa_row8_col5\" class=\"data row8 col5\" >0.78</td>\n",
              "    </tr>\n",
              "    <tr>\n",
              "      <th id=\"T_96eaa_level0_row9\" class=\"row_heading level0 row9\" >9</th>\n",
              "      <td id=\"T_96eaa_row9_col0\" class=\"data row9 col0\" >0.65</td>\n",
              "      <td id=\"T_96eaa_row9_col1\" class=\"data row9 col1\" >0.79</td>\n",
              "      <td id=\"T_96eaa_row9_col2\" class=\"data row9 col2\" >0.84</td>\n",
              "      <td id=\"T_96eaa_row9_col3\" class=\"data row9 col3\" >0.81</td>\n",
              "      <td id=\"T_96eaa_row9_col4\" class=\"data row9 col4\" >0.85</td>\n",
              "      <td id=\"T_96eaa_row9_col5\" class=\"data row9 col5\" >0.78</td>\n",
              "    </tr>\n",
              "    <tr>\n",
              "      <th id=\"T_96eaa_level0_row10\" class=\"row_heading level0 row10\" >10</th>\n",
              "      <td id=\"T_96eaa_row10_col0\" class=\"data row10 col0\" >0.70</td>\n",
              "      <td id=\"T_96eaa_row10_col1\" class=\"data row10 col1\" >0.78</td>\n",
              "      <td id=\"T_96eaa_row10_col2\" class=\"data row10 col2\" >0.83</td>\n",
              "      <td id=\"T_96eaa_row10_col3\" class=\"data row10 col3\" >0.81</td>\n",
              "      <td id=\"T_96eaa_row10_col4\" class=\"data row10 col4\" >0.85</td>\n",
              "      <td id=\"T_96eaa_row10_col5\" class=\"data row10 col5\" >0.78</td>\n",
              "    </tr>\n",
              "    <tr>\n",
              "      <th id=\"T_96eaa_level0_row11\" class=\"row_heading level0 row11\" >11</th>\n",
              "      <td id=\"T_96eaa_row11_col0\" class=\"data row11 col0\" >0.75</td>\n",
              "      <td id=\"T_96eaa_row11_col1\" class=\"data row11 col1\" >0.79</td>\n",
              "      <td id=\"T_96eaa_row11_col2\" class=\"data row11 col2\" >0.83</td>\n",
              "      <td id=\"T_96eaa_row11_col3\" class=\"data row11 col3\" >0.81</td>\n",
              "      <td id=\"T_96eaa_row11_col4\" class=\"data row11 col4\" >0.85</td>\n",
              "      <td id=\"T_96eaa_row11_col5\" class=\"data row11 col5\" >0.78</td>\n",
              "    </tr>\n",
              "    <tr>\n",
              "      <th id=\"T_96eaa_level0_row12\" class=\"row_heading level0 row12\" >12</th>\n",
              "      <td id=\"T_96eaa_row12_col0\" class=\"data row12 col0\" >0.80</td>\n",
              "      <td id=\"T_96eaa_row12_col1\" class=\"data row12 col1\" >0.80</td>\n",
              "      <td id=\"T_96eaa_row12_col2\" class=\"data row12 col2\" >0.78</td>\n",
              "      <td id=\"T_96eaa_row12_col3\" class=\"data row12 col3\" >0.79</td>\n",
              "      <td id=\"T_96eaa_row12_col4\" class=\"data row12 col4\" >0.85</td>\n",
              "      <td id=\"T_96eaa_row12_col5\" class=\"data row12 col5\" >0.77</td>\n",
              "    </tr>\n",
              "  </tbody>\n",
              "</table>\n"
            ],
            "text/plain": [
              "<pandas.io.formats.style.Styler at 0x797ac2b8f850>"
            ]
          },
          "execution_count": 35,
          "metadata": {},
          "output_type": "execute_result"
        }
      ],
      "source": [
        "fancy_df"
      ]
    },
    {
      "cell_type": "code",
      "execution_count": null,
      "metadata": {
        "id": "EQkMs6-rmnkY"
      },
      "outputs": [],
      "source": [
        "joblib.dump(best_lgb, 'final_lgb_model.joblib')\n",
        "results_df.to_csv('final_lgb_thresholds.csv', index=False)"
      ]
    },
    {
      "cell_type": "markdown",
      "metadata": {
        "id": "eZFyuP1TjHih"
      },
      "source": [
        "# VIII. ANN tuning\n",
        "\n"
      ]
    },
    {
      "cell_type": "code",
      "execution_count": null,
      "metadata": {
        "colab": {
          "base_uri": "https://localhost:8080/"
        },
        "id": "qo-LXsWhV-YN",
        "outputId": "90170fa8-62c8-4c73-e599-2fc4ab252ecc"
      },
      "outputs": [
        {
          "name": "stdout",
          "output_type": "stream",
          "text": [
            "\u001b[?25l   \u001b[90m━━━━━━━━━━━━━━━━━━━━━━━━━━━━━━━━━━━━━━━━\u001b[0m \u001b[32m0.0/129.1 kB\u001b[0m \u001b[31m?\u001b[0m eta \u001b[36m-:--:--\u001b[0m\r\u001b[2K   \u001b[91m━━━━━━━━━━━━━━━━━━━━━━━━━━━━━━━━━━━━━━\u001b[0m\u001b[90m╺\u001b[0m\u001b[90m━\u001b[0m \u001b[32m122.9/129.1 kB\u001b[0m \u001b[31m4.2 MB/s\u001b[0m eta \u001b[36m0:00:01\u001b[0m\r\u001b[2K   \u001b[90m━━━━━━━━━━━━━━━━━━━━━━━━━━━━━━━━━━━━━━━━\u001b[0m \u001b[32m129.1/129.1 kB\u001b[0m \u001b[31m3.1 MB/s\u001b[0m eta \u001b[36m0:00:00\u001b[0m\n",
            "\u001b[?25h"
          ]
        }
      ],
      "source": [
        "!pip install keras-tuner -q\n",
        "import keras_tuner"
      ]
    },
    {
      "cell_type": "code",
      "execution_count": null,
      "metadata": {
        "id": "FpnZFnTOv2Mx"
      },
      "outputs": [],
      "source": [
        "from tensorflow.keras import Sequential\n",
        "from tensorflow.keras.layers import Dense, Activation, Dropout, Input\n",
        "import tensorflow as tf\n",
        "from tensorflow import keras"
      ]
    },
    {
      "cell_type": "code",
      "execution_count": null,
      "metadata": {
        "id": "9UH8coL34r2q"
      },
      "outputs": [],
      "source": [
        "tf.keras.utils.set_random_seed(1234)  #need this for replication\n",
        "tf.config.experimental.enable_op_determinism()  #ditto - https://www.tensorflow.org/api_docs/python/tf/config/experimental/enable_op_determinism\n",
        "tf.config.threading.set_inter_op_parallelism_threads(1)\n",
        "tf.config.threading.set_intra_op_parallelism_threads(1)"
      ]
    },
    {
      "cell_type": "code",
      "execution_count": null,
      "metadata": {
        "id": "_7GwTsJOTrQq"
      },
      "outputs": [],
      "source": [
        "import hashlib\n",
        "\n",
        "def string_to_seed(string):\n",
        "    # Create a hash of the string using SHA-256\n",
        "    hash_object = hashlib.sha256(string.encode())\n",
        "    # Convert first 8 bytes of hash to integer\n",
        "    hash_int = int.from_bytes(hash_object.digest()[:8], 'big')\n",
        "    return hash_int % (2**32 - 1)"
      ]
    },
    {
      "cell_type": "code",
      "execution_count": null,
      "metadata": {
        "id": "Rw8Xrev5vehN"
      },
      "outputs": [],
      "source": [
        "early_stop_cb = tf.keras.callbacks.EarlyStopping(\n",
        "    monitor='loss',\n",
        "    min_delta=0,\n",
        "    patience=10,\n",
        "    verbose=0\n",
        ")"
      ]
    },
    {
      "cell_type": "code",
      "execution_count": null,
      "metadata": {
        "id": "IhoTFZ8f_a_L"
      },
      "outputs": [],
      "source": [
        "def build_model(hp):\n",
        "    model = Sequential()\n",
        "\n",
        "    # Input layer\n",
        "    model.add(Input(shape=(x_train.shape[1],), name=\"input_layer\"))\n",
        "\n",
        "    l2_reg = hp.Float('l2_regularization', min_value=0.001, max_value=0.05, step=0.01)\n",
        "\n",
        "    num_layers = hp.Int(\"layers\", min_value=1, max_value=4, step=1)\n",
        "    for i in range(num_layers):\n",
        "        layer_name = f\"hidden_layer_{i}\"\n",
        "\n",
        "        units = hp.Int(f\"hidden_units{i}\", min_value=8, max_value=64, step=8)\n",
        "\n",
        "        model.add(Dense(\n",
        "            name=layer_name + '_dense',\n",
        "            kernel_regularizer=tf.keras.regularizers.l2(l2_reg),\n",
        "            kernel_initializer=tf.keras.initializers.HeNormal(seed=string_to_seed(layer_name + '_dense')),\n",
        "            units=units,\n",
        "            activation='relu'\n",
        "        ))\n",
        "\n",
        "    # Output layer\n",
        "    model.add(Dense(units=1, activation='sigmoid'))\n",
        "\n",
        "    hp_learning_rate = hp.Choice('learning_rate', values=[1e-2, 1e-3, 1e-4])\n",
        "    optimizer_choice = hp.Choice('optimizer', values=['adam', 'rmsprop'])\n",
        "\n",
        "    smoothing_index = hp.Int(\"smoothing\", min_value=0, max_value=2)\n",
        "    smoothing_value = [0.0, 0.1, 0.2][smoothing_index]  # 0.0 = no smoothing, 0.1, 0.2 = smoothing\n",
        "\n",
        "    if optimizer_choice == 'adam':\n",
        "        optimizer = keras.optimizers.Adam(learning_rate=hp_learning_rate)\n",
        "    else:\n",
        "        optimizer = keras.optimizers.RMSprop(learning_rate=hp_learning_rate)\n",
        "\n",
        "    model.compile(\n",
        "        optimizer=optimizer,\n",
        "        loss=tf.keras.losses.BinaryCrossentropy(label_smoothing=smoothing_value),\n",
        "        metrics=['auc', 'accuracy']\n",
        "    )\n",
        "    return model"
      ]
    },
    {
      "cell_type": "code",
      "execution_count": null,
      "metadata": {
        "id": "SB1rVJQKKYD5"
      },
      "outputs": [],
      "source": [
        "x_train_ann, x_val_ann, y_train_ann, y_val_ann = train_test_split(\n",
        "    x_train, y_train, test_size=0.2, random_state=rs\n",
        ")"
      ]
    },
    {
      "cell_type": "code",
      "execution_count": null,
      "metadata": {
        "colab": {
          "base_uri": "https://localhost:8080/"
        },
        "id": "hYhDxPIOKaZT",
        "outputId": "c6be504c-14a7-4cba-ce7b-156e2653da90"
      },
      "outputs": [
        {
          "name": "stdout",
          "output_type": "stream",
          "text": [
            "Trial 20 Complete [00h 00m 49s]\n",
            "val_accuracy: 0.8766666650772095\n",
            "\n",
            "Best val_accuracy So Far: 0.9049999713897705\n",
            "Total elapsed time: 00h 16m 50s\n"
          ]
        }
      ],
      "source": [
        "# Set up tuner\n",
        "tuner = keras_tuner.RandomSearch(\n",
        "    build_model,\n",
        "    objective='val_accuracy',\n",
        "    max_trials=20,\n",
        "    executions_per_trial=1,\n",
        "    directory='ann_tuning',\n",
        "    overwrite=True,\n",
        "    seed=1234\n",
        ")\n",
        "\n",
        "print(\"Starting hyperparameter search...\")\n",
        "tuner.search(\n",
        "    x_train_ann, y_train_ann,\n",
        "    epochs=100,\n",
        "    validation_data=(x_val_ann, y_val_ann),\n",
        "    callbacks=[early_stop_cb],\n",
        "    verbose=1\n",
        ")\n"
      ]
    },
    {
      "cell_type": "code",
      "execution_count": null,
      "metadata": {
        "colab": {
          "base_uri": "https://localhost:8080/"
        },
        "id": "oim942uQtni9",
        "outputId": "c28e82fa-cc0d-430b-cce0-08fbfed8272a"
      },
      "outputs": [
        {
          "data": {
            "text/plain": [
              "{'l2_regularization': 0.001,\n",
              " 'layers': 2,\n",
              " 'hidden_units0': 16,\n",
              " 'learning_rate': 0.01,\n",
              " 'optimizer': 'rmsprop',\n",
              " 'smoothing': 1,\n",
              " 'hidden_units1': 64,\n",
              " 'hidden_units2': 48,\n",
              " 'hidden_units3': 8}"
            ]
          },
          "execution_count": 75,
          "metadata": {},
          "output_type": "execute_result"
        }
      ],
      "source": [
        "# Get Best Hyperparameters\n",
        "best_hp = tuner.get_best_hyperparameters()[0]\n",
        "best_hp.values"
      ]
    },
    {
      "cell_type": "code",
      "execution_count": null,
      "metadata": {
        "colab": {
          "base_uri": "https://localhost:8080/",
          "height": 238
        },
        "id": "LfGr2NXUKd3p",
        "outputId": "f114547d-5d07-4404-afc8-e0e5798f51d5"
      },
      "outputs": [
        {
          "data": {
            "text/html": [
              "<pre style=\"white-space:pre;overflow-x:auto;line-height:normal;font-family:Menlo,'DejaVu Sans Mono',consolas,'Courier New',monospace\"><span style=\"font-weight: bold\">Model: \"sequential_1\"</span>\n",
              "</pre>\n"
            ],
            "text/plain": [
              "\u001b[1mModel: \"sequential_1\"\u001b[0m\n"
            ]
          },
          "metadata": {},
          "output_type": "display_data"
        },
        {
          "data": {
            "text/html": [
              "<pre style=\"white-space:pre;overflow-x:auto;line-height:normal;font-family:Menlo,'DejaVu Sans Mono',consolas,'Courier New',monospace\">┏━━━━━━━━━━━━━━━━━━━━━━━━━━━━━━━━━┳━━━━━━━━━━━━━━━━━━━━━━━━┳━━━━━━━━━━━━━━━┓\n",
              "┃<span style=\"font-weight: bold\"> Layer (type)                    </span>┃<span style=\"font-weight: bold\"> Output Shape           </span>┃<span style=\"font-weight: bold\">       Param # </span>┃\n",
              "┡━━━━━━━━━━━━━━━━━━━━━━━━━━━━━━━━━╇━━━━━━━━━━━━━━━━━━━━━━━━╇━━━━━━━━━━━━━━━┩\n",
              "│ hidden_layer_1_dense (<span style=\"color: #0087ff; text-decoration-color: #0087ff\">Dense</span>)    │ (<span style=\"color: #00d7ff; text-decoration-color: #00d7ff\">None</span>, <span style=\"color: #00af00; text-decoration-color: #00af00\">16</span>)             │           <span style=\"color: #00af00; text-decoration-color: #00af00\">128</span> │\n",
              "├─────────────────────────────────┼────────────────────────┼───────────────┤\n",
              "│ hidden_layer_2_dense (<span style=\"color: #0087ff; text-decoration-color: #0087ff\">Dense</span>)    │ (<span style=\"color: #00d7ff; text-decoration-color: #00d7ff\">None</span>, <span style=\"color: #00af00; text-decoration-color: #00af00\">64</span>)             │         <span style=\"color: #00af00; text-decoration-color: #00af00\">1,088</span> │\n",
              "├─────────────────────────────────┼────────────────────────┼───────────────┤\n",
              "│ dense_1 (<span style=\"color: #0087ff; text-decoration-color: #0087ff\">Dense</span>)                 │ (<span style=\"color: #00d7ff; text-decoration-color: #00d7ff\">None</span>, <span style=\"color: #00af00; text-decoration-color: #00af00\">1</span>)              │            <span style=\"color: #00af00; text-decoration-color: #00af00\">65</span> │\n",
              "└─────────────────────────────────┴────────────────────────┴───────────────┘\n",
              "</pre>\n"
            ],
            "text/plain": [
              "┏━━━━━━━━━━━━━━━━━━━━━━━━━━━━━━━━━┳━━━━━━━━━━━━━━━━━━━━━━━━┳━━━━━━━━━━━━━━━┓\n",
              "┃\u001b[1m \u001b[0m\u001b[1mLayer (type)                   \u001b[0m\u001b[1m \u001b[0m┃\u001b[1m \u001b[0m\u001b[1mOutput Shape          \u001b[0m\u001b[1m \u001b[0m┃\u001b[1m \u001b[0m\u001b[1m      Param #\u001b[0m\u001b[1m \u001b[0m┃\n",
              "┡━━━━━━━━━━━━━━━━━━━━━━━━━━━━━━━━━╇━━━━━━━━━━━━━━━━━━━━━━━━╇━━━━━━━━━━━━━━━┩\n",
              "│ hidden_layer_1_dense (\u001b[38;5;33mDense\u001b[0m)    │ (\u001b[38;5;45mNone\u001b[0m, \u001b[38;5;34m16\u001b[0m)             │           \u001b[38;5;34m128\u001b[0m │\n",
              "├─────────────────────────────────┼────────────────────────┼───────────────┤\n",
              "│ hidden_layer_2_dense (\u001b[38;5;33mDense\u001b[0m)    │ (\u001b[38;5;45mNone\u001b[0m, \u001b[38;5;34m64\u001b[0m)             │         \u001b[38;5;34m1,088\u001b[0m │\n",
              "├─────────────────────────────────┼────────────────────────┼───────────────┤\n",
              "│ dense_1 (\u001b[38;5;33mDense\u001b[0m)                 │ (\u001b[38;5;45mNone\u001b[0m, \u001b[38;5;34m1\u001b[0m)              │            \u001b[38;5;34m65\u001b[0m │\n",
              "└─────────────────────────────────┴────────────────────────┴───────────────┘\n"
            ]
          },
          "metadata": {},
          "output_type": "display_data"
        },
        {
          "data": {
            "text/html": [
              "<pre style=\"white-space:pre;overflow-x:auto;line-height:normal;font-family:Menlo,'DejaVu Sans Mono',consolas,'Courier New',monospace\"><span style=\"font-weight: bold\"> Total params: </span><span style=\"color: #00af00; text-decoration-color: #00af00\">1,281</span> (5.00 KB)\n",
              "</pre>\n"
            ],
            "text/plain": [
              "\u001b[1m Total params: \u001b[0m\u001b[38;5;34m1,281\u001b[0m (5.00 KB)\n"
            ]
          },
          "metadata": {},
          "output_type": "display_data"
        },
        {
          "data": {
            "text/html": [
              "<pre style=\"white-space:pre;overflow-x:auto;line-height:normal;font-family:Menlo,'DejaVu Sans Mono',consolas,'Courier New',monospace\"><span style=\"font-weight: bold\"> Trainable params: </span><span style=\"color: #00af00; text-decoration-color: #00af00\">1,281</span> (5.00 KB)\n",
              "</pre>\n"
            ],
            "text/plain": [
              "\u001b[1m Trainable params: \u001b[0m\u001b[38;5;34m1,281\u001b[0m (5.00 KB)\n"
            ]
          },
          "metadata": {},
          "output_type": "display_data"
        },
        {
          "data": {
            "text/html": [
              "<pre style=\"white-space:pre;overflow-x:auto;line-height:normal;font-family:Menlo,'DejaVu Sans Mono',consolas,'Courier New',monospace\"><span style=\"font-weight: bold\"> Non-trainable params: </span><span style=\"color: #00af00; text-decoration-color: #00af00\">0</span> (0.00 B)\n",
              "</pre>\n"
            ],
            "text/plain": [
              "\u001b[1m Non-trainable params: \u001b[0m\u001b[38;5;34m0\u001b[0m (0.00 B)\n"
            ]
          },
          "metadata": {},
          "output_type": "display_data"
        }
      ],
      "source": [
        "# Build model with best hyperparameters\n",
        "ann_model = build_model(best_hp)\n",
        "ann_model.summary()"
      ]
    },
    {
      "cell_type": "code",
      "execution_count": null,
      "metadata": {
        "colab": {
          "base_uri": "https://localhost:8080/"
        },
        "id": "LKhHt1mxKa_Z",
        "outputId": "fa529e47-25be-400d-b492-ff17566128c7"
      },
      "outputs": [
        {
          "name": "stdout",
          "output_type": "stream",
          "text": [
            "Epoch 1/100\n",
            "\u001b[1m75/75\u001b[0m \u001b[32m━━━━━━━━━━━━━━━━━━━━\u001b[0m\u001b[37m\u001b[0m \u001b[1m2s\u001b[0m 8ms/step - accuracy: 0.7814 - auc: 0.8398 - loss: 0.6586 - val_accuracy: 0.9467 - val_auc: 0.0000e+00 - val_loss: 0.3696\n",
            "Epoch 2/100\n",
            "\u001b[1m75/75\u001b[0m \u001b[32m━━━━━━━━━━━━━━━━━━━━\u001b[0m\u001b[37m\u001b[0m \u001b[1m1s\u001b[0m 5ms/step - accuracy: 0.8496 - auc: 0.9163 - loss: 0.5184 - val_accuracy: 0.9517 - val_auc: 0.0000e+00 - val_loss: 0.3389\n",
            "Epoch 3/100\n",
            "\u001b[1m75/75\u001b[0m \u001b[32m━━━━━━━━━━━━━━━━━━━━\u001b[0m\u001b[37m\u001b[0m \u001b[1m1s\u001b[0m 5ms/step - accuracy: 0.8642 - auc: 0.9281 - loss: 0.4792 - val_accuracy: 0.9500 - val_auc: 0.0000e+00 - val_loss: 0.3295\n",
            "Epoch 4/100\n",
            "\u001b[1m75/75\u001b[0m \u001b[32m━━━━━━━━━━━━━━━━━━━━\u001b[0m\u001b[37m\u001b[0m \u001b[1m1s\u001b[0m 5ms/step - accuracy: 0.8719 - auc: 0.9333 - loss: 0.4580 - val_accuracy: 0.9483 - val_auc: 0.0000e+00 - val_loss: 0.3281\n",
            "Epoch 5/100\n",
            "\u001b[1m75/75\u001b[0m \u001b[32m━━━━━━━━━━━━━━━━━━━━\u001b[0m\u001b[37m\u001b[0m \u001b[1m1s\u001b[0m 6ms/step - accuracy: 0.8743 - auc: 0.9359 - loss: 0.4460 - val_accuracy: 0.9433 - val_auc: 0.0000e+00 - val_loss: 0.3259\n",
            "Epoch 6/100\n",
            "\u001b[1m75/75\u001b[0m \u001b[32m━━━━━━━━━━━━━━━━━━━━\u001b[0m\u001b[37m\u001b[0m \u001b[1m0s\u001b[0m 4ms/step - accuracy: 0.8782 - auc: 0.9375 - loss: 0.4380 - val_accuracy: 0.9400 - val_auc: 0.0000e+00 - val_loss: 0.3280\n",
            "Epoch 7/100\n",
            "\u001b[1m75/75\u001b[0m \u001b[32m━━━━━━━━━━━━━━━━━━━━\u001b[0m\u001b[37m\u001b[0m \u001b[1m0s\u001b[0m 3ms/step - accuracy: 0.8810 - auc: 0.9384 - loss: 0.4324 - val_accuracy: 0.9400 - val_auc: 0.0000e+00 - val_loss: 0.3311\n",
            "Epoch 8/100\n",
            "\u001b[1m75/75\u001b[0m \u001b[32m━━━━━━━━━━━━━━━━━━━━\u001b[0m\u001b[37m\u001b[0m \u001b[1m0s\u001b[0m 4ms/step - accuracy: 0.8810 - auc: 0.9398 - loss: 0.4283 - val_accuracy: 0.9400 - val_auc: 0.0000e+00 - val_loss: 0.3304\n",
            "Epoch 9/100\n",
            "\u001b[1m75/75\u001b[0m \u001b[32m━━━━━━━━━━━━━━━━━━━━\u001b[0m\u001b[37m\u001b[0m \u001b[1m0s\u001b[0m 4ms/step - accuracy: 0.8805 - auc: 0.9403 - loss: 0.4259 - val_accuracy: 0.9433 - val_auc: 0.0000e+00 - val_loss: 0.3261\n",
            "Epoch 10/100\n",
            "\u001b[1m75/75\u001b[0m \u001b[32m━━━━━━━━━━━━━━━━━━━━\u001b[0m\u001b[37m\u001b[0m \u001b[1m1s\u001b[0m 4ms/step - accuracy: 0.8813 - auc: 0.9413 - loss: 0.4241 - val_accuracy: 0.9417 - val_auc: 0.0000e+00 - val_loss: 0.3266\n",
            "Epoch 11/100\n",
            "\u001b[1m75/75\u001b[0m \u001b[32m━━━━━━━━━━━━━━━━━━━━\u001b[0m\u001b[37m\u001b[0m \u001b[1m0s\u001b[0m 4ms/step - accuracy: 0.8796 - auc: 0.9419 - loss: 0.4224 - val_accuracy: 0.9417 - val_auc: 0.0000e+00 - val_loss: 0.3261\n",
            "Epoch 12/100\n",
            "\u001b[1m75/75\u001b[0m \u001b[32m━━━━━━━━━━━━━━━━━━━━\u001b[0m\u001b[37m\u001b[0m \u001b[1m1s\u001b[0m 4ms/step - accuracy: 0.8815 - auc: 0.9423 - loss: 0.4205 - val_accuracy: 0.9400 - val_auc: 0.0000e+00 - val_loss: 0.3268\n",
            "Epoch 13/100\n",
            "\u001b[1m75/75\u001b[0m \u001b[32m━━━━━━━━━━━━━━━━━━━━\u001b[0m\u001b[37m\u001b[0m \u001b[1m0s\u001b[0m 4ms/step - accuracy: 0.8825 - auc: 0.9434 - loss: 0.4183 - val_accuracy: 0.9383 - val_auc: 0.0000e+00 - val_loss: 0.3322\n",
            "Epoch 14/100\n",
            "\u001b[1m75/75\u001b[0m \u001b[32m━━━━━━━━━━━━━━━━━━━━\u001b[0m\u001b[37m\u001b[0m \u001b[1m0s\u001b[0m 3ms/step - accuracy: 0.8836 - auc: 0.9441 - loss: 0.4167 - val_accuracy: 0.9400 - val_auc: 0.0000e+00 - val_loss: 0.3242\n",
            "Epoch 15/100\n",
            "\u001b[1m75/75\u001b[0m \u001b[32m━━━━━━━━━━━━━━━━━━━━\u001b[0m\u001b[37m\u001b[0m \u001b[1m0s\u001b[0m 5ms/step - accuracy: 0.8840 - auc: 0.9444 - loss: 0.4153 - val_accuracy: 0.9383 - val_auc: 0.0000e+00 - val_loss: 0.3272\n",
            "Epoch 16/100\n",
            "\u001b[1m75/75\u001b[0m \u001b[32m━━━━━━━━━━━━━━━━━━━━\u001b[0m\u001b[37m\u001b[0m \u001b[1m1s\u001b[0m 4ms/step - accuracy: 0.8839 - auc: 0.9452 - loss: 0.4141 - val_accuracy: 0.9400 - val_auc: 0.0000e+00 - val_loss: 0.3252\n",
            "Epoch 17/100\n",
            "\u001b[1m75/75\u001b[0m \u001b[32m━━━━━━━━━━━━━━━━━━━━\u001b[0m\u001b[37m\u001b[0m \u001b[1m0s\u001b[0m 3ms/step - accuracy: 0.8839 - auc: 0.9449 - loss: 0.4147 - val_accuracy: 0.9417 - val_auc: 0.0000e+00 - val_loss: 0.3246\n",
            "Epoch 18/100\n",
            "\u001b[1m75/75\u001b[0m \u001b[32m━━━━━━━━━━━━━━━━━━━━\u001b[0m\u001b[37m\u001b[0m \u001b[1m0s\u001b[0m 4ms/step - accuracy: 0.8807 - auc: 0.9451 - loss: 0.4143 - val_accuracy: 0.9400 - val_auc: 0.0000e+00 - val_loss: 0.3229\n",
            "Epoch 19/100\n",
            "\u001b[1m75/75\u001b[0m \u001b[32m━━━━━━━━━━━━━━━━━━━━\u001b[0m\u001b[37m\u001b[0m \u001b[1m1s\u001b[0m 4ms/step - accuracy: 0.8843 - auc: 0.9457 - loss: 0.4128 - val_accuracy: 0.9417 - val_auc: 0.0000e+00 - val_loss: 0.3250\n",
            "Epoch 20/100\n",
            "\u001b[1m75/75\u001b[0m \u001b[32m━━━━━━━━━━━━━━━━━━━━\u001b[0m\u001b[37m\u001b[0m \u001b[1m1s\u001b[0m 4ms/step - accuracy: 0.8842 - auc: 0.9456 - loss: 0.4127 - val_accuracy: 0.9383 - val_auc: 0.0000e+00 - val_loss: 0.3323\n",
            "Epoch 21/100\n",
            "\u001b[1m75/75\u001b[0m \u001b[32m━━━━━━━━━━━━━━━━━━━━\u001b[0m\u001b[37m\u001b[0m \u001b[1m0s\u001b[0m 4ms/step - accuracy: 0.8859 - auc: 0.9468 - loss: 0.4108 - val_accuracy: 0.9367 - val_auc: 0.0000e+00 - val_loss: 0.3320\n",
            "Epoch 22/100\n",
            "\u001b[1m75/75\u001b[0m \u001b[32m━━━━━━━━━━━━━━━━━━━━\u001b[0m\u001b[37m\u001b[0m \u001b[1m1s\u001b[0m 4ms/step - accuracy: 0.8873 - auc: 0.9473 - loss: 0.4102 - val_accuracy: 0.9367 - val_auc: 0.0000e+00 - val_loss: 0.3309\n",
            "Epoch 23/100\n",
            "\u001b[1m75/75\u001b[0m \u001b[32m━━━━━━━━━━━━━━━━━━━━\u001b[0m\u001b[37m\u001b[0m \u001b[1m0s\u001b[0m 4ms/step - accuracy: 0.8889 - auc: 0.9477 - loss: 0.4091 - val_accuracy: 0.9383 - val_auc: 0.0000e+00 - val_loss: 0.3312\n",
            "Epoch 24/100\n",
            "\u001b[1m75/75\u001b[0m \u001b[32m━━━━━━━━━━━━━━━━━━━━\u001b[0m\u001b[37m\u001b[0m \u001b[1m0s\u001b[0m 4ms/step - accuracy: 0.8867 - auc: 0.9484 - loss: 0.4081 - val_accuracy: 0.9383 - val_auc: 0.0000e+00 - val_loss: 0.3345\n",
            "Epoch 25/100\n",
            "\u001b[1m75/75\u001b[0m \u001b[32m━━━━━━━━━━━━━━━━━━━━\u001b[0m\u001b[37m\u001b[0m \u001b[1m1s\u001b[0m 4ms/step - accuracy: 0.8897 - auc: 0.9488 - loss: 0.4071 - val_accuracy: 0.9383 - val_auc: 0.0000e+00 - val_loss: 0.3290\n",
            "Epoch 26/100\n",
            "\u001b[1m75/75\u001b[0m \u001b[32m━━━━━━━━━━━━━━━━━━━━\u001b[0m\u001b[37m\u001b[0m \u001b[1m0s\u001b[0m 4ms/step - accuracy: 0.8880 - auc: 0.9489 - loss: 0.4067 - val_accuracy: 0.9367 - val_auc: 0.0000e+00 - val_loss: 0.3316\n",
            "Epoch 27/100\n",
            "\u001b[1m75/75\u001b[0m \u001b[32m━━━━━━━━━━━━━━━━━━━━\u001b[0m\u001b[37m\u001b[0m \u001b[1m0s\u001b[0m 4ms/step - accuracy: 0.8857 - auc: 0.9493 - loss: 0.4063 - val_accuracy: 0.9433 - val_auc: 0.0000e+00 - val_loss: 0.3287\n",
            "Epoch 28/100\n",
            "\u001b[1m75/75\u001b[0m \u001b[32m━━━━━━━━━━━━━━━━━━━━\u001b[0m\u001b[37m\u001b[0m \u001b[1m0s\u001b[0m 4ms/step - accuracy: 0.8879 - auc: 0.9497 - loss: 0.4059 - val_accuracy: 0.9417 - val_auc: 0.0000e+00 - val_loss: 0.3294\n",
            "Epoch 29/100\n",
            "\u001b[1m75/75\u001b[0m \u001b[32m━━━━━━━━━━━━━━━━━━━━\u001b[0m\u001b[37m\u001b[0m \u001b[1m0s\u001b[0m 4ms/step - accuracy: 0.8889 - auc: 0.9505 - loss: 0.4047 - val_accuracy: 0.9383 - val_auc: 0.0000e+00 - val_loss: 0.3337\n",
            "Epoch 30/100\n",
            "\u001b[1m75/75\u001b[0m \u001b[32m━━━━━━━━━━━━━━━━━━━━\u001b[0m\u001b[37m\u001b[0m \u001b[1m1s\u001b[0m 6ms/step - accuracy: 0.8859 - auc: 0.9504 - loss: 0.4050 - val_accuracy: 0.9433 - val_auc: 0.0000e+00 - val_loss: 0.3314\n",
            "Epoch 31/100\n",
            "\u001b[1m75/75\u001b[0m \u001b[32m━━━━━━━━━━━━━━━━━━━━\u001b[0m\u001b[37m\u001b[0m \u001b[1m1s\u001b[0m 5ms/step - accuracy: 0.8861 - auc: 0.9507 - loss: 0.4040 - val_accuracy: 0.9400 - val_auc: 0.0000e+00 - val_loss: 0.3295\n",
            "Epoch 32/100\n",
            "\u001b[1m75/75\u001b[0m \u001b[32m━━━━━━━━━━━━━━━━━━━━\u001b[0m\u001b[37m\u001b[0m \u001b[1m1s\u001b[0m 5ms/step - accuracy: 0.8905 - auc: 0.9514 - loss: 0.4028 - val_accuracy: 0.9417 - val_auc: 0.0000e+00 - val_loss: 0.3289\n",
            "Epoch 33/100\n",
            "\u001b[1m75/75\u001b[0m \u001b[32m━━━━━━━━━━━━━━━━━━━━\u001b[0m\u001b[37m\u001b[0m \u001b[1m1s\u001b[0m 5ms/step - accuracy: 0.8902 - auc: 0.9516 - loss: 0.4030 - val_accuracy: 0.9417 - val_auc: 0.0000e+00 - val_loss: 0.3298\n",
            "Epoch 34/100\n",
            "\u001b[1m75/75\u001b[0m \u001b[32m━━━━━━━━━━━━━━━━━━━━\u001b[0m\u001b[37m\u001b[0m \u001b[1m0s\u001b[0m 4ms/step - accuracy: 0.8935 - auc: 0.9514 - loss: 0.4028 - val_accuracy: 0.9417 - val_auc: 0.0000e+00 - val_loss: 0.3275\n",
            "Epoch 35/100\n",
            "\u001b[1m75/75\u001b[0m \u001b[32m━━━━━━━━━━━━━━━━━━━━\u001b[0m\u001b[37m\u001b[0m \u001b[1m0s\u001b[0m 4ms/step - accuracy: 0.8912 - auc: 0.9516 - loss: 0.4028 - val_accuracy: 0.9417 - val_auc: 0.0000e+00 - val_loss: 0.3274\n",
            "Epoch 36/100\n",
            "\u001b[1m75/75\u001b[0m \u001b[32m━━━━━━━━━━━━━━━━━━━━\u001b[0m\u001b[37m\u001b[0m \u001b[1m1s\u001b[0m 4ms/step - accuracy: 0.8905 - auc: 0.9521 - loss: 0.4021 - val_accuracy: 0.9400 - val_auc: 0.0000e+00 - val_loss: 0.3298\n",
            "Epoch 37/100\n",
            "\u001b[1m75/75\u001b[0m \u001b[32m━━━━━━━━━━━━━━━━━━━━\u001b[0m\u001b[37m\u001b[0m \u001b[1m0s\u001b[0m 3ms/step - accuracy: 0.8888 - auc: 0.9522 - loss: 0.4021 - val_accuracy: 0.9433 - val_auc: 0.0000e+00 - val_loss: 0.3216\n",
            "Epoch 38/100\n",
            "\u001b[1m75/75\u001b[0m \u001b[32m━━━━━━━━━━━━━━━━━━━━\u001b[0m\u001b[37m\u001b[0m \u001b[1m0s\u001b[0m 3ms/step - accuracy: 0.8915 - auc: 0.9520 - loss: 0.4026 - val_accuracy: 0.9467 - val_auc: 0.0000e+00 - val_loss: 0.3166\n",
            "Epoch 39/100\n",
            "\u001b[1m75/75\u001b[0m \u001b[32m━━━━━━━━━━━━━━━━━━━━\u001b[0m\u001b[37m\u001b[0m \u001b[1m0s\u001b[0m 4ms/step - accuracy: 0.8877 - auc: 0.9526 - loss: 0.4019 - val_accuracy: 0.9467 - val_auc: 0.0000e+00 - val_loss: 0.3204\n",
            "Epoch 40/100\n",
            "\u001b[1m75/75\u001b[0m \u001b[32m━━━━━━━━━━━━━━━━━━━━\u001b[0m\u001b[37m\u001b[0m \u001b[1m0s\u001b[0m 4ms/step - accuracy: 0.8891 - auc: 0.9532 - loss: 0.4010 - val_accuracy: 0.9500 - val_auc: 0.0000e+00 - val_loss: 0.3190\n",
            "Epoch 41/100\n",
            "\u001b[1m75/75\u001b[0m \u001b[32m━━━━━━━━━━━━━━━━━━━━\u001b[0m\u001b[37m\u001b[0m \u001b[1m0s\u001b[0m 3ms/step - accuracy: 0.8903 - auc: 0.9526 - loss: 0.4022 - val_accuracy: 0.9500 - val_auc: 0.0000e+00 - val_loss: 0.3154\n",
            "Epoch 42/100\n",
            "\u001b[1m75/75\u001b[0m \u001b[32m━━━━━━━━━━━━━━━━━━━━\u001b[0m\u001b[37m\u001b[0m \u001b[1m0s\u001b[0m 4ms/step - accuracy: 0.8938 - auc: 0.9527 - loss: 0.4018 - val_accuracy: 0.9433 - val_auc: 0.0000e+00 - val_loss: 0.3205\n",
            "Epoch 43/100\n",
            "\u001b[1m75/75\u001b[0m \u001b[32m━━━━━━━━━━━━━━━━━━━━\u001b[0m\u001b[37m\u001b[0m \u001b[1m1s\u001b[0m 4ms/step - accuracy: 0.8900 - auc: 0.9523 - loss: 0.4026 - val_accuracy: 0.9517 - val_auc: 0.0000e+00 - val_loss: 0.3194\n",
            "Epoch 44/100\n",
            "\u001b[1m75/75\u001b[0m \u001b[32m━━━━━━━━━━━━━━━━━━━━\u001b[0m\u001b[37m\u001b[0m \u001b[1m0s\u001b[0m 5ms/step - accuracy: 0.8916 - auc: 0.9530 - loss: 0.4011 - val_accuracy: 0.9517 - val_auc: 0.0000e+00 - val_loss: 0.3122\n",
            "Epoch 45/100\n",
            "\u001b[1m75/75\u001b[0m \u001b[32m━━━━━━━━━━━━━━━━━━━━\u001b[0m\u001b[37m\u001b[0m \u001b[1m0s\u001b[0m 4ms/step - accuracy: 0.8922 - auc: 0.9537 - loss: 0.4004 - val_accuracy: 0.9500 - val_auc: 0.0000e+00 - val_loss: 0.3160\n",
            "Epoch 46/100\n",
            "\u001b[1m75/75\u001b[0m \u001b[32m━━━━━━━━━━━━━━━━━━━━\u001b[0m\u001b[37m\u001b[0m \u001b[1m0s\u001b[0m 3ms/step - accuracy: 0.8916 - auc: 0.9539 - loss: 0.4001 - val_accuracy: 0.9483 - val_auc: 0.0000e+00 - val_loss: 0.3107\n",
            "Epoch 47/100\n",
            "\u001b[1m75/75\u001b[0m \u001b[32m━━━━━━━━━━━━━━━━━━━━\u001b[0m\u001b[37m\u001b[0m \u001b[1m0s\u001b[0m 4ms/step - accuracy: 0.8935 - auc: 0.9546 - loss: 0.3992 - val_accuracy: 0.9483 - val_auc: 0.0000e+00 - val_loss: 0.3122\n",
            "Epoch 48/100\n",
            "\u001b[1m75/75\u001b[0m \u001b[32m━━━━━━━━━━━━━━━━━━━━\u001b[0m\u001b[37m\u001b[0m \u001b[1m1s\u001b[0m 4ms/step - accuracy: 0.8955 - auc: 0.9546 - loss: 0.3992 - val_accuracy: 0.9467 - val_auc: 0.0000e+00 - val_loss: 0.3152\n",
            "Epoch 49/100\n",
            "\u001b[1m75/75\u001b[0m \u001b[32m━━━━━━━━━━━━━━━━━━━━\u001b[0m\u001b[37m\u001b[0m \u001b[1m0s\u001b[0m 4ms/step - accuracy: 0.8964 - auc: 0.9547 - loss: 0.3985 - val_accuracy: 0.9517 - val_auc: 0.0000e+00 - val_loss: 0.3098\n",
            "Epoch 50/100\n",
            "\u001b[1m75/75\u001b[0m \u001b[32m━━━━━━━━━━━━━━━━━━━━\u001b[0m\u001b[37m\u001b[0m \u001b[1m0s\u001b[0m 4ms/step - accuracy: 0.8962 - auc: 0.9554 - loss: 0.3989 - val_accuracy: 0.9467 - val_auc: 0.0000e+00 - val_loss: 0.3122\n",
            "Epoch 51/100\n",
            "\u001b[1m75/75\u001b[0m \u001b[32m━━━━━━━━━━━━━━━━━━━━\u001b[0m\u001b[37m\u001b[0m \u001b[1m0s\u001b[0m 3ms/step - accuracy: 0.8947 - auc: 0.9563 - loss: 0.3972 - val_accuracy: 0.9500 - val_auc: 0.0000e+00 - val_loss: 0.3090\n",
            "Epoch 52/100\n",
            "\u001b[1m75/75\u001b[0m \u001b[32m━━━━━━━━━━━━━━━━━━━━\u001b[0m\u001b[37m\u001b[0m \u001b[1m0s\u001b[0m 3ms/step - accuracy: 0.8896 - auc: 0.9558 - loss: 0.3989 - val_accuracy: 0.9517 - val_auc: 0.0000e+00 - val_loss: 0.3098\n",
            "Epoch 53/100\n",
            "\u001b[1m75/75\u001b[0m \u001b[32m━━━━━━━━━━━━━━━━━━━━\u001b[0m\u001b[37m\u001b[0m \u001b[1m0s\u001b[0m 5ms/step - accuracy: 0.8930 - auc: 0.9563 - loss: 0.3974 - val_accuracy: 0.9483 - val_auc: 0.0000e+00 - val_loss: 0.3106\n",
            "Epoch 54/100\n",
            "\u001b[1m75/75\u001b[0m \u001b[32m━━━━━━━━━━━━━━━━━━━━\u001b[0m\u001b[37m\u001b[0m \u001b[1m0s\u001b[0m 4ms/step - accuracy: 0.8958 - auc: 0.9563 - loss: 0.3976 - val_accuracy: 0.9483 - val_auc: 0.0000e+00 - val_loss: 0.3137\n",
            "Epoch 55/100\n",
            "\u001b[1m75/75\u001b[0m \u001b[32m━━━━━━━━━━━━━━━━━━━━\u001b[0m\u001b[37m\u001b[0m \u001b[1m1s\u001b[0m 4ms/step - accuracy: 0.8957 - auc: 0.9572 - loss: 0.3961 - val_accuracy: 0.9467 - val_auc: 0.0000e+00 - val_loss: 0.3174\n",
            "Epoch 56/100\n",
            "\u001b[1m75/75\u001b[0m \u001b[32m━━━━━━━━━━━━━━━━━━━━\u001b[0m\u001b[37m\u001b[0m \u001b[1m0s\u001b[0m 4ms/step - accuracy: 0.8923 - auc: 0.9570 - loss: 0.3958 - val_accuracy: 0.9500 - val_auc: 0.0000e+00 - val_loss: 0.3159\n",
            "Epoch 57/100\n",
            "\u001b[1m75/75\u001b[0m \u001b[32m━━━━━━━━━━━━━━━━━━━━\u001b[0m\u001b[37m\u001b[0m \u001b[1m1s\u001b[0m 4ms/step - accuracy: 0.8953 - auc: 0.9564 - loss: 0.3973 - val_accuracy: 0.9483 - val_auc: 0.0000e+00 - val_loss: 0.3130\n",
            "Epoch 58/100\n",
            "\u001b[1m75/75\u001b[0m \u001b[32m━━━━━━━━━━━━━━━━━━━━\u001b[0m\u001b[37m\u001b[0m \u001b[1m0s\u001b[0m 4ms/step - accuracy: 0.8966 - auc: 0.9572 - loss: 0.3956 - val_accuracy: 0.9483 - val_auc: 0.0000e+00 - val_loss: 0.3127\n",
            "Epoch 59/100\n",
            "\u001b[1m75/75\u001b[0m \u001b[32m━━━━━━━━━━━━━━━━━━━━\u001b[0m\u001b[37m\u001b[0m \u001b[1m0s\u001b[0m 3ms/step - accuracy: 0.8955 - auc: 0.9573 - loss: 0.3954 - val_accuracy: 0.9533 - val_auc: 0.0000e+00 - val_loss: 0.3062\n",
            "Epoch 60/100\n",
            "\u001b[1m75/75\u001b[0m \u001b[32m━━━━━━━━━━━━━━━━━━━━\u001b[0m\u001b[37m\u001b[0m \u001b[1m0s\u001b[0m 5ms/step - accuracy: 0.8949 - auc: 0.9576 - loss: 0.3954 - val_accuracy: 0.9483 - val_auc: 0.0000e+00 - val_loss: 0.3140\n",
            "Epoch 61/100\n",
            "\u001b[1m75/75\u001b[0m \u001b[32m━━━━━━━━━━━━━━━━━━━━\u001b[0m\u001b[37m\u001b[0m \u001b[1m1s\u001b[0m 5ms/step - accuracy: 0.8955 - auc: 0.9581 - loss: 0.3944 - val_accuracy: 0.9450 - val_auc: 0.0000e+00 - val_loss: 0.3139\n",
            "Epoch 62/100\n",
            "\u001b[1m75/75\u001b[0m \u001b[32m━━━━━━━━━━━━━━━━━━━━\u001b[0m\u001b[37m\u001b[0m \u001b[1m1s\u001b[0m 6ms/step - accuracy: 0.8986 - auc: 0.9577 - loss: 0.3940 - val_accuracy: 0.9483 - val_auc: 0.0000e+00 - val_loss: 0.3109\n",
            "Epoch 63/100\n",
            "\u001b[1m75/75\u001b[0m \u001b[32m━━━━━━━━━━━━━━━━━━━━\u001b[0m\u001b[37m\u001b[0m \u001b[1m1s\u001b[0m 6ms/step - accuracy: 0.8955 - auc: 0.9576 - loss: 0.3945 - val_accuracy: 0.9483 - val_auc: 0.0000e+00 - val_loss: 0.3097\n",
            "Epoch 64/100\n",
            "\u001b[1m75/75\u001b[0m \u001b[32m━━━━━━━━━━━━━━━━━━━━\u001b[0m\u001b[37m\u001b[0m \u001b[1m0s\u001b[0m 4ms/step - accuracy: 0.8952 - auc: 0.9578 - loss: 0.3940 - val_accuracy: 0.9483 - val_auc: 0.0000e+00 - val_loss: 0.3118\n",
            "Epoch 65/100\n",
            "\u001b[1m75/75\u001b[0m \u001b[32m━━━━━━━━━━━━━━━━━━━━\u001b[0m\u001b[37m\u001b[0m \u001b[1m0s\u001b[0m 3ms/step - accuracy: 0.8952 - auc: 0.9578 - loss: 0.3943 - val_accuracy: 0.9467 - val_auc: 0.0000e+00 - val_loss: 0.3143\n",
            "Epoch 66/100\n",
            "\u001b[1m75/75\u001b[0m \u001b[32m━━━━━━━━━━━━━━━━━━━━\u001b[0m\u001b[37m\u001b[0m \u001b[1m0s\u001b[0m 3ms/step - accuracy: 0.8971 - auc: 0.9578 - loss: 0.3940 - val_accuracy: 0.9483 - val_auc: 0.0000e+00 - val_loss: 0.3150\n",
            "Epoch 67/100\n",
            "\u001b[1m75/75\u001b[0m \u001b[32m━━━━━━━━━━━━━━━━━━━━\u001b[0m\u001b[37m\u001b[0m \u001b[1m1s\u001b[0m 4ms/step - accuracy: 0.8977 - auc: 0.9586 - loss: 0.3924 - val_accuracy: 0.9483 - val_auc: 0.0000e+00 - val_loss: 0.3228\n",
            "Epoch 68/100\n",
            "\u001b[1m75/75\u001b[0m \u001b[32m━━━━━━━━━━━━━━━━━━━━\u001b[0m\u001b[37m\u001b[0m \u001b[1m0s\u001b[0m 4ms/step - accuracy: 0.8975 - auc: 0.9595 - loss: 0.3914 - val_accuracy: 0.9433 - val_auc: 0.0000e+00 - val_loss: 0.3262\n",
            "Epoch 69/100\n",
            "\u001b[1m75/75\u001b[0m \u001b[32m━━━━━━━━━━━━━━━━━━━━\u001b[0m\u001b[37m\u001b[0m \u001b[1m0s\u001b[0m 4ms/step - accuracy: 0.8961 - auc: 0.9599 - loss: 0.3913 - val_accuracy: 0.9450 - val_auc: 0.0000e+00 - val_loss: 0.3249\n",
            "Epoch 70/100\n",
            "\u001b[1m75/75\u001b[0m \u001b[32m━━━━━━━━━━━━━━━━━━━━\u001b[0m\u001b[37m\u001b[0m \u001b[1m0s\u001b[0m 4ms/step - accuracy: 0.8949 - auc: 0.9609 - loss: 0.3900 - val_accuracy: 0.9500 - val_auc: 0.0000e+00 - val_loss: 0.3180\n",
            "Epoch 71/100\n",
            "\u001b[1m75/75\u001b[0m \u001b[32m━━━━━━━━━━━━━━━━━━━━\u001b[0m\u001b[37m\u001b[0m \u001b[1m0s\u001b[0m 4ms/step - accuracy: 0.8953 - auc: 0.9606 - loss: 0.3906 - val_accuracy: 0.9450 - val_auc: 0.0000e+00 - val_loss: 0.3213\n",
            "Epoch 72/100\n",
            "\u001b[1m75/75\u001b[0m \u001b[32m━━━━━━━━━━━━━━━━━━━━\u001b[0m\u001b[37m\u001b[0m \u001b[1m0s\u001b[0m 4ms/step - accuracy: 0.8981 - auc: 0.9605 - loss: 0.3894 - val_accuracy: 0.9450 - val_auc: 0.0000e+00 - val_loss: 0.3249\n",
            "Epoch 73/100\n",
            "\u001b[1m75/75\u001b[0m \u001b[32m━━━━━━━━━━━━━━━━━━━━\u001b[0m\u001b[37m\u001b[0m \u001b[1m0s\u001b[0m 5ms/step - accuracy: 0.8957 - auc: 0.9613 - loss: 0.3892 - val_accuracy: 0.9417 - val_auc: 0.0000e+00 - val_loss: 0.3280\n",
            "Epoch 74/100\n",
            "\u001b[1m75/75\u001b[0m \u001b[32m━━━━━━━━━━━━━━━━━━━━\u001b[0m\u001b[37m\u001b[0m \u001b[1m1s\u001b[0m 4ms/step - accuracy: 0.8977 - auc: 0.9607 - loss: 0.3888 - val_accuracy: 0.9467 - val_auc: 0.0000e+00 - val_loss: 0.3247\n",
            "Epoch 75/100\n",
            "\u001b[1m75/75\u001b[0m \u001b[32m━━━━━━━━━━━━━━━━━━━━\u001b[0m\u001b[37m\u001b[0m \u001b[1m1s\u001b[0m 4ms/step - accuracy: 0.8982 - auc: 0.9613 - loss: 0.3884 - val_accuracy: 0.9483 - val_auc: 0.0000e+00 - val_loss: 0.3241\n",
            "Epoch 76/100\n",
            "\u001b[1m75/75\u001b[0m \u001b[32m━━━━━━━━━━━━━━━━━━━━\u001b[0m\u001b[37m\u001b[0m \u001b[1m1s\u001b[0m 4ms/step - accuracy: 0.8952 - auc: 0.9607 - loss: 0.3897 - val_accuracy: 0.9433 - val_auc: 0.0000e+00 - val_loss: 0.3297\n",
            "Epoch 77/100\n",
            "\u001b[1m75/75\u001b[0m \u001b[32m━━━━━━━━━━━━━━━━━━━━\u001b[0m\u001b[37m\u001b[0m \u001b[1m0s\u001b[0m 4ms/step - accuracy: 0.8968 - auc: 0.9612 - loss: 0.3882 - val_accuracy: 0.9450 - val_auc: 0.0000e+00 - val_loss: 0.3250\n",
            "Epoch 78/100\n",
            "\u001b[1m75/75\u001b[0m \u001b[32m━━━━━━━━━━━━━━━━━━━━\u001b[0m\u001b[37m\u001b[0m \u001b[1m1s\u001b[0m 4ms/step - accuracy: 0.8978 - auc: 0.9616 - loss: 0.3874 - val_accuracy: 0.9417 - val_auc: 0.0000e+00 - val_loss: 0.3315\n",
            "Epoch 79/100\n",
            "\u001b[1m75/75\u001b[0m \u001b[32m━━━━━━━━━━━━━━━━━━━━\u001b[0m\u001b[37m\u001b[0m \u001b[1m1s\u001b[0m 4ms/step - accuracy: 0.9005 - auc: 0.9614 - loss: 0.3884 - val_accuracy: 0.9433 - val_auc: 0.0000e+00 - val_loss: 0.3305\n",
            "Epoch 80/100\n",
            "\u001b[1m75/75\u001b[0m \u001b[32m━━━━━━━━━━━━━━━━━━━━\u001b[0m\u001b[37m\u001b[0m \u001b[1m1s\u001b[0m 5ms/step - accuracy: 0.9004 - auc: 0.9621 - loss: 0.3874 - val_accuracy: 0.9400 - val_auc: 0.0000e+00 - val_loss: 0.3300\n",
            "Epoch 81/100\n",
            "\u001b[1m75/75\u001b[0m \u001b[32m━━━━━━━━━━━━━━━━━━━━\u001b[0m\u001b[37m\u001b[0m \u001b[1m0s\u001b[0m 4ms/step - accuracy: 0.8947 - auc: 0.9617 - loss: 0.3879 - val_accuracy: 0.9400 - val_auc: 0.0000e+00 - val_loss: 0.3336\n",
            "Epoch 82/100\n",
            "\u001b[1m75/75\u001b[0m \u001b[32m━━━━━━━━━━━━━━━━━━━━\u001b[0m\u001b[37m\u001b[0m \u001b[1m0s\u001b[0m 4ms/step - accuracy: 0.8997 - auc: 0.9621 - loss: 0.3867 - val_accuracy: 0.9383 - val_auc: 0.0000e+00 - val_loss: 0.3371\n",
            "Epoch 83/100\n",
            "\u001b[1m75/75\u001b[0m \u001b[32m━━━━━━━━━━━━━━━━━━━━\u001b[0m\u001b[37m\u001b[0m \u001b[1m0s\u001b[0m 4ms/step - accuracy: 0.9049 - auc: 0.9625 - loss: 0.3867 - val_accuracy: 0.9400 - val_auc: 0.0000e+00 - val_loss: 0.3325\n",
            "Epoch 84/100\n",
            "\u001b[1m75/75\u001b[0m \u001b[32m━━━━━━━━━━━━━━━━━━━━\u001b[0m\u001b[37m\u001b[0m \u001b[1m1s\u001b[0m 4ms/step - accuracy: 0.9007 - auc: 0.9623 - loss: 0.3863 - val_accuracy: 0.9450 - val_auc: 0.0000e+00 - val_loss: 0.3292\n",
            "Epoch 85/100\n",
            "\u001b[1m75/75\u001b[0m \u001b[32m━━━━━━━━━━━━━━━━━━━━\u001b[0m\u001b[37m\u001b[0m \u001b[1m0s\u001b[0m 4ms/step - accuracy: 0.8998 - auc: 0.9618 - loss: 0.3875 - val_accuracy: 0.9367 - val_auc: 0.0000e+00 - val_loss: 0.3461\n",
            "Epoch 86/100\n",
            "\u001b[1m75/75\u001b[0m \u001b[32m━━━━━━━━━━━━━━━━━━━━\u001b[0m\u001b[37m\u001b[0m \u001b[1m0s\u001b[0m 4ms/step - accuracy: 0.8979 - auc: 0.9621 - loss: 0.3875 - val_accuracy: 0.9400 - val_auc: 0.0000e+00 - val_loss: 0.3324\n",
            "Epoch 87/100\n",
            "\u001b[1m75/75\u001b[0m \u001b[32m━━━━━━━━━━━━━━━━━━━━\u001b[0m\u001b[37m\u001b[0m \u001b[1m1s\u001b[0m 5ms/step - accuracy: 0.9001 - auc: 0.9622 - loss: 0.3870 - val_accuracy: 0.9450 - val_auc: 0.0000e+00 - val_loss: 0.3295\n",
            "Epoch 88/100\n",
            "\u001b[1m75/75\u001b[0m \u001b[32m━━━━━━━━━━━━━━━━━━━━\u001b[0m\u001b[37m\u001b[0m \u001b[1m1s\u001b[0m 5ms/step - accuracy: 0.8994 - auc: 0.9622 - loss: 0.3871 - val_accuracy: 0.9400 - val_auc: 0.0000e+00 - val_loss: 0.3440\n",
            "Epoch 89/100\n",
            "\u001b[1m75/75\u001b[0m \u001b[32m━━━━━━━━━━━━━━━━━━━━\u001b[0m\u001b[37m\u001b[0m \u001b[1m1s\u001b[0m 6ms/step - accuracy: 0.9024 - auc: 0.9627 - loss: 0.3863 - val_accuracy: 0.9483 - val_auc: 0.0000e+00 - val_loss: 0.3287\n",
            "Epoch 90/100\n",
            "\u001b[1m75/75\u001b[0m \u001b[32m━━━━━━━━━━━━━━━━━━━━\u001b[0m\u001b[37m\u001b[0m \u001b[1m1s\u001b[0m 7ms/step - accuracy: 0.9022 - auc: 0.9626 - loss: 0.3867 - val_accuracy: 0.9433 - val_auc: 0.0000e+00 - val_loss: 0.3344\n",
            "Epoch 91/100\n",
            "\u001b[1m75/75\u001b[0m \u001b[32m━━━━━━━━━━━━━━━━━━━━\u001b[0m\u001b[37m\u001b[0m \u001b[1m0s\u001b[0m 5ms/step - accuracy: 0.9024 - auc: 0.9627 - loss: 0.3869 - val_accuracy: 0.9467 - val_auc: 0.0000e+00 - val_loss: 0.3352\n",
            "Epoch 92/100\n",
            "\u001b[1m75/75\u001b[0m \u001b[32m━━━━━━━━━━━━━━━━━━━━\u001b[0m\u001b[37m\u001b[0m \u001b[1m1s\u001b[0m 4ms/step - accuracy: 0.9016 - auc: 0.9628 - loss: 0.3866 - val_accuracy: 0.9383 - val_auc: 0.0000e+00 - val_loss: 0.3455\n",
            "Epoch 93/100\n",
            "\u001b[1m75/75\u001b[0m \u001b[32m━━━━━━━━━━━━━━━━━━━━\u001b[0m\u001b[37m\u001b[0m \u001b[1m0s\u001b[0m 4ms/step - accuracy: 0.8989 - auc: 0.9626 - loss: 0.3864 - val_accuracy: 0.9450 - val_auc: 0.0000e+00 - val_loss: 0.3417\n",
            "Epoch 94/100\n",
            "\u001b[1m75/75\u001b[0m \u001b[32m━━━━━━━━━━━━━━━━━━━━\u001b[0m\u001b[37m\u001b[0m \u001b[1m1s\u001b[0m 4ms/step - accuracy: 0.8997 - auc: 0.9627 - loss: 0.3866 - val_accuracy: 0.9467 - val_auc: 0.0000e+00 - val_loss: 0.3354\n",
            "Epoch 95/100\n",
            "\u001b[1m75/75\u001b[0m \u001b[32m━━━━━━━━━━━━━━━━━━━━\u001b[0m\u001b[37m\u001b[0m \u001b[1m0s\u001b[0m 4ms/step - accuracy: 0.9043 - auc: 0.9631 - loss: 0.3855 - val_accuracy: 0.9417 - val_auc: 0.0000e+00 - val_loss: 0.3415\n",
            "Epoch 96/100\n",
            "\u001b[1m75/75\u001b[0m \u001b[32m━━━━━━━━━━━━━━━━━━━━\u001b[0m\u001b[37m\u001b[0m \u001b[1m1s\u001b[0m 4ms/step - accuracy: 0.9011 - auc: 0.9630 - loss: 0.3859 - val_accuracy: 0.9450 - val_auc: 0.0000e+00 - val_loss: 0.3427\n",
            "Epoch 97/100\n",
            "\u001b[1m75/75\u001b[0m \u001b[32m━━━━━━━━━━━━━━━━━━━━\u001b[0m\u001b[37m\u001b[0m \u001b[1m0s\u001b[0m 4ms/step - accuracy: 0.9027 - auc: 0.9632 - loss: 0.3856 - val_accuracy: 0.9383 - val_auc: 0.0000e+00 - val_loss: 0.3355\n",
            "Epoch 98/100\n",
            "\u001b[1m75/75\u001b[0m \u001b[32m━━━━━━━━━━━━━━━━━━━━\u001b[0m\u001b[37m\u001b[0m \u001b[1m0s\u001b[0m 4ms/step - accuracy: 0.9018 - auc: 0.9641 - loss: 0.3837 - val_accuracy: 0.9400 - val_auc: 0.0000e+00 - val_loss: 0.3419\n",
            "Epoch 99/100\n",
            "\u001b[1m75/75\u001b[0m \u001b[32m━━━━━━━━━━━━━━━━━━━━\u001b[0m\u001b[37m\u001b[0m \u001b[1m1s\u001b[0m 4ms/step - accuracy: 0.9021 - auc: 0.9645 - loss: 0.3826 - val_accuracy: 0.9433 - val_auc: 0.0000e+00 - val_loss: 0.3303\n",
            "Epoch 100/100\n",
            "\u001b[1m75/75\u001b[0m \u001b[32m━━━━━━━━━━━━━━━━━━━━\u001b[0m\u001b[37m\u001b[0m \u001b[1m0s\u001b[0m 4ms/step - accuracy: 0.8990 - auc: 0.9646 - loss: 0.3831 - val_accuracy: 0.9400 - val_auc: 0.0000e+00 - val_loss: 0.3362\n",
            "Total epochs trained: 100\n",
            "Final training accuracy: 0.8987\n",
            "Final validation accuracy: 0.9400\n"
          ]
        }
      ],
      "source": [
        "# Train model\n",
        "history = ann_model.fit(\n",
        "    x_train, y_train,\n",
        "    epochs=100,\n",
        "    validation_split=0.2,\n",
        "    callbacks=[early_stop_cb],\n",
        "    verbose=1,\n",
        "    batch_size=32\n",
        ")\n",
        "\n",
        "print(f\"Total epochs trained: {len(history.history['loss'])}\")\n",
        "print(f\"Final training accuracy: {history.history['accuracy'][-1]:.4f}\")\n",
        "print(f\"Final validation accuracy: {history.history['val_accuracy'][-1]:.4f}\")"
      ]
    },
    {
      "cell_type": "code",
      "execution_count": null,
      "metadata": {
        "colab": {
          "base_uri": "https://localhost:8080/"
        },
        "id": "lVtmUTxuKma_",
        "outputId": "590b4eac-1639-4fc9-dc0a-606140dbb0cd"
      },
      "outputs": [
        {
          "name": "stdout",
          "output_type": "stream",
          "text": [
            "Model Accuracy: 0.8111\n",
            "Model AUC: 0.8835\n",
            "Model Loss: 0.5362\n"
          ]
        }
      ],
      "source": [
        "y_pred_probs = ann_model.predict(x_test, verbose=0).ravel()\n",
        "\n",
        "results_df, fancy_df = threshold_results(thresholds, y_test, y_pred_probs)\n",
        "\n",
        "test_loss, test_auc, test_accuracy = ann_model.evaluate(x_test, y_test, verbose=0)\n",
        "print(f\"Model Accuracy: {test_accuracy:.4f}\")\n",
        "print(f\"Model AUC: {test_auc:.4f}\")\n",
        "print(f\"Model Loss: {test_loss:.4f}\")"
      ]
    },
    {
      "cell_type": "code",
      "execution_count": null,
      "metadata": {
        "colab": {
          "base_uri": "https://localhost:8080/",
          "height": 470
        },
        "id": "-hpD5SSGKqiI",
        "outputId": "52a9ce82-6deb-49f9-b165-d0fa0b91ba6a"
      },
      "outputs": [
        {
          "data": {
            "text/html": [
              "<style type=\"text/css\">\n",
              "#T_6ae61 th:not(.index_name) {\n",
              "  background-color: #800000;\n",
              "  color: white;\n",
              "  text-align: center;\n",
              "}\n",
              "#T_6ae61_row0_col0, #T_6ae61_row0_col1, #T_6ae61_row0_col3, #T_6ae61_row0_col5, #T_6ae61_row1_col0, #T_6ae61_row1_col1, #T_6ae61_row1_col2, #T_6ae61_row1_col3, #T_6ae61_row1_col5, #T_6ae61_row2_col0, #T_6ae61_row2_col1, #T_6ae61_row2_col2, #T_6ae61_row3_col0, #T_6ae61_row3_col1, #T_6ae61_row3_col2, #T_6ae61_row3_col3, #T_6ae61_row3_col5, #T_6ae61_row4_col0, #T_6ae61_row4_col1, #T_6ae61_row4_col2, #T_6ae61_row4_col3, #T_6ae61_row4_col5, #T_6ae61_row5_col0, #T_6ae61_row5_col1, #T_6ae61_row5_col2, #T_6ae61_row5_col3, #T_6ae61_row6_col0, #T_6ae61_row6_col1, #T_6ae61_row6_col2, #T_6ae61_row6_col3, #T_6ae61_row6_col5, #T_6ae61_row7_col0, #T_6ae61_row7_col1, #T_6ae61_row7_col2, #T_6ae61_row7_col3, #T_6ae61_row7_col5, #T_6ae61_row8_col0, #T_6ae61_row8_col1, #T_6ae61_row8_col2, #T_6ae61_row8_col3, #T_6ae61_row8_col5, #T_6ae61_row9_col0, #T_6ae61_row9_col1, #T_6ae61_row9_col2, #T_6ae61_row9_col3, #T_6ae61_row9_col5, #T_6ae61_row10_col0, #T_6ae61_row10_col1, #T_6ae61_row10_col2, #T_6ae61_row10_col3, #T_6ae61_row10_col5, #T_6ae61_row11_col0, #T_6ae61_row11_col1, #T_6ae61_row11_col2, #T_6ae61_row11_col3, #T_6ae61_row11_col5, #T_6ae61_row12_col2, #T_6ae61_row12_col3, #T_6ae61_row12_col5 {\n",
              "  border: 1px solid black;\n",
              "  width: 65px;\n",
              "  text-align: center;\n",
              "}\n",
              "#T_6ae61_row0_col2, #T_6ae61_row0_col4, #T_6ae61_row1_col4, #T_6ae61_row2_col3, #T_6ae61_row2_col4, #T_6ae61_row2_col5, #T_6ae61_row3_col4, #T_6ae61_row4_col4, #T_6ae61_row5_col4, #T_6ae61_row5_col5, #T_6ae61_row6_col4, #T_6ae61_row7_col4, #T_6ae61_row8_col4, #T_6ae61_row9_col4, #T_6ae61_row10_col4, #T_6ae61_row11_col4, #T_6ae61_row12_col0, #T_6ae61_row12_col1, #T_6ae61_row12_col4 {\n",
              "  background-color: pink;\n",
              "  border: 1px solid black;\n",
              "  width: 65px;\n",
              "  text-align: center;\n",
              "}\n",
              "</style>\n",
              "<table id=\"T_6ae61\" class=\"dataframe\">\n",
              "  <thead>\n",
              "    <tr>\n",
              "      <th class=\"blank level0\" >&nbsp;</th>\n",
              "      <th id=\"T_6ae61_level0_col0\" class=\"col_heading level0 col0\" >threshold</th>\n",
              "      <th id=\"T_6ae61_level0_col1\" class=\"col_heading level0 col1\" >precision</th>\n",
              "      <th id=\"T_6ae61_level0_col2\" class=\"col_heading level0 col2\" >recall</th>\n",
              "      <th id=\"T_6ae61_level0_col3\" class=\"col_heading level0 col3\" >f1</th>\n",
              "      <th id=\"T_6ae61_level0_col4\" class=\"col_heading level0 col4\" >auc</th>\n",
              "      <th id=\"T_6ae61_level0_col5\" class=\"col_heading level0 col5\" >accuracy</th>\n",
              "    </tr>\n",
              "  </thead>\n",
              "  <tbody>\n",
              "    <tr>\n",
              "      <th id=\"T_6ae61_level0_row0\" class=\"row_heading level0 row0\" >0</th>\n",
              "      <td id=\"T_6ae61_row0_col0\" class=\"data row0 col0\" >0.20</td>\n",
              "      <td id=\"T_6ae61_row0_col1\" class=\"data row0 col1\" >0.73</td>\n",
              "      <td id=\"T_6ae61_row0_col2\" class=\"data row0 col2\" >0.94</td>\n",
              "      <td id=\"T_6ae61_row0_col3\" class=\"data row0 col3\" >0.82</td>\n",
              "      <td id=\"T_6ae61_row0_col4\" class=\"data row0 col4\" >0.88</td>\n",
              "      <td id=\"T_6ae61_row0_col5\" class=\"data row0 col5\" >0.77</td>\n",
              "    </tr>\n",
              "    <tr>\n",
              "      <th id=\"T_6ae61_level0_row1\" class=\"row_heading level0 row1\" >1</th>\n",
              "      <td id=\"T_6ae61_row1_col0\" class=\"data row1 col0\" >0.25</td>\n",
              "      <td id=\"T_6ae61_row1_col1\" class=\"data row1 col1\" >0.77</td>\n",
              "      <td id=\"T_6ae61_row1_col2\" class=\"data row1 col2\" >0.92</td>\n",
              "      <td id=\"T_6ae61_row1_col3\" class=\"data row1 col3\" >0.84</td>\n",
              "      <td id=\"T_6ae61_row1_col4\" class=\"data row1 col4\" >0.88</td>\n",
              "      <td id=\"T_6ae61_row1_col5\" class=\"data row1 col5\" >0.81</td>\n",
              "    </tr>\n",
              "    <tr>\n",
              "      <th id=\"T_6ae61_level0_row2\" class=\"row_heading level0 row2\" >2</th>\n",
              "      <td id=\"T_6ae61_row2_col0\" class=\"data row2 col0\" >0.30</td>\n",
              "      <td id=\"T_6ae61_row2_col1\" class=\"data row2 col1\" >0.79</td>\n",
              "      <td id=\"T_6ae61_row2_col2\" class=\"data row2 col2\" >0.91</td>\n",
              "      <td id=\"T_6ae61_row2_col3\" class=\"data row2 col3\" >0.85</td>\n",
              "      <td id=\"T_6ae61_row2_col4\" class=\"data row2 col4\" >0.88</td>\n",
              "      <td id=\"T_6ae61_row2_col5\" class=\"data row2 col5\" >0.82</td>\n",
              "    </tr>\n",
              "    <tr>\n",
              "      <th id=\"T_6ae61_level0_row3\" class=\"row_heading level0 row3\" >3</th>\n",
              "      <td id=\"T_6ae61_row3_col0\" class=\"data row3 col0\" >0.35</td>\n",
              "      <td id=\"T_6ae61_row3_col1\" class=\"data row3 col1\" >0.79</td>\n",
              "      <td id=\"T_6ae61_row3_col2\" class=\"data row3 col2\" >0.90</td>\n",
              "      <td id=\"T_6ae61_row3_col3\" class=\"data row3 col3\" >0.84</td>\n",
              "      <td id=\"T_6ae61_row3_col4\" class=\"data row3 col4\" >0.88</td>\n",
              "      <td id=\"T_6ae61_row3_col5\" class=\"data row3 col5\" >0.81</td>\n",
              "    </tr>\n",
              "    <tr>\n",
              "      <th id=\"T_6ae61_level0_row4\" class=\"row_heading level0 row4\" >4</th>\n",
              "      <td id=\"T_6ae61_row4_col0\" class=\"data row4 col0\" >0.40</td>\n",
              "      <td id=\"T_6ae61_row4_col1\" class=\"data row4 col1\" >0.79</td>\n",
              "      <td id=\"T_6ae61_row4_col2\" class=\"data row4 col2\" >0.89</td>\n",
              "      <td id=\"T_6ae61_row4_col3\" class=\"data row4 col3\" >0.84</td>\n",
              "      <td id=\"T_6ae61_row4_col4\" class=\"data row4 col4\" >0.88</td>\n",
              "      <td id=\"T_6ae61_row4_col5\" class=\"data row4 col5\" >0.81</td>\n",
              "    </tr>\n",
              "    <tr>\n",
              "      <th id=\"T_6ae61_level0_row5\" class=\"row_heading level0 row5\" >5</th>\n",
              "      <td id=\"T_6ae61_row5_col0\" class=\"data row5 col0\" >0.45</td>\n",
              "      <td id=\"T_6ae61_row5_col1\" class=\"data row5 col1\" >0.80</td>\n",
              "      <td id=\"T_6ae61_row5_col2\" class=\"data row5 col2\" >0.89</td>\n",
              "      <td id=\"T_6ae61_row5_col3\" class=\"data row5 col3\" >0.84</td>\n",
              "      <td id=\"T_6ae61_row5_col4\" class=\"data row5 col4\" >0.88</td>\n",
              "      <td id=\"T_6ae61_row5_col5\" class=\"data row5 col5\" >0.82</td>\n",
              "    </tr>\n",
              "    <tr>\n",
              "      <th id=\"T_6ae61_level0_row6\" class=\"row_heading level0 row6\" >6</th>\n",
              "      <td id=\"T_6ae61_row6_col0\" class=\"data row6 col0\" >0.50</td>\n",
              "      <td id=\"T_6ae61_row6_col1\" class=\"data row6 col1\" >0.80</td>\n",
              "      <td id=\"T_6ae61_row6_col2\" class=\"data row6 col2\" >0.88</td>\n",
              "      <td id=\"T_6ae61_row6_col3\" class=\"data row6 col3\" >0.84</td>\n",
              "      <td id=\"T_6ae61_row6_col4\" class=\"data row6 col4\" >0.88</td>\n",
              "      <td id=\"T_6ae61_row6_col5\" class=\"data row6 col5\" >0.81</td>\n",
              "    </tr>\n",
              "    <tr>\n",
              "      <th id=\"T_6ae61_level0_row7\" class=\"row_heading level0 row7\" >7</th>\n",
              "      <td id=\"T_6ae61_row7_col0\" class=\"data row7 col0\" >0.55</td>\n",
              "      <td id=\"T_6ae61_row7_col1\" class=\"data row7 col1\" >0.80</td>\n",
              "      <td id=\"T_6ae61_row7_col2\" class=\"data row7 col2\" >0.85</td>\n",
              "      <td id=\"T_6ae61_row7_col3\" class=\"data row7 col3\" >0.83</td>\n",
              "      <td id=\"T_6ae61_row7_col4\" class=\"data row7 col4\" >0.88</td>\n",
              "      <td id=\"T_6ae61_row7_col5\" class=\"data row7 col5\" >0.80</td>\n",
              "    </tr>\n",
              "    <tr>\n",
              "      <th id=\"T_6ae61_level0_row8\" class=\"row_heading level0 row8\" >8</th>\n",
              "      <td id=\"T_6ae61_row8_col0\" class=\"data row8 col0\" >0.60</td>\n",
              "      <td id=\"T_6ae61_row8_col1\" class=\"data row8 col1\" >0.82</td>\n",
              "      <td id=\"T_6ae61_row8_col2\" class=\"data row8 col2\" >0.82</td>\n",
              "      <td id=\"T_6ae61_row8_col3\" class=\"data row8 col3\" >0.82</td>\n",
              "      <td id=\"T_6ae61_row8_col4\" class=\"data row8 col4\" >0.88</td>\n",
              "      <td id=\"T_6ae61_row8_col5\" class=\"data row8 col5\" >0.80</td>\n",
              "    </tr>\n",
              "    <tr>\n",
              "      <th id=\"T_6ae61_level0_row9\" class=\"row_heading level0 row9\" >9</th>\n",
              "      <td id=\"T_6ae61_row9_col0\" class=\"data row9 col0\" >0.65</td>\n",
              "      <td id=\"T_6ae61_row9_col1\" class=\"data row9 col1\" >0.83</td>\n",
              "      <td id=\"T_6ae61_row9_col2\" class=\"data row9 col2\" >0.78</td>\n",
              "      <td id=\"T_6ae61_row9_col3\" class=\"data row9 col3\" >0.80</td>\n",
              "      <td id=\"T_6ae61_row9_col4\" class=\"data row9 col4\" >0.88</td>\n",
              "      <td id=\"T_6ae61_row9_col5\" class=\"data row9 col5\" >0.79</td>\n",
              "    </tr>\n",
              "    <tr>\n",
              "      <th id=\"T_6ae61_level0_row10\" class=\"row_heading level0 row10\" >10</th>\n",
              "      <td id=\"T_6ae61_row10_col0\" class=\"data row10 col0\" >0.70</td>\n",
              "      <td id=\"T_6ae61_row10_col1\" class=\"data row10 col1\" >0.85</td>\n",
              "      <td id=\"T_6ae61_row10_col2\" class=\"data row10 col2\" >0.75</td>\n",
              "      <td id=\"T_6ae61_row10_col3\" class=\"data row10 col3\" >0.80</td>\n",
              "      <td id=\"T_6ae61_row10_col4\" class=\"data row10 col4\" >0.88</td>\n",
              "      <td id=\"T_6ae61_row10_col5\" class=\"data row10 col5\" >0.79</td>\n",
              "    </tr>\n",
              "    <tr>\n",
              "      <th id=\"T_6ae61_level0_row11\" class=\"row_heading level0 row11\" >11</th>\n",
              "      <td id=\"T_6ae61_row11_col0\" class=\"data row11 col0\" >0.75</td>\n",
              "      <td id=\"T_6ae61_row11_col1\" class=\"data row11 col1\" >0.85</td>\n",
              "      <td id=\"T_6ae61_row11_col2\" class=\"data row11 col2\" >0.69</td>\n",
              "      <td id=\"T_6ae61_row11_col3\" class=\"data row11 col3\" >0.76</td>\n",
              "      <td id=\"T_6ae61_row11_col4\" class=\"data row11 col4\" >0.88</td>\n",
              "      <td id=\"T_6ae61_row11_col5\" class=\"data row11 col5\" >0.76</td>\n",
              "    </tr>\n",
              "    <tr>\n",
              "      <th id=\"T_6ae61_level0_row12\" class=\"row_heading level0 row12\" >12</th>\n",
              "      <td id=\"T_6ae61_row12_col0\" class=\"data row12 col0\" >0.80</td>\n",
              "      <td id=\"T_6ae61_row12_col1\" class=\"data row12 col1\" >0.87</td>\n",
              "      <td id=\"T_6ae61_row12_col2\" class=\"data row12 col2\" >0.66</td>\n",
              "      <td id=\"T_6ae61_row12_col3\" class=\"data row12 col3\" >0.75</td>\n",
              "      <td id=\"T_6ae61_row12_col4\" class=\"data row12 col4\" >0.88</td>\n",
              "      <td id=\"T_6ae61_row12_col5\" class=\"data row12 col5\" >0.76</td>\n",
              "    </tr>\n",
              "  </tbody>\n",
              "</table>\n"
            ],
            "text/plain": [
              "<pandas.io.formats.style.Styler at 0x797a49da8dd0>"
            ]
          },
          "execution_count": 82,
          "metadata": {},
          "output_type": "execute_result"
        }
      ],
      "source": [
        "fancy_df"
      ]
    },
    {
      "cell_type": "code",
      "execution_count": null,
      "metadata": {
        "id": "jP4YfVywKs_I"
      },
      "outputs": [],
      "source": [
        "ann_model.save('final_ann_model.keras')\n",
        "results_df.to_csv('final_ann_thresholds.csv', index=False)"
      ]
    },
    {
      "cell_type": "markdown",
      "metadata": {
        "id": "SXGHYrCpjLXl"
      },
      "source": [
        "Add these files to github\n",
        "\n",
        "* LIME explainer\n",
        "* tuned KNN model and associated threshold table\n",
        "* tuned logistic regression model and associated threshold table\n",
        "* tuned light boosting model and associated threshold table\n",
        "* tuned ANN model and associated threshold table"
      ]
    },
    {
      "cell_type": "markdown",
      "metadata": {
        "id": "H5CR8tBBRJ9h"
      },
      "source": [
        "# IX. Voting - averaging binary\n",
        "\n",
        "There are two ways I can see of voting when have 4 models producing results. The first is to convert their output to binary. Then simply look for majority of either 0s or 1s. I added a twist that I fall back on probabilities for ties."
      ]
    },
    {
      "cell_type": "code",
      "execution_count": null,
      "metadata": {
        "colab": {
          "base_uri": "https://localhost:8080/"
        },
        "id": "jb9Q5LN635__",
        "outputId": "4e4d4470-f074-4c0a-dd9b-b7b06a4042f6"
      },
      "outputs": [
        {
          "name": "stdout",
          "output_type": "stream",
          "text": [
            "\u001b[1m6/6\u001b[0m \u001b[32m━━━━━━━━━━━━━━━━━━━━\u001b[0m\u001b[37m\u001b[0m \u001b[1m0s\u001b[0m 6ms/step \n"
          ]
        },
        {
          "name": "stderr",
          "output_type": "stream",
          "text": [
            "/usr/local/lib/python3.11/dist-packages/sklearn/utils/deprecation.py:151: FutureWarning: 'force_all_finite' was renamed to 'ensure_all_finite' in 1.6 and will be removed in 1.8.\n",
            "  warnings.warn(\n"
          ]
        }
      ],
      "source": [
        "lgb_raw = best_lgb.predict_proba(x_test)[:,1]\n",
        "knn_raw = best_knn_model.predict_proba(x_test)[:,1]\n",
        "logreg_raw = logreg_model.predict_proba(x_test)[:,1]\n",
        "ann_raw = ann_model.predict(x_test)[:,0]"
      ]
    },
    {
      "cell_type": "code",
      "execution_count": null,
      "metadata": {
        "id": "rbMmM9nWRW6z"
      },
      "outputs": [],
      "source": [
        "yvotes = []\n",
        "for i in range(len(y_test)):\n",
        "  the_vote = (lgb_raw[i]>=.5+logreg_raw[i]>=.5+knn_raw[i]>=.5+ann_raw[i]>=.5)\n",
        "  if the_vote==2:\n",
        "    #tie breaker - go to probabilities\n",
        "    prob = (knn_yraw[i]+logreg_yraw[i]+xgb_yraw[i]+ann_yraw[i])/4\n",
        "    the_winner = 1 if prob>=.5 else 0\n",
        "  else:\n",
        "    the_winner = 1 if the_vote>2 else 0\n",
        "  yvotes.append(the_winner)"
      ]
    },
    {
      "cell_type": "code",
      "execution_count": null,
      "metadata": {
        "colab": {
          "base_uri": "https://localhost:8080/"
        },
        "id": "pZLERg9TVnMx",
        "outputId": "b29049fc-38e2-4077-c27d-299b705090e5"
      },
      "outputs": [
        {
          "data": {
            "text/plain": [
              "0.6111111111111112"
            ]
          },
          "execution_count": 87,
          "metadata": {},
          "output_type": "execute_result"
        }
      ],
      "source": [
        "sum([1 if p>=.5 else 0 for p in ann_raw])/len(x_test)"
      ]
    },
    {
      "cell_type": "code",
      "execution_count": null,
      "metadata": {
        "colab": {
          "base_uri": "https://localhost:8080/"
        },
        "id": "bA7UhZX_-tan",
        "outputId": "1fd22860-d91d-4fc0-86af-71eaa830afd6"
      },
      "outputs": [
        {
          "name": "stdout",
          "output_type": "stream",
          "text": [
            "[[ 80   0]\n",
            " [100   0]]\n"
          ]
        }
      ],
      "source": [
        "from sklearn.metrics import confusion_matrix\n",
        "cm = confusion_matrix(y_test, yvotes)\n",
        "print(cm)\n"
      ]
    },
    {
      "cell_type": "code",
      "execution_count": null,
      "metadata": {
        "colab": {
          "base_uri": "https://localhost:8080/"
        },
        "id": "Sl0yYW2Z-tao",
        "outputId": "e588f02e-ba6f-4168-8f6f-b2d664d147fa"
      },
      "outputs": [
        {
          "data": {
            "text/plain": [
              "np.float64(0.4444444444444444)"
            ]
          },
          "execution_count": 89,
          "metadata": {},
          "output_type": "execute_result"
        }
      ],
      "source": [
        "(cm[0,0]+cm[1,1])/len(y_test)  #accuracy 0.5665399239543726"
      ]
    },
    {
      "cell_type": "markdown",
      "metadata": {
        "id": "A4uJuY39c0WY"
      },
      "source": [
        "Can now use it to compute precision and recall."
      ]
    },
    {
      "cell_type": "code",
      "execution_count": null,
      "metadata": {
        "colab": {
          "base_uri": "https://localhost:8080/"
        },
        "id": "WnM0Ht9k-tao",
        "outputId": "a0dea0e1-6b42-4442-b13a-f732bd6e19c7"
      },
      "outputs": [
        {
          "name": "stdout",
          "output_type": "stream",
          "text": [
            "Precision: 1.0 Recall 0.4444444444444444\n"
          ]
        }
      ],
      "source": [
        "def precision_recall(y_test, y_pred):\n",
        "    cm = confusion_matrix(y_test, y_pred)\n",
        "    tp = cm[0,0]\n",
        "    fp = cm[0,1]\n",
        "    fn = cm[1,0]\n",
        "    prec = tp / (tp+fp)\n",
        "    rec = tp / (tp+fn)\n",
        "    return prec, rec\n",
        "\n",
        "precision, recall = precision_recall(y_test, yvotes)\n",
        "print(f'Precision: {precision} Recall {recall}')"
      ]
    },
    {
      "cell_type": "code",
      "execution_count": null,
      "metadata": {
        "colab": {
          "base_uri": "https://localhost:8080/"
        },
        "id": "cuFw_hPFZ-Jf",
        "outputId": "d2d295e3-744d-4769-a674-10fca67d7cbf"
      },
      "outputs": [
        {
          "data": {
            "text/plain": [
              "np.float64(0.6153846153846153)"
            ]
          },
          "execution_count": 91,
          "metadata": {},
          "output_type": "execute_result"
        }
      ],
      "source": [
        "f1 = 2*(precision*recall)/(precision+recall)\n",
        "f1"
      ]
    },
    {
      "cell_type": "markdown",
      "metadata": {
        "id": "feVTGvRT18qn"
      },
      "source": [
        "# X. Prob averaging\n",
        "\n",
        "The second voting approach is not actually voting. Instead, take average of 4 raw probabilities and use result as final probability. Can then run that through threshold table.\n",
        "\n",
        "This is what the server is doing to get the \"Ensemble\" value."
      ]
    },
    {
      "cell_type": "code",
      "execution_count": null,
      "metadata": {
        "id": "GfJSw7AS1A4Q"
      },
      "outputs": [],
      "source": [
        "avg_yraw = []\n",
        "for i in range(len(y_test)):\n",
        "  prob = (knn_raw[i]+logreg_raw[i]+lgb_raw[i]+ann_raw[i])/4\n",
        "  avg_yraw.append(prob)"
      ]
    },
    {
      "cell_type": "code",
      "execution_count": null,
      "metadata": {
        "id": "Iw_BS19r1dFC"
      },
      "outputs": [],
      "source": [
        "result_df, fancy_df = threshold_results(np.linspace(0,1,19,endpoint=True), y_test, avg_yraw)"
      ]
    },
    {
      "cell_type": "markdown",
      "metadata": {
        "id": "oUh2Bh6T0acf"
      },
      "source": [
        "# XI. Stacking\n",
        "\n",
        "This is interesting in that it builds a whole separate model (a meta model) that takes the output of other base models, three in example below, and uses that as a row. So a row of 3 feature values, one from each of the base models.\n",
        "\n",
        "I kind of like it. The meta model learns how to combine the outputs of base models, e.g., when to weight KNN higher than LGB, etc.\n"
      ]
    },
    {
      "cell_type": "code",
      "execution_count": null,
      "metadata": {
        "id": "dMtgikB00cdL"
      },
      "outputs": [],
      "source": [
        "from sklearn.ensemble import StackingClassifier\n",
        "\n",
        "estimators = [\n",
        "     ('knn', KNeighborsClassifier(15, algorithm='ball_tree', p=1, weights='distance')),\n",
        "    ('logreg', LogisticRegressionCV(Cs= 5, class_weight= None, cv= 5, max_iter= 500, solver= 'saga', penalty='l1', random_state=1234)),\n",
        "    ('lgb', LGBMClassifier(boosting_type= 'gbdt',\n",
        "                          class_weight= 'balanced',\n",
        "                          learning_rate= 0.3,\n",
        "                          max_depth= 5,\n",
        "                          min_child_samples= 10,\n",
        "                          n_estimators= 10,\n",
        "                          num_leaves= 7,\n",
        "                          random_state=1234),\n",
        "    )\n",
        "]\n",
        "final_estimator = LogisticRegressionCV(random_state=1234)   #this is choice for meta model\n",
        "clf = StackingClassifier(estimators=estimators, final_estimator=final_estimator)"
      ]
    },
    {
      "cell_type": "code",
      "execution_count": null,
      "metadata": {
        "id": "WeVYuX2K3vaZ"
      },
      "outputs": [],
      "source": [
        "%%capture\n",
        "clf.fit(x_train, y_train)"
      ]
    },
    {
      "cell_type": "code",
      "execution_count": null,
      "metadata": {
        "colab": {
          "base_uri": "https://localhost:8080/",
          "height": 734
        },
        "id": "ctgU56kc39bh",
        "outputId": "aec71fb0-f4ae-4715-9d07-a5ebf869cd3a"
      },
      "outputs": [
        {
          "name": "stderr",
          "output_type": "stream",
          "text": [
            "/usr/local/lib/python3.11/dist-packages/sklearn/utils/deprecation.py:151: FutureWarning: 'force_all_finite' was renamed to 'ensure_all_finite' in 1.6 and will be removed in 1.8.\n",
            "  warnings.warn(\n",
            "/usr/local/lib/python3.11/dist-packages/sklearn/utils/validation.py:2732: UserWarning: X has feature names, but LogisticRegressionCV was fitted without feature names\n",
            "  warnings.warn(\n"
          ]
        },
        {
          "data": {
            "text/html": [
              "<style type=\"text/css\">\n",
              "#T_b7dc3 th:not(.index_name) {\n",
              "  background-color: #800000;\n",
              "  color: white;\n",
              "  text-align: center;\n",
              "}\n",
              "#T_b7dc3_row0_col0, #T_b7dc3_row0_col1, #T_b7dc3_row0_col3, #T_b7dc3_row0_col5, #T_b7dc3_row1_col0, #T_b7dc3_row1_col1, #T_b7dc3_row1_col2, #T_b7dc3_row1_col3, #T_b7dc3_row1_col5, #T_b7dc3_row2_col0, #T_b7dc3_row2_col1, #T_b7dc3_row2_col2, #T_b7dc3_row3_col0, #T_b7dc3_row3_col1, #T_b7dc3_row3_col2, #T_b7dc3_row4_col0, #T_b7dc3_row4_col1, #T_b7dc3_row4_col2, #T_b7dc3_row4_col5, #T_b7dc3_row5_col0, #T_b7dc3_row5_col1, #T_b7dc3_row5_col2, #T_b7dc3_row5_col3, #T_b7dc3_row5_col5, #T_b7dc3_row6_col0, #T_b7dc3_row6_col1, #T_b7dc3_row6_col2, #T_b7dc3_row6_col3, #T_b7dc3_row6_col5, #T_b7dc3_row7_col0, #T_b7dc3_row7_col1, #T_b7dc3_row7_col2, #T_b7dc3_row7_col3, #T_b7dc3_row7_col5, #T_b7dc3_row8_col0, #T_b7dc3_row8_col1, #T_b7dc3_row8_col2, #T_b7dc3_row8_col3, #T_b7dc3_row8_col5, #T_b7dc3_row9_col0, #T_b7dc3_row9_col1, #T_b7dc3_row9_col2, #T_b7dc3_row9_col3, #T_b7dc3_row9_col5, #T_b7dc3_row10_col0, #T_b7dc3_row10_col1, #T_b7dc3_row10_col2, #T_b7dc3_row10_col3, #T_b7dc3_row10_col5, #T_b7dc3_row11_col0, #T_b7dc3_row11_col1, #T_b7dc3_row11_col2, #T_b7dc3_row11_col3, #T_b7dc3_row11_col5, #T_b7dc3_row12_col0, #T_b7dc3_row12_col1, #T_b7dc3_row12_col2, #T_b7dc3_row12_col3, #T_b7dc3_row12_col5, #T_b7dc3_row13_col0, #T_b7dc3_row13_col1, #T_b7dc3_row13_col2, #T_b7dc3_row13_col3, #T_b7dc3_row13_col5, #T_b7dc3_row14_col0, #T_b7dc3_row14_col1, #T_b7dc3_row14_col2, #T_b7dc3_row14_col3, #T_b7dc3_row14_col5, #T_b7dc3_row15_col0, #T_b7dc3_row15_col1, #T_b7dc3_row15_col2, #T_b7dc3_row15_col3, #T_b7dc3_row15_col5, #T_b7dc3_row16_col0, #T_b7dc3_row16_col1, #T_b7dc3_row16_col2, #T_b7dc3_row16_col3, #T_b7dc3_row16_col5, #T_b7dc3_row17_col0, #T_b7dc3_row17_col2, #T_b7dc3_row17_col3, #T_b7dc3_row17_col5, #T_b7dc3_row18_col1, #T_b7dc3_row18_col2, #T_b7dc3_row18_col3, #T_b7dc3_row18_col5 {\n",
              "  border: 1px solid black;\n",
              "  width: 65px;\n",
              "  text-align: center;\n",
              "}\n",
              "#T_b7dc3_row0_col2, #T_b7dc3_row0_col4, #T_b7dc3_row1_col4, #T_b7dc3_row2_col3, #T_b7dc3_row2_col4, #T_b7dc3_row2_col5, #T_b7dc3_row3_col3, #T_b7dc3_row3_col4, #T_b7dc3_row3_col5, #T_b7dc3_row4_col3, #T_b7dc3_row4_col4, #T_b7dc3_row5_col4, #T_b7dc3_row6_col4, #T_b7dc3_row7_col4, #T_b7dc3_row8_col4, #T_b7dc3_row9_col4, #T_b7dc3_row10_col4, #T_b7dc3_row11_col4, #T_b7dc3_row12_col4, #T_b7dc3_row13_col4, #T_b7dc3_row14_col4, #T_b7dc3_row15_col4, #T_b7dc3_row16_col4, #T_b7dc3_row17_col1, #T_b7dc3_row17_col4, #T_b7dc3_row18_col0, #T_b7dc3_row18_col4 {\n",
              "  background-color: pink;\n",
              "  border: 1px solid black;\n",
              "  width: 65px;\n",
              "  text-align: center;\n",
              "}\n",
              "</style>\n",
              "<table id=\"T_b7dc3\" class=\"dataframe\">\n",
              "  <thead>\n",
              "    <tr>\n",
              "      <th class=\"blank level0\" >&nbsp;</th>\n",
              "      <th id=\"T_b7dc3_level0_col0\" class=\"col_heading level0 col0\" >threshold</th>\n",
              "      <th id=\"T_b7dc3_level0_col1\" class=\"col_heading level0 col1\" >precision</th>\n",
              "      <th id=\"T_b7dc3_level0_col2\" class=\"col_heading level0 col2\" >recall</th>\n",
              "      <th id=\"T_b7dc3_level0_col3\" class=\"col_heading level0 col3\" >f1</th>\n",
              "      <th id=\"T_b7dc3_level0_col4\" class=\"col_heading level0 col4\" >auc</th>\n",
              "      <th id=\"T_b7dc3_level0_col5\" class=\"col_heading level0 col5\" >accuracy</th>\n",
              "    </tr>\n",
              "  </thead>\n",
              "  <tbody>\n",
              "    <tr>\n",
              "      <th id=\"T_b7dc3_level0_row0\" class=\"row_heading level0 row0\" >0</th>\n",
              "      <td id=\"T_b7dc3_row0_col0\" class=\"data row0 col0\" >0.00</td>\n",
              "      <td id=\"T_b7dc3_row0_col1\" class=\"data row0 col1\" >0.56</td>\n",
              "      <td id=\"T_b7dc3_row0_col2\" class=\"data row0 col2\" >1.00</td>\n",
              "      <td id=\"T_b7dc3_row0_col3\" class=\"data row0 col3\" >0.71</td>\n",
              "      <td id=\"T_b7dc3_row0_col4\" class=\"data row0 col4\" >0.82</td>\n",
              "      <td id=\"T_b7dc3_row0_col5\" class=\"data row0 col5\" >0.56</td>\n",
              "    </tr>\n",
              "    <tr>\n",
              "      <th id=\"T_b7dc3_level0_row1\" class=\"row_heading level0 row1\" >1</th>\n",
              "      <td id=\"T_b7dc3_row1_col0\" class=\"data row1 col0\" >0.06</td>\n",
              "      <td id=\"T_b7dc3_row1_col1\" class=\"data row1 col1\" >0.71</td>\n",
              "      <td id=\"T_b7dc3_row1_col2\" class=\"data row1 col2\" >0.93</td>\n",
              "      <td id=\"T_b7dc3_row1_col3\" class=\"data row1 col3\" >0.81</td>\n",
              "      <td id=\"T_b7dc3_row1_col4\" class=\"data row1 col4\" >0.82</td>\n",
              "      <td id=\"T_b7dc3_row1_col5\" class=\"data row1 col5\" >0.75</td>\n",
              "    </tr>\n",
              "    <tr>\n",
              "      <th id=\"T_b7dc3_level0_row2\" class=\"row_heading level0 row2\" >2</th>\n",
              "      <td id=\"T_b7dc3_row2_col0\" class=\"data row2 col0\" >0.11</td>\n",
              "      <td id=\"T_b7dc3_row2_col1\" class=\"data row2 col1\" >0.74</td>\n",
              "      <td id=\"T_b7dc3_row2_col2\" class=\"data row2 col2\" >0.93</td>\n",
              "      <td id=\"T_b7dc3_row2_col3\" class=\"data row2 col3\" >0.82</td>\n",
              "      <td id=\"T_b7dc3_row2_col4\" class=\"data row2 col4\" >0.82</td>\n",
              "      <td id=\"T_b7dc3_row2_col5\" class=\"data row2 col5\" >0.78</td>\n",
              "    </tr>\n",
              "    <tr>\n",
              "      <th id=\"T_b7dc3_level0_row3\" class=\"row_heading level0 row3\" >3</th>\n",
              "      <td id=\"T_b7dc3_row3_col0\" class=\"data row3 col0\" >0.17</td>\n",
              "      <td id=\"T_b7dc3_row3_col1\" class=\"data row3 col1\" >0.74</td>\n",
              "      <td id=\"T_b7dc3_row3_col2\" class=\"data row3 col2\" >0.92</td>\n",
              "      <td id=\"T_b7dc3_row3_col3\" class=\"data row3 col3\" >0.82</td>\n",
              "      <td id=\"T_b7dc3_row3_col4\" class=\"data row3 col4\" >0.82</td>\n",
              "      <td id=\"T_b7dc3_row3_col5\" class=\"data row3 col5\" >0.78</td>\n",
              "    </tr>\n",
              "    <tr>\n",
              "      <th id=\"T_b7dc3_level0_row4\" class=\"row_heading level0 row4\" >4</th>\n",
              "      <td id=\"T_b7dc3_row4_col0\" class=\"data row4 col0\" >0.22</td>\n",
              "      <td id=\"T_b7dc3_row4_col1\" class=\"data row4 col1\" >0.74</td>\n",
              "      <td id=\"T_b7dc3_row4_col2\" class=\"data row4 col2\" >0.91</td>\n",
              "      <td id=\"T_b7dc3_row4_col3\" class=\"data row4 col3\" >0.82</td>\n",
              "      <td id=\"T_b7dc3_row4_col4\" class=\"data row4 col4\" >0.82</td>\n",
              "      <td id=\"T_b7dc3_row4_col5\" class=\"data row4 col5\" >0.77</td>\n",
              "    </tr>\n",
              "    <tr>\n",
              "      <th id=\"T_b7dc3_level0_row5\" class=\"row_heading level0 row5\" >5</th>\n",
              "      <td id=\"T_b7dc3_row5_col0\" class=\"data row5 col0\" >0.28</td>\n",
              "      <td id=\"T_b7dc3_row5_col1\" class=\"data row5 col1\" >0.75</td>\n",
              "      <td id=\"T_b7dc3_row5_col2\" class=\"data row5 col2\" >0.88</td>\n",
              "      <td id=\"T_b7dc3_row5_col3\" class=\"data row5 col3\" >0.81</td>\n",
              "      <td id=\"T_b7dc3_row5_col4\" class=\"data row5 col4\" >0.82</td>\n",
              "      <td id=\"T_b7dc3_row5_col5\" class=\"data row5 col5\" >0.77</td>\n",
              "    </tr>\n",
              "    <tr>\n",
              "      <th id=\"T_b7dc3_level0_row6\" class=\"row_heading level0 row6\" >6</th>\n",
              "      <td id=\"T_b7dc3_row6_col0\" class=\"data row6 col0\" >0.33</td>\n",
              "      <td id=\"T_b7dc3_row6_col1\" class=\"data row6 col1\" >0.76</td>\n",
              "      <td id=\"T_b7dc3_row6_col2\" class=\"data row6 col2\" >0.87</td>\n",
              "      <td id=\"T_b7dc3_row6_col3\" class=\"data row6 col3\" >0.81</td>\n",
              "      <td id=\"T_b7dc3_row6_col4\" class=\"data row6 col4\" >0.82</td>\n",
              "      <td id=\"T_b7dc3_row6_col5\" class=\"data row6 col5\" >0.77</td>\n",
              "    </tr>\n",
              "    <tr>\n",
              "      <th id=\"T_b7dc3_level0_row7\" class=\"row_heading level0 row7\" >7</th>\n",
              "      <td id=\"T_b7dc3_row7_col0\" class=\"data row7 col0\" >0.39</td>\n",
              "      <td id=\"T_b7dc3_row7_col1\" class=\"data row7 col1\" >0.76</td>\n",
              "      <td id=\"T_b7dc3_row7_col2\" class=\"data row7 col2\" >0.86</td>\n",
              "      <td id=\"T_b7dc3_row7_col3\" class=\"data row7 col3\" >0.81</td>\n",
              "      <td id=\"T_b7dc3_row7_col4\" class=\"data row7 col4\" >0.82</td>\n",
              "      <td id=\"T_b7dc3_row7_col5\" class=\"data row7 col5\" >0.77</td>\n",
              "    </tr>\n",
              "    <tr>\n",
              "      <th id=\"T_b7dc3_level0_row8\" class=\"row_heading level0 row8\" >8</th>\n",
              "      <td id=\"T_b7dc3_row8_col0\" class=\"data row8 col0\" >0.44</td>\n",
              "      <td id=\"T_b7dc3_row8_col1\" class=\"data row8 col1\" >0.76</td>\n",
              "      <td id=\"T_b7dc3_row8_col2\" class=\"data row8 col2\" >0.86</td>\n",
              "      <td id=\"T_b7dc3_row8_col3\" class=\"data row8 col3\" >0.81</td>\n",
              "      <td id=\"T_b7dc3_row8_col4\" class=\"data row8 col4\" >0.82</td>\n",
              "      <td id=\"T_b7dc3_row8_col5\" class=\"data row8 col5\" >0.77</td>\n",
              "    </tr>\n",
              "    <tr>\n",
              "      <th id=\"T_b7dc3_level0_row9\" class=\"row_heading level0 row9\" >9</th>\n",
              "      <td id=\"T_b7dc3_row9_col0\" class=\"data row9 col0\" >0.50</td>\n",
              "      <td id=\"T_b7dc3_row9_col1\" class=\"data row9 col1\" >0.77</td>\n",
              "      <td id=\"T_b7dc3_row9_col2\" class=\"data row9 col2\" >0.85</td>\n",
              "      <td id=\"T_b7dc3_row9_col3\" class=\"data row9 col3\" >0.81</td>\n",
              "      <td id=\"T_b7dc3_row9_col4\" class=\"data row9 col4\" >0.82</td>\n",
              "      <td id=\"T_b7dc3_row9_col5\" class=\"data row9 col5\" >0.77</td>\n",
              "    </tr>\n",
              "    <tr>\n",
              "      <th id=\"T_b7dc3_level0_row10\" class=\"row_heading level0 row10\" >10</th>\n",
              "      <td id=\"T_b7dc3_row10_col0\" class=\"data row10 col0\" >0.56</td>\n",
              "      <td id=\"T_b7dc3_row10_col1\" class=\"data row10 col1\" >0.77</td>\n",
              "      <td id=\"T_b7dc3_row10_col2\" class=\"data row10 col2\" >0.85</td>\n",
              "      <td id=\"T_b7dc3_row10_col3\" class=\"data row10 col3\" >0.81</td>\n",
              "      <td id=\"T_b7dc3_row10_col4\" class=\"data row10 col4\" >0.82</td>\n",
              "      <td id=\"T_b7dc3_row10_col5\" class=\"data row10 col5\" >0.77</td>\n",
              "    </tr>\n",
              "    <tr>\n",
              "      <th id=\"T_b7dc3_level0_row11\" class=\"row_heading level0 row11\" >11</th>\n",
              "      <td id=\"T_b7dc3_row11_col0\" class=\"data row11 col0\" >0.61</td>\n",
              "      <td id=\"T_b7dc3_row11_col1\" class=\"data row11 col1\" >0.77</td>\n",
              "      <td id=\"T_b7dc3_row11_col2\" class=\"data row11 col2\" >0.81</td>\n",
              "      <td id=\"T_b7dc3_row11_col3\" class=\"data row11 col3\" >0.79</td>\n",
              "      <td id=\"T_b7dc3_row11_col4\" class=\"data row11 col4\" >0.82</td>\n",
              "      <td id=\"T_b7dc3_row11_col5\" class=\"data row11 col5\" >0.76</td>\n",
              "    </tr>\n",
              "    <tr>\n",
              "      <th id=\"T_b7dc3_level0_row12\" class=\"row_heading level0 row12\" >12</th>\n",
              "      <td id=\"T_b7dc3_row12_col0\" class=\"data row12 col0\" >0.67</td>\n",
              "      <td id=\"T_b7dc3_row12_col1\" class=\"data row12 col1\" >0.80</td>\n",
              "      <td id=\"T_b7dc3_row12_col2\" class=\"data row12 col2\" >0.78</td>\n",
              "      <td id=\"T_b7dc3_row12_col3\" class=\"data row12 col3\" >0.79</td>\n",
              "      <td id=\"T_b7dc3_row12_col4\" class=\"data row12 col4\" >0.82</td>\n",
              "      <td id=\"T_b7dc3_row12_col5\" class=\"data row12 col5\" >0.77</td>\n",
              "    </tr>\n",
              "    <tr>\n",
              "      <th id=\"T_b7dc3_level0_row13\" class=\"row_heading level0 row13\" >13</th>\n",
              "      <td id=\"T_b7dc3_row13_col0\" class=\"data row13 col0\" >0.72</td>\n",
              "      <td id=\"T_b7dc3_row13_col1\" class=\"data row13 col1\" >0.79</td>\n",
              "      <td id=\"T_b7dc3_row13_col2\" class=\"data row13 col2\" >0.77</td>\n",
              "      <td id=\"T_b7dc3_row13_col3\" class=\"data row13 col3\" >0.78</td>\n",
              "      <td id=\"T_b7dc3_row13_col4\" class=\"data row13 col4\" >0.82</td>\n",
              "      <td id=\"T_b7dc3_row13_col5\" class=\"data row13 col5\" >0.76</td>\n",
              "    </tr>\n",
              "    <tr>\n",
              "      <th id=\"T_b7dc3_level0_row14\" class=\"row_heading level0 row14\" >14</th>\n",
              "      <td id=\"T_b7dc3_row14_col0\" class=\"data row14 col0\" >0.78</td>\n",
              "      <td id=\"T_b7dc3_row14_col1\" class=\"data row14 col1\" >0.79</td>\n",
              "      <td id=\"T_b7dc3_row14_col2\" class=\"data row14 col2\" >0.74</td>\n",
              "      <td id=\"T_b7dc3_row14_col3\" class=\"data row14 col3\" >0.76</td>\n",
              "      <td id=\"T_b7dc3_row14_col4\" class=\"data row14 col4\" >0.82</td>\n",
              "      <td id=\"T_b7dc3_row14_col5\" class=\"data row14 col5\" >0.74</td>\n",
              "    </tr>\n",
              "    <tr>\n",
              "      <th id=\"T_b7dc3_level0_row15\" class=\"row_heading level0 row15\" >15</th>\n",
              "      <td id=\"T_b7dc3_row15_col0\" class=\"data row15 col0\" >0.83</td>\n",
              "      <td id=\"T_b7dc3_row15_col1\" class=\"data row15 col1\" >0.81</td>\n",
              "      <td id=\"T_b7dc3_row15_col2\" class=\"data row15 col2\" >0.72</td>\n",
              "      <td id=\"T_b7dc3_row15_col3\" class=\"data row15 col3\" >0.76</td>\n",
              "      <td id=\"T_b7dc3_row15_col4\" class=\"data row15 col4\" >0.82</td>\n",
              "      <td id=\"T_b7dc3_row15_col5\" class=\"data row15 col5\" >0.75</td>\n",
              "    </tr>\n",
              "    <tr>\n",
              "      <th id=\"T_b7dc3_level0_row16\" class=\"row_heading level0 row16\" >16</th>\n",
              "      <td id=\"T_b7dc3_row16_col0\" class=\"data row16 col0\" >0.89</td>\n",
              "      <td id=\"T_b7dc3_row16_col1\" class=\"data row16 col1\" >0.80</td>\n",
              "      <td id=\"T_b7dc3_row16_col2\" class=\"data row16 col2\" >0.68</td>\n",
              "      <td id=\"T_b7dc3_row16_col3\" class=\"data row16 col3\" >0.74</td>\n",
              "      <td id=\"T_b7dc3_row16_col4\" class=\"data row16 col4\" >0.82</td>\n",
              "      <td id=\"T_b7dc3_row16_col5\" class=\"data row16 col5\" >0.73</td>\n",
              "    </tr>\n",
              "    <tr>\n",
              "      <th id=\"T_b7dc3_level0_row17\" class=\"row_heading level0 row17\" >17</th>\n",
              "      <td id=\"T_b7dc3_row17_col0\" class=\"data row17 col0\" >0.94</td>\n",
              "      <td id=\"T_b7dc3_row17_col1\" class=\"data row17 col1\" >0.83</td>\n",
              "      <td id=\"T_b7dc3_row17_col2\" class=\"data row17 col2\" >0.59</td>\n",
              "      <td id=\"T_b7dc3_row17_col3\" class=\"data row17 col3\" >0.69</td>\n",
              "      <td id=\"T_b7dc3_row17_col4\" class=\"data row17 col4\" >0.82</td>\n",
              "      <td id=\"T_b7dc3_row17_col5\" class=\"data row17 col5\" >0.71</td>\n",
              "    </tr>\n",
              "    <tr>\n",
              "      <th id=\"T_b7dc3_level0_row18\" class=\"row_heading level0 row18\" >18</th>\n",
              "      <td id=\"T_b7dc3_row18_col0\" class=\"data row18 col0\" >1.00</td>\n",
              "      <td id=\"T_b7dc3_row18_col1\" class=\"data row18 col1\" >0.00</td>\n",
              "      <td id=\"T_b7dc3_row18_col2\" class=\"data row18 col2\" >0.00</td>\n",
              "      <td id=\"T_b7dc3_row18_col3\" class=\"data row18 col3\" >0.00</td>\n",
              "      <td id=\"T_b7dc3_row18_col4\" class=\"data row18 col4\" >0.82</td>\n",
              "      <td id=\"T_b7dc3_row18_col5\" class=\"data row18 col5\" >0.44</td>\n",
              "    </tr>\n",
              "  </tbody>\n",
              "</table>\n"
            ],
            "text/plain": [
              "<pandas.io.formats.style.Styler at 0x797a49e83890>"
            ]
          },
          "execution_count": 96,
          "metadata": {},
          "output_type": "execute_result"
        }
      ],
      "source": [
        "yraw = clf.predict_proba(x_test)[:,1]\n",
        "result_df, fancy_df = threshold_results(np.linspace(0,1,19,endpoint=True), y_test, yraw)\n",
        "fancy_df"
      ]
    },
    {
      "cell_type": "markdown",
      "metadata": {
        "id": "1dPcoUS7R1nV"
      },
      "source": [
        "<img src='https://www.dropbox.com/scl/fi/zilmy2diy1lg1tva9vurx/Screenshot-2025-02-07-at-8.38.53-AM.png?rlkey=006szbv5t0daha005eotxt9k2&raw=1' height=400>"
      ]
    }
  ],
  "metadata": {
    "colab": {
      "collapsed_sections": [
        "SXGHYrCpjLXl"
      ],
      "provenance": []
    },
    "kernelspec": {
      "display_name": "Python 3",
      "name": "python3"
    },
    "language_info": {
      "name": "python"
    }
  },
  "nbformat": 4,
  "nbformat_minor": 0
}
